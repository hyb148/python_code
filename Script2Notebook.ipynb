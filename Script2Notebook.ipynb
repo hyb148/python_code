{
 "metadata": {
  "name": "",
  "signature": "sha256:5d18b03f10e6bf134d5430ee7b55c4cb783fe12904a103ece94e97bd60370264"
 },
 "nbformat": 3,
 "nbformat_minor": 0,
 "worksheets": [
  {
   "cells": [
    {
     "cell_type": "code",
     "collapsed": false,
     "input": [
      "import IPython.nbformat.current as nbf\n",
      "import os\n",
      "dir = './'\n",
      "\n",
      "for file in os.listdir(dir):\n",
      "    if(file.endswith(\".py\")):\n",
      "        nb = nbf.read(open(file, 'r'), 'py')\n",
      "        file = file[0:file.find('.py')]\n",
      "        nbf.write(nb, open(file+'.ipynb', 'w'), 'ipynb')"
     ],
     "language": "python",
     "metadata": {},
     "outputs": [],
     "prompt_number": 14
    },
    {
     "cell_type": "code",
     "collapsed": false,
     "input": [],
     "language": "python",
     "metadata": {},
     "outputs": []
    }
   ],
   "metadata": {}
  }
 ]
}