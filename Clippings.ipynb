{
 "metadata": {
  "name": "",
  "signature": "sha256:9d35846621dd8429509cd7b1fcd55bb3d6be9d885d0a1f143ce9ee135874ce4e"
 },
 "nbformat": 3,
 "nbformat_minor": 0,
 "worksheets": [
  {
   "cells": [
    {
     "cell_type": "markdown",
     "metadata": {},
     "source": [
      "# PANDAS"
     ]
    },
    {
     "cell_type": "code",
     "collapsed": false,
     "input": [
      "# get DataFrame column names based on data types\n",
      "import pandas as pd\n",
      "df = pd.DataFrame({'a': np.random.randn(1000),\n",
      "                   'b': range(1000),\n",
      "                   'c': ['a'] * 1000,\n",
      "                   'd': pd.date_range('2000-1-1', periods=1000)})\n",
      "\n",
      "#based on data type ...\n",
      "names = df.select_dtypes(['float64','int64']).columns.values\n",
      "for i, name in enumerate(names):\n",
      "    print \"column #\", i, \" name:\", name\n",
      "    \n",
      "#all column names\n",
      "names = df.columns.values\n",
      "for i, name in enumerate(names):\n",
      "    print \"column #\", i, \" name:\", name\n",
      "    \n",
      "#modify column data\n",
      "#create column\n",
      "df['dspd_acc'] = ds['dspd']\n",
      "#select by critera, select column to modify, set value\n",
      "df.ix[df['dspd_acc']>0,'dspd_acc'] = 0\n",
      "\n",
      "# conditional summation\n",
      "df[df.a > 1].sum()\n",
      "\n",
      "# create pandas DataFrame from scratch\n",
      "columns = ['price', 'item']\n",
      "pd.DataFrame(data=np.zeros((0,len(columns))), columns=columns)\n",
      "df = df.append({'price':1234, 'item':'Widget'},ignore_index=True)\n",
      "\n",
      "#concatenate row to a dataframe\n",
      "metrics = pd.concat([metrics.ix[:],met.ix[:]])\n",
      "\n",
      "#save/read pickle file\n",
      "df.to_pickle('dataframe.pkl')\n",
      "#df = pd.read_pickle('dataframe.pkl')"
     ],
     "language": "python",
     "metadata": {},
     "outputs": [
      {
       "output_type": "stream",
       "stream": "stdout",
       "text": [
        "column # 0  name: a\n",
        "column # 1  name: b\n",
        "column # 0  name: a\n",
        "column # 1  name: b\n",
        "column # 2  name: c\n",
        "column # 3  name: d\n"
       ]
      }
     ],
     "prompt_number": 4
    },
    {
     "cell_type": "markdown",
     "metadata": {},
     "source": [
      "# NUMPY"
     ]
    },
    {
     "cell_type": "code",
     "collapsed": false,
     "input": [
      "# http://docs.scipy.org/doc/numpy/reference/generated/numpy.nan_to_num.html\n",
      "from numpy import inf\n",
      "X = np.array([np.inf, -np.inf, np.nan, -128, 128])\n",
      "print X.dtype\n",
      "print \"NaN present: \", np.sum(np.isnan(X))\n",
      "print \"Inf present: \", np.sum(np.isinf(X))\n",
      "print \"-Inf present: \", np.sum(np.isneginf(X))\n",
      "print \"not isfinite: \", size(X) - np.sum(np.isfinite(X))\n",
      "\n",
      "# DO INF BEFORE NAN\n",
      "X[X == np.inf] = 0 #np.inf\n",
      "X[np.isneginf(X)] = 0 #-np.inf\n",
      "X = np.nan_to_num(X)\n",
      "\n",
      "print \"NaN fixed: \", np.sum(np.isnan(X))\n",
      "print \"Inf fixed: \", np.sum(np.isinf(X))\n",
      "print \"-Inf fixed: \", np.sum(np.isneginf(X))\n",
      "print \"not isfinite: \", size(X) - np.sum(np.isfinite(X))"
     ],
     "language": "python",
     "metadata": {},
     "outputs": [
      {
       "output_type": "stream",
       "stream": "stdout",
       "text": [
        "float64\n",
        "NaN present:  1\n",
        "Inf present:  2\n",
        "-Inf present:  1\n",
        "not isfinite:  3\n",
        "NaN fixed:  0\n",
        "Inf fixed:  0\n",
        "-Inf fixed:  0\n",
        "not isfinite:  0\n"
       ]
      }
     ],
     "prompt_number": 5
    },
    {
     "cell_type": "markdown",
     "metadata": {},
     "source": [
      "# FILES, DIRS, etc"
     ]
    },
    {
     "cell_type": "code",
     "collapsed": false,
     "input": [
      "import os\n",
      "dir = './'\n",
      "\n",
      "for file in os.listdir(dir):\n",
      "    if(file.endswith(\".py\")):\n",
      "        print \"original: \", file\n",
      "        file = file[0:file.find('.py')]\n",
      "        print file"
     ],
     "language": "python",
     "metadata": {},
     "outputs": [
      {
       "output_type": "stream",
       "stream": "stdout",
       "text": [
        "original:  GarminSerialLogger.py\n",
        "GarminSerialLogger\n",
        "original:  GarminSerialLogger2.py\n",
        "GarminSerialLogger2\n",
        "original:  GarminSerialLogger3.py\n",
        "GarminSerialLogger3\n",
        "original:  pseudocolors.py\n",
        "pseudocolors\n",
        "original:  pyreport_test.py\n",
        "pyreport_test\n",
        "original:  thread_tester.py\n",
        "thread_tester\n",
        "original:  untitled2.py\n",
        "untitled2\n"
       ]
      }
     ],
     "prompt_number": 1
    },
    {
     "cell_type": "code",
     "collapsed": false,
     "input": [
      "basedir = r'..\\..\\..\\_python_data/Driver Telematics Analysis/drivers/'\n",
      "import os\n",
      "\n",
      "path = \"c:\\\\python25\"\n",
      "\n",
      "i = 0\n",
      "for (path, dirs, files) in os.walk(path):\n",
      "    print path\n",
      "    print dirs\n",
      "    print files\n",
      "    print \"----\"\n",
      "    i += 1\n",
      "    if i >= 4:\n",
      "        break"
     ],
     "language": "python",
     "metadata": {},
     "outputs": []
    },
    {
     "cell_type": "code",
     "collapsed": false,
     "input": [
      "Here are the results:\n",
      "c:/python25\n",
      "['DLLs', 'Doc', 'include', 'Lib', 'libs', 'tcl', 'Tools']\n",
      "['LICENSE.txt', 'NEWS.txt', 'pylupdate4.exe', 'pyrcc4.exe', 'python.exe', 'pythonw.exe', 'pyuic4.bat', 'README.txt', 'temp.py', 'w9xpopen.exe']\n",
      "----\n",
      "c:/python25\\DLLs\n",
      "[]\n",
      "['bz2.pyd', 'py.ico', 'pyc.ico', 'pyexpat.pyd', 'select.pyd', 'sqlite3.dll', 'tcl84.dll', 'tclpip84.dll', 'tk84.dll', 'unicodedata.pyd', 'winsound.pyd', '_bsddb.pyd', '_ctypes.pyd', '_ctypes_test.pyd', '_elementtree.pyd', '_hashlib.pyd', '_msi.pyd', '_socket.pyd', '_sqlite3.pyd', '_ssl.pyd', '_testcapi.pyd', '_tkinter.pyd']\n",
      "----\n",
      "c:/python25\\Doc\n",
      "[]\n",
      "['Python25.chm']\n",
      "----\n",
      "c:/python25\\include\n",
      "[]\n",
      "['abstract.h', 'asdl.h', 'ast.h', 'bitset.h', 'boolobject.h', 'bufferobject.h', 'cellobject.h', 'ceval.h', 'classobject.h', 'cobject.h', 'code.h', 'codecs.h', 'compile.h', 'complexobject.h', 'cStringIO.h', 'datetime.h', 'descrobject.h', 'dictobject.h', 'enumobject.h', 'errcode.h', 'eval.h', 'fileobject.h', 'floatobject.h', 'frameobject.h', 'funcobject.h', 'genobject.h', 'graminit.h', 'grammar.h', 'import.h', 'intobject.h', 'intrcheck.h', 'iterobject.h', 'listobject.h', 'longintrepr.h', 'longobject.h', 'marshal.h', 'metagrammar.h', 'methodobject.h', 'modsupport.h', 'moduleobject.h', 'node.h', 'object.h', 'objimpl.h', 'opcode.h', 'osdefs.h', 'parsetok.h', 'patchlevel.h', 'pgen.h', 'pgenheaders.h', 'pyarena.h', 'pyconfig.h', 'pydebug.h', 'pyerrors.h', 'pyexpat.h', 'pyfpe.h', 'pygetopt.h', 'pymactoolbox.h', 'pymem.h', 'pyport.h', 'pystate.h', 'pystrtod.h', 'Python-ast.h', 'Python.h', 'pythonrun.h', 'pythread.h', 'py_curses.h', 'rangeobject.h', 'setobject.h', 'sliceobject.h', 'stringobject.h', 'structmember.h', 'structseq.h', 'symtable.h', 'sysmodule.h', 'timefuncs.h', 'token.h', 'traceback.h', 'tupleobject.h', 'ucnhash.h', 'unicodeobject.h', 'weakrefobject.h']\n",
      "----"
     ],
     "language": "python",
     "metadata": {},
     "outputs": []
    },
    {
     "cell_type": "markdown",
     "metadata": {},
     "source": [
      "basedir = r'..\\..\\..\\_python_data/Driver Telematics Analysis/drivers/'\n",
      "ext = '.csv'\n",
      "\n",
      "for dir in os.listdir(basedir):\n",
      "    cdir = os.path.join(basedir,dir)\n",
      "    metrics = pd.DataFrame(data=np.zeros((0,len(columns))), columns=columns)    #metrics = pd.DataFrame()\n",
      "    for file in os.listdir(cdir):\n",
      "        if(file.endswith(ext)):\n",
      "            filepath = os.path.join(cdir,file)\n",
      "            # do something with the file filepath ..."
     ]
    },
    {
     "cell_type": "code",
     "collapsed": false,
     "input": [
      "# glob \u2014 Unix style pathname pattern expansion\n",
      "# https://docs.python.org/2/library/glob.html\n",
      "\n",
      "import glob\n",
      "import os\n",
      "\n",
      "basedir = r'../_python_data/Driver Telematics Analysis/drivers/1/'\n",
      "filepat = os.path.join(basedir,'*.pkl')\n",
      "\n",
      "print glob.glob(basedir+'*.pkl')\n",
      "# ['../_python_data/Driver Telematics Analysis/drivers/1\\\\analysis.pkl']\n",
      "\n",
      "print glob.glob(filepat)\n",
      "# ['../_python_data/Driver Telematics Analysis/drivers/1\\\\analysis.pkl']\n",
      "\n",
      "# The other wildcard character supported is the question mark (?). It matches any single character in that position in the name.\n",
      "# When you need to match a specific character, use a character range instead of a question mark.\n",
      "\n",
      "i = 0\n",
      "for name in glob.glob(r'../_python_data/Driver Telematics Analysis/drivers/*/*.pkl'):\n",
      "    print '\\t', name\n",
      "    i+=1\n",
      "    if(i>4):\n",
      "        break\n",
      "\"\"\"\n",
      "    ../_python_data/Driver Telematics Analysis/drivers\\1\\1.csv\n",
      "\t../_python_data/Driver Telematics Analysis/drivers\\1\\10.csv\n",
      "\t../_python_data/Driver Telematics Analysis/drivers\\1\\100.csv\n",
      "\t../_python_data/Driver Telematics Analysis/drivers\\1\\101.csv\n",
      "\t../_python_data/Driver Telematics Analysis/drivers\\1\\102.csv\n",
      "\"\"\""
     ],
     "language": "python",
     "metadata": {},
     "outputs": [
      {
       "output_type": "stream",
       "stream": "stdout",
       "text": [
        "['../_python_data/Driver Telematics Analysis/drivers/1\\\\analysis.pkl']\n",
        "['../_python_data/Driver Telematics Analysis/drivers/1\\\\analysis.pkl']\n",
        "\t"
       ]
      },
      {
       "output_type": "stream",
       "stream": "stdout",
       "text": [
        "../_python_data/Driver Telematics Analysis/drivers\\1\\analysis.pkl\n",
        "\t../_python_data/Driver Telematics Analysis/drivers\\10\\analysis.pkl\n",
        "\t../_python_data/Driver Telematics Analysis/drivers\\100\\analysis.pkl\n",
        "\t../_python_data/Driver Telematics Analysis/drivers\\1000\\analysis.pkl\n",
        "\t../_python_data/Driver Telematics Analysis/drivers\\1001\\analysis.pkl\n"
       ]
      },
      {
       "metadata": {},
       "output_type": "pyout",
       "prompt_number": 14,
       "text": [
        "'\\n    ../_python_data/Driver Telematics Analysis/drivers\\x01\\x01.csv\\n\\t../_python_data/Driver Telematics Analysis/drivers\\x01\\x08.csv\\n\\t../_python_data/Driver Telematics Analysis/drivers\\x01@.csv\\n\\t../_python_data/Driver Telematics Analysis/drivers\\x01A.csv\\n\\t../_python_data/Driver Telematics Analysis/drivers\\x01B.csv\\n'"
       ]
      }
     ],
     "prompt_number": 14
    },
    {
     "cell_type": "code",
     "collapsed": false,
     "input": [
      "if(glob.glob(r'../_python_data/Driver Telematics Analysis/drivers/1/analysis.pkl') != []):\n",
      "    print \"found\""
     ],
     "language": "python",
     "metadata": {},
     "outputs": [
      {
       "output_type": "stream",
       "stream": "stdout",
       "text": [
        "found\n"
       ]
      }
     ],
     "prompt_number": 16
    },
    {
     "cell_type": "code",
     "collapsed": false,
     "input": [
      "basedir = r'..\\_python_data/Driver Telematics Analysis/drivers/'\n",
      "i = 0\n",
      "for dir in os.listdir(basedir):\n",
      "    cdir = os.path.join(basedir,dir)\n",
      "    print cdir\n",
      "    i+=1\n",
      "    if(i>2):\n",
      "        break\n",
      "\"\"\"\n",
      "..\\_python_data/Driver Telematics Analysis/drivers/1\n",
      "..\\_python_data/Driver Telematics Analysis/drivers/10\n",
      "..\\_python_data/Driver Telematics Analysis/drivers/100\n",
      "\"\"\""
     ],
     "language": "python",
     "metadata": {},
     "outputs": [
      {
       "output_type": "stream",
       "stream": "stdout",
       "text": [
        "..\\_python_data/Driver Telematics Analysis/drivers/1\n",
        "..\\_python_data/Driver Telematics Analysis/drivers/10\n",
        "..\\_python_data/Driver Telematics Analysis/drivers/100\n"
       ]
      }
     ],
     "prompt_number": 17
    },
    {
     "cell_type": "markdown",
     "metadata": {},
     "source": [
      "# print I/O redirection"
     ]
    },
    {
     "cell_type": "code",
     "collapsed": false,
     "input": [
      "You should take a look at python logging module\n",
      "\n",
      "EDIT: Sample code:\n",
      "\n",
      "import logging\n",
      "\n",
      "if __name__ == \"__main__\":\n",
      "    logging.basicConfig(level=logging.DEBUG, filename=\"logfile\", filemode=\"a+\",\n",
      "                        format=\"%(asctime)-15s %(levelname)-8s %(message)s\")\n",
      "    logging.info(\"hello\")\n",
      "Produce a file named \"logfile\" with content:\n",
      "\n",
      "2012-10-18 06:40:03,582 INFO     hello\n",
      "        \n",
      "# http://www.onlamp.com/pub/a/python/2005/06/02/logging.html\n",
      "# http://stackoverflow.com/questions/616645/how-do-i-duplicate-sys-stdout-to-a-log-file-in-python/2216517#2216517"
     ],
     "language": "python",
     "metadata": {},
     "outputs": []
    }
   ],
   "metadata": {}
  }
 ]
}