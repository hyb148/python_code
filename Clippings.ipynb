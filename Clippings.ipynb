{
 "metadata": {
  "name": "",
  "signature": "sha256:12c14e66208018f4dd15caddc28c342d7e8e51509de7cbb54674542c25781bcf"
 },
 "nbformat": 3,
 "nbformat_minor": 0,
 "worksheets": [
  {
   "cells": [
    {
     "cell_type": "markdown",
     "metadata": {},
     "source": [
      "# PANDAS"
     ]
    },
    {
     "cell_type": "code",
     "collapsed": false,
     "input": [
      "# get DataFrame column names based on data types\n",
      "import pandas as pd\n",
      "df = pd.DataFrame({'a': np.random.randn(1000),\n",
      "                   'b': range(1000),\n",
      "                   'c': ['a'] * 1000,\n",
      "                   'd': pd.date_range('2000-1-1', periods=1000)})\n",
      "\n",
      "#based on data type ...\n",
      "names = df.select_dtypes(['float64','int64']).columns.values\n",
      "for i, name in enumerate(names):\n",
      "    print \"column #\", i, \" name:\", name\n",
      "    \n",
      "#all column names\n",
      "names = df.columns.values\n",
      "for i, name in enumerate(names):\n",
      "    print \"column #\", i, \" name:\", name"
     ],
     "language": "python",
     "metadata": {},
     "outputs": [
      {
       "output_type": "stream",
       "stream": "stdout",
       "text": [
        "column # 0  name: a\n",
        "column # 1  name: b\n",
        "column # 0  name: a\n",
        "column # 1  name: b\n",
        "column # 2  name: c\n",
        "column # 3  name: d\n"
       ]
      }
     ],
     "prompt_number": 4
    },
    {
     "cell_type": "markdown",
     "metadata": {},
     "source": [
      "# NUMPY"
     ]
    },
    {
     "cell_type": "code",
     "collapsed": false,
     "input": [
      "# http://docs.scipy.org/doc/numpy/reference/generated/numpy.nan_to_num.html\n",
      "from numpy import inf\n",
      "X = np.array([np.inf, -np.inf, np.nan, -128, 128])\n",
      "print X.dtype\n",
      "print \"NaN present: \", np.sum(np.isnan(X))\n",
      "print \"Inf present: \", np.sum(np.isinf(X))\n",
      "print \"-Inf present: \", np.sum(np.isneginf(X))\n",
      "print \"not isfinite: \", size(X) - np.sum(np.isfinite(X))\n",
      "\n",
      "# DO INF BEFORE NAN\n",
      "X[X == np.inf] = 0 #np.inf\n",
      "X[np.isneginf(X)] = 0 #-np.inf\n",
      "X = np.nan_to_num(X)\n",
      "\n",
      "print \"NaN fixed: \", np.sum(np.isnan(X))\n",
      "print \"Inf fixed: \", np.sum(np.isinf(X))\n",
      "print \"-Inf fixed: \", np.sum(np.isneginf(X))\n",
      "print \"not isfinite: \", size(X) - np.sum(np.isfinite(X))"
     ],
     "language": "python",
     "metadata": {},
     "outputs": [
      {
       "output_type": "stream",
       "stream": "stdout",
       "text": [
        "float64\n",
        "NaN present:  1\n",
        "Inf present:  2\n",
        "-Inf present:  1\n",
        "not isfinite:  3\n",
        "NaN fixed:  0\n",
        "Inf fixed:  0\n",
        "-Inf fixed:  0\n",
        "not isfinite:  0\n"
       ]
      }
     ],
     "prompt_number": 5
    },
    {
     "cell_type": "code",
     "collapsed": false,
     "input": [
      "# FILES, DIRS, etc"
     ],
     "language": "python",
     "metadata": {},
     "outputs": []
    },
    {
     "cell_type": "code",
     "collapsed": false,
     "input": [
      "import os\n",
      "dir = './'\n",
      "\n",
      "for file in os.listdir(dir):\n",
      "    if(file.endswith(\".py\")):\n",
      "        print \"original: \", file\n",
      "        file = file[0:file.find('.py')]\n",
      "        print file"
     ],
     "language": "python",
     "metadata": {},
     "outputs": []
    }
   ],
   "metadata": {}
  }
 ]
}