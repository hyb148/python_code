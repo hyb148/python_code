{
 "metadata": {
  "name": "",
  "signature": "sha256:854d60643973b38379ce6e036410ab4e2999a2f928b9c0163b9503da80390390"
 },
 "nbformat": 3,
 "nbformat_minor": 0,
 "worksheets": [
  {
   "cells": [
    {
     "cell_type": "code",
     "collapsed": false,
     "input": [
      "import re\n",
      "import glob, os\n",
      "import os.path\n",
      "import pandas as pd\n",
      "from xlsxwriter.utility import xl_rowcol_to_cell\n",
      "\n",
      "base_dir = r'C:\\Users\\3820104\\Documents\\python_code\\Cohda'\n",
      "#r'R:\\RD Community Share\\Autonomous Driving Team\\0003_Resources\\0043_DataLogs\\20150806_Field_Trip_AnnArbor'\n",
      "os.chdir(base_dir)\n",
      "for file in glob.glob(\"*.csv\"):\n",
      "    print 'Processing data file: ',file\n",
      "    data = pd.read_csv(file,';')\n",
      "    data = data.rename(columns=lambda x: x.replace('.', '_'))\n",
      "    # list(data.columns.values)    \n",
      "    print '\\tNumber of datapoints = ', len(data.index)\n",
      "    ids = pd.unique(data.j2735_id)\n",
      "    print (\"\\tUnique IDs (%d) = %s\" % (len(ids), ids))\n",
      "    \n",
      "    # write all data to xlsx\n",
      "    xlsx_filename = base_dir + '/' + file[0:file.find('.csv')] + '.xlsx'\n",
      "    if not(os.path.isfile(xlsx_filename) ):\n",
      "        writer_orig = pd.ExcelWriter(xlsx_filename, engine='xlsxwriter')\n",
      "        data.to_excel(writer_orig, index=False, sheet_name='all')\n",
      "        # write each id to a sheet\n",
      "        for id in ids:\n",
      "            if not(id is nan): \n",
      "                print '\\twriting id: ', id\n",
      "                veh_data = data[data.j2735_id == id]\n",
      "                sheet_name = re.sub(r\":\", \"_\", id)\n",
      "                veh_data.to_excel(writer_orig, index=False, sheet_name=sheet_name)    \n",
      "        writer_orig.save()  \n",
      "    #\n",
      "    \n",
      "    print 'Completed processing of data file: ',file\n",
      "print 'done'"
     ],
     "language": "python",
     "metadata": {},
     "outputs": [
      {
       "output_type": "stream",
       "stream": "stdout",
       "text": [
        "Processing data file:  2015.08.06-10.55.52_Mobis-AnnArbor_rx_decoded.csv\n",
        "\tNumber of datapoints =  1008\n",
        "\tUnique IDs (5) = ['5f:ba:0d:41' '8f:28:0d:f0' '2e:7c:0e:21' '35:41:0b:e2' 'b1:fa:1a:2f']\n",
        "Completed processing of data file:  2015.08.06-10.55.52_Mobis-AnnArbor_rx_decoded.csv\n",
        "Processing data file:  2015.08.06-11.23.12_PlymouthRoad_rx_decoded.csv\n",
        "\tNumber of datapoints = "
       ]
      },
      {
       "output_type": "stream",
       "stream": "stdout",
       "text": [
        " 6664\n",
        "\tUnique IDs (4) = [nan 'e5:25:0d:26' '2b:21:1f:b0' '17:d4:1c:be']\n",
        "Completed processing of data file:  2015.08.06-11.23.12_PlymouthRoad_rx_decoded.csv\n",
        "Processing data file:  2015.08.06-11.32.30_MainSt_rx_decoded.csv\n",
        "\tNumber of datapoints =  57\n",
        "\tUnique IDs (1) = ['12:1d:17:c2']\n",
        "Completed processing of data file:  2015.08.06-11.32.30_MainSt_rx_decoded.csv\n",
        "Processing data file:  2015.08.06-11.34.36_Huron-Washtenaw_rx_decoded.csv\n",
        "\tNumber of datapoints =  290\n",
        "\tUnique IDs (5) = ['12:1d:17:c2' 'dd:43:1c:0a' '74:7a:1d:7a' '83:c8:42:cd' '7d:10:1c:1a']\n",
        "Completed processing of data file:  2015.08.06-11.34.36_Huron-Washtenaw_rx_decoded.csv\n",
        "Processing data file:  2015.08.06-11.44.21_Huron-Geddes-Plymouth_rx_decoded.csv\n",
        "\tNumber of datapoints =  509\n",
        "\tUnique IDs (6) = ['13:e7:20:13' '78:ea:1c:a0' 'f9:df:1c:1c' '91:e6:1c:a0' '32:28:1c:1c'\n",
        " 'dc:d1:1d:7a']\n",
        "Completed processing of data file:  2015.08.06-11.44.21_Huron-Geddes-Plymouth_rx_decoded.csv\n",
        "Processing data file:  2015.08.06-11.56.46_Fuller-PlymouthRoad_rx_decoded.csv\n",
        "\tNumber of datapoints = "
       ]
      },
      {
       "output_type": "stream",
       "stream": "stdout",
       "text": [
        " 12127\n",
        "\tUnique IDs (15) = ['7c:23:42:cd' 'df:ee:2d:64' nan '4d:c2:42:cd' 'bc:75:09:02' '05:ff:1f:b5'\n",
        " '19:4e:1f:e3' '0b:ab:09:be' '98:22:04:53' '7e:af:08:e3' '77:ff:18:54'\n",
        " 'bb:01:0c:b1' '51:54:0b:3f' '81:8c:19:76' '0b:b5:0c:9d']\n",
        "Completed processing of data file:  2015.08.06-11.56.46_Fuller-PlymouthRoad_rx_decoded.csv\n",
        "Processing data file:  2015.08.06-12.54.43_PlymouthRoad2_rx_decoded.csv\n",
        "\tNumber of datapoints =  1302\n",
        "\tUnique IDs (6) = [nan '2d:a5:15:95' '35:b6:1f:f8' 'cb:97:0a:1c' 'b7:22:1d:4e' '47:dc:1a:ee']\n",
        "Completed processing of data file:  2015.08.06-12.54.43_PlymouthRoad2_rx_decoded.csv\n",
        "Processing data file:  2015.08.06-13.05.47_MainStStatic_rx_decoded.csv\n",
        "\tNumber of datapoints =  148\n",
        "\tUnique IDs (2) = ['59:79:1a:12' '7a:29:1c:be']\n",
        "Completed processing of data file:  2015.08.06-13.05.47_MainStStatic_rx_decoded.csv\n",
        "Processing data file:  2015.08.06-13.14.52_MainSt-PlymouthRoad_rx_decoded.csv\n",
        "\tNumber of datapoints = "
       ]
      },
      {
       "output_type": "stream",
       "stream": "stdout",
       "text": [
        " 1623\n",
        "\tUnique IDs (4) = ['34:53:1c:be' nan '7e:1b:1d:7a' '98:cf:0e:34']\n",
        "Completed processing of data file:  2015.08.06-13.14.52_MainSt-PlymouthRoad_rx_decoded.csv\n",
        "Processing data file:  2015.08.06-13.20.54_PlymouthRoadStatic_rx_decoded.csv\n",
        "\tNumber of datapoints = "
       ]
      },
      {
       "output_type": "stream",
       "stream": "stdout",
       "text": [
        " 8263\n",
        "\tUnique IDs (22) = ['1e:67:18:b1' '36:16:0d:1f' 'ad:22:18:18' nan 'b9:68:19:87' '11:32:09:5a'\n",
        " 'fd:aa:25:53' '3a:60:1f:b2' 'f6:c9:19:87' '2c:8f:09:5a' '21:ed:25:53'\n",
        " '02:65:1f:f8' '1a:83:08:41' 'cb:00:17:ec' 'd0:e6:0b:40' '85:95:09:d6'\n",
        " '4a:21:1b:93' 'b3:fa:1c:af' '5b:47:18:18' '0c:0b:18:18' '7a:13:0d:ca'\n",
        " '27:43:18:5a']\n",
        "Completed processing of data file:  2015.08.06-13.20.54_PlymouthRoadStatic_rx_decoded.csv\n",
        "Processing data file:  2015.08.06-13.53.51_PlymouthRoad-Washtenaw-Main-PlymouthRoad_rx_decoded.csv\n",
        "\tNumber of datapoints = "
       ]
      },
      {
       "output_type": "stream",
       "stream": "stdout",
       "text": [
        " 17449\n",
        "\tUnique IDs (21) = ['27:43:18:5a' '24:f9:1f:b2' nan '8e:67:18:5a' '3a:3a:19:d2' '7c:a1:1f:ae'\n",
        " 'cc:52:2b:ab' '5f:26:2b:ab' '2d:26:20:22' 'e1:41:1a:ee' 'f7:47:1d:14'\n",
        " '48:58:1f:b5' 'a8:36:0a:15' '1f:0d:17:ec' '87:57:0e:4e' '5b:b7:1f:e5'\n",
        " '63:52:09:12' '73:ca:18:81' 'da:09:18:16' 'ea:02:18:16' 'd0:84:0d:2c']\n",
        "Completed processing of data file:  2015.08.06-13.53.51_PlymouthRoad-Washtenaw-Main-PlymouthRoad_rx_decoded.csv\n",
        "Processing data file:  2015.08.06-14.27.24_AnnArbor-Mobis_rx_decoded.csv\n",
        "\tNumber of datapoints =  383\n",
        "\tUnique IDs (3) = ['98:33:08:69' '54:16:2b:5d' 'd4:e8:c6:67']\n",
        "Completed processing of data file:  2015.08.06-14.27.24_AnnArbor-Mobis_rx_decoded.csv\n",
        "done\n"
       ]
      }
     ],
     "prompt_number": 51
    },
    {
     "cell_type": "code",
     "collapsed": false,
     "input": [
      "id is nan"
     ],
     "language": "python",
     "metadata": {},
     "outputs": [
      {
       "metadata": {},
       "output_type": "pyout",
       "prompt_number": 42,
       "text": [
        "True"
       ]
      }
     ],
     "prompt_number": 42
    },
    {
     "cell_type": "code",
     "collapsed": false,
     "input": [
      "import matplotlib.pyplot as plt\n",
      "veh = data[data['j2735_id']==id]\n",
      "#Convert Series datatype to numeric, getting rid of any non-numeric values\n",
      "lat = data['j2735_lat'].astype(str).convert_objects(convert_numeric=True)\n",
      "lon = data['j2735_long'].astype(str).convert_objects(convert_numeric=True)\n",
      "lat = lat * 0.0000001\n",
      "lon = lon * -0.0000001\n",
      "plt.plot(lon,lat,'.')\n",
      "plt.title(id)"
     ],
     "language": "python",
     "metadata": {},
     "outputs": [
      {
       "metadata": {},
       "output_type": "pyout",
       "prompt_number": 13,
       "text": [
        "<matplotlib.text.Text at 0x989f750>"
       ]
      },
      {
       "metadata": {},
       "output_type": "display_data",
       "png": "[encoded data removed]",
       "text": [
        "<matplotlib.figure.Figure at 0x9878b10>"
       ]
      }
     ],
     "prompt_number": 13
    },
    {
     "cell_type": "code",
     "collapsed": false,
     "input": [
      "id\n"
     ],
     "language": "python",
     "metadata": {},
     "outputs": [
      {
       "metadata": {},
       "output_type": "pyout",
       "prompt_number": 14,
       "text": [
        "<function id>"
       ]
      }
     ],
     "prompt_number": 14
    },
    {
     "cell_type": "code",
     "collapsed": false,
     "input": [
      "from StringIO import StringIO\n",
      "csv = r\"\"\"dummy,date,loc,x\n",
      "bar,20090101,a,1\n",
      "bar,20090102,a,3\n",
      "bar,20090103,a,5\n",
      "bar,20090101,b,1\n",
      "bar,20090102,b,3\n",
      "bar,20090103,b,5\"\"\"\n",
      "\n",
      "df = pd.read_csv(StringIO(csv))\n",
      "\n",
      "data = df[df['loc']=='a']\n",
      "print data"
     ],
     "language": "python",
     "metadata": {},
     "outputs": []
    },
    {
     "cell_type": "code",
     "collapsed": false,
     "input": [],
     "language": "python",
     "metadata": {},
     "outputs": []
    }
   ],
   "metadata": {}
  }
 ]
}