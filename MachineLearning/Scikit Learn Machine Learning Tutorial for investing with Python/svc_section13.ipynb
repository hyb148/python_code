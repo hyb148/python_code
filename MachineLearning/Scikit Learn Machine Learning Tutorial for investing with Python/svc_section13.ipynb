{
 "metadata": {},
 "nbformat": 3,
 "nbformat_minor": 0,
 "worksheets": [
  {
   "cells": [
    {
     "cell_type": "code",
     "collapsed": false,
     "input": [
      "\"\"\"\n",
      "Created on Tue Mar 17 12:28:05 2015\n",
      "\n",
      "@author: 3820104\n",
      "\"\"\"\n",
      "\n",
      "import numpy as np\n",
      "import matplotlib.pyplot as plt\n",
      "from sklearn import svm, preprocessing\n",
      "import pandas as pd\n",
      "from matplotlib import style\n",
      "style.use(\"ggplot\")\n",
      "\n",
      "def Build_Data_Set(features = [\"DE Ratio\",\n",
      "                               \"Trailing P/E\"]):\n",
      "    data_df = pd.DataFrame.from_csv(\"key_stats.csv\")\n",
      "    data_df = data_df[:100]\n",
      "    X = np.array(data_df[features].values.tolist())\n",
      "    y = (data_df[\"Status\"]\n",
      "        .replace(\"underperform\",0)\n",
      "        .replace(\"outperform\",1)\n",
      "        .values.tolist())\n",
      "    X = preprocessing.scale(X)\n",
      "    return X,y\n",
      "    \n",
      "def Analysis():\n",
      "    X,y = Build_Data_Set()\n",
      "    clf = svm.SVC(kernel=\"linear\", C = 1.0)\n",
      "    clf.fit(X,y)\n",
      "    w = clf.coef_[0]\n",
      "    a = -w[0] / w[1]\n",
      "    xx = np.linspace(min(X[:, 0]), max(X[:,0]))\n",
      "    yy = a * xx - clf.intercept_[0] / w[1]\n",
      "    \n",
      "    h0 = plt.plot(xx,yy, \"k-\", label=\"non weighted\")\n",
      "    plt.scatter(X[:,0],X[:,1], c=y)\n",
      "    plt.ylabel(\"Trailing P/E\")\n",
      "    plt.xlabel(\"DE Ratio\")\n",
      "    plt.show()\n",
      "    \n",
      "Analysis()"
     ],
     "language": "python",
     "metadata": {},
     "outputs": []
    }
   ],
   "metadata": {}
  }
 ]
}