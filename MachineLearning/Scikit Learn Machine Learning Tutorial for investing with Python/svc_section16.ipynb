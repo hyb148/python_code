{
 "metadata": {},
 "nbformat": 3,
 "nbformat_minor": 0,
 "worksheets": [
  {
   "cells": [
    {
     "cell_type": "code",
     "collapsed": false,
     "input": [
      "\"\"\"\n",
      "Created on Wed Mar 18 10:31:43 2015\n",
      "\n",
      "@author: 3820104\n",
      "\"\"\"\n",
      "\n",
      "import pandas as pd\n",
      "import os\n",
      "import Quandl\n",
      "import time\n",
      "\n",
      "auth_tok = open(\"auth_key.txt\",\"r\").read()\n",
      "#bars = Quandl.get(\"GOOG/NYSE_SPY\", collapse=\"daily\")\n",
      "#mydata = Quandl.get(\"WIKI/AAPL\", authtoken=auth_tok)\n",
      "                    \n",
      "data = Quandl.get(\"WIKI/KO\", authtoken=auth_tok, trim_start='2000-12-12', trim_end='2014-12-30')\n",
      "\n",
      "print(data)"
     ],
     "language": "python",
     "metadata": {},
     "outputs": []
    }
   ],
   "metadata": {}
  }
 ]
}