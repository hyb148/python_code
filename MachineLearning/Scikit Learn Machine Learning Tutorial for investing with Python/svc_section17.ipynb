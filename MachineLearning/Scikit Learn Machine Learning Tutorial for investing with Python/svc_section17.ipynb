{
 "metadata": {},
 "nbformat": 3,
 "nbformat_minor": 0,
 "worksheets": [
  {
   "cells": [
    {
     "cell_type": "code",
     "collapsed": false,
     "input": [
      "\"\"\"\n",
      "Created on Wed Mar 18 10:31:43 2015\n",
      "\n",
      "@author: 3820104\n",
      "\"\"\"\n",
      "\n",
      "import pandas as pd\n",
      "import os\n",
      "import Quandl\n",
      "import time\n",
      "\n",
      "auth_tok = open(\"auth_key.txt\",\"r\").read()\n",
      "                    \n",
      "path = path = \"C:/Users/3820104/Documents/_python_data/intraQuarter\"\n",
      "\n",
      "def Stock_Prices():\n",
      "    df = pd.DataFrame()\n",
      "    statspath = path+\"/_KeyStats\"\n",
      "    stock_list = [x[0] for x in os.walk(statspath)]\n",
      "    for each_dir in stock_list[1:]:\n",
      "        try:\n",
      "            ticker = each_dir.split(\"\\\\\")[1]\n",
      "            print(ticker)\n",
      "            name = \"WIKI/\"+ticker.upper()\n",
      "            data = Quandl.get(name,\n",
      "                              authtoken=auth_tok, \n",
      "                              trim_start='2000-12-12', \n",
      "                              trim_end='2014-12-30')\n",
      "            data[ticker.upper()] = data[\"Adj. Close\"]\n",
      "            df = pd.concat([df, data[ticker.upper()]], axis = 1)\n",
      "        except Exception as e:\n",
      "            print(str(e))\n",
      "            \n",
      "    df.to_csv(\"stock_prices.csv\")\n",
      "    \n",
      "Stock_Prices()"
     ],
     "language": "python",
     "metadata": {},
     "outputs": []
    }
   ],
   "metadata": {}
  }
 ]
}