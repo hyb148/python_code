{
 "metadata": {},
 "nbformat": 3,
 "nbformat_minor": 0,
 "worksheets": [
  {
   "cells": [
    {
     "cell_type": "code",
     "collapsed": false,
     "input": [
      "\"\"\"\n",
      "Created on Tue Mar 17 10:09:03 2015\n",
      "\n",
      "@author: 3820104\n",
      "\"\"\"\n",
      "\n",
      "import numpy as np\n",
      "import matplotlib.pyplot as plt\n",
      "from sklearn import svm\n",
      "from matplotlib import style\n",
      "style.use(\"ggplot\")\n",
      "\n",
      "#feattures\n",
      "x = [1,5,1.5,8,1,9]\n",
      "y = [2,8,1.8,8,0.6,11]\n",
      "\n",
      "#plt.scatter(x,y)\n",
      "#plt.show()\n",
      "\n",
      "X = []\n",
      "for i, j in zip(x,y):\n",
      "    X.append([i, j])\n",
      "X = np.array(X)\n",
      "\n",
      "ymean = np.mean(y)\n",
      "for i,ele in enumerate(y):\n",
      "    if(y[i]>ymean):\n",
      "        y[i] = 1\n",
      "    else:\n",
      "        y[i] = 0\n",
      "        \n",
      "clf = svm.SVC(kernel='linear', C=1.0)\n",
      "clf.fit(X,y) # features fit to labels\n",
      "print(clf.predict([0.58,0.76]))\n",
      "print(clf.predict([10.58,10.76]))\n",
      "\n",
      "#w = clf.coef_[0]\n",
      "#print(w)\n",
      "#\n",
      "#a = -w[0] / w[1] #\n",
      "#xx = np.linspace(np.min(x),np.max(x))\n",
      "#yy = a * xx - clf.intercept_[0] / w[1]\n",
      "#h0 = plt.plot(xx,yy, 'k-', label=\"non weighted div\")\n",
      "#plt.scatter(X[:,0], X[:,1], c=y)\n",
      "#plt.show()"
     ],
     "language": "python",
     "metadata": {},
     "outputs": []
    }
   ],
   "metadata": {}
  }
 ]
}