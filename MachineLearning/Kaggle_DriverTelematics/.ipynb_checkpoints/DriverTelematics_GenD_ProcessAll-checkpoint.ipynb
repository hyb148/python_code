{
 "metadata": {
  "name": "",
  "signature": "sha256:ee94c045c9beb203c42af3ef865ca83fac4203f29ce992b2b9fdd630cf658650"
 },
 "nbformat": 3,
 "nbformat_minor": 0,
 "worksheets": [
  {
   "cells": [
    {
     "cell_type": "code",
     "collapsed": false,
     "input": [
      "import pandas as pd\n",
      "import numpy as np\n",
      "import matplotlib.pyplot as plt\n",
      "import math\n",
      "import os\n",
      "import os.path\n",
      "import glob\n"
     ],
     "language": "python",
     "metadata": {},
     "outputs": [],
     "prompt_number": 1
    },
    {
     "cell_type": "code",
     "collapsed": false,
     "input": [
      "def plottraces(df):\n",
      "    names = df.columns.values\n",
      "    cols = 4\n",
      "    rows = math.ceil(len(names)/float(cols))\n",
      "    print \"showing \", len(names), \" datasets in \", rows, \" rows by \", cols, \" cols\"\n",
      "\n",
      "    fig = plt.figure(figsize=(16,12), dpi=80)\n",
      "    fig.subplots_adjust(hspace = 0.5)\n",
      "    x = range(1,len(df))\n",
      "    base = np.ones(len(x))\n",
      "    list = [5,15,50,85,95]\n",
      "    for i,name in enumerate(names):\n",
      "            subplot(rows,cols,i+1)\n",
      "            plot(df[name])\n",
      "            for i in [50,75,95,100]: #range(0,101,5):\n",
      "                median = base*np.percentile(df[name],i)\n",
      "                plot(x,median)\n",
      "            title(name)"
     ],
     "language": "python",
     "metadata": {},
     "outputs": [],
     "prompt_number": 2
    },
    {
     "cell_type": "markdown",
     "metadata": {},
     "source": [
      "len(df)"
     ]
    },
    {
     "cell_type": "code",
     "collapsed": false,
     "input": [
      "def plotxy(df,x,y,num_plots=6):\n",
      "    start = 0\n",
      "    plt.figure(figsize=(16,12), dpi=80)\n",
      "    labels = []\n",
      "    colormap = plt.cm.gist_ncar\n",
      "    plt.gca().set_color_cycle([colormap(i) for i in np.linspace(0, 0.9, num_plots)])\n",
      "    for i,offset in enumerate(range(rows/num_plots,rows,rows/num_plots)):\n",
      "        labels.append(r'seg %i' % (i))\n",
      "        if(x==[]):\n",
      "            plot(df.index[start:offset],df[y][start:offset])\n",
      "        else:\n",
      "            plot(df[x][start:offset],df[y][start:offset])\n",
      "        start =+ offset\n",
      "    plt.legend(labels, ncol=num_plots, loc='upper center', \n",
      "               bbox_to_anchor=[0.5, 1.1], \n",
      "               columnspacing=1.0, labelspacing=0.0,\n",
      "               handletextpad=0.0, handlelength=1.5,\n",
      "               fancybox=True, shadow=True)\n"
     ],
     "language": "python",
     "metadata": {},
     "outputs": [],
     "prompt_number": 3
    },
    {
     "cell_type": "code",
     "collapsed": false,
     "input": [
      "def getdriverdata(filename):\n",
      "    # gen x, y\n",
      "    df = pd.read_csv(filepath_or_buffer=filename, sep=',')\n",
      "    df.dropna(how=\"all\", inplace=True) # drops the empty line at file-end\n",
      "    #\n",
      "    #df.head()\n",
      "    rows = df.shape[0]\n",
      "    #print df.head()\n",
      "    #print \"rows\", rows\n",
      "    #\n",
      "    #plotxy(df,'x','y')\n",
      "    \n",
      "    # gen dx, dy, xsum, ysum, hdg, spd, yaw\n",
      "    #http://stackoverflow.com/questions/22081878/get-previous-rows-value-and-calculate-new-column-pandas-python\n",
      "    df['dx'] = df['x'] - df['x'].shift(1)\n",
      "    df['dy'] = df['y'] - df['y'].shift(1)\n",
      "    #showdata(df,'dx','dy')\n",
      "    #\n",
      "    df['xsum'] = df['dx'].cumsum()\n",
      "    df['ysum'] = df['dy'].cumsum()\n",
      "    df['hdg'] = np.arctan2(df['ysum'],df['xsum'])\n",
      "    #showdata(df,[],'hdg')\n",
      "    #\n",
      "    # use dot product to speed up?\n",
      "    df['spd'] = np.sqrt(df['dx']*df['dx']+df['dy']*df['dy'])\n",
      "    df['yaw'] = np.arctan2(df['dy'],df['dx'])\n",
      "    #showdata(df,[],'yaw_deg')\n",
      "\n",
      "    #print df.shape\n",
      "    #print df.head()\n",
      "    # gen dx2, dy2, acc, dyaw_deg\n",
      "    df['dx2'] = df['dx'] - df['dx'].shift(1)\n",
      "    df['dy2'] = df['dy'] - df['dy'].shift(1)\n",
      "    #showdata(df,'dx2','dy2')\n",
      "\n",
      "    # use dot product to speed up?\n",
      "    #df['acc'] = np.sqrt(df['dx2']*df['dx2']+df['dy2']*df['dy2'])\n",
      "    df['dyaw'] = numpy.abs(np.arctan2(df['dy2'],df['dx2']))\n",
      "    #showdata(df,[],'dyaw')\n",
      "\n",
      "    df['dspd'] = df['spd'] - df['spd'].shift(1)\n",
      "    \n",
      "    df['dspd_decel'] = df['dspd']\n",
      "    df.ix[df['dspd_decel']>0,'dspd_decel'] = 0\n",
      "    df['dspd_decel'] = numpy.abs(df['dspd_decel'])\n",
      "    \n",
      "    df['dspd_accel'] = df['dspd']\n",
      "    df.ix[df['dspd_accel']<0,'dspd_accel'] = 0\n",
      "    \n",
      "    df['dyaw2'] = numpy.abs(df['yaw'] - df['yaw'].shift(1))\n",
      "    \n",
      "    df['yaw_spd_ratio'] = numpy.abs(df['yaw']/df['spd'])\n",
      "    \n",
      "    df['dspdaccel_spd_ratio'] = df['dspd']/df['spd']\n",
      "    df.ix[df['dspdaccel_spd_ratio']<0,'dspdaccel_spd_ratio'] = 0\n",
      "    \n",
      "    df['dspddecel_spd_ratio'] = df['dspd']/df['spd']\n",
      "    df.ix[df['dspddecel_spd_ratio']>0,'dspddecel_spd_ratio'] = 0\n",
      "    df['dspddecel_spd_ratio'] = numpy.abs(df['dspddecel_spd_ratio'])\n",
      "    \n",
      "    df['dyaw_spd_ratio'] = df['dyaw']/df['spd']\n",
      "    \n",
      "    df['dyaw_acc_ratio'] = numpy.abs(df['dyaw']/df['dspd'])\n",
      "    \n",
      "    #df['dspd_spd_ratio'] = df['dspd']/df['spd']\n",
      "    \n",
      "    # drop un-needed columns\n",
      "    df.drop('xsum', axis=1, inplace=True)\n",
      "    df.drop('ysum', axis=1, inplace=True)\n",
      "    df.drop('x', axis=1, inplace=True)\n",
      "    df.drop('y', axis=1, inplace=True)\n",
      "    df.drop('dx', axis=1, inplace=True)\n",
      "    df.drop('dy', axis=1, inplace=True)\n",
      "    df.drop('hdg', axis=1, inplace=True)\n",
      "    df.drop('yaw', axis=1, inplace=True)\n",
      "    df.drop('dx2', axis=1, inplace=True)\n",
      "    df.drop('dy2', axis=1, inplace=True)\n",
      "    df.drop('dspd', axis=1, inplace=True)\n",
      "    #df.drop('dspd_spd_ratio', axis=1, inplace=True)\n",
      "\n",
      "    # metrics\n",
      "    columns = ['filename','dyaw', 'dspd_decel', 'dspd_accel', 'dyaw2', 'yaw_spd_ratio',\n",
      "               'dspdaccel_spd_ratio', 'dspddecel_spd_ratio', 'dyaw_spd_ratio', 'dyaw_acc_ratio']\n",
      "    metrics = pd.DataFrame(data=np.zeros((1,len(columns))), columns=columns)    #metrics = pd.DataFrame()\n",
      "    \n",
      "    #dyaw - median\n",
      "    name = 'dyaw'\n",
      "    yaw_limit = np.percentile(df[name],50)\n",
      "    #print \"yaw_limit = \",yaw_limit, \" count = \", len(df.ix[df[name] > yaw_limit, name])\n",
      "    metrics[name] = len(df.ix[df[name] > yaw_limit, name])\n",
      "    \n",
      "    #dspd_decel - 1.5\n",
      "    name = 'dspd_decel'\n",
      "    metrics[name] = len(df.ix[df[name] > 1.5])\n",
      "    \n",
      "    #dspd_accel - 1.5\n",
      "    name = 'dspd_accel'\n",
      "    metrics[name] = len(df.ix[df[name] > 1.5])\n",
      "    \n",
      "    #dyaw2 - 0.5\n",
      "    name = 'dyaw2'\n",
      "    metrics[name] = len(df.ix[df[name] > 0.5])\n",
      "    \n",
      "    #yaw_spd_ratio - 2\n",
      "    name = 'yaw_spd_ratio'\n",
      "    metrics[name] = len(df.ix[df[name] > 2])\n",
      "    \n",
      "    #dspdaccel_spd_ratio - .1\n",
      "    name = 'dspdaccel_spd_ratio'\n",
      "    metrics[name] = len(df.ix[df[name] > 0.1])\n",
      "    \n",
      "    #dspddecel_spd_ratio - 0.5\n",
      "    name = 'dspddecel_spd_ratio'\n",
      "    metrics[name] = len(df.ix[df[name] > 0.5])\n",
      "    \n",
      "    #dyaw_spd_ratio - 1\n",
      "    name = 'dyaw_spd_ratio'\n",
      "    metrics[name] = len(df.ix[df[name] > 1.0])\n",
      "    \n",
      "    #dyaw_acc_ratio - 0.3\n",
      "    name = 'dyaw_acc_ratio'\n",
      "    metrics[name] = len(df.ix[df[name] > 0.1e14])\n",
      "\n",
      "    # change NaNs to 0\n",
      "    df.replace([np.inf, -np.inf], np.nan)\n",
      "    df = df.fillna(0)\n",
      "    return df, metrics"
     ],
     "language": "python",
     "metadata": {},
     "outputs": [],
     "prompt_number": 4
    },
    {
     "cell_type": "markdown",
     "metadata": {},
     "source": [
      "def genMedianMaxMin(df):\n",
      "    "
     ]
    },
    {
     "cell_type": "markdown",
     "metadata": {},
     "source": [
      "basedir = r'..\\..\\..\\_python_data/Driver Telematics Analysis/drivers/'\n",
      "ext = '.csv'\n",
      "for dir in os.listdir(basedir):\n",
      "    cdir = os.path.join(basedir,dir)\n",
      "    print cdir\n",
      "    j += 1\n",
      "    if(j>4):\n",
      "        j=0\n",
      "        break\n",
      "    for file in os.listdir(cdir):\n",
      "        print os.path.join(cdir,file)\n",
      "        i+=1        \n",
      "        if(i>4):\n",
      "            i = 0\n",
      "            break\n",
      "    #for files in os.listdir(basedir+dir)\n"
     ]
    },
    {
     "cell_type": "code",
     "collapsed": false,
     "input": [
      "columns = ['filename','dyaw', 'dspd_decel', 'dspd_accel', 'dyaw2', 'yaw_spd_ratio',\n",
      "           'dspdaccel_spd_ratio', 'dspddecel_spd_ratio', 'dyaw_spd_ratio', 'dyaw_acc_ratio']\n",
      "\n",
      "basedir = r'..\\..\\..\\_python_data/Driver Telematics Analysis/drivers/'\n",
      "ext = '.csv'\n",
      "\n",
      "i=1\n",
      "for dir in os.listdir(basedir):\n",
      "    cdir = os.path.join(basedir,dir)\n",
      "    if( glob.glob(cdir+'/analysis.pkl') != []):\n",
      "        print i, \": skipping \", cdir\n",
      "        continue\n",
      "    else:\n",
      "        print i, \": processing \", cdir\n",
      "    metrics = pd.DataFrame(data=np.zeros((0,len(columns))), columns=columns)    #metrics = pd.DataFrame()\n",
      "    for file in os.listdir(cdir):\n",
      "        if(file.endswith(ext)):\n",
      "            filepath = os.path.join(cdir,file)\n",
      "            df, met = getdriverdata(filepath)\n",
      "            met['filename']=os.path.join(dir,file)\n",
      "            #print met.head()\n",
      "            metrics = pd.concat([metrics.ix[:],met.ix[:]]).reset_index(drop=True)\n",
      "    metrics.to_pickle(os.path.join(cdir,'analysis.pkl'))\n",
      "print \"done.\"\n"
     ],
     "language": "python",
     "metadata": {},
     "outputs": [
      {
       "output_type": "stream",
       "stream": "stdout",
       "text": [
        "skipping  ..\\..\\..\\_python_data/Driver Telematics Analysis/drivers/1\n",
        "skipping  ..\\..\\..\\_python_data/Driver Telematics Analysis/drivers/10\n",
        "skipping  ..\\..\\..\\_python_data/Driver Telematics Analysis/drivers/100\n",
        "skipping  ..\\..\\..\\_python_data/Driver Telematics Analysis/drivers/1000\n",
        "skipping  ..\\..\\..\\_python_data/Driver Telematics Analysis/drivers/1001\n",
        "skipping  ..\\..\\..\\_python_data/Driver Telematics Analysis/drivers/1002\n",
        "skipping  ..\\..\\..\\_python_data/Driver Telematics Analysis/drivers/1003\n",
        "skipping  ..\\..\\..\\_python_data/Driver Telematics Analysis/drivers/1004\n",
        "skipping  ..\\..\\..\\_python_data/Driver Telematics Analysis/drivers/1005\n",
        "skipping  ..\\..\\..\\_python_data/Driver Telematics Analysis/drivers/1006\n",
        "skipping  ..\\..\\..\\_python_data/Driver Telematics Analysis/drivers/1007\n",
        "skipping  ..\\..\\..\\_python_data/Driver Telematics Analysis/drivers/1008\n",
        "skipping  ..\\..\\..\\_python_data/Driver Telematics Analysis/drivers/1009\n",
        "skipping  ..\\..\\..\\_python_data/Driver Telematics Analysis/drivers/101\n",
        "skipping  ..\\..\\..\\_python_data/Driver Telematics Analysis/drivers/1010\n",
        "skipping "
       ]
      },
      {
       "output_type": "stream",
       "stream": "stdout",
       "text": [
        " ..\\..\\..\\_python_data/Driver Telematics Analysis/drivers/1011\n",
        "skipping  ..\\..\\..\\_python_data/Driver Telematics Analysis/drivers/1012\n",
        "skipping  ..\\..\\..\\_python_data/Driver Telematics Analysis/drivers/1013\n",
        "skipping  ..\\..\\..\\_python_data/Driver Telematics Analysis/drivers/1015\n",
        "skipping  ..\\..\\..\\_python_data/Driver Telematics Analysis/drivers/1016\n",
        "skipping  ..\\..\\..\\_python_data/Driver Telematics Analysis/drivers/1017\n",
        "skipping  ..\\..\\..\\_python_data/Driver Telematics Analysis/drivers/1018\n",
        "skipping  ..\\..\\..\\_python_data/Driver Telematics Analysis/drivers/102\n",
        "skipping  ..\\..\\..\\_python_data/Driver Telematics Analysis/drivers/1020\n",
        "skipping  ..\\..\\..\\_python_data/Driver Telematics Analysis/drivers/1021\n",
        "skipping  ..\\..\\..\\_python_data/Driver Telematics Analysis/drivers/1022\n",
        "skipping "
       ]
      },
      {
       "output_type": "stream",
       "stream": "stdout",
       "text": [
        " ..\\..\\..\\_python_data/Driver Telematics Analysis/drivers/1023\n",
        "skipping  ..\\..\\..\\_python_data/Driver Telematics Analysis/drivers/1024\n",
        "skipping  ..\\..\\..\\_python_data/Driver Telematics Analysis/drivers/1025\n",
        "skipping  ..\\..\\..\\_python_data/Driver Telematics Analysis/drivers/1026\n",
        "skipping  ..\\..\\..\\_python_data/Driver Telematics Analysis/drivers/1027\n",
        "skipping  ..\\..\\..\\_python_data/Driver Telematics Analysis/drivers/1029\n",
        "skipping  ..\\..\\..\\_python_data/Driver Telematics Analysis/drivers/103\n",
        "skipping  ..\\..\\..\\_python_data/Driver Telematics Analysis/drivers/1030\n",
        "skipping  ..\\..\\..\\_python_data/Driver Telematics Analysis/drivers/1031\n",
        "skipping  ..\\..\\..\\_python_data/Driver Telematics Analysis/drivers/1032\n",
        "skipping  ..\\..\\..\\_python_data/Driver Telematics Analysis/drivers/1033\n",
        "skipping  ..\\..\\..\\_python_data/Driver Telematics Analysis/drivers/1035\n",
        "skipping  ..\\..\\..\\_python_data/Driver Telematics Analysis/drivers/1036\n",
        "skipping "
       ]
      },
      {
       "output_type": "stream",
       "stream": "stdout",
       "text": [
        " ..\\..\\..\\_python_data/Driver Telematics Analysis/drivers/1037\n",
        "skipping  ..\\..\\..\\_python_data/Driver Telematics Analysis/drivers/1038\n",
        "skipping  ..\\..\\..\\_python_data/Driver Telematics Analysis/drivers/104\n",
        "skipping  ..\\..\\..\\_python_data/Driver Telematics Analysis/drivers/1040\n",
        "skipping  ..\\..\\..\\_python_data/Driver Telematics Analysis/drivers/1041\n",
        "skipping  ..\\..\\..\\_python_data/Driver Telematics Analysis/drivers/1042\n",
        "skipping  ..\\..\\..\\_python_data/Driver Telematics Analysis/drivers/1043\n",
        "skipping  ..\\..\\..\\_python_data/Driver Telematics Analysis/drivers/1044\n",
        "skipping  ..\\..\\..\\_python_data/Driver Telematics Analysis/drivers/1045\n",
        "skipping  ..\\..\\..\\_python_data/Driver Telematics Analysis/drivers/1046\n",
        "skipping  ..\\..\\..\\_python_data/Driver Telematics Analysis/drivers/1047\n",
        "skipping  ..\\..\\..\\_python_data/Driver Telematics Analysis/drivers/1048\n",
        "skipping  ..\\..\\..\\_python_data/Driver Telematics Analysis/drivers/1049\n",
        "skipping  ..\\..\\..\\_python_data/Driver Telematics Analysis/drivers/105\n",
        "skipping "
       ]
      },
      {
       "output_type": "stream",
       "stream": "stdout",
       "text": [
        " ..\\..\\..\\_python_data/Driver Telematics Analysis/drivers/1050\n",
        "skipping  ..\\..\\..\\_python_data/Driver Telematics Analysis/drivers/1051\n",
        "skipping  ..\\..\\..\\_python_data/Driver Telematics Analysis/drivers/1052\n",
        "skipping  ..\\..\\..\\_python_data/Driver Telematics Analysis/drivers/1053\n",
        "skipping  ..\\..\\..\\_python_data/Driver Telematics Analysis/drivers/1054\n",
        "skipping  ..\\..\\..\\_python_data/Driver Telematics Analysis/drivers/1055\n",
        "skipping  ..\\..\\..\\_python_data/Driver Telematics Analysis/drivers/1056\n",
        "skipping  ..\\..\\..\\_python_data/Driver Telematics Analysis/drivers/1057\n",
        "skipping  ..\\..\\..\\_python_data/Driver Telematics Analysis/drivers/1058\n",
        "skipping  ..\\..\\..\\_python_data/Driver Telematics Analysis/drivers/1059\n",
        "skipping "
       ]
      },
      {
       "output_type": "stream",
       "stream": "stdout",
       "text": [
        " ..\\..\\..\\_python_data/Driver Telematics Analysis/drivers/106\n",
        "skipping  ..\\..\\..\\_python_data/Driver Telematics Analysis/drivers/1060\n",
        "skipping  ..\\..\\..\\_python_data/Driver Telematics Analysis/drivers/1061\n",
        "skipping  ..\\..\\..\\_python_data/Driver Telematics Analysis/drivers/1062\n",
        "skipping  ..\\..\\..\\_python_data/Driver Telematics Analysis/drivers/1063\n",
        "skipping  ..\\..\\..\\_python_data/Driver Telematics Analysis/drivers/1064\n",
        "skipping  ..\\..\\..\\_python_data/Driver Telematics Analysis/drivers/1065\n",
        "skipping  ..\\..\\..\\_python_data/Driver Telematics Analysis/drivers/1066\n",
        "skipping  ..\\..\\..\\_python_data/Driver Telematics Analysis/drivers/1067\n",
        "skipping  ..\\..\\..\\_python_data/Driver Telematics Analysis/drivers/1068\n",
        "skipping  ..\\..\\..\\_python_data/Driver Telematics Analysis/drivers/1069\n",
        "skipping  ..\\..\\..\\_python_data/Driver Telematics Analysis/drivers/107\n",
        "skipping  ..\\..\\..\\_python_data/Driver Telematics Analysis/drivers/1070\n",
        "skipping  ..\\..\\..\\_python_data/Driver Telematics Analysis/drivers/1071\n",
        "skipping  ..\\..\\..\\_python_data/Driver Telematics Analysis/drivers/1072\n",
        "skipping  ..\\..\\..\\_python_data/Driver Telematics Analysis/drivers/1073\n",
        "skipping  ..\\..\\..\\_python_data/Driver Telematics Analysis/drivers/1074\n",
        "skipping  ..\\..\\..\\_python_data/Driver Telematics Analysis/drivers/1076\n",
        "skipping  ..\\..\\..\\_python_data/Driver Telematics Analysis/drivers/1077\n",
        "skipping "
       ]
      },
      {
       "output_type": "stream",
       "stream": "stdout",
       "text": [
        " ..\\..\\..\\_python_data/Driver Telematics Analysis/drivers/1078\n",
        "skipping  ..\\..\\..\\_python_data/Driver Telematics Analysis/drivers/1079\n",
        "skipping  ..\\..\\..\\_python_data/Driver Telematics Analysis/drivers/108\n",
        "skipping  ..\\..\\..\\_python_data/Driver Telematics Analysis/drivers/1080\n",
        "skipping  ..\\..\\..\\_python_data/Driver Telematics Analysis/drivers/1081\n",
        "skipping  ..\\..\\..\\_python_data/Driver Telematics Analysis/drivers/1082\n",
        "skipping  ..\\..\\..\\_python_data/Driver Telematics Analysis/drivers/1083\n",
        "skipping  ..\\..\\..\\_python_data/Driver Telematics Analysis/drivers/1084\n",
        "skipping  ..\\..\\..\\_python_data/Driver Telematics Analysis/drivers/1085\n",
        "skipping  ..\\..\\..\\_python_data/Driver Telematics Analysis/drivers/1086\n",
        "skipping  ..\\..\\..\\_python_data/Driver Telematics Analysis/drivers/1087\n",
        "skipping  ..\\..\\..\\_python_data/Driver Telematics Analysis/drivers/1088\n",
        "skipping  ..\\..\\..\\_python_data/Driver Telematics Analysis/drivers/1089\n",
        "skipping  ..\\..\\..\\_python_data/Driver Telematics Analysis/drivers/109\n",
        "skipping  ..\\..\\..\\_python_data/Driver Telematics Analysis/drivers/1090\n",
        "skipping  ..\\..\\..\\_python_data/Driver Telematics Analysis/drivers/1091\n",
        "skipping  ..\\..\\..\\_python_data/Driver Telematics Analysis/drivers/1092\n",
        "skipping  ..\\..\\..\\_python_data/Driver Telematics Analysis/drivers/1093\n",
        "skipping  ..\\..\\..\\_python_data/Driver Telematics Analysis/drivers/1094\n",
        "skipping  ..\\..\\..\\_python_data/Driver Telematics Analysis/drivers/1095\n",
        "skipping  ..\\..\\..\\_python_data/Driver Telematics Analysis/drivers/1096\n",
        "skipping  ..\\..\\..\\_python_data/Driver Telematics Analysis/drivers/1097\n",
        "skipping  ..\\..\\..\\_python_data/Driver Telematics Analysis/drivers/1098\n",
        "skipping  ..\\..\\..\\_python_data/Driver Telematics Analysis/drivers/1099\n",
        "skipping  ..\\..\\..\\_python_data/Driver Telematics Analysis/drivers/11\n",
        "skipping  ..\\..\\..\\_python_data/Driver Telematics Analysis/drivers/110\n",
        "skipping  ..\\..\\..\\_python_data/Driver Telematics Analysis/drivers/1100\n",
        "skipping  ..\\..\\..\\_python_data/Driver Telematics Analysis/drivers/1101\n",
        "skipping "
       ]
      },
      {
       "output_type": "stream",
       "stream": "stdout",
       "text": [
        " ..\\..\\..\\_python_data/Driver Telematics Analysis/drivers/1102\n",
        "skipping  ..\\..\\..\\_python_data/Driver Telematics Analysis/drivers/1103\n",
        "skipping  ..\\..\\..\\_python_data/Driver Telematics Analysis/drivers/1104\n",
        "skipping  ..\\..\\..\\_python_data/Driver Telematics Analysis/drivers/1105\n",
        "skipping  ..\\..\\..\\_python_data/Driver Telematics Analysis/drivers/1106\n",
        "skipping  ..\\..\\..\\_python_data/Driver Telematics Analysis/drivers/1107\n",
        "skipping  ..\\..\\..\\_python_data/Driver Telematics Analysis/drivers/1108\n",
        "skipping  ..\\..\\..\\_python_data/Driver Telematics Analysis/drivers/1109\n",
        "skipping  ..\\..\\..\\_python_data/Driver Telematics Analysis/drivers/111\n",
        "skipping  ..\\..\\..\\_python_data/Driver Telematics Analysis/drivers/1110\n",
        "skipping  ..\\..\\..\\_python_data/Driver Telematics Analysis/drivers/1111\n",
        "skipping  ..\\..\\..\\_python_data/Driver Telematics Analysis/drivers/1113\n",
        "skipping  ..\\..\\..\\_python_data/Driver Telematics Analysis/drivers/1114\n",
        "skipping  ..\\..\\..\\_python_data/Driver Telematics Analysis/drivers/1115\n",
        "skipping  ..\\..\\..\\_python_data/Driver Telematics Analysis/drivers/1117\n",
        "skipping  ..\\..\\..\\_python_data/Driver Telematics Analysis/drivers/1118\n",
        "skipping  ..\\..\\..\\_python_data/Driver Telematics Analysis/drivers/1119\n",
        "skipping  ..\\..\\..\\_python_data/Driver Telematics Analysis/drivers/112\n",
        "skipping  ..\\..\\..\\_python_data/Driver Telematics Analysis/drivers/1120\n",
        "skipping "
       ]
      },
      {
       "output_type": "stream",
       "stream": "stdout",
       "text": [
        " ..\\..\\..\\_python_data/Driver Telematics Analysis/drivers/1121\n",
        "skipping  ..\\..\\..\\_python_data/Driver Telematics Analysis/drivers/1122\n",
        "skipping  ..\\..\\..\\_python_data/Driver Telematics Analysis/drivers/1124\n",
        "skipping  ..\\..\\..\\_python_data/Driver Telematics Analysis/drivers/1125\n",
        "skipping  ..\\..\\..\\_python_data/Driver Telematics Analysis/drivers/1126\n",
        "skipping  ..\\..\\..\\_python_data/Driver Telematics Analysis/drivers/1127\n",
        "skipping  ..\\..\\..\\_python_data/Driver Telematics Analysis/drivers/1128\n",
        "skipping  ..\\..\\..\\_python_data/Driver Telematics Analysis/drivers/1129\n",
        "skipping  ..\\..\\..\\_python_data/Driver Telematics Analysis/drivers/113\n",
        "skipping  ..\\..\\..\\_python_data/Driver Telematics Analysis/drivers/1130\n",
        "skipping "
       ]
      },
      {
       "output_type": "stream",
       "stream": "stdout",
       "text": [
        " ..\\..\\..\\_python_data/Driver Telematics Analysis/drivers/1131\n",
        "skipping  ..\\..\\..\\_python_data/Driver Telematics Analysis/drivers/1132\n",
        "skipping  ..\\..\\..\\_python_data/Driver Telematics Analysis/drivers/1133\n",
        "skipping  ..\\..\\..\\_python_data/Driver Telematics Analysis/drivers/1135\n",
        "skipping  ..\\..\\..\\_python_data/Driver Telematics Analysis/drivers/1137\n",
        "skipping  ..\\..\\..\\_python_data/Driver Telematics Analysis/drivers/1138\n",
        "skipping  ..\\..\\..\\_python_data/Driver Telematics Analysis/drivers/1139\n",
        "skipping  ..\\..\\..\\_python_data/Driver Telematics Analysis/drivers/114\n",
        "skipping  ..\\..\\..\\_python_data/Driver Telematics Analysis/drivers/1140\n",
        "skipping  ..\\..\\..\\_python_data/Driver Telematics Analysis/drivers/1141\n",
        "skipping  ..\\..\\..\\_python_data/Driver Telematics Analysis/drivers/1142\n",
        "skipping  ..\\..\\..\\_python_data/Driver Telematics Analysis/drivers/1143\n",
        "skipping  ..\\..\\..\\_python_data/Driver Telematics Analysis/drivers/1144\n",
        "skipping  ..\\..\\..\\_python_data/Driver Telematics Analysis/drivers/1145\n",
        "skipping  ..\\..\\..\\_python_data/Driver Telematics Analysis/drivers/1146\n",
        "skipping  ..\\..\\..\\_python_data/Driver Telematics Analysis/drivers/1147\n",
        "skipping  ..\\..\\..\\_python_data/Driver Telematics Analysis/drivers/1148\n",
        "skipping  ..\\..\\..\\_python_data/Driver Telematics Analysis/drivers/1149\n",
        "skipping  ..\\..\\..\\_python_data/Driver Telematics Analysis/drivers/115\n",
        "skipping "
       ]
      },
      {
       "output_type": "stream",
       "stream": "stdout",
       "text": [
        " ..\\..\\..\\_python_data/Driver Telematics Analysis/drivers/1150\n",
        "skipping  ..\\..\\..\\_python_data/Driver Telematics Analysis/drivers/1151\n",
        "skipping  ..\\..\\..\\_python_data/Driver Telematics Analysis/drivers/1152\n",
        "skipping  ..\\..\\..\\_python_data/Driver Telematics Analysis/drivers/1153\n",
        "skipping  ..\\..\\..\\_python_data/Driver Telematics Analysis/drivers/1154\n",
        "skipping  ..\\..\\..\\_python_data/Driver Telematics Analysis/drivers/1155\n",
        "skipping  ..\\..\\..\\_python_data/Driver Telematics Analysis/drivers/1156\n",
        "skipping  ..\\..\\..\\_python_data/Driver Telematics Analysis/drivers/1157\n",
        "skipping  ..\\..\\..\\_python_data/Driver Telematics Analysis/drivers/1158\n",
        "skipping  ..\\..\\..\\_python_data/Driver Telematics Analysis/drivers/1159\n",
        "skipping  ..\\..\\..\\_python_data/Driver Telematics Analysis/drivers/116\n",
        "skipping  ..\\..\\..\\_python_data/Driver Telematics Analysis/drivers/1160\n",
        "skipping "
       ]
      },
      {
       "output_type": "stream",
       "stream": "stdout",
       "text": [
        " ..\\..\\..\\_python_data/Driver Telematics Analysis/drivers/1161\n",
        "skipping  ..\\..\\..\\_python_data/Driver Telematics Analysis/drivers/1162\n",
        "skipping  ..\\..\\..\\_python_data/Driver Telematics Analysis/drivers/1163\n",
        "skipping  ..\\..\\..\\_python_data/Driver Telematics Analysis/drivers/1164\n",
        "skipping  ..\\..\\..\\_python_data/Driver Telematics Analysis/drivers/1165\n",
        "skipping  ..\\..\\..\\_python_data/Driver Telematics Analysis/drivers/1166\n",
        "skipping  ..\\..\\..\\_python_data/Driver Telematics Analysis/drivers/1167\n",
        "skipping  ..\\..\\..\\_python_data/Driver Telematics Analysis/drivers/1169\n",
        "skipping  ..\\..\\..\\_python_data/Driver Telematics Analysis/drivers/117\n",
        "skipping  ..\\..\\..\\_python_data/Driver Telematics Analysis/drivers/1170\n",
        "skipping  ..\\..\\..\\_python_data/Driver Telematics Analysis/drivers/1171\n",
        "skipping  ..\\..\\..\\_python_data/Driver Telematics Analysis/drivers/1172\n",
        "skipping  ..\\..\\..\\_python_data/Driver Telematics Analysis/drivers/1173\n",
        "skipping  ..\\..\\..\\_python_data/Driver Telematics Analysis/drivers/1174\n",
        "skipping  ..\\..\\..\\_python_data/Driver Telematics Analysis/drivers/1175\n",
        "skipping  ..\\..\\..\\_python_data/Driver Telematics Analysis/drivers/1176\n",
        "skipping "
       ]
      },
      {
       "output_type": "stream",
       "stream": "stdout",
       "text": [
        " ..\\..\\..\\_python_data/Driver Telematics Analysis/drivers/1177\n",
        "skipping  ..\\..\\..\\_python_data/Driver Telematics Analysis/drivers/1178\n",
        "skipping  ..\\..\\..\\_python_data/Driver Telematics Analysis/drivers/1179\n",
        "skipping  ..\\..\\..\\_python_data/Driver Telematics Analysis/drivers/118\n",
        "skipping  ..\\..\\..\\_python_data/Driver Telematics Analysis/drivers/1180\n",
        "skipping  ..\\..\\..\\_python_data/Driver Telematics Analysis/drivers/1181\n",
        "skipping  ..\\..\\..\\_python_data/Driver Telematics Analysis/drivers/1183\n",
        "skipping  ..\\..\\..\\_python_data/Driver Telematics Analysis/drivers/1184\n",
        "skipping  ..\\..\\..\\_python_data/Driver Telematics Analysis/drivers/1185\n",
        "skipping  ..\\..\\..\\_python_data/Driver Telematics Analysis/drivers/1186\n",
        "skipping  ..\\..\\..\\_python_data/Driver Telematics Analysis/drivers/1187\n",
        "skipping  ..\\..\\..\\_python_data/Driver Telematics Analysis/drivers/1188\n",
        "skipping  ..\\..\\..\\_python_data/Driver Telematics Analysis/drivers/119\n",
        "skipping  ..\\..\\..\\_python_data/Driver Telematics Analysis/drivers/1190\n",
        "skipping  ..\\..\\..\\_python_data/Driver Telematics Analysis/drivers/1191\n",
        "skipping  ..\\..\\..\\_python_data/Driver Telematics Analysis/drivers/1192\n",
        "skipping  ..\\..\\..\\_python_data/Driver Telematics Analysis/drivers/1193\n",
        "skipping  ..\\..\\..\\_python_data/Driver Telematics Analysis/drivers/1194\n",
        "skipping  ..\\..\\..\\_python_data/Driver Telematics Analysis/drivers/1195\n",
        "skipping  ..\\..\\..\\_python_data/Driver Telematics Analysis/drivers/1196\n",
        "skipping  ..\\..\\..\\_python_data/Driver Telematics Analysis/drivers/1197\n",
        "skipping  ..\\..\\..\\_python_data/Driver Telematics Analysis/drivers/1198\n",
        "skipping  ..\\..\\..\\_python_data/Driver Telematics Analysis/drivers/1199\n",
        "skipping  ..\\..\\..\\_python_data/Driver Telematics Analysis/drivers/12\n",
        "skipping "
       ]
      },
      {
       "output_type": "stream",
       "stream": "stdout",
       "text": [
        " ..\\..\\..\\_python_data/Driver Telematics Analysis/drivers/120\n",
        "skipping  ..\\..\\..\\_python_data/Driver Telematics Analysis/drivers/1200\n",
        "skipping  ..\\..\\..\\_python_data/Driver Telematics Analysis/drivers/1201\n",
        "skipping  ..\\..\\..\\_python_data/Driver Telematics Analysis/drivers/1202\n",
        "skipping  ..\\..\\..\\_python_data/Driver Telematics Analysis/drivers/1203\n",
        "skipping  ..\\..\\..\\_python_data/Driver Telematics Analysis/drivers/1204\n",
        "skipping  ..\\..\\..\\_python_data/Driver Telematics Analysis/drivers/1205\n",
        "skipping  ..\\..\\..\\_python_data/Driver Telematics Analysis/drivers/1206\n",
        "skipping  ..\\..\\..\\_python_data/Driver Telematics Analysis/drivers/1207\n",
        "skipping  ..\\..\\..\\_python_data/Driver Telematics Analysis/drivers/1208\n",
        "skipping  ..\\..\\..\\_python_data/Driver Telematics Analysis/drivers/1209\n",
        "skipping  ..\\..\\..\\_python_data/Driver Telematics Analysis/drivers/121\n",
        "skipping  ..\\..\\..\\_python_data/Driver Telematics Analysis/drivers/1210\n",
        "skipping  ..\\..\\..\\_python_data/Driver Telematics Analysis/drivers/1211\n",
        "skipping  ..\\..\\..\\_python_data/Driver Telematics Analysis/drivers/1212\n",
        "skipping  ..\\..\\..\\_python_data/Driver Telematics Analysis/drivers/1214\n",
        "skipping  ..\\..\\..\\_python_data/Driver Telematics Analysis/drivers/1215\n",
        "skipping  ..\\..\\..\\_python_data/Driver Telematics Analysis/drivers/1216\n",
        "skipping  ..\\..\\..\\_python_data/Driver Telematics Analysis/drivers/1217\n",
        "skipping  ..\\..\\..\\_python_data/Driver Telematics Analysis/drivers/1218\n",
        "skipping  ..\\..\\..\\_python_data/Driver Telematics Analysis/drivers/1219\n",
        "skipping  ..\\..\\..\\_python_data/Driver Telematics Analysis/drivers/122\n",
        "skipping "
       ]
      },
      {
       "output_type": "stream",
       "stream": "stdout",
       "text": [
        " ..\\..\\..\\_python_data/Driver Telematics Analysis/drivers/1220\n",
        "skipping  ..\\..\\..\\_python_data/Driver Telematics Analysis/drivers/1221\n",
        "skipping  ..\\..\\..\\_python_data/Driver Telematics Analysis/drivers/1222\n",
        "skipping  ..\\..\\..\\_python_data/Driver Telematics Analysis/drivers/1223\n",
        "skipping  ..\\..\\..\\_python_data/Driver Telematics Analysis/drivers/1224\n",
        "skipping  ..\\..\\..\\_python_data/Driver Telematics Analysis/drivers/1225\n",
        "skipping  ..\\..\\..\\_python_data/Driver Telematics Analysis/drivers/1226\n",
        "skipping  ..\\..\\..\\_python_data/Driver Telematics Analysis/drivers/1227\n",
        "skipping  ..\\..\\..\\_python_data/Driver Telematics Analysis/drivers/1229\n",
        "skipping  ..\\..\\..\\_python_data/Driver Telematics Analysis/drivers/123\n",
        "skipping  ..\\..\\..\\_python_data/Driver Telematics Analysis/drivers/1231\n",
        "skipping  ..\\..\\..\\_python_data/Driver Telematics Analysis/drivers/1232\n",
        "skipping  ..\\..\\..\\_python_data/Driver Telematics Analysis/drivers/1233\n",
        "skipping  ..\\..\\..\\_python_data/Driver Telematics Analysis/drivers/1234\n",
        "skipping  ..\\..\\..\\_python_data/Driver Telematics Analysis/drivers/1235\n",
        "skipping  ..\\..\\..\\_python_data/Driver Telematics Analysis/drivers/1236\n",
        "skipping  ..\\..\\..\\_python_data/Driver Telematics Analysis/drivers/1237\n",
        "skipping  ..\\..\\..\\_python_data/Driver Telematics Analysis/drivers/1238\n",
        "skipping  ..\\..\\..\\_python_data/Driver Telematics Analysis/drivers/1239\n",
        "skipping  ..\\..\\..\\_python_data/Driver Telematics Analysis/drivers/1241\n",
        "skipping  ..\\..\\..\\_python_data/Driver Telematics Analysis/drivers/1242\n",
        "skipping "
       ]
      },
      {
       "output_type": "stream",
       "stream": "stdout",
       "text": [
        " ..\\..\\..\\_python_data/Driver Telematics Analysis/drivers/1243\n",
        "skipping  ..\\..\\..\\_python_data/Driver Telematics Analysis/drivers/1244\n",
        "skipping  ..\\..\\..\\_python_data/Driver Telematics Analysis/drivers/1245\n",
        "skipping  ..\\..\\..\\_python_data/Driver Telematics Analysis/drivers/1246\n",
        "skipping  ..\\..\\..\\_python_data/Driver Telematics Analysis/drivers/1247\n",
        "skipping  ..\\..\\..\\_python_data/Driver Telematics Analysis/drivers/125\n",
        "skipping  ..\\..\\..\\_python_data/Driver Telematics Analysis/drivers/1250\n",
        "skipping  ..\\..\\..\\_python_data/Driver Telematics Analysis/drivers/1251\n",
        "skipping  ..\\..\\..\\_python_data/Driver Telematics Analysis/drivers/1252\n",
        "skipping  ..\\..\\..\\_python_data/Driver Telematics Analysis/drivers/1253\n",
        "skipping  ..\\..\\..\\_python_data/Driver Telematics Analysis/drivers/1255\n",
        "skipping  ..\\..\\..\\_python_data/Driver Telematics Analysis/drivers/1256\n",
        "skipping  ..\\..\\..\\_python_data/Driver Telematics Analysis/drivers/1257\n",
        "skipping  ..\\..\\..\\_python_data/Driver Telematics Analysis/drivers/1258\n",
        "skipping  ..\\..\\..\\_python_data/Driver Telematics Analysis/drivers/1259\n",
        "skipping  ..\\..\\..\\_python_data/Driver Telematics Analysis/drivers/126\n",
        "skipping  ..\\..\\..\\_python_data/Driver Telematics Analysis/drivers/1260\n",
        "skipping  ..\\..\\..\\_python_data/Driver Telematics Analysis/drivers/1261\n",
        "skipping  ..\\..\\..\\_python_data/Driver Telematics Analysis/drivers/1262\n",
        "skipping "
       ]
      },
      {
       "output_type": "stream",
       "stream": "stdout",
       "text": [
        " ..\\..\\..\\_python_data/Driver Telematics Analysis/drivers/1263\n",
        "skipping  ..\\..\\..\\_python_data/Driver Telematics Analysis/drivers/1264\n",
        "skipping  ..\\..\\..\\_python_data/Driver Telematics Analysis/drivers/1265\n",
        "skipping  ..\\..\\..\\_python_data/Driver Telematics Analysis/drivers/1266\n",
        "skipping  ..\\..\\..\\_python_data/Driver Telematics Analysis/drivers/1267\n",
        "skipping  ..\\..\\..\\_python_data/Driver Telematics Analysis/drivers/1268\n",
        "skipping  ..\\..\\..\\_python_data/Driver Telematics Analysis/drivers/127\n",
        "skipping  ..\\..\\..\\_python_data/Driver Telematics Analysis/drivers/1270\n",
        "skipping  ..\\..\\..\\_python_data/Driver Telematics Analysis/drivers/1271\n",
        "skipping  ..\\..\\..\\_python_data/Driver Telematics Analysis/drivers/1272\n",
        "skipping "
       ]
      },
      {
       "output_type": "stream",
       "stream": "stdout",
       "text": [
        " ..\\..\\..\\_python_data/Driver Telematics Analysis/drivers/1273\n",
        "skipping  ..\\..\\..\\_python_data/Driver Telematics Analysis/drivers/1274\n",
        "skipping  ..\\..\\..\\_python_data/Driver Telematics Analysis/drivers/1275\n",
        "skipping  ..\\..\\..\\_python_data/Driver Telematics Analysis/drivers/1276\n",
        "skipping  ..\\..\\..\\_python_data/Driver Telematics Analysis/drivers/1277\n",
        "skipping  ..\\..\\..\\_python_data/Driver Telematics Analysis/drivers/1278\n",
        "skipping  ..\\..\\..\\_python_data/Driver Telematics Analysis/drivers/1279\n",
        "skipping  ..\\..\\..\\_python_data/Driver Telematics Analysis/drivers/128\n",
        "skipping  ..\\..\\..\\_python_data/Driver Telematics Analysis/drivers/1280\n",
        "skipping  ..\\..\\..\\_python_data/Driver Telematics Analysis/drivers/1281\n",
        "skipping  ..\\..\\..\\_python_data/Driver Telematics Analysis/drivers/1282\n",
        "skipping  ..\\..\\..\\_python_data/Driver Telematics Analysis/drivers/1283\n",
        "skipping  ..\\..\\..\\_python_data/Driver Telematics Analysis/drivers/1285\n",
        "skipping  ..\\..\\..\\_python_data/Driver Telematics Analysis/drivers/1286\n",
        "skipping "
       ]
      },
      {
       "output_type": "stream",
       "stream": "stdout",
       "text": [
        " ..\\..\\..\\_python_data/Driver Telematics Analysis/drivers/1287\n",
        "skipping  ..\\..\\..\\_python_data/Driver Telematics Analysis/drivers/1288\n",
        "skipping  ..\\..\\..\\_python_data/Driver Telematics Analysis/drivers/129\n",
        "skipping  ..\\..\\..\\_python_data/Driver Telematics Analysis/drivers/1290\n",
        "skipping  ..\\..\\..\\_python_data/Driver Telematics Analysis/drivers/1292\n",
        "skipping  ..\\..\\..\\_python_data/Driver Telematics Analysis/drivers/1293\n",
        "skipping  ..\\..\\..\\_python_data/Driver Telematics Analysis/drivers/1294\n",
        "skipping  ..\\..\\..\\_python_data/Driver Telematics Analysis/drivers/1295\n",
        "skipping  ..\\..\\..\\_python_data/Driver Telematics Analysis/drivers/1296\n",
        "skipping  ..\\..\\..\\_python_data/Driver Telematics Analysis/drivers/1297\n",
        "skipping  ..\\..\\..\\_python_data/Driver Telematics Analysis/drivers/1298\n",
        "skipping  ..\\..\\..\\_python_data/Driver Telematics Analysis/drivers/1299\n",
        "skipping  ..\\..\\..\\_python_data/Driver Telematics Analysis/drivers/13\n",
        "skipping  ..\\..\\..\\_python_data/Driver Telematics Analysis/drivers/130\n",
        "skipping  ..\\..\\..\\_python_data/Driver Telematics Analysis/drivers/1300\n",
        "skipping  ..\\..\\..\\_python_data/Driver Telematics Analysis/drivers/1301\n",
        "skipping  ..\\..\\..\\_python_data/Driver Telematics Analysis/drivers/1302\n",
        "skipping  ..\\..\\..\\_python_data/Driver Telematics Analysis/drivers/1303\n",
        "skipping  ..\\..\\..\\_python_data/Driver Telematics Analysis/drivers/1304\n",
        "skipping  ..\\..\\..\\_python_data/Driver Telematics Analysis/drivers/1305\n",
        "skipping  ..\\..\\..\\_python_data/Driver Telematics Analysis/drivers/1306\n",
        "skipping  ..\\..\\..\\_python_data/Driver Telematics Analysis/drivers/1307\n",
        "skipping  ..\\..\\..\\_python_data/Driver Telematics Analysis/drivers/1308\n",
        "skipping  ..\\..\\..\\_python_data/Driver Telematics Analysis/drivers/1309\n",
        "skipping  ..\\..\\..\\_python_data/Driver Telematics Analysis/drivers/131\n",
        "skipping  ..\\..\\..\\_python_data/Driver Telematics Analysis/drivers/1310\n",
        "skipping  ..\\..\\..\\_python_data/Driver Telematics Analysis/drivers/1311\n",
        "skipping  ..\\..\\..\\_python_data/Driver Telematics Analysis/drivers/1312\n",
        "skipping "
       ]
      },
      {
       "output_type": "stream",
       "stream": "stdout",
       "text": [
        " ..\\..\\..\\_python_data/Driver Telematics Analysis/drivers/1314\n",
        "skipping  ..\\..\\..\\_python_data/Driver Telematics Analysis/drivers/1315\n",
        "skipping  ..\\..\\..\\_python_data/Driver Telematics Analysis/drivers/1316\n",
        "skipping  ..\\..\\..\\_python_data/Driver Telematics Analysis/drivers/1318\n",
        "skipping  ..\\..\\..\\_python_data/Driver Telematics Analysis/drivers/1319\n",
        "skipping  ..\\..\\..\\_python_data/Driver Telematics Analysis/drivers/132\n",
        "skipping  ..\\..\\..\\_python_data/Driver Telematics Analysis/drivers/1321\n",
        "skipping  ..\\..\\..\\_python_data/Driver Telematics Analysis/drivers/1323\n",
        "skipping  ..\\..\\..\\_python_data/Driver Telematics Analysis/drivers/1324\n",
        "skipping  ..\\..\\..\\_python_data/Driver Telematics Analysis/drivers/1325\n",
        "skipping  ..\\..\\..\\_python_data/Driver Telematics Analysis/drivers/1326\n",
        "skipping  ..\\..\\..\\_python_data/Driver Telematics Analysis/drivers/1327\n",
        "skipping  ..\\..\\..\\_python_data/Driver Telematics Analysis/drivers/1328\n",
        "skipping  ..\\..\\..\\_python_data/Driver Telematics Analysis/drivers/1329\n",
        "skipping  ..\\..\\..\\_python_data/Driver Telematics Analysis/drivers/133\n",
        "skipping  ..\\..\\..\\_python_data/Driver Telematics Analysis/drivers/1330\n",
        "skipping  ..\\..\\..\\_python_data/Driver Telematics Analysis/drivers/1331\n",
        "skipping  ..\\..\\..\\_python_data/Driver Telematics Analysis/drivers/1332\n",
        "skipping  ..\\..\\..\\_python_data/Driver Telematics Analysis/drivers/1333\n",
        "skipping  ..\\..\\..\\_python_data/Driver Telematics Analysis/drivers/1334\n",
        "skipping  ..\\..\\..\\_python_data/Driver Telematics Analysis/drivers/1337\n",
        "skipping  ..\\..\\..\\_python_data/Driver Telematics Analysis/drivers/1338\n",
        "skipping  ..\\..\\..\\_python_data/Driver Telematics Analysis/drivers/1339\n",
        "skipping  ..\\..\\..\\_python_data/Driver Telematics Analysis/drivers/134\n",
        "skipping "
       ]
      },
      {
       "output_type": "stream",
       "stream": "stdout",
       "text": [
        " ..\\..\\..\\_python_data/Driver Telematics Analysis/drivers/1340\n",
        "skipping  ..\\..\\..\\_python_data/Driver Telematics Analysis/drivers/1341\n",
        "skipping  ..\\..\\..\\_python_data/Driver Telematics Analysis/drivers/1342\n",
        "skipping  ..\\..\\..\\_python_data/Driver Telematics Analysis/drivers/1343\n",
        "skipping  ..\\..\\..\\_python_data/Driver Telematics Analysis/drivers/1344\n",
        "skipping  ..\\..\\..\\_python_data/Driver Telematics Analysis/drivers/1345\n",
        "skipping  ..\\..\\..\\_python_data/Driver Telematics Analysis/drivers/1346\n",
        "skipping  ..\\..\\..\\_python_data/Driver Telematics Analysis/drivers/1347\n",
        "skipping  ..\\..\\..\\_python_data/Driver Telematics Analysis/drivers/1348\n",
        "skipping  ..\\..\\..\\_python_data/Driver Telematics Analysis/drivers/1349\n",
        "skipping  ..\\..\\..\\_python_data/Driver Telematics Analysis/drivers/135\n",
        "skipping  ..\\..\\..\\_python_data/Driver Telematics Analysis/drivers/1350\n",
        "skipping  ..\\..\\..\\_python_data/Driver Telematics Analysis/drivers/1351\n",
        "skipping  ..\\..\\..\\_python_data/Driver Telematics Analysis/drivers/1352\n",
        "skipping  ..\\..\\..\\_python_data/Driver Telematics Analysis/drivers/1353\n",
        "skipping  ..\\..\\..\\_python_data/Driver Telematics Analysis/drivers/1354\n",
        "skipping  ..\\..\\..\\_python_data/Driver Telematics Analysis/drivers/1355\n",
        "skipping  ..\\..\\..\\_python_data/Driver Telematics Analysis/drivers/1356\n",
        "skipping "
       ]
      },
      {
       "output_type": "stream",
       "stream": "stdout",
       "text": [
        " ..\\..\\..\\_python_data/Driver Telematics Analysis/drivers/1357\n",
        "skipping  ..\\..\\..\\_python_data/Driver Telematics Analysis/drivers/1358\n",
        "skipping  ..\\..\\..\\_python_data/Driver Telematics Analysis/drivers/1359\n",
        "skipping  ..\\..\\..\\_python_data/Driver Telematics Analysis/drivers/136\n",
        "skipping  ..\\..\\..\\_python_data/Driver Telematics Analysis/drivers/1360\n",
        "skipping  ..\\..\\..\\_python_data/Driver Telematics Analysis/drivers/1361\n",
        "skipping  ..\\..\\..\\_python_data/Driver Telematics Analysis/drivers/1362\n",
        "skipping  ..\\..\\..\\_python_data/Driver Telematics Analysis/drivers/1363\n",
        "skipping  ..\\..\\..\\_python_data/Driver Telematics Analysis/drivers/1364\n",
        "skipping  ..\\..\\..\\_python_data/Driver Telematics Analysis/drivers/1365\n",
        "skipping  ..\\..\\..\\_python_data/Driver Telematics Analysis/drivers/1366\n",
        "skipping  ..\\..\\..\\_python_data/Driver Telematics Analysis/drivers/1367\n",
        "skipping "
       ]
      },
      {
       "output_type": "stream",
       "stream": "stdout",
       "text": [
        " ..\\..\\..\\_python_data/Driver Telematics Analysis/drivers/1368\n",
        "skipping  ..\\..\\..\\_python_data/Driver Telematics Analysis/drivers/1369\n",
        "skipping  ..\\..\\..\\_python_data/Driver Telematics Analysis/drivers/137\n",
        "skipping  ..\\..\\..\\_python_data/Driver Telematics Analysis/drivers/1370\n",
        "skipping  ..\\..\\..\\_python_data/Driver Telematics Analysis/drivers/1371\n",
        "skipping  ..\\..\\..\\_python_data/Driver Telematics Analysis/drivers/1372\n",
        "skipping  ..\\..\\..\\_python_data/Driver Telematics Analysis/drivers/1374\n",
        "skipping  ..\\..\\..\\_python_data/Driver Telematics Analysis/drivers/1375\n",
        "skipping  ..\\..\\..\\_python_data/Driver Telematics Analysis/drivers/1376\n",
        "skipping  ..\\..\\..\\_python_data/Driver Telematics Analysis/drivers/1377\n",
        "skipping  ..\\..\\..\\_python_data/Driver Telematics Analysis/drivers/1378\n",
        "skipping  ..\\..\\..\\_python_data/Driver Telematics Analysis/drivers/1379\n",
        "skipping  ..\\..\\..\\_python_data/Driver Telematics Analysis/drivers/138\n",
        "skipping  ..\\..\\..\\_python_data/Driver Telematics Analysis/drivers/1380\n",
        "skipping  ..\\..\\..\\_python_data/Driver Telematics Analysis/drivers/1381\n",
        "skipping "
       ]
      },
      {
       "output_type": "stream",
       "stream": "stdout",
       "text": [
        " ..\\..\\..\\_python_data/Driver Telematics Analysis/drivers/1382\n",
        "skipping  ..\\..\\..\\_python_data/Driver Telematics Analysis/drivers/1383\n",
        "skipping  ..\\..\\..\\_python_data/Driver Telematics Analysis/drivers/1384\n",
        "skipping  ..\\..\\..\\_python_data/Driver Telematics Analysis/drivers/1385\n",
        "skipping  ..\\..\\..\\_python_data/Driver Telematics Analysis/drivers/1386\n",
        "skipping  ..\\..\\..\\_python_data/Driver Telematics Analysis/drivers/1387\n",
        "skipping  ..\\..\\..\\_python_data/Driver Telematics Analysis/drivers/1388\n",
        "skipping  ..\\..\\..\\_python_data/Driver Telematics Analysis/drivers/1389\n",
        "skipping  ..\\..\\..\\_python_data/Driver Telematics Analysis/drivers/139\n",
        "skipping  ..\\..\\..\\_python_data/Driver Telematics Analysis/drivers/1390\n",
        "skipping  ..\\..\\..\\_python_data/Driver Telematics Analysis/drivers/1391\n",
        "skipping  ..\\..\\..\\_python_data/Driver Telematics Analysis/drivers/1392\n",
        "skipping "
       ]
      },
      {
       "output_type": "stream",
       "stream": "stdout",
       "text": [
        " ..\\..\\..\\_python_data/Driver Telematics Analysis/drivers/1393\n",
        "skipping  ..\\..\\..\\_python_data/Driver Telematics Analysis/drivers/1394\n",
        "skipping  ..\\..\\..\\_python_data/Driver Telematics Analysis/drivers/1395\n",
        "skipping  ..\\..\\..\\_python_data/Driver Telematics Analysis/drivers/1396\n",
        "skipping  ..\\..\\..\\_python_data/Driver Telematics Analysis/drivers/1397\n",
        "skipping  ..\\..\\..\\_python_data/Driver Telematics Analysis/drivers/1398\n",
        "skipping  ..\\..\\..\\_python_data/Driver Telematics Analysis/drivers/1399\n",
        "skipping  ..\\..\\..\\_python_data/Driver Telematics Analysis/drivers/14\n",
        "skipping  ..\\..\\..\\_python_data/Driver Telematics Analysis/drivers/140\n",
        "skipping  ..\\..\\..\\_python_data/Driver Telematics Analysis/drivers/1400\n",
        "skipping  ..\\..\\..\\_python_data/Driver Telematics Analysis/drivers/1401\n",
        "skipping  ..\\..\\..\\_python_data/Driver Telematics Analysis/drivers/1402\n",
        "skipping  ..\\..\\..\\_python_data/Driver Telematics Analysis/drivers/1403\n",
        "skipping  ..\\..\\..\\_python_data/Driver Telematics Analysis/drivers/1404\n",
        "skipping  ..\\..\\..\\_python_data/Driver Telematics Analysis/drivers/1405\n",
        "skipping  ..\\..\\..\\_python_data/Driver Telematics Analysis/drivers/1406\n",
        "skipping  ..\\..\\..\\_python_data/Driver Telematics Analysis/drivers/1407\n",
        "skipping  ..\\..\\..\\_python_data/Driver Telematics Analysis/drivers/1408\n",
        "skipping "
       ]
      },
      {
       "output_type": "stream",
       "stream": "stdout",
       "text": [
        " ..\\..\\..\\_python_data/Driver Telematics Analysis/drivers/141\n",
        "skipping  ..\\..\\..\\_python_data/Driver Telematics Analysis/drivers/1410\n",
        "skipping  ..\\..\\..\\_python_data/Driver Telematics Analysis/drivers/1411\n",
        "skipping  ..\\..\\..\\_python_data/Driver Telematics Analysis/drivers/1412\n",
        "skipping  ..\\..\\..\\_python_data/Driver Telematics Analysis/drivers/1413\n",
        "skipping  ..\\..\\..\\_python_data/Driver Telematics Analysis/drivers/1414\n",
        "skipping  ..\\..\\..\\_python_data/Driver Telematics Analysis/drivers/1415\n",
        "skipping  ..\\..\\..\\_python_data/Driver Telematics Analysis/drivers/1416\n",
        "skipping  ..\\..\\..\\_python_data/Driver Telematics Analysis/drivers/1417\n",
        "skipping  ..\\..\\..\\_python_data/Driver Telematics Analysis/drivers/1418\n",
        "skipping  ..\\..\\..\\_python_data/Driver Telematics Analysis/drivers/1419\n",
        "skipping  ..\\..\\..\\_python_data/Driver Telematics Analysis/drivers/142\n",
        "skipping  ..\\..\\..\\_python_data/Driver Telematics Analysis/drivers/1420\n",
        "skipping  ..\\..\\..\\_python_data/Driver Telematics Analysis/drivers/1421\n",
        "skipping  ..\\..\\..\\_python_data/Driver Telematics Analysis/drivers/1422\n",
        "skipping  ..\\..\\..\\_python_data/Driver Telematics Analysis/drivers/1423\n",
        "skipping "
       ]
      },
      {
       "output_type": "stream",
       "stream": "stdout",
       "text": [
        " ..\\..\\..\\_python_data/Driver Telematics Analysis/drivers/1424\n",
        "skipping  ..\\..\\..\\_python_data/Driver Telematics Analysis/drivers/1425\n",
        "skipping  ..\\..\\..\\_python_data/Driver Telematics Analysis/drivers/1427\n",
        "skipping  ..\\..\\..\\_python_data/Driver Telematics Analysis/drivers/1428\n",
        "skipping  ..\\..\\..\\_python_data/Driver Telematics Analysis/drivers/1429\n",
        "skipping  ..\\..\\..\\_python_data/Driver Telematics Analysis/drivers/143\n",
        "skipping  ..\\..\\..\\_python_data/Driver Telematics Analysis/drivers/1432\n",
        "skipping  ..\\..\\..\\_python_data/Driver Telematics Analysis/drivers/1433\n",
        "skipping  ..\\..\\..\\_python_data/Driver Telematics Analysis/drivers/1434\n",
        "skipping  ..\\..\\..\\_python_data/Driver Telematics Analysis/drivers/1435\n",
        "skipping  ..\\..\\..\\_python_data/Driver Telematics Analysis/drivers/1436\n",
        "skipping  ..\\..\\..\\_python_data/Driver Telematics Analysis/drivers/1437\n",
        "skipping  ..\\..\\..\\_python_data/Driver Telematics Analysis/drivers/1438\n",
        "skipping "
       ]
      },
      {
       "output_type": "stream",
       "stream": "stdout",
       "text": [
        " ..\\..\\..\\_python_data/Driver Telematics Analysis/drivers/1439\n",
        "skipping  ..\\..\\..\\_python_data/Driver Telematics Analysis/drivers/144\n",
        "skipping  ..\\..\\..\\_python_data/Driver Telematics Analysis/drivers/1440\n",
        "skipping  ..\\..\\..\\_python_data/Driver Telematics Analysis/drivers/1441\n",
        "skipping  ..\\..\\..\\_python_data/Driver Telematics Analysis/drivers/1442\n",
        "skipping  ..\\..\\..\\_python_data/Driver Telematics Analysis/drivers/1443\n",
        "skipping "
       ]
      },
      {
       "output_type": "stream",
       "stream": "stdout",
       "text": [
        " ..\\..\\..\\_python_data/Driver Telematics Analysis/drivers/1444\n",
        "skipping  ..\\..\\..\\_python_data/Driver Telematics Analysis/drivers/1445\n",
        "skipping  ..\\..\\..\\_python_data/Driver Telematics Analysis/drivers/1446\n",
        "skipping  ..\\..\\..\\_python_data/Driver Telematics Analysis/drivers/1447\n",
        "skipping  ..\\..\\..\\_python_data/Driver Telematics Analysis/drivers/1448\n",
        "skipping  ..\\..\\..\\_python_data/Driver Telematics Analysis/drivers/145\n",
        "skipping  ..\\..\\..\\_python_data/Driver Telematics Analysis/drivers/1450\n",
        "skipping  ..\\..\\..\\_python_data/Driver Telematics Analysis/drivers/1453\n",
        "skipping  ..\\..\\..\\_python_data/Driver Telematics Analysis/drivers/1454\n",
        "skipping  ..\\..\\..\\_python_data/Driver Telematics Analysis/drivers/1456\n",
        "skipping  ..\\..\\..\\_python_data/Driver Telematics Analysis/drivers/1457\n",
        "skipping  ..\\..\\..\\_python_data/Driver Telematics Analysis/drivers/1458\n",
        "skipping  ..\\..\\..\\_python_data/Driver Telematics Analysis/drivers/1460\n",
        "skipping  ..\\..\\..\\_python_data/Driver Telematics Analysis/drivers/1461\n",
        "skipping "
       ]
      },
      {
       "output_type": "stream",
       "stream": "stdout",
       "text": [
        " ..\\..\\..\\_python_data/Driver Telematics Analysis/drivers/1462\n",
        "skipping  ..\\..\\..\\_python_data/Driver Telematics Analysis/drivers/1463\n",
        "skipping  ..\\..\\..\\_python_data/Driver Telematics Analysis/drivers/1464\n",
        "skipping  ..\\..\\..\\_python_data/Driver Telematics Analysis/drivers/1465\n",
        "skipping  ..\\..\\..\\_python_data/Driver Telematics Analysis/drivers/1466\n",
        "skipping  ..\\..\\..\\_python_data/Driver Telematics Analysis/drivers/1467\n",
        "skipping  ..\\..\\..\\_python_data/Driver Telematics Analysis/drivers/1468\n",
        "skipping  ..\\..\\..\\_python_data/Driver Telematics Analysis/drivers/1469\n",
        "skipping  ..\\..\\..\\_python_data/Driver Telematics Analysis/drivers/147\n",
        "skipping  ..\\..\\..\\_python_data/Driver Telematics Analysis/drivers/1470\n",
        "skipping  ..\\..\\..\\_python_data/Driver Telematics Analysis/drivers/1471\n",
        "skipping  ..\\..\\..\\_python_data/Driver Telematics Analysis/drivers/1472\n",
        "skipping  ..\\..\\..\\_python_data/Driver Telematics Analysis/drivers/1473\n",
        "skipping  ..\\..\\..\\_python_data/Driver Telematics Analysis/drivers/1474\n",
        "skipping  ..\\..\\..\\_python_data/Driver Telematics Analysis/drivers/1475\n",
        "skipping  ..\\..\\..\\_python_data/Driver Telematics Analysis/drivers/1476\n",
        "skipping "
       ]
      },
      {
       "output_type": "stream",
       "stream": "stdout",
       "text": [
        " ..\\..\\..\\_python_data/Driver Telematics Analysis/drivers/1477\n",
        "skipping  ..\\..\\..\\_python_data/Driver Telematics Analysis/drivers/1478\n",
        "skipping  ..\\..\\..\\_python_data/Driver Telematics Analysis/drivers/1479\n",
        "skipping  ..\\..\\..\\_python_data/Driver Telematics Analysis/drivers/148\n",
        "skipping  ..\\..\\..\\_python_data/Driver Telematics Analysis/drivers/1480\n",
        "skipping  ..\\..\\..\\_python_data/Driver Telematics Analysis/drivers/1481\n",
        "skipping  ..\\..\\..\\_python_data/Driver Telematics Analysis/drivers/1482\n",
        "skipping  ..\\..\\..\\_python_data/Driver Telematics Analysis/drivers/1483\n",
        "skipping  ..\\..\\..\\_python_data/Driver Telematics Analysis/drivers/1484\n",
        "skipping "
       ]
      },
      {
       "output_type": "stream",
       "stream": "stdout",
       "text": [
        " ..\\..\\..\\_python_data/Driver Telematics Analysis/drivers/1485\n",
        "skipping  ..\\..\\..\\_python_data/Driver Telematics Analysis/drivers/1486\n",
        "skipping  ..\\..\\..\\_python_data/Driver Telematics Analysis/drivers/1487\n",
        "skipping  ..\\..\\..\\_python_data/Driver Telematics Analysis/drivers/1488\n",
        "skipping  ..\\..\\..\\_python_data/Driver Telematics Analysis/drivers/1489\n",
        "skipping  ..\\..\\..\\_python_data/Driver Telematics Analysis/drivers/149\n",
        "skipping  ..\\..\\..\\_python_data/Driver Telematics Analysis/drivers/1490\n",
        "skipping  ..\\..\\..\\_python_data/Driver Telematics Analysis/drivers/1491\n",
        "skipping  ..\\..\\..\\_python_data/Driver Telematics Analysis/drivers/1492\n",
        "skipping  ..\\..\\..\\_python_data/Driver Telematics Analysis/drivers/1493\n",
        "skipping "
       ]
      },
      {
       "output_type": "stream",
       "stream": "stdout",
       "text": [
        " ..\\..\\..\\_python_data/Driver Telematics Analysis/drivers/1494\n",
        "skipping  ..\\..\\..\\_python_data/Driver Telematics Analysis/drivers/1495\n",
        "skipping  ..\\..\\..\\_python_data/Driver Telematics Analysis/drivers/1496\n",
        "skipping  ..\\..\\..\\_python_data/Driver Telematics Analysis/drivers/1497\n",
        "skipping  ..\\..\\..\\_python_data/Driver Telematics Analysis/drivers/1498\n",
        "skipping  ..\\..\\..\\_python_data/Driver Telematics Analysis/drivers/1499\n",
        "skipping  ..\\..\\..\\_python_data/Driver Telematics Analysis/drivers/15\n",
        "skipping  ..\\..\\..\\_python_data/Driver Telematics Analysis/drivers/150\n",
        "skipping  ..\\..\\..\\_python_data/Driver Telematics Analysis/drivers/1500\n",
        "skipping  ..\\..\\..\\_python_data/Driver Telematics Analysis/drivers/1502\n",
        "skipping  ..\\..\\..\\_python_data/Driver Telematics Analysis/drivers/1503\n",
        "skipping "
       ]
      },
      {
       "output_type": "stream",
       "stream": "stdout",
       "text": [
        " ..\\..\\..\\_python_data/Driver Telematics Analysis/drivers/1504\n",
        "skipping  ..\\..\\..\\_python_data/Driver Telematics Analysis/drivers/1505\n",
        "skipping  ..\\..\\..\\_python_data/Driver Telematics Analysis/drivers/1506\n",
        "skipping  ..\\..\\..\\_python_data/Driver Telematics Analysis/drivers/1507\n",
        "skipping  ..\\..\\..\\_python_data/Driver Telematics Analysis/drivers/1508\n",
        "skipping  ..\\..\\..\\_python_data/Driver Telematics Analysis/drivers/1509\n",
        "skipping  ..\\..\\..\\_python_data/Driver Telematics Analysis/drivers/151\n",
        "skipping  ..\\..\\..\\_python_data/Driver Telematics Analysis/drivers/1510\n",
        "skipping  ..\\..\\..\\_python_data/Driver Telematics Analysis/drivers/1511\n",
        "skipping  ..\\..\\..\\_python_data/Driver Telematics Analysis/drivers/1512\n",
        "skipping "
       ]
      },
      {
       "output_type": "stream",
       "stream": "stdout",
       "text": [
        " ..\\..\\..\\_python_data/Driver Telematics Analysis/drivers/1513\n",
        "skipping  ..\\..\\..\\_python_data/Driver Telematics Analysis/drivers/1514\n",
        "skipping  ..\\..\\..\\_python_data/Driver Telematics Analysis/drivers/1515\n",
        "skipping  ..\\..\\..\\_python_data/Driver Telematics Analysis/drivers/1516\n",
        "skipping  ..\\..\\..\\_python_data/Driver Telematics Analysis/drivers/1517\n",
        "skipping  ..\\..\\..\\_python_data/Driver Telematics Analysis/drivers/1519\n",
        "skipping  ..\\..\\..\\_python_data/Driver Telematics Analysis/drivers/1520\n",
        "skipping  ..\\..\\..\\_python_data/Driver Telematics Analysis/drivers/1521\n",
        "skipping  ..\\..\\..\\_python_data/Driver Telematics Analysis/drivers/1522\n",
        "skipping  ..\\..\\..\\_python_data/Driver Telematics Analysis/drivers/1524\n",
        "skipping  ..\\..\\..\\_python_data/Driver Telematics Analysis/drivers/1525\n",
        "skipping  ..\\..\\..\\_python_data/Driver Telematics Analysis/drivers/1526\n",
        "skipping  ..\\..\\..\\_python_data/Driver Telematics Analysis/drivers/1529\n",
        "skipping  ..\\..\\..\\_python_data/Driver Telematics Analysis/drivers/153\n",
        "skipping "
       ]
      },
      {
       "output_type": "stream",
       "stream": "stdout",
       "text": [
        " ..\\..\\..\\_python_data/Driver Telematics Analysis/drivers/1530\n",
        "skipping  ..\\..\\..\\_python_data/Driver Telematics Analysis/drivers/1531\n",
        "skipping  ..\\..\\..\\_python_data/Driver Telematics Analysis/drivers/1533\n",
        "skipping  ..\\..\\..\\_python_data/Driver Telematics Analysis/drivers/1534\n",
        "skipping  ..\\..\\..\\_python_data/Driver Telematics Analysis/drivers/1535\n",
        "skipping  ..\\..\\..\\_python_data/Driver Telematics Analysis/drivers/1536\n",
        "skipping  ..\\..\\..\\_python_data/Driver Telematics Analysis/drivers/1537\n",
        "skipping  ..\\..\\..\\_python_data/Driver Telematics Analysis/drivers/1538\n",
        "skipping  ..\\..\\..\\_python_data/Driver Telematics Analysis/drivers/1539\n",
        "skipping  ..\\..\\..\\_python_data/Driver Telematics Analysis/drivers/154\n",
        "skipping  ..\\..\\..\\_python_data/Driver Telematics Analysis/drivers/1540\n",
        "skipping  ..\\..\\..\\_python_data/Driver Telematics Analysis/drivers/1541\n",
        "skipping  ..\\..\\..\\_python_data/Driver Telematics Analysis/drivers/1542\n",
        "skipping  ..\\..\\..\\_python_data/Driver Telematics Analysis/drivers/1543\n",
        "skipping  ..\\..\\..\\_python_data/Driver Telematics Analysis/drivers/1544\n",
        "skipping  ..\\..\\..\\_python_data/Driver Telematics Analysis/drivers/1545\n",
        "skipping  ..\\..\\..\\_python_data/Driver Telematics Analysis/drivers/1546\n",
        "skipping  ..\\..\\..\\_python_data/Driver Telematics Analysis/drivers/1547\n",
        "skipping  ..\\..\\..\\_python_data/Driver Telematics Analysis/drivers/1548\n",
        "skipping  ..\\..\\..\\_python_data/Driver Telematics Analysis/drivers/1549\n",
        "skipping  ..\\..\\..\\_python_data/Driver Telematics Analysis/drivers/155\n",
        "skipping  ..\\..\\..\\_python_data/Driver Telematics Analysis/drivers/1550\n",
        "skipping  ..\\..\\..\\_python_data/Driver Telematics Analysis/drivers/1551\n",
        "skipping  ..\\..\\..\\_python_data/Driver Telematics Analysis/drivers/1553\n",
        "skipping  ..\\..\\..\\_python_data/Driver Telematics Analysis/drivers/1554\n",
        "skipping  ..\\..\\..\\_python_data/Driver Telematics Analysis/drivers/1555\n",
        "skipping  ..\\..\\..\\_python_data/Driver Telematics Analysis/drivers/1556\n",
        "skipping  ..\\..\\..\\_python_data/Driver Telematics Analysis/drivers/1557\n",
        "skipping  ..\\..\\..\\_python_data/Driver Telematics Analysis/drivers/1558\n",
        "skipping  ..\\..\\..\\_python_data/Driver Telematics Analysis/drivers/1559\n",
        "skipping  ..\\..\\..\\_python_data/Driver Telematics Analysis/drivers/156\n",
        "skipping "
       ]
      },
      {
       "output_type": "stream",
       "stream": "stdout",
       "text": [
        " ..\\..\\..\\_python_data/Driver Telematics Analysis/drivers/1560\n",
        "skipping  ..\\..\\..\\_python_data/Driver Telematics Analysis/drivers/1561\n",
        "skipping  ..\\..\\..\\_python_data/Driver Telematics Analysis/drivers/1562\n",
        "skipping  ..\\..\\..\\_python_data/Driver Telematics Analysis/drivers/1563\n",
        "skipping  ..\\..\\..\\_python_data/Driver Telematics Analysis/drivers/1564\n",
        "skipping  ..\\..\\..\\_python_data/Driver Telematics Analysis/drivers/1565\n",
        "skipping  ..\\..\\..\\_python_data/Driver Telematics Analysis/drivers/1567\n",
        "skipping  ..\\..\\..\\_python_data/Driver Telematics Analysis/drivers/1568\n",
        "skipping  ..\\..\\..\\_python_data/Driver Telematics Analysis/drivers/1569\n",
        "skipping  ..\\..\\..\\_python_data/Driver Telematics Analysis/drivers/157\n",
        "skipping  ..\\..\\..\\_python_data/Driver Telematics Analysis/drivers/1570\n",
        "skipping  ..\\..\\..\\_python_data/Driver Telematics Analysis/drivers/1571\n",
        "skipping  ..\\..\\..\\_python_data/Driver Telematics Analysis/drivers/1572\n",
        "skipping  ..\\..\\..\\_python_data/Driver Telematics Analysis/drivers/1573\n",
        "skipping  ..\\..\\..\\_python_data/Driver Telematics Analysis/drivers/1574\n",
        "skipping  ..\\..\\..\\_python_data/Driver Telematics Analysis/drivers/1575\n",
        "skipping  ..\\..\\..\\_python_data/Driver Telematics Analysis/drivers/1576\n",
        "skipping  ..\\..\\..\\_python_data/Driver Telematics Analysis/drivers/1577\n",
        "skipping  ..\\..\\..\\_python_data/Driver Telematics Analysis/drivers/1578\n",
        "skipping  ..\\..\\..\\_python_data/Driver Telematics Analysis/drivers/1579\n",
        "skipping  ..\\..\\..\\_python_data/Driver Telematics Analysis/drivers/158\n",
        "skipping  ..\\..\\..\\_python_data/Driver Telematics Analysis/drivers/1580\n",
        "skipping  ..\\..\\..\\_python_data/Driver Telematics Analysis/drivers/1581\n",
        "skipping "
       ]
      },
      {
       "output_type": "stream",
       "stream": "stdout",
       "text": [
        " ..\\..\\..\\_python_data/Driver Telematics Analysis/drivers/1582\n",
        "skipping  ..\\..\\..\\_python_data/Driver Telematics Analysis/drivers/1583\n",
        "skipping  ..\\..\\..\\_python_data/Driver Telematics Analysis/drivers/1584\n",
        "skipping "
       ]
      },
      {
       "output_type": "stream",
       "stream": "stdout",
       "text": [
        " ..\\..\\..\\_python_data/Driver Telematics Analysis/drivers/1586\n",
        "skipping  ..\\..\\..\\_python_data/Driver Telematics Analysis/drivers/1587\n",
        "skipping "
       ]
      },
      {
       "output_type": "stream",
       "stream": "stdout",
       "text": [
        " ..\\..\\..\\_python_data/Driver Telematics Analysis/drivers/1588\n",
        "skipping  ..\\..\\..\\_python_data/Driver Telematics Analysis/drivers/1589\n",
        "skipping  ..\\..\\..\\_python_data/Driver Telematics Analysis/drivers/159\n",
        "skipping  ..\\..\\..\\_python_data/Driver Telematics Analysis/drivers/1591\n",
        "skipping "
       ]
      },
      {
       "output_type": "stream",
       "stream": "stdout",
       "text": [
        " ..\\..\\..\\_python_data/Driver Telematics Analysis/drivers/1592\n",
        "skipping  ..\\..\\..\\_python_data/Driver Telematics Analysis/drivers/1593\n",
        "skipping "
       ]
      },
      {
       "output_type": "stream",
       "stream": "stdout",
       "text": [
        " ..\\..\\..\\_python_data/Driver Telematics Analysis/drivers/1594\n",
        "skipping  ..\\..\\..\\_python_data/Driver Telematics Analysis/drivers/1595\n",
        "skipping  ..\\..\\..\\_python_data/Driver Telematics Analysis/drivers/1596\n",
        "skipping "
       ]
      },
      {
       "output_type": "stream",
       "stream": "stdout",
       "text": [
        " ..\\..\\..\\_python_data/Driver Telematics Analysis/drivers/1597\n",
        "skipping  ..\\..\\..\\_python_data/Driver Telematics Analysis/drivers/1598\n",
        "skipping  ..\\..\\..\\_python_data/Driver Telematics Analysis/drivers/16\n",
        "skipping "
       ]
      },
      {
       "output_type": "stream",
       "stream": "stdout",
       "text": [
        " ..\\..\\..\\_python_data/Driver Telematics Analysis/drivers/160\n",
        "skipping  ..\\..\\..\\_python_data/Driver Telematics Analysis/drivers/1600\n",
        "skipping "
       ]
      },
      {
       "output_type": "stream",
       "stream": "stdout",
       "text": [
        " ..\\..\\..\\_python_data/Driver Telematics Analysis/drivers/1601\n",
        "skipping  ..\\..\\..\\_python_data/Driver Telematics Analysis/drivers/1602\n",
        "skipping  ..\\..\\..\\_python_data/Driver Telematics Analysis/drivers/1603\n",
        "skipping "
       ]
      },
      {
       "output_type": "stream",
       "stream": "stdout",
       "text": [
        " ..\\..\\..\\_python_data/Driver Telematics Analysis/drivers/1604\n",
        "skipping  ..\\..\\..\\_python_data/Driver Telematics Analysis/drivers/1605\n",
        "skipping  ..\\..\\..\\_python_data/Driver Telematics Analysis/drivers/1606\n",
        "skipping  ..\\..\\..\\_python_data/Driver Telematics Analysis/drivers/1607\n",
        "skipping "
       ]
      },
      {
       "output_type": "stream",
       "stream": "stdout",
       "text": [
        " ..\\..\\..\\_python_data/Driver Telematics Analysis/drivers/1609\n",
        "skipping  ..\\..\\..\\_python_data/Driver Telematics Analysis/drivers/161\n",
        "skipping  ..\\..\\..\\_python_data/Driver Telematics Analysis/drivers/1610\n",
        "skipping "
       ]
      },
      {
       "output_type": "stream",
       "stream": "stdout",
       "text": [
        " ..\\..\\..\\_python_data/Driver Telematics Analysis/drivers/1611\n",
        "skipping  ..\\..\\..\\_python_data/Driver Telematics Analysis/drivers/1612\n",
        "skipping  ..\\..\\..\\_python_data/Driver Telematics Analysis/drivers/1613\n",
        "skipping "
       ]
      },
      {
       "output_type": "stream",
       "stream": "stdout",
       "text": [
        " ..\\..\\..\\_python_data/Driver Telematics Analysis/drivers/1614\n",
        "skipping  ..\\..\\..\\_python_data/Driver Telematics Analysis/drivers/1615\n",
        "skipping  ..\\..\\..\\_python_data/Driver Telematics Analysis/drivers/1616\n",
        "skipping "
       ]
      },
      {
       "output_type": "stream",
       "stream": "stdout",
       "text": [
        " ..\\..\\..\\_python_data/Driver Telematics Analysis/drivers/1619\n",
        "skipping  ..\\..\\..\\_python_data/Driver Telematics Analysis/drivers/162\n",
        "skipping "
       ]
      },
      {
       "output_type": "stream",
       "stream": "stdout",
       "text": [
        " ..\\..\\..\\_python_data/Driver Telematics Analysis/drivers/1620\n",
        "skipping  ..\\..\\..\\_python_data/Driver Telematics Analysis/drivers/1621\n",
        "skipping  ..\\..\\..\\_python_data/Driver Telematics Analysis/drivers/1622\n",
        "skipping "
       ]
      },
      {
       "output_type": "stream",
       "stream": "stdout",
       "text": [
        " ..\\..\\..\\_python_data/Driver Telematics Analysis/drivers/1623\n",
        "skipping  ..\\..\\..\\_python_data/Driver Telematics Analysis/drivers/1624\n",
        "skipping  ..\\..\\..\\_python_data/Driver Telematics Analysis/drivers/1625\n",
        "skipping  ..\\..\\..\\_python_data/Driver Telematics Analysis/drivers/1626\n",
        "skipping  ..\\..\\..\\_python_data/Driver Telematics Analysis/drivers/1627\n",
        "skipping "
       ]
      },
      {
       "output_type": "stream",
       "stream": "stdout",
       "text": [
        " ..\\..\\..\\_python_data/Driver Telematics Analysis/drivers/1628\n",
        "skipping  ..\\..\\..\\_python_data/Driver Telematics Analysis/drivers/1629\n",
        "skipping  ..\\..\\..\\_python_data/Driver Telematics Analysis/drivers/163\n",
        "skipping "
       ]
      },
      {
       "output_type": "stream",
       "stream": "stdout",
       "text": [
        " ..\\..\\..\\_python_data/Driver Telematics Analysis/drivers/1630\n",
        "skipping  ..\\..\\..\\_python_data/Driver Telematics Analysis/drivers/1631\n",
        "skipping  ..\\..\\..\\_python_data/Driver Telematics Analysis/drivers/1632\n",
        "skipping "
       ]
      },
      {
       "output_type": "stream",
       "stream": "stdout",
       "text": [
        " ..\\..\\..\\_python_data/Driver Telematics Analysis/drivers/1633\n",
        "skipping  ..\\..\\..\\_python_data/Driver Telematics Analysis/drivers/1634\n",
        "skipping  ..\\..\\..\\_python_data/Driver Telematics Analysis/drivers/1635\n",
        "skipping "
       ]
      },
      {
       "output_type": "stream",
       "stream": "stdout",
       "text": [
        " ..\\..\\..\\_python_data/Driver Telematics Analysis/drivers/1636\n",
        "skipping  ..\\..\\..\\_python_data/Driver Telematics Analysis/drivers/1637\n",
        "skipping "
       ]
      },
      {
       "output_type": "stream",
       "stream": "stdout",
       "text": [
        " ..\\..\\..\\_python_data/Driver Telematics Analysis/drivers/1638\n",
        "skipping  ..\\..\\..\\_python_data/Driver Telematics Analysis/drivers/1639\n",
        "skipping "
       ]
      },
      {
       "output_type": "stream",
       "stream": "stdout",
       "text": [
        " ..\\..\\..\\_python_data/Driver Telematics Analysis/drivers/164\n",
        "skipping  ..\\..\\..\\_python_data/Driver Telematics Analysis/drivers/1640\n",
        "skipping  ..\\..\\..\\_python_data/Driver Telematics Analysis/drivers/1641\n",
        "skipping "
       ]
      },
      {
       "output_type": "stream",
       "stream": "stdout",
       "text": [
        " ..\\..\\..\\_python_data/Driver Telematics Analysis/drivers/1642\n",
        "skipping  ..\\..\\..\\_python_data/Driver Telematics Analysis/drivers/1643\n",
        "skipping "
       ]
      },
      {
       "output_type": "stream",
       "stream": "stdout",
       "text": [
        " ..\\..\\..\\_python_data/Driver Telematics Analysis/drivers/1644\n",
        "skipping "
       ]
      },
      {
       "output_type": "stream",
       "stream": "stdout",
       "text": [
        " ..\\..\\..\\_python_data/Driver Telematics Analysis/drivers/1645\n",
        "skipping  ..\\..\\..\\_python_data/Driver Telematics Analysis/drivers/1646\n",
        "skipping  ..\\..\\..\\_python_data/Driver Telematics Analysis/drivers/1647\n",
        "skipping "
       ]
      },
      {
       "output_type": "stream",
       "stream": "stdout",
       "text": [
        " ..\\..\\..\\_python_data/Driver Telematics Analysis/drivers/1648\n",
        "skipping  ..\\..\\..\\_python_data/Driver Telematics Analysis/drivers/1649\n",
        "skipping "
       ]
      },
      {
       "output_type": "stream",
       "stream": "stdout",
       "text": [
        " ..\\..\\..\\_python_data/Driver Telematics Analysis/drivers/1650\n",
        "skipping  ..\\..\\..\\_python_data/Driver Telematics Analysis/drivers/1651\n",
        "skipping "
       ]
      },
      {
       "output_type": "stream",
       "stream": "stdout",
       "text": [
        " ..\\..\\..\\_python_data/Driver Telematics Analysis/drivers/1652\n",
        "skipping  ..\\..\\..\\_python_data/Driver Telematics Analysis/drivers/1653\n",
        "skipping  ..\\..\\..\\_python_data/Driver Telematics Analysis/drivers/1654\n",
        "skipping "
       ]
      },
      {
       "output_type": "stream",
       "stream": "stdout",
       "text": [
        " ..\\..\\..\\_python_data/Driver Telematics Analysis/drivers/1655\n",
        "skipping  ..\\..\\..\\_python_data/Driver Telematics Analysis/drivers/1656\n",
        "skipping  ..\\..\\..\\_python_data/Driver Telematics Analysis/drivers/1657\n",
        "skipping "
       ]
      },
      {
       "output_type": "stream",
       "stream": "stdout",
       "text": [
        " ..\\..\\..\\_python_data/Driver Telematics Analysis/drivers/1658\n",
        "skipping  ..\\..\\..\\_python_data/Driver Telematics Analysis/drivers/1659\n",
        "skipping "
       ]
      },
      {
       "output_type": "stream",
       "stream": "stdout",
       "text": [
        " ..\\..\\..\\_python_data/Driver Telematics Analysis/drivers/166\n",
        "skipping  ..\\..\\..\\_python_data/Driver Telematics Analysis/drivers/1660\n",
        "skipping  ..\\..\\..\\_python_data/Driver Telematics Analysis/drivers/1662\n",
        "skipping "
       ]
      },
      {
       "output_type": "stream",
       "stream": "stdout",
       "text": [
        " ..\\..\\..\\_python_data/Driver Telematics Analysis/drivers/1663\n",
        "skipping  ..\\..\\..\\_python_data/Driver Telematics Analysis/drivers/1664\n",
        "skipping  ..\\..\\..\\_python_data/Driver Telematics Analysis/drivers/1665\n",
        "skipping "
       ]
      },
      {
       "output_type": "stream",
       "stream": "stdout",
       "text": [
        " ..\\..\\..\\_python_data/Driver Telematics Analysis/drivers/1666\n",
        "skipping  ..\\..\\..\\_python_data/Driver Telematics Analysis/drivers/1667\n",
        "skipping "
       ]
      },
      {
       "output_type": "stream",
       "stream": "stdout",
       "text": [
        " ..\\..\\..\\_python_data/Driver Telematics Analysis/drivers/1668\n",
        "skipping  ..\\..\\..\\_python_data/Driver Telematics Analysis/drivers/1669\n",
        "skipping  ..\\..\\..\\_python_data/Driver Telematics Analysis/drivers/167\n",
        "skipping "
       ]
      },
      {
       "output_type": "stream",
       "stream": "stdout",
       "text": [
        " ..\\..\\..\\_python_data/Driver Telematics Analysis/drivers/1670\n",
        "skipping  ..\\..\\..\\_python_data/Driver Telematics Analysis/drivers/1671\n",
        "skipping "
       ]
      },
      {
       "output_type": "stream",
       "stream": "stdout",
       "text": [
        " ..\\..\\..\\_python_data/Driver Telematics Analysis/drivers/1672\n",
        "skipping  ..\\..\\..\\_python_data/Driver Telematics Analysis/drivers/1673\n",
        "skipping "
       ]
      },
      {
       "output_type": "stream",
       "stream": "stdout",
       "text": [
        " ..\\..\\..\\_python_data/Driver Telematics Analysis/drivers/1674\n",
        "skipping  ..\\..\\..\\_python_data/Driver Telematics Analysis/drivers/1675\n",
        "skipping  ..\\..\\..\\_python_data/Driver Telematics Analysis/drivers/1676\n",
        "skipping "
       ]
      },
      {
       "output_type": "stream",
       "stream": "stdout",
       "text": [
        " ..\\..\\..\\_python_data/Driver Telematics Analysis/drivers/1677\n",
        "skipping  ..\\..\\..\\_python_data/Driver Telematics Analysis/drivers/1678\n",
        "skipping  ..\\..\\..\\_python_data/Driver Telematics Analysis/drivers/1679\n",
        "skipping "
       ]
      },
      {
       "output_type": "stream",
       "stream": "stdout",
       "text": [
        " ..\\..\\..\\_python_data/Driver Telematics Analysis/drivers/168\n",
        "skipping  ..\\..\\..\\_python_data/Driver Telematics Analysis/drivers/1680\n",
        "skipping  ..\\..\\..\\_python_data/Driver Telematics Analysis/drivers/1681\n",
        "skipping "
       ]
      },
      {
       "output_type": "stream",
       "stream": "stdout",
       "text": [
        " ..\\..\\..\\_python_data/Driver Telematics Analysis/drivers/1682\n",
        "skipping  ..\\..\\..\\_python_data/Driver Telematics Analysis/drivers/1684\n",
        "skipping "
       ]
      },
      {
       "output_type": "stream",
       "stream": "stdout",
       "text": [
        " ..\\..\\..\\_python_data/Driver Telematics Analysis/drivers/1685\n",
        "skipping  ..\\..\\..\\_python_data/Driver Telematics Analysis/drivers/1687\n",
        "skipping  ..\\..\\..\\_python_data/Driver Telematics Analysis/drivers/1688\n",
        "skipping "
       ]
      },
      {
       "output_type": "stream",
       "stream": "stdout",
       "text": [
        " ..\\..\\..\\_python_data/Driver Telematics Analysis/drivers/1689\n",
        "skipping "
       ]
      },
      {
       "output_type": "stream",
       "stream": "stdout",
       "text": [
        " ..\\..\\..\\_python_data/Driver Telematics Analysis/drivers/169\n",
        "skipping "
       ]
      },
      {
       "output_type": "stream",
       "stream": "stdout",
       "text": [
        " ..\\..\\..\\_python_data/Driver Telematics Analysis/drivers/1691\n",
        "skipping "
       ]
      },
      {
       "output_type": "stream",
       "stream": "stdout",
       "text": [
        " ..\\..\\..\\_python_data/Driver Telematics Analysis/drivers/1692\n",
        "skipping  ..\\..\\..\\_python_data/Driver Telematics Analysis/drivers/1693\n",
        "skipping "
       ]
      },
      {
       "output_type": "stream",
       "stream": "stdout",
       "text": [
        " ..\\..\\..\\_python_data/Driver Telematics Analysis/drivers/1694\n",
        "skipping  ..\\..\\..\\_python_data/Driver Telematics Analysis/drivers/1695\n",
        "skipping  ..\\..\\..\\_python_data/Driver Telematics Analysis/drivers/1696\n",
        "skipping "
       ]
      },
      {
       "output_type": "stream",
       "stream": "stdout",
       "text": [
        " ..\\..\\..\\_python_data/Driver Telematics Analysis/drivers/1698\n",
        "skipping  ..\\..\\..\\_python_data/Driver Telematics Analysis/drivers/17\n",
        "skipping  ..\\..\\..\\_python_data/Driver Telematics Analysis/drivers/170\n",
        "skipping "
       ]
      },
      {
       "output_type": "stream",
       "stream": "stdout",
       "text": [
        " ..\\..\\..\\_python_data/Driver Telematics Analysis/drivers/1700\n",
        "skipping  ..\\..\\..\\_python_data/Driver Telematics Analysis/drivers/1701\n",
        "skipping  ..\\..\\..\\_python_data/Driver Telematics Analysis/drivers/1702\n",
        "skipping "
       ]
      },
      {
       "output_type": "stream",
       "stream": "stdout",
       "text": [
        " ..\\..\\..\\_python_data/Driver Telematics Analysis/drivers/1703\n",
        "skipping  ..\\..\\..\\_python_data/Driver Telematics Analysis/drivers/1704\n",
        "skipping  ..\\..\\..\\_python_data/Driver Telematics Analysis/drivers/1705\n",
        "skipping "
       ]
      },
      {
       "output_type": "stream",
       "stream": "stdout",
       "text": [
        " ..\\..\\..\\_python_data/Driver Telematics Analysis/drivers/1706\n",
        "skipping  ..\\..\\..\\_python_data/Driver Telematics Analysis/drivers/1707\n",
        "skipping  ..\\..\\..\\_python_data/Driver Telematics Analysis/drivers/1708\n",
        "skipping "
       ]
      },
      {
       "output_type": "stream",
       "stream": "stdout",
       "text": [
        " ..\\..\\..\\_python_data/Driver Telematics Analysis/drivers/1709\n",
        "skipping  ..\\..\\..\\_python_data/Driver Telematics Analysis/drivers/171\n",
        "skipping "
       ]
      },
      {
       "output_type": "stream",
       "stream": "stdout",
       "text": [
        " ..\\..\\..\\_python_data/Driver Telematics Analysis/drivers/1710\n",
        "skipping  ..\\..\\..\\_python_data/Driver Telematics Analysis/drivers/1711\n",
        "skipping  ..\\..\\..\\_python_data/Driver Telematics Analysis/drivers/1712\n",
        "skipping "
       ]
      },
      {
       "output_type": "stream",
       "stream": "stdout",
       "text": [
        " ..\\..\\..\\_python_data/Driver Telematics Analysis/drivers/1713\n",
        "skipping  ..\\..\\..\\_python_data/Driver Telematics Analysis/drivers/1714\n",
        "skipping  ..\\..\\..\\_python_data/Driver Telematics Analysis/drivers/1715\n",
        "skipping "
       ]
      },
      {
       "output_type": "stream",
       "stream": "stdout",
       "text": [
        " ..\\..\\..\\_python_data/Driver Telematics Analysis/drivers/1716\n",
        "skipping  ..\\..\\..\\_python_data/Driver Telematics Analysis/drivers/1718\n",
        "skipping "
       ]
      },
      {
       "output_type": "stream",
       "stream": "stdout",
       "text": [
        " ..\\..\\..\\_python_data/Driver Telematics Analysis/drivers/1719\n",
        "skipping  ..\\..\\..\\_python_data/Driver Telematics Analysis/drivers/172\n",
        "skipping "
       ]
      },
      {
       "output_type": "stream",
       "stream": "stdout",
       "text": [
        " ..\\..\\..\\_python_data/Driver Telematics Analysis/drivers/1720\n",
        "skipping  ..\\..\\..\\_python_data/Driver Telematics Analysis/drivers/1721\n",
        "skipping "
       ]
      },
      {
       "output_type": "stream",
       "stream": "stdout",
       "text": [
        " ..\\..\\..\\_python_data/Driver Telematics Analysis/drivers/1722\n",
        "skipping  ..\\..\\..\\_python_data/Driver Telematics Analysis/drivers/1723\n",
        "skipping "
       ]
      },
      {
       "output_type": "stream",
       "stream": "stdout",
       "text": [
        " ..\\..\\..\\_python_data/Driver Telematics Analysis/drivers/1724\n",
        "skipping  ..\\..\\..\\_python_data/Driver Telematics Analysis/drivers/1725\n",
        "skipping "
       ]
      },
      {
       "output_type": "stream",
       "stream": "stdout",
       "text": [
        " ..\\..\\..\\_python_data/Driver Telematics Analysis/drivers/1726\n",
        "skipping  ..\\..\\..\\_python_data/Driver Telematics Analysis/drivers/1727\n",
        "skipping  ..\\..\\..\\_python_data/Driver Telematics Analysis/drivers/1728\n",
        "skipping "
       ]
      },
      {
       "output_type": "stream",
       "stream": "stdout",
       "text": [
        " ..\\..\\..\\_python_data/Driver Telematics Analysis/drivers/1729\n",
        "skipping  ..\\..\\..\\_python_data/Driver Telematics Analysis/drivers/173\n",
        "skipping  ..\\..\\..\\_python_data/Driver Telematics Analysis/drivers/1730\n",
        "skipping "
       ]
      },
      {
       "output_type": "stream",
       "stream": "stdout",
       "text": [
        " ..\\..\\..\\_python_data/Driver Telematics Analysis/drivers/1731\n",
        "skipping  ..\\..\\..\\_python_data/Driver Telematics Analysis/drivers/1732\n",
        "skipping "
       ]
      },
      {
       "output_type": "stream",
       "stream": "stdout",
       "text": [
        " ..\\..\\..\\_python_data/Driver Telematics Analysis/drivers/1733\n",
        "skipping  ..\\..\\..\\_python_data/Driver Telematics Analysis/drivers/1734\n",
        "skipping "
       ]
      },
      {
       "output_type": "stream",
       "stream": "stdout",
       "text": [
        " ..\\..\\..\\_python_data/Driver Telematics Analysis/drivers/1735\n",
        "skipping  ..\\..\\..\\_python_data/Driver Telematics Analysis/drivers/1739\n",
        "skipping "
       ]
      },
      {
       "output_type": "stream",
       "stream": "stdout",
       "text": [
        " ..\\..\\..\\_python_data/Driver Telematics Analysis/drivers/174\n",
        "skipping  ..\\..\\..\\_python_data/Driver Telematics Analysis/drivers/1740\n",
        "skipping "
       ]
      },
      {
       "output_type": "stream",
       "stream": "stdout",
       "text": [
        " ..\\..\\..\\_python_data/Driver Telematics Analysis/drivers/1741\n",
        "skipping  ..\\..\\..\\_python_data/Driver Telematics Analysis/drivers/1742\n",
        "skipping  ..\\..\\..\\_python_data/Driver Telematics Analysis/drivers/1743\n",
        "skipping  ..\\..\\..\\_python_data/Driver Telematics Analysis/drivers/1744\n",
        "skipping "
       ]
      },
      {
       "output_type": "stream",
       "stream": "stdout",
       "text": [
        " ..\\..\\..\\_python_data/Driver Telematics Analysis/drivers/1745\n",
        "skipping  ..\\..\\..\\_python_data/Driver Telematics Analysis/drivers/1746\n",
        "skipping "
       ]
      },
      {
       "output_type": "stream",
       "stream": "stdout",
       "text": [
        " ..\\..\\..\\_python_data/Driver Telematics Analysis/drivers/1747\n",
        "skipping  ..\\..\\..\\_python_data/Driver Telematics Analysis/drivers/1748\n",
        "skipping  ..\\..\\..\\_python_data/Driver Telematics Analysis/drivers/1749\n",
        "skipping "
       ]
      },
      {
       "output_type": "stream",
       "stream": "stdout",
       "text": [
        " ..\\..\\..\\_python_data/Driver Telematics Analysis/drivers/175\n",
        "skipping  ..\\..\\..\\_python_data/Driver Telematics Analysis/drivers/1750\n",
        "skipping  ..\\..\\..\\_python_data/Driver Telematics Analysis/drivers/1751\n",
        "skipping "
       ]
      },
      {
       "output_type": "stream",
       "stream": "stdout",
       "text": [
        " ..\\..\\..\\_python_data/Driver Telematics Analysis/drivers/1752\n",
        "skipping  ..\\..\\..\\_python_data/Driver Telematics Analysis/drivers/1753\n",
        "skipping  ..\\..\\..\\_python_data/Driver Telematics Analysis/drivers/1754\n",
        "skipping "
       ]
      },
      {
       "output_type": "stream",
       "stream": "stdout",
       "text": [
        " ..\\..\\..\\_python_data/Driver Telematics Analysis/drivers/1755\n",
        "skipping  ..\\..\\..\\_python_data/Driver Telematics Analysis/drivers/1756\n",
        "skipping  ..\\..\\..\\_python_data/Driver Telematics Analysis/drivers/1757\n",
        "skipping "
       ]
      },
      {
       "output_type": "stream",
       "stream": "stdout",
       "text": [
        " ..\\..\\..\\_python_data/Driver Telematics Analysis/drivers/1758\n",
        "skipping  ..\\..\\..\\_python_data/Driver Telematics Analysis/drivers/1759\n",
        "skipping  ..\\..\\..\\_python_data/Driver Telematics Analysis/drivers/176\n",
        "skipping "
       ]
      },
      {
       "output_type": "stream",
       "stream": "stdout",
       "text": [
        " ..\\..\\..\\_python_data/Driver Telematics Analysis/drivers/1760\n",
        "skipping  ..\\..\\..\\_python_data/Driver Telematics Analysis/drivers/1761\n",
        "skipping  ..\\..\\..\\_python_data/Driver Telematics Analysis/drivers/1762\n",
        "skipping "
       ]
      },
      {
       "output_type": "stream",
       "stream": "stdout",
       "text": [
        " ..\\..\\..\\_python_data/Driver Telematics Analysis/drivers/1763\n",
        "skipping  ..\\..\\..\\_python_data/Driver Telematics Analysis/drivers/1764\n",
        "skipping "
       ]
      },
      {
       "output_type": "stream",
       "stream": "stdout",
       "text": [
        " ..\\..\\..\\_python_data/Driver Telematics Analysis/drivers/1765\n",
        "skipping  ..\\..\\..\\_python_data/Driver Telematics Analysis/drivers/1766\n",
        "skipping  ..\\..\\..\\_python_data/Driver Telematics Analysis/drivers/1767\n",
        "skipping "
       ]
      },
      {
       "output_type": "stream",
       "stream": "stdout",
       "text": [
        " ..\\..\\..\\_python_data/Driver Telematics Analysis/drivers/1768\n",
        "skipping  ..\\..\\..\\_python_data/Driver Telematics Analysis/drivers/1769\n",
        "skipping  ..\\..\\..\\_python_data/Driver Telematics Analysis/drivers/177\n",
        "skipping "
       ]
      },
      {
       "output_type": "stream",
       "stream": "stdout",
       "text": [
        " ..\\..\\..\\_python_data/Driver Telematics Analysis/drivers/1770\n",
        "skipping  ..\\..\\..\\_python_data/Driver Telematics Analysis/drivers/1771\n",
        "skipping "
       ]
      },
      {
       "output_type": "stream",
       "stream": "stdout",
       "text": [
        " ..\\..\\..\\_python_data/Driver Telematics Analysis/drivers/1773\n",
        "skipping  ..\\..\\..\\_python_data/Driver Telematics Analysis/drivers/1774\n",
        "skipping  ..\\..\\..\\_python_data/Driver Telematics Analysis/drivers/1775\n",
        "skipping "
       ]
      },
      {
       "output_type": "stream",
       "stream": "stdout",
       "text": [
        " ..\\..\\..\\_python_data/Driver Telematics Analysis/drivers/1776\n",
        "skipping  ..\\..\\..\\_python_data/Driver Telematics Analysis/drivers/1777\n",
        "skipping "
       ]
      },
      {
       "output_type": "stream",
       "stream": "stdout",
       "text": [
        " ..\\..\\..\\_python_data/Driver Telematics Analysis/drivers/1778\n",
        "skipping  ..\\..\\..\\_python_data/Driver Telematics Analysis/drivers/1779\n",
        "skipping "
       ]
      },
      {
       "output_type": "stream",
       "stream": "stdout",
       "text": [
        " ..\\..\\..\\_python_data/Driver Telematics Analysis/drivers/178\n",
        "skipping  ..\\..\\..\\_python_data/Driver Telematics Analysis/drivers/1780\n",
        "skipping  ..\\..\\..\\_python_data/Driver Telematics Analysis/drivers/1782\n",
        "skipping "
       ]
      },
      {
       "output_type": "stream",
       "stream": "stdout",
       "text": [
        " ..\\..\\..\\_python_data/Driver Telematics Analysis/drivers/1783\n",
        "skipping  ..\\..\\..\\_python_data/Driver Telematics Analysis/drivers/1784\n",
        "skipping  ..\\..\\..\\_python_data/Driver Telematics Analysis/drivers/1785\n",
        "skipping "
       ]
      },
      {
       "output_type": "stream",
       "stream": "stdout",
       "text": [
        " ..\\..\\..\\_python_data/Driver Telematics Analysis/drivers/1786\n",
        "skipping  ..\\..\\..\\_python_data/Driver Telematics Analysis/drivers/1787\n",
        "skipping  ..\\..\\..\\_python_data/Driver Telematics Analysis/drivers/1788\n",
        "skipping "
       ]
      },
      {
       "output_type": "stream",
       "stream": "stdout",
       "text": [
        " ..\\..\\..\\_python_data/Driver Telematics Analysis/drivers/1789\n",
        "skipping  ..\\..\\..\\_python_data/Driver Telematics Analysis/drivers/179\n",
        "skipping  ..\\..\\..\\_python_data/Driver Telematics Analysis/drivers/1790\n",
        "skipping "
       ]
      },
      {
       "output_type": "stream",
       "stream": "stdout",
       "text": [
        " ..\\..\\..\\_python_data/Driver Telematics Analysis/drivers/1791\n",
        "skipping  ..\\..\\..\\_python_data/Driver Telematics Analysis/drivers/1792\n",
        "skipping  ..\\..\\..\\_python_data/Driver Telematics Analysis/drivers/1793\n",
        "skipping "
       ]
      },
      {
       "output_type": "stream",
       "stream": "stdout",
       "text": [
        " ..\\..\\..\\_python_data/Driver Telematics Analysis/drivers/1794\n",
        "skipping  ..\\..\\..\\_python_data/Driver Telematics Analysis/drivers/1795\n",
        "skipping  ..\\..\\..\\_python_data/Driver Telematics Analysis/drivers/1796\n",
        "skipping "
       ]
      },
      {
       "output_type": "stream",
       "stream": "stdout",
       "text": [
        " ..\\..\\..\\_python_data/Driver Telematics Analysis/drivers/1797\n",
        "skipping  ..\\..\\..\\_python_data/Driver Telematics Analysis/drivers/1798\n",
        "skipping "
       ]
      },
      {
       "output_type": "stream",
       "stream": "stdout",
       "text": [
        " ..\\..\\..\\_python_data/Driver Telematics Analysis/drivers/1799\n",
        "skipping  ..\\..\\..\\_python_data/Driver Telematics Analysis/drivers/18\n",
        "skipping  ..\\..\\..\\_python_data/Driver Telematics Analysis/drivers/180\n",
        "skipping "
       ]
      },
      {
       "output_type": "stream",
       "stream": "stdout",
       "text": [
        " ..\\..\\..\\_python_data/Driver Telematics Analysis/drivers/1800\n",
        "skipping  ..\\..\\..\\_python_data/Driver Telematics Analysis/drivers/1801\n",
        "skipping  ..\\..\\..\\_python_data/Driver Telematics Analysis/drivers/1802\n",
        "skipping "
       ]
      },
      {
       "output_type": "stream",
       "stream": "stdout",
       "text": [
        " ..\\..\\..\\_python_data/Driver Telematics Analysis/drivers/1803\n",
        "skipping  ..\\..\\..\\_python_data/Driver Telematics Analysis/drivers/1804\n",
        "skipping  ..\\..\\..\\_python_data/Driver Telematics Analysis/drivers/1805\n",
        "skipping "
       ]
      },
      {
       "output_type": "stream",
       "stream": "stdout",
       "text": [
        " ..\\..\\..\\_python_data/Driver Telematics Analysis/drivers/1806\n",
        "skipping "
       ]
      },
      {
       "output_type": "stream",
       "stream": "stdout",
       "text": [
        " ..\\..\\..\\_python_data/Driver Telematics Analysis/drivers/1807\n",
        "skipping  ..\\..\\..\\_python_data/Driver Telematics Analysis/drivers/1808\n",
        "skipping  ..\\..\\..\\_python_data/Driver Telematics Analysis/drivers/1809\n",
        "skipping  ..\\..\\..\\_python_data/Driver Telematics Analysis/drivers/181\n",
        "skipping  ..\\..\\..\\_python_data/Driver Telematics Analysis/drivers/1810\n",
        "skipping "
       ]
      },
      {
       "output_type": "stream",
       "stream": "stdout",
       "text": [
        " ..\\..\\..\\_python_data/Driver Telematics Analysis/drivers/1811\n",
        "skipping  ..\\..\\..\\_python_data/Driver Telematics Analysis/drivers/1812\n",
        "skipping "
       ]
      },
      {
       "output_type": "stream",
       "stream": "stdout",
       "text": [
        " ..\\..\\..\\_python_data/Driver Telematics Analysis/drivers/1813\n",
        "skipping  ..\\..\\..\\_python_data/Driver Telematics Analysis/drivers/1814\n",
        "skipping  ..\\..\\..\\_python_data/Driver Telematics Analysis/drivers/1815\n",
        "skipping "
       ]
      },
      {
       "output_type": "stream",
       "stream": "stdout",
       "text": [
        " ..\\..\\..\\_python_data/Driver Telematics Analysis/drivers/1816\n",
        "skipping  ..\\..\\..\\_python_data/Driver Telematics Analysis/drivers/1817\n",
        "skipping  ..\\..\\..\\_python_data/Driver Telematics Analysis/drivers/1818\n",
        "skipping "
       ]
      },
      {
       "output_type": "stream",
       "stream": "stdout",
       "text": [
        " ..\\..\\..\\_python_data/Driver Telematics Analysis/drivers/1819\n",
        "skipping  ..\\..\\..\\_python_data/Driver Telematics Analysis/drivers/182\n",
        "skipping  ..\\..\\..\\_python_data/Driver Telematics Analysis/drivers/1820\n",
        "skipping "
       ]
      },
      {
       "output_type": "stream",
       "stream": "stdout",
       "text": [
        " ..\\..\\..\\_python_data/Driver Telematics Analysis/drivers/1821\n",
        "skipping  ..\\..\\..\\_python_data/Driver Telematics Analysis/drivers/1822\n",
        "skipping  ..\\..\\..\\_python_data/Driver Telematics Analysis/drivers/1823\n",
        "skipping  ..\\..\\..\\_python_data/Driver Telematics Analysis/drivers/1824\n",
        "skipping "
       ]
      },
      {
       "output_type": "stream",
       "stream": "stdout",
       "text": [
        " ..\\..\\..\\_python_data/Driver Telematics Analysis/drivers/1825\n",
        "skipping  ..\\..\\..\\_python_data/Driver Telematics Analysis/drivers/1826\n",
        "skipping  ..\\..\\..\\_python_data/Driver Telematics Analysis/drivers/1827\n",
        "skipping "
       ]
      },
      {
       "output_type": "stream",
       "stream": "stdout",
       "text": [
        " ..\\..\\..\\_python_data/Driver Telematics Analysis/drivers/1828\n",
        "skipping  ..\\..\\..\\_python_data/Driver Telematics Analysis/drivers/1829\n",
        "skipping  ..\\..\\..\\_python_data/Driver Telematics Analysis/drivers/183\n",
        "skipping  ..\\..\\..\\_python_data/Driver Telematics Analysis/drivers/1830\n",
        "skipping "
       ]
      },
      {
       "output_type": "stream",
       "stream": "stdout",
       "text": [
        " ..\\..\\..\\_python_data/Driver Telematics Analysis/drivers/1831\n",
        "skipping  ..\\..\\..\\_python_data/Driver Telematics Analysis/drivers/1832\n",
        "skipping  ..\\..\\..\\_python_data/Driver Telematics Analysis/drivers/1833\n",
        "skipping  ..\\..\\..\\_python_data/Driver Telematics Analysis/drivers/1834\n",
        "skipping "
       ]
      },
      {
       "output_type": "stream",
       "stream": "stdout",
       "text": [
        " ..\\..\\..\\_python_data/Driver Telematics Analysis/drivers/1835\n",
        "skipping  ..\\..\\..\\_python_data/Driver Telematics Analysis/drivers/1836\n",
        "skipping  ..\\..\\..\\_python_data/Driver Telematics Analysis/drivers/1837\n",
        "skipping  ..\\..\\..\\_python_data/Driver Telematics Analysis/drivers/1838\n",
        "skipping "
       ]
      },
      {
       "output_type": "stream",
       "stream": "stdout",
       "text": [
        " ..\\..\\..\\_python_data/Driver Telematics Analysis/drivers/1839\n",
        "skipping  ..\\..\\..\\_python_data/Driver Telematics Analysis/drivers/184\n",
        "skipping "
       ]
      },
      {
       "output_type": "stream",
       "stream": "stdout",
       "text": [
        " ..\\..\\..\\_python_data/Driver Telematics Analysis/drivers/1840\n",
        "skipping  ..\\..\\..\\_python_data/Driver Telematics Analysis/drivers/1841\n",
        "skipping "
       ]
      },
      {
       "output_type": "stream",
       "stream": "stdout",
       "text": [
        " ..\\..\\..\\_python_data/Driver Telematics Analysis/drivers/1842\n",
        "skipping  ..\\..\\..\\_python_data/Driver Telematics Analysis/drivers/1843\n",
        "skipping  ..\\..\\..\\_python_data/Driver Telematics Analysis/drivers/1844\n",
        "skipping "
       ]
      },
      {
       "output_type": "stream",
       "stream": "stdout",
       "text": [
        " ..\\..\\..\\_python_data/Driver Telematics Analysis/drivers/1845\n",
        "skipping  ..\\..\\..\\_python_data/Driver Telematics Analysis/drivers/1846\n",
        "skipping "
       ]
      },
      {
       "output_type": "stream",
       "stream": "stdout",
       "text": [
        " ..\\..\\..\\_python_data/Driver Telematics Analysis/drivers/1847\n",
        "skipping  ..\\..\\..\\_python_data/Driver Telematics Analysis/drivers/1848\n",
        "skipping  ..\\..\\..\\_python_data/Driver Telematics Analysis/drivers/1849\n",
        "skipping  ..\\..\\..\\_python_data/Driver Telematics Analysis/drivers/185\n",
        "skipping "
       ]
      },
      {
       "output_type": "stream",
       "stream": "stdout",
       "text": [
        " ..\\..\\..\\_python_data/Driver Telematics Analysis/drivers/1850\n",
        "skipping  ..\\..\\..\\_python_data/Driver Telematics Analysis/drivers/1851\n",
        "skipping "
       ]
      },
      {
       "output_type": "stream",
       "stream": "stdout",
       "text": [
        " ..\\..\\..\\_python_data/Driver Telematics Analysis/drivers/1852\n",
        "skipping  ..\\..\\..\\_python_data/Driver Telematics Analysis/drivers/1853\n",
        "skipping "
       ]
      },
      {
       "output_type": "stream",
       "stream": "stdout",
       "text": [
        " ..\\..\\..\\_python_data/Driver Telematics Analysis/drivers/1854\n",
        "skipping  ..\\..\\..\\_python_data/Driver Telematics Analysis/drivers/1855\n",
        "skipping  ..\\..\\..\\_python_data/Driver Telematics Analysis/drivers/1856\n",
        "skipping "
       ]
      },
      {
       "output_type": "stream",
       "stream": "stdout",
       "text": [
        " ..\\..\\..\\_python_data/Driver Telematics Analysis/drivers/1857\n",
        "skipping  ..\\..\\..\\_python_data/Driver Telematics Analysis/drivers/1858\n",
        "skipping  ..\\..\\..\\_python_data/Driver Telematics Analysis/drivers/1859\n",
        "skipping "
       ]
      },
      {
       "output_type": "stream",
       "stream": "stdout",
       "text": [
        " ..\\..\\..\\_python_data/Driver Telematics Analysis/drivers/186\n",
        "skipping  ..\\..\\..\\_python_data/Driver Telematics Analysis/drivers/1860\n",
        "skipping  ..\\..\\..\\_python_data/Driver Telematics Analysis/drivers/1861\n",
        "skipping "
       ]
      },
      {
       "output_type": "stream",
       "stream": "stdout",
       "text": [
        " ..\\..\\..\\_python_data/Driver Telematics Analysis/drivers/1862\n",
        "skipping  ..\\..\\..\\_python_data/Driver Telematics Analysis/drivers/1863\n",
        "skipping  ..\\..\\..\\_python_data/Driver Telematics Analysis/drivers/1864\n",
        "skipping "
       ]
      },
      {
       "output_type": "stream",
       "stream": "stdout",
       "text": [
        " ..\\..\\..\\_python_data/Driver Telematics Analysis/drivers/1865\n",
        "skipping  ..\\..\\..\\_python_data/Driver Telematics Analysis/drivers/1866\n",
        "skipping  ..\\..\\..\\_python_data/Driver Telematics Analysis/drivers/1867\n",
        "skipping "
       ]
      },
      {
       "output_type": "stream",
       "stream": "stdout",
       "text": [
        " ..\\..\\..\\_python_data/Driver Telematics Analysis/drivers/1868\n",
        "skipping  ..\\..\\..\\_python_data/Driver Telematics Analysis/drivers/1869\n",
        "skipping  ..\\..\\..\\_python_data/Driver Telematics Analysis/drivers/187\n",
        "skipping  ..\\..\\..\\_python_data/Driver Telematics Analysis/drivers/1870\n",
        "skipping "
       ]
      },
      {
       "output_type": "stream",
       "stream": "stdout",
       "text": [
        " ..\\..\\..\\_python_data/Driver Telematics Analysis/drivers/1871\n",
        "skipping  ..\\..\\..\\_python_data/Driver Telematics Analysis/drivers/1872\n",
        "skipping  ..\\..\\..\\_python_data/Driver Telematics Analysis/drivers/1873\n",
        "skipping  ..\\..\\..\\_python_data/Driver Telematics Analysis/drivers/1874\n",
        "skipping  ..\\..\\..\\_python_data/Driver Telematics Analysis/drivers/1875\n",
        "skipping "
       ]
      },
      {
       "output_type": "stream",
       "stream": "stdout",
       "text": [
        " ..\\..\\..\\_python_data/Driver Telematics Analysis/drivers/1876\n",
        "skipping  ..\\..\\..\\_python_data/Driver Telematics Analysis/drivers/1877\n",
        "skipping "
       ]
      },
      {
       "output_type": "stream",
       "stream": "stdout",
       "text": [
        " ..\\..\\..\\_python_data/Driver Telematics Analysis/drivers/1878\n",
        "skipping  ..\\..\\..\\_python_data/Driver Telematics Analysis/drivers/1879\n",
        "skipping  ..\\..\\..\\_python_data/Driver Telematics Analysis/drivers/188\n",
        "skipping "
       ]
      },
      {
       "output_type": "stream",
       "stream": "stdout",
       "text": [
        " ..\\..\\..\\_python_data/Driver Telematics Analysis/drivers/1880\n",
        "skipping  ..\\..\\..\\_python_data/Driver Telematics Analysis/drivers/1881\n",
        "skipping "
       ]
      },
      {
       "output_type": "stream",
       "stream": "stdout",
       "text": [
        " ..\\..\\..\\_python_data/Driver Telematics Analysis/drivers/1882\n",
        "skipping  ..\\..\\..\\_python_data/Driver Telematics Analysis/drivers/1883\n",
        "skipping  ..\\..\\..\\_python_data/Driver Telematics Analysis/drivers/1884\n",
        "skipping "
       ]
      },
      {
       "output_type": "stream",
       "stream": "stdout",
       "text": [
        " ..\\..\\..\\_python_data/Driver Telematics Analysis/drivers/1885\n",
        "skipping  ..\\..\\..\\_python_data/Driver Telematics Analysis/drivers/1886\n",
        "skipping "
       ]
      },
      {
       "output_type": "stream",
       "stream": "stdout",
       "text": [
        " ..\\..\\..\\_python_data/Driver Telematics Analysis/drivers/1887\n",
        "skipping "
       ]
      },
      {
       "output_type": "stream",
       "stream": "stdout",
       "text": [
        " ..\\..\\..\\_python_data/Driver Telematics Analysis/drivers/1888\n",
        "skipping  ..\\..\\..\\_python_data/Driver Telematics Analysis/drivers/1889\n",
        "skipping  ..\\..\\..\\_python_data/Driver Telematics Analysis/drivers/189\n",
        "skipping  ..\\..\\..\\_python_data/Driver Telematics Analysis/drivers/1890\n",
        "skipping  ..\\..\\..\\_python_data/Driver Telematics Analysis/drivers/1891\n",
        "skipping  ..\\..\\..\\_python_data/Driver Telematics Analysis/drivers/1892\n",
        "skipping "
       ]
      },
      {
       "output_type": "stream",
       "stream": "stdout",
       "text": [
        " ..\\..\\..\\_python_data/Driver Telematics Analysis/drivers/1893\n",
        "skipping  ..\\..\\..\\_python_data/Driver Telematics Analysis/drivers/1894\n",
        "skipping "
       ]
      },
      {
       "output_type": "stream",
       "stream": "stdout",
       "text": [
        " ..\\..\\..\\_python_data/Driver Telematics Analysis/drivers/1895\n",
        "skipping  ..\\..\\..\\_python_data/Driver Telematics Analysis/drivers/1896\n",
        "skipping "
       ]
      },
      {
       "output_type": "stream",
       "stream": "stdout",
       "text": [
        " ..\\..\\..\\_python_data/Driver Telematics Analysis/drivers/1897\n",
        "skipping  ..\\..\\..\\_python_data/Driver Telematics Analysis/drivers/1898\n",
        "skipping "
       ]
      },
      {
       "output_type": "stream",
       "stream": "stdout",
       "text": [
        " ..\\..\\..\\_python_data/Driver Telematics Analysis/drivers/1899\n",
        "skipping "
       ]
      },
      {
       "output_type": "stream",
       "stream": "stdout",
       "text": [
        " ..\\..\\..\\_python_data/Driver Telematics Analysis/drivers/19\n",
        "skipping  ..\\..\\..\\_python_data/Driver Telematics Analysis/drivers/190\n",
        "skipping  ..\\..\\..\\_python_data/Driver Telematics Analysis/drivers/1900\n",
        "skipping "
       ]
      },
      {
       "output_type": "stream",
       "stream": "stdout",
       "text": [
        " ..\\..\\..\\_python_data/Driver Telematics Analysis/drivers/1901\n",
        "skipping  ..\\..\\..\\_python_data/Driver Telematics Analysis/drivers/1902\n",
        "skipping  ..\\..\\..\\_python_data/Driver Telematics Analysis/drivers/1903\n",
        "skipping "
       ]
      },
      {
       "output_type": "stream",
       "stream": "stdout",
       "text": [
        " ..\\..\\..\\_python_data/Driver Telematics Analysis/drivers/1904\n",
        "skipping  ..\\..\\..\\_python_data/Driver Telematics Analysis/drivers/1905\n",
        "skipping  ..\\..\\..\\_python_data/Driver Telematics Analysis/drivers/1906\n",
        "skipping  ..\\..\\..\\_python_data/Driver Telematics Analysis/drivers/1907\n",
        "skipping  ..\\..\\..\\_python_data/Driver Telematics Analysis/drivers/1908\n",
        "skipping  ..\\..\\..\\_python_data/Driver Telematics Analysis/drivers/1909\n",
        "skipping  ..\\..\\..\\_python_data/Driver Telematics Analysis/drivers/191\n",
        "skipping  ..\\..\\..\\_python_data/Driver Telematics Analysis/drivers/1910\n",
        "skipping  ..\\..\\..\\_python_data/Driver Telematics Analysis/drivers/1911\n",
        "skipping  ..\\..\\..\\_python_data/Driver Telematics Analysis/drivers/1912\n",
        "skipping  ..\\..\\..\\_python_data/Driver Telematics Analysis/drivers/1913\n",
        "skipping  ..\\..\\..\\_python_data/Driver Telematics Analysis/drivers/1914\n",
        "skipping  ..\\..\\..\\_python_data/Driver Telematics Analysis/drivers/1915\n",
        "skipping  ..\\..\\..\\_python_data/Driver Telematics Analysis/drivers/1917\n",
        "skipping  ..\\..\\..\\_python_data/Driver Telematics Analysis/drivers/1918\n",
        "skipping  ..\\..\\..\\_python_data/Driver Telematics Analysis/drivers/1919\n",
        "skipping  ..\\..\\..\\_python_data/Driver Telematics Analysis/drivers/192\n",
        "skipping  ..\\..\\..\\_python_data/Driver Telematics Analysis/drivers/1920\n",
        "skipping  ..\\..\\..\\_python_data/Driver Telematics Analysis/drivers/1921\n",
        "skipping  ..\\..\\..\\_python_data/Driver Telematics Analysis/drivers/1922\n",
        "skipping  ..\\..\\..\\_python_data/Driver Telematics Analysis/drivers/1923\n",
        "skipping  ..\\..\\..\\_python_data/Driver Telematics Analysis/drivers/1924\n",
        "skipping  ..\\..\\..\\_python_data/Driver Telematics Analysis/drivers/1925\n",
        "skipping  ..\\..\\..\\_python_data/Driver Telematics Analysis/drivers/1926\n",
        "skipping  ..\\..\\..\\_python_data/Driver Telematics Analysis/drivers/1927\n",
        "skipping  ..\\..\\..\\_python_data/Driver Telematics Analysis/drivers/1928\n",
        "skipping  ..\\..\\..\\_python_data/Driver Telematics Analysis/drivers/1929\n",
        "skipping  ..\\..\\..\\_python_data/Driver Telematics Analysis/drivers/193\n",
        "skipping  ..\\..\\..\\_python_data/Driver Telematics Analysis/drivers/1930\n",
        "skipping  ..\\..\\..\\_python_data/Driver Telematics Analysis/drivers/1931\n",
        "skipping  ..\\..\\..\\_python_data/Driver Telematics Analysis/drivers/1932\n",
        "skipping  ..\\..\\..\\_python_data/Driver Telematics Analysis/drivers/1933\n",
        "skipping  ..\\..\\..\\_python_data/Driver Telematics Analysis/drivers/1934\n",
        "skipping  ..\\..\\..\\_python_data/Driver Telematics Analysis/drivers/1935\n",
        "skipping  ..\\..\\..\\_python_data/Driver Telematics Analysis/drivers/1936\n",
        "skipping  ..\\..\\..\\_python_data/Driver Telematics Analysis/drivers/1937\n",
        "skipping  ..\\..\\..\\_python_data/Driver Telematics Analysis/drivers/1938\n",
        "skipping  ..\\..\\..\\_python_data/Driver Telematics Analysis/drivers/1939\n",
        "skipping  ..\\..\\..\\_python_data/Driver Telematics Analysis/drivers/194\n",
        "skipping  ..\\..\\..\\_python_data/Driver Telematics Analysis/drivers/1940\n",
        "skipping  ..\\..\\..\\_python_data/Driver Telematics Analysis/drivers/1941\n",
        "skipping  ..\\..\\..\\_python_data/Driver Telematics Analysis/drivers/1942\n",
        "skipping  ..\\..\\..\\_python_data/Driver Telematics Analysis/drivers/1943\n",
        "skipping  ..\\..\\..\\_python_data/Driver Telematics Analysis/drivers/1944\n",
        "skipping  ..\\..\\..\\_python_data/Driver Telematics Analysis/drivers/1945\n",
        "skipping  ..\\..\\..\\_python_data/Driver Telematics Analysis/drivers/1946\n",
        "skipping  ..\\..\\..\\_python_data/Driver Telematics Analysis/drivers/1947\n",
        "skipping  ..\\..\\..\\_python_data/Driver Telematics Analysis/drivers/1948\n",
        "skipping  ..\\..\\..\\_python_data/Driver Telematics Analysis/drivers/1949\n",
        "skipping  ..\\..\\..\\_python_data/Driver Telematics Analysis/drivers/195\n",
        "skipping  ..\\..\\..\\_python_data/Driver Telematics Analysis/drivers/1950\n",
        "skipping  ..\\..\\..\\_python_data/Driver Telematics Analysis/drivers/1951\n",
        "skipping  ..\\..\\..\\_python_data/Driver Telematics Analysis/drivers/1952\n",
        "skipping  ..\\..\\..\\_python_data/Driver Telematics Analysis/drivers/1953\n",
        "skipping  ..\\..\\..\\_python_data/Driver Telematics Analysis/drivers/1954\n",
        "skipping  ..\\..\\..\\_python_data/Driver Telematics Analysis/drivers/1955\n",
        "skipping  ..\\..\\..\\_python_data/Driver Telematics Analysis/drivers/1956\n",
        "skipping  ..\\..\\..\\_python_data/Driver Telematics Analysis/drivers/1958\n",
        "skipping "
       ]
      },
      {
       "output_type": "stream",
       "stream": "stdout",
       "text": [
        " ..\\..\\..\\_python_data/Driver Telematics Analysis/drivers/1959\n",
        "skipping  ..\\..\\..\\_python_data/Driver Telematics Analysis/drivers/196\n",
        "skipping  ..\\..\\..\\_python_data/Driver Telematics Analysis/drivers/1960\n",
        "skipping  ..\\..\\..\\_python_data/Driver Telematics Analysis/drivers/1961\n",
        "skipping  ..\\..\\..\\_python_data/Driver Telematics Analysis/drivers/1962\n",
        "skipping  ..\\..\\..\\_python_data/Driver Telematics Analysis/drivers/1963\n",
        "skipping  ..\\..\\..\\_python_data/Driver Telematics Analysis/drivers/1964\n",
        "skipping  ..\\..\\..\\_python_data/Driver Telematics Analysis/drivers/1965\n"
       ]
      },
      {
       "ename": "KeyboardInterrupt",
       "evalue": "",
       "output_type": "pyerr",
       "traceback": [
        "\u001b[1;31m---------------------------------------------------------------------------\u001b[0m\n\u001b[1;31mKeyboardInterrupt\u001b[0m                         Traceback (most recent call last)",
        "\u001b[1;32m<ipython-input-6-9e4a48537093>\u001b[0m in \u001b[0;36m<module>\u001b[1;34m()\u001b[0m\n\u001b[0;32m     14\u001b[0m         \u001b[1;32mif\u001b[0m\u001b[1;33m(\u001b[0m\u001b[0mfile\u001b[0m\u001b[1;33m.\u001b[0m\u001b[0mendswith\u001b[0m\u001b[1;33m(\u001b[0m\u001b[0mext\u001b[0m\u001b[1;33m)\u001b[0m\u001b[1;33m)\u001b[0m\u001b[1;33m:\u001b[0m\u001b[1;33m\u001b[0m\u001b[0m\n\u001b[0;32m     15\u001b[0m             \u001b[0mfilepath\u001b[0m \u001b[1;33m=\u001b[0m \u001b[0mos\u001b[0m\u001b[1;33m.\u001b[0m\u001b[0mpath\u001b[0m\u001b[1;33m.\u001b[0m\u001b[0mjoin\u001b[0m\u001b[1;33m(\u001b[0m\u001b[0mcdir\u001b[0m\u001b[1;33m,\u001b[0m\u001b[0mfile\u001b[0m\u001b[1;33m)\u001b[0m\u001b[1;33m\u001b[0m\u001b[0m\n\u001b[1;32m---> 16\u001b[1;33m             \u001b[0mdf\u001b[0m\u001b[1;33m,\u001b[0m \u001b[0mmet\u001b[0m \u001b[1;33m=\u001b[0m \u001b[0mgetdriverdata\u001b[0m\u001b[1;33m(\u001b[0m\u001b[0mfilepath\u001b[0m\u001b[1;33m)\u001b[0m\u001b[1;33m\u001b[0m\u001b[0m\n\u001b[0m\u001b[0;32m     17\u001b[0m             \u001b[0mmet\u001b[0m\u001b[1;33m[\u001b[0m\u001b[1;34m'filename'\u001b[0m\u001b[1;33m]\u001b[0m\u001b[1;33m=\u001b[0m\u001b[0mos\u001b[0m\u001b[1;33m.\u001b[0m\u001b[0mpath\u001b[0m\u001b[1;33m.\u001b[0m\u001b[0mjoin\u001b[0m\u001b[1;33m(\u001b[0m\u001b[0mdir\u001b[0m\u001b[1;33m,\u001b[0m\u001b[0mfile\u001b[0m\u001b[1;33m)\u001b[0m\u001b[1;33m\u001b[0m\u001b[0m\n\u001b[0;32m     18\u001b[0m             \u001b[1;31m#print met.head()\u001b[0m\u001b[1;33m\u001b[0m\u001b[1;33m\u001b[0m\u001b[0m\n",
        "\u001b[1;32m<ipython-input-4-d51fa8a32b84>\u001b[0m in \u001b[0;36mgetdriverdata\u001b[1;34m(filename)\u001b[0m\n\u001b[0;32m     66\u001b[0m \u001b[1;33m\u001b[0m\u001b[0m\n\u001b[0;32m     67\u001b[0m     \u001b[1;31m# drop un-needed columns\u001b[0m\u001b[1;33m\u001b[0m\u001b[1;33m\u001b[0m\u001b[0m\n\u001b[1;32m---> 68\u001b[1;33m     \u001b[0mdf\u001b[0m\u001b[1;33m.\u001b[0m\u001b[0mdrop\u001b[0m\u001b[1;33m(\u001b[0m\u001b[1;34m'xsum'\u001b[0m\u001b[1;33m,\u001b[0m \u001b[0maxis\u001b[0m\u001b[1;33m=\u001b[0m\u001b[1;36m1\u001b[0m\u001b[1;33m,\u001b[0m \u001b[0minplace\u001b[0m\u001b[1;33m=\u001b[0m\u001b[0mTrue\u001b[0m\u001b[1;33m)\u001b[0m\u001b[1;33m\u001b[0m\u001b[0m\n\u001b[0m\u001b[0;32m     69\u001b[0m     \u001b[0mdf\u001b[0m\u001b[1;33m.\u001b[0m\u001b[0mdrop\u001b[0m\u001b[1;33m(\u001b[0m\u001b[1;34m'ysum'\u001b[0m\u001b[1;33m,\u001b[0m \u001b[0maxis\u001b[0m\u001b[1;33m=\u001b[0m\u001b[1;36m1\u001b[0m\u001b[1;33m,\u001b[0m \u001b[0minplace\u001b[0m\u001b[1;33m=\u001b[0m\u001b[0mTrue\u001b[0m\u001b[1;33m)\u001b[0m\u001b[1;33m\u001b[0m\u001b[0m\n\u001b[0;32m     70\u001b[0m     \u001b[0mdf\u001b[0m\u001b[1;33m.\u001b[0m\u001b[0mdrop\u001b[0m\u001b[1;33m(\u001b[0m\u001b[1;34m'x'\u001b[0m\u001b[1;33m,\u001b[0m \u001b[0maxis\u001b[0m\u001b[1;33m=\u001b[0m\u001b[1;36m1\u001b[0m\u001b[1;33m,\u001b[0m \u001b[0minplace\u001b[0m\u001b[1;33m=\u001b[0m\u001b[0mTrue\u001b[0m\u001b[1;33m)\u001b[0m\u001b[1;33m\u001b[0m\u001b[0m\n",
        "\u001b[1;32mC:\\Python27\\lib\\site-packages\\pandas\\core\\generic.pyc\u001b[0m in \u001b[0;36mdrop\u001b[1;34m(self, labels, axis, level, inplace, **kwargs)\u001b[0m\n\u001b[0;32m   1560\u001b[0m             \u001b[1;32melse\u001b[0m\u001b[1;33m:\u001b[0m\u001b[1;33m\u001b[0m\u001b[0m\n\u001b[0;32m   1561\u001b[0m                 \u001b[0mnew_axis\u001b[0m \u001b[1;33m=\u001b[0m \u001b[0maxis\u001b[0m\u001b[1;33m.\u001b[0m\u001b[0mdrop\u001b[0m\u001b[1;33m(\u001b[0m\u001b[0mlabels\u001b[0m\u001b[1;33m)\u001b[0m\u001b[1;33m\u001b[0m\u001b[0m\n\u001b[1;32m-> 1562\u001b[1;33m             \u001b[0mdropped\u001b[0m \u001b[1;33m=\u001b[0m \u001b[0mself\u001b[0m\u001b[1;33m.\u001b[0m\u001b[0mreindex\u001b[0m\u001b[1;33m(\u001b[0m\u001b[1;33m**\u001b[0m\u001b[1;33m{\u001b[0m\u001b[0maxis_name\u001b[0m\u001b[1;33m:\u001b[0m \u001b[0mnew_axis\u001b[0m\u001b[1;33m}\u001b[0m\u001b[1;33m)\u001b[0m\u001b[1;33m\u001b[0m\u001b[0m\n\u001b[0m\u001b[0;32m   1563\u001b[0m             \u001b[1;32mtry\u001b[0m\u001b[1;33m:\u001b[0m\u001b[1;33m\u001b[0m\u001b[0m\n\u001b[0;32m   1564\u001b[0m                 \u001b[0mdropped\u001b[0m\u001b[1;33m.\u001b[0m\u001b[0maxes\u001b[0m\u001b[1;33m[\u001b[0m\u001b[0maxis_\u001b[0m\u001b[1;33m]\u001b[0m\u001b[1;33m.\u001b[0m\u001b[0mset_names\u001b[0m\u001b[1;33m(\u001b[0m\u001b[0maxis\u001b[0m\u001b[1;33m.\u001b[0m\u001b[0mnames\u001b[0m\u001b[1;33m,\u001b[0m \u001b[0minplace\u001b[0m\u001b[1;33m=\u001b[0m\u001b[0mTrue\u001b[0m\u001b[1;33m)\u001b[0m\u001b[1;33m\u001b[0m\u001b[0m\n",
        "\u001b[1;32mC:\\Python27\\lib\\site-packages\\pandas\\core\\frame.pyc\u001b[0m in \u001b[0;36mreindex\u001b[1;34m(self, index, columns, **kwargs)\u001b[0m\n\u001b[0;32m   2402\u001b[0m     \u001b[1;32mdef\u001b[0m \u001b[0mreindex\u001b[0m\u001b[1;33m(\u001b[0m\u001b[0mself\u001b[0m\u001b[1;33m,\u001b[0m \u001b[0mindex\u001b[0m\u001b[1;33m=\u001b[0m\u001b[0mNone\u001b[0m\u001b[1;33m,\u001b[0m \u001b[0mcolumns\u001b[0m\u001b[1;33m=\u001b[0m\u001b[0mNone\u001b[0m\u001b[1;33m,\u001b[0m \u001b[1;33m**\u001b[0m\u001b[0mkwargs\u001b[0m\u001b[1;33m)\u001b[0m\u001b[1;33m:\u001b[0m\u001b[1;33m\u001b[0m\u001b[0m\n\u001b[0;32m   2403\u001b[0m         return super(DataFrame, self).reindex(index=index, columns=columns,\n\u001b[1;32m-> 2404\u001b[1;33m                                               **kwargs)\n\u001b[0m\u001b[0;32m   2405\u001b[0m \u001b[1;33m\u001b[0m\u001b[0m\n\u001b[0;32m   2406\u001b[0m     \u001b[1;33m@\u001b[0m\u001b[0mAppender\u001b[0m\u001b[1;33m(\u001b[0m\u001b[0m_shared_docs\u001b[0m\u001b[1;33m[\u001b[0m\u001b[1;34m'reindex_axis'\u001b[0m\u001b[1;33m]\u001b[0m \u001b[1;33m%\u001b[0m \u001b[0m_shared_doc_kwargs\u001b[0m\u001b[1;33m)\u001b[0m\u001b[1;33m\u001b[0m\u001b[0m\n",
        "\u001b[1;32mC:\\Python27\\lib\\site-packages\\pandas\\core\\generic.pyc\u001b[0m in \u001b[0;36mreindex\u001b[1;34m(self, *args, **kwargs)\u001b[0m\n\u001b[0;32m   1729\u001b[0m         \u001b[1;31m# perform the reindex on the axes\u001b[0m\u001b[1;33m\u001b[0m\u001b[1;33m\u001b[0m\u001b[0m\n\u001b[0;32m   1730\u001b[0m         return self._reindex_axes(axes, level, limit,\n\u001b[1;32m-> 1731\u001b[1;33m                                   method, fill_value, copy).__finalize__(self)\n\u001b[0m\u001b[0;32m   1732\u001b[0m \u001b[1;33m\u001b[0m\u001b[0m\n\u001b[0;32m   1733\u001b[0m     \u001b[1;32mdef\u001b[0m \u001b[0m_reindex_axes\u001b[0m\u001b[1;33m(\u001b[0m\u001b[0mself\u001b[0m\u001b[1;33m,\u001b[0m \u001b[0maxes\u001b[0m\u001b[1;33m,\u001b[0m \u001b[0mlevel\u001b[0m\u001b[1;33m,\u001b[0m \u001b[0mlimit\u001b[0m\u001b[1;33m,\u001b[0m \u001b[0mmethod\u001b[0m\u001b[1;33m,\u001b[0m \u001b[0mfill_value\u001b[0m\u001b[1;33m,\u001b[0m \u001b[0mcopy\u001b[0m\u001b[1;33m)\u001b[0m\u001b[1;33m:\u001b[0m\u001b[1;33m\u001b[0m\u001b[0m\n",
        "\u001b[1;32mC:\\Python27\\lib\\site-packages\\pandas\\core\\frame.pyc\u001b[0m in \u001b[0;36m_reindex_axes\u001b[1;34m(self, axes, level, limit, method, fill_value, copy)\u001b[0m\n\u001b[0;32m   2356\u001b[0m         \u001b[1;32mif\u001b[0m \u001b[0mcolumns\u001b[0m \u001b[1;32mis\u001b[0m \u001b[1;32mnot\u001b[0m \u001b[0mNone\u001b[0m\u001b[1;33m:\u001b[0m\u001b[1;33m\u001b[0m\u001b[0m\n\u001b[0;32m   2357\u001b[0m             frame = frame._reindex_columns(columns, copy, level, fill_value,\n\u001b[1;32m-> 2358\u001b[1;33m                                            limit)\n\u001b[0m\u001b[0;32m   2359\u001b[0m \u001b[1;33m\u001b[0m\u001b[0m\n\u001b[0;32m   2360\u001b[0m         \u001b[0mindex\u001b[0m \u001b[1;33m=\u001b[0m \u001b[0maxes\u001b[0m\u001b[1;33m[\u001b[0m\u001b[1;34m'index'\u001b[0m\u001b[1;33m]\u001b[0m\u001b[1;33m\u001b[0m\u001b[0m\n",
        "\u001b[1;32mC:\\Python27\\lib\\site-packages\\pandas\\core\\frame.pyc\u001b[0m in \u001b[0;36m_reindex_columns\u001b[1;34m(self, new_columns, copy, level, fill_value, limit)\u001b[0m\n\u001b[0;32m   2379\u001b[0m         return self._reindex_with_indexers({1: [new_columns, indexer]},\n\u001b[0;32m   2380\u001b[0m                                            \u001b[0mcopy\u001b[0m\u001b[1;33m=\u001b[0m\u001b[0mcopy\u001b[0m\u001b[1;33m,\u001b[0m \u001b[0mfill_value\u001b[0m\u001b[1;33m=\u001b[0m\u001b[0mfill_value\u001b[0m\u001b[1;33m,\u001b[0m\u001b[1;33m\u001b[0m\u001b[0m\n\u001b[1;32m-> 2381\u001b[1;33m                                            allow_dups=False)\n\u001b[0m\u001b[0;32m   2382\u001b[0m \u001b[1;33m\u001b[0m\u001b[0m\n\u001b[0;32m   2383\u001b[0m     \u001b[1;32mdef\u001b[0m \u001b[0m_reindex_multi\u001b[0m\u001b[1;33m(\u001b[0m\u001b[0mself\u001b[0m\u001b[1;33m,\u001b[0m \u001b[0maxes\u001b[0m\u001b[1;33m,\u001b[0m \u001b[0mcopy\u001b[0m\u001b[1;33m,\u001b[0m \u001b[0mfill_value\u001b[0m\u001b[1;33m)\u001b[0m\u001b[1;33m:\u001b[0m\u001b[1;33m\u001b[0m\u001b[0m\n",
        "\u001b[1;32mC:\\Python27\\lib\\site-packages\\pandas\\core\\generic.pyc\u001b[0m in \u001b[0;36m_reindex_with_indexers\u001b[1;34m(self, reindexers, method, fill_value, limit, copy, allow_dups)\u001b[0m\n\u001b[0;32m   1832\u001b[0m                                                 \u001b[0mfill_value\u001b[0m\u001b[1;33m=\u001b[0m\u001b[0mfill_value\u001b[0m\u001b[1;33m,\u001b[0m\u001b[1;33m\u001b[0m\u001b[0m\n\u001b[0;32m   1833\u001b[0m                                                 \u001b[0mallow_dups\u001b[0m\u001b[1;33m=\u001b[0m\u001b[0mallow_dups\u001b[0m\u001b[1;33m,\u001b[0m\u001b[1;33m\u001b[0m\u001b[0m\n\u001b[1;32m-> 1834\u001b[1;33m                                                 copy=copy)\n\u001b[0m\u001b[0;32m   1835\u001b[0m \u001b[1;33m\u001b[0m\u001b[0m\n\u001b[0;32m   1836\u001b[0m         \u001b[1;32mif\u001b[0m \u001b[0mcopy\u001b[0m \u001b[1;32mand\u001b[0m \u001b[0mnew_data\u001b[0m \u001b[1;32mis\u001b[0m \u001b[0mself\u001b[0m\u001b[1;33m.\u001b[0m\u001b[0m_data\u001b[0m\u001b[1;33m:\u001b[0m\u001b[1;33m\u001b[0m\u001b[0m\n",
        "\u001b[1;32mC:\\Python27\\lib\\site-packages\\pandas\\core\\internals.pyc\u001b[0m in \u001b[0;36mreindex_indexer\u001b[1;34m(self, new_axis, indexer, axis, fill_value, allow_dups, copy)\u001b[0m\n\u001b[0;32m   3164\u001b[0m         \u001b[0mnew_axes\u001b[0m \u001b[1;33m=\u001b[0m \u001b[0mlist\u001b[0m\u001b[1;33m(\u001b[0m\u001b[0mself\u001b[0m\u001b[1;33m.\u001b[0m\u001b[0maxes\u001b[0m\u001b[1;33m)\u001b[0m\u001b[1;33m\u001b[0m\u001b[0m\n\u001b[0;32m   3165\u001b[0m         \u001b[0mnew_axes\u001b[0m\u001b[1;33m[\u001b[0m\u001b[0maxis\u001b[0m\u001b[1;33m]\u001b[0m \u001b[1;33m=\u001b[0m \u001b[0mnew_axis\u001b[0m\u001b[1;33m\u001b[0m\u001b[0m\n\u001b[1;32m-> 3166\u001b[1;33m         \u001b[1;32mreturn\u001b[0m \u001b[0mself\u001b[0m\u001b[1;33m.\u001b[0m\u001b[0m__class__\u001b[0m\u001b[1;33m(\u001b[0m\u001b[0mnew_blocks\u001b[0m\u001b[1;33m,\u001b[0m \u001b[0mnew_axes\u001b[0m\u001b[1;33m)\u001b[0m\u001b[1;33m\u001b[0m\u001b[0m\n\u001b[0m\u001b[0;32m   3167\u001b[0m \u001b[1;33m\u001b[0m\u001b[0m\n\u001b[0;32m   3168\u001b[0m     \u001b[1;32mdef\u001b[0m \u001b[0m_slice_take_blocks_ax0\u001b[0m\u001b[1;33m(\u001b[0m\u001b[0mself\u001b[0m\u001b[1;33m,\u001b[0m \u001b[0mslice_or_indexer\u001b[0m\u001b[1;33m,\u001b[0m \u001b[0mfill_tuple\u001b[0m\u001b[1;33m=\u001b[0m\u001b[0mNone\u001b[0m\u001b[1;33m)\u001b[0m\u001b[1;33m:\u001b[0m\u001b[1;33m\u001b[0m\u001b[0m\n",
        "\u001b[1;32mC:\\Python27\\lib\\site-packages\\pandas\\core\\internals.pyc\u001b[0m in \u001b[0;36m__init__\u001b[1;34m(self, blocks, axes, do_integrity_check, fastpath)\u001b[0m\n\u001b[0;32m   2174\u001b[0m \u001b[1;33m\u001b[0m\u001b[0m\n\u001b[0;32m   2175\u001b[0m         \u001b[1;32mif\u001b[0m \u001b[0mdo_integrity_check\u001b[0m\u001b[1;33m:\u001b[0m\u001b[1;33m\u001b[0m\u001b[0m\n\u001b[1;32m-> 2176\u001b[1;33m             \u001b[0mself\u001b[0m\u001b[1;33m.\u001b[0m\u001b[0m_verify_integrity\u001b[0m\u001b[1;33m(\u001b[0m\u001b[1;33m)\u001b[0m\u001b[1;33m\u001b[0m\u001b[0m\n\u001b[0m\u001b[0;32m   2177\u001b[0m \u001b[1;33m\u001b[0m\u001b[0m\n\u001b[0;32m   2178\u001b[0m         \u001b[0mself\u001b[0m\u001b[1;33m.\u001b[0m\u001b[0m_consolidate_check\u001b[0m\u001b[1;33m(\u001b[0m\u001b[1;33m)\u001b[0m\u001b[1;33m\u001b[0m\u001b[0m\n",
        "\u001b[1;32mC:\\Python27\\lib\\site-packages\\pandas\\core\\internals.pyc\u001b[0m in \u001b[0;36m_verify_integrity\u001b[1;34m(self)\u001b[0m\n\u001b[0;32m   2381\u001b[0m \u001b[1;33m\u001b[0m\u001b[0m\n\u001b[0;32m   2382\u001b[0m     \u001b[1;32mdef\u001b[0m \u001b[0m_verify_integrity\u001b[0m\u001b[1;33m(\u001b[0m\u001b[0mself\u001b[0m\u001b[1;33m)\u001b[0m\u001b[1;33m:\u001b[0m\u001b[1;33m\u001b[0m\u001b[0m\n\u001b[1;32m-> 2383\u001b[1;33m         \u001b[0mmgr_shape\u001b[0m \u001b[1;33m=\u001b[0m \u001b[0mself\u001b[0m\u001b[1;33m.\u001b[0m\u001b[0mshape\u001b[0m\u001b[1;33m\u001b[0m\u001b[0m\n\u001b[0m\u001b[0;32m   2384\u001b[0m         \u001b[0mtot_items\u001b[0m \u001b[1;33m=\u001b[0m \u001b[0msum\u001b[0m\u001b[1;33m(\u001b[0m\u001b[0mlen\u001b[0m\u001b[1;33m(\u001b[0m\u001b[0mx\u001b[0m\u001b[1;33m.\u001b[0m\u001b[0mmgr_locs\u001b[0m\u001b[1;33m)\u001b[0m \u001b[1;32mfor\u001b[0m \u001b[0mx\u001b[0m \u001b[1;32min\u001b[0m \u001b[0mself\u001b[0m\u001b[1;33m.\u001b[0m\u001b[0mblocks\u001b[0m\u001b[1;33m)\u001b[0m\u001b[1;33m\u001b[0m\u001b[0m\n\u001b[0;32m   2385\u001b[0m         \u001b[1;32mfor\u001b[0m \u001b[0mblock\u001b[0m \u001b[1;32min\u001b[0m \u001b[0mself\u001b[0m\u001b[1;33m.\u001b[0m\u001b[0mblocks\u001b[0m\u001b[1;33m:\u001b[0m\u001b[1;33m\u001b[0m\u001b[0m\n",
        "\u001b[1;32mC:\\Python27\\lib\\site-packages\\pandas\\core\\internals.pyc\u001b[0m in \u001b[0;36mshape\u001b[1;34m(self)\u001b[0m\n\u001b[0;32m   2202\u001b[0m     \u001b[1;33m@\u001b[0m\u001b[0mproperty\u001b[0m\u001b[1;33m\u001b[0m\u001b[0m\n\u001b[0;32m   2203\u001b[0m     \u001b[1;32mdef\u001b[0m \u001b[0mshape\u001b[0m\u001b[1;33m(\u001b[0m\u001b[0mself\u001b[0m\u001b[1;33m)\u001b[0m\u001b[1;33m:\u001b[0m\u001b[1;33m\u001b[0m\u001b[0m\n\u001b[1;32m-> 2204\u001b[1;33m         \u001b[1;32mreturn\u001b[0m \u001b[0mtuple\u001b[0m\u001b[1;33m(\u001b[0m\u001b[0mlen\u001b[0m\u001b[1;33m(\u001b[0m\u001b[0max\u001b[0m\u001b[1;33m)\u001b[0m \u001b[1;32mfor\u001b[0m \u001b[0max\u001b[0m \u001b[1;32min\u001b[0m \u001b[0mself\u001b[0m\u001b[1;33m.\u001b[0m\u001b[0maxes\u001b[0m\u001b[1;33m)\u001b[0m\u001b[1;33m\u001b[0m\u001b[0m\n\u001b[0m\u001b[0;32m   2205\u001b[0m \u001b[1;33m\u001b[0m\u001b[0m\n\u001b[0;32m   2206\u001b[0m     \u001b[1;33m@\u001b[0m\u001b[0mproperty\u001b[0m\u001b[1;33m\u001b[0m\u001b[0m\n",
        "\u001b[1;31mKeyboardInterrupt\u001b[0m: "
       ]
      }
     ],
     "prompt_number": 6
    },
    {
     "cell_type": "code",
     "collapsed": false,
     "input": [
      "metrics.head()"
     ],
     "language": "python",
     "metadata": {},
     "outputs": []
    },
    {
     "cell_type": "code",
     "collapsed": false,
     "input": [],
     "language": "python",
     "metadata": {},
     "outputs": []
    }
   ],
   "metadata": {}
  }
 ]
}