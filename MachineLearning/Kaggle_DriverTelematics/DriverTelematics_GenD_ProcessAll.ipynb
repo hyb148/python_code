{
 "metadata": {
  "name": "",
  "signature": "sha256:ba282469b57863ae7a4b59c218ac5824726c00ee3fbda9ae442a717d12102df4"
 },
 "nbformat": 3,
 "nbformat_minor": 0,
 "worksheets": [
  {
   "cells": [
    {
     "cell_type": "code",
     "collapsed": false,
     "input": [
      "import pandas as pd\n",
      "import numpy as np\n",
      "import matplotlib.pyplot as plt\n",
      "import math\n",
      "import os\n",
      "import os.path\n",
      "import glob\n"
     ],
     "language": "python",
     "metadata": {},
     "outputs": [],
     "prompt_number": 1
    },
    {
     "cell_type": "code",
     "collapsed": false,
     "input": [
      "def plottraces(df):\n",
      "    names = df.columns.values\n",
      "    cols = 4\n",
      "    rows = math.ceil(len(names)/float(cols))\n",
      "    print \"showing \", len(names), \" datasets in \", rows, \" rows by \", cols, \" cols\"\n",
      "\n",
      "    fig = plt.figure(figsize=(16,12), dpi=80)\n",
      "    fig.subplots_adjust(hspace = 0.5)\n",
      "    x = range(1,len(df))\n",
      "    base = np.ones(len(x))\n",
      "    list = [5,15,50,85,95]\n",
      "    for i,name in enumerate(names):\n",
      "            subplot(rows,cols,i+1)\n",
      "            plot(df[name])\n",
      "            for i in [50,75,95,100]: #range(0,101,5):\n",
      "                median = base*np.percentile(df[name],i)\n",
      "                plot(x,median)\n",
      "            title(name)"
     ],
     "language": "python",
     "metadata": {},
     "outputs": [],
     "prompt_number": 2
    },
    {
     "cell_type": "markdown",
     "metadata": {},
     "source": [
      "len(df)"
     ]
    },
    {
     "cell_type": "code",
     "collapsed": false,
     "input": [
      "def plotxy(df,x,y,num_plots=6):\n",
      "    start = 0\n",
      "    plt.figure(figsize=(16,12), dpi=80)\n",
      "    labels = []\n",
      "    colormap = plt.cm.gist_ncar\n",
      "    plt.gca().set_color_cycle([colormap(i) for i in np.linspace(0, 0.9, num_plots)])\n",
      "    for i,offset in enumerate(range(rows/num_plots,rows,rows/num_plots)):\n",
      "        labels.append(r'seg %i' % (i))\n",
      "        if(x==[]):\n",
      "            plot(df.index[start:offset],df[y][start:offset])\n",
      "        else:\n",
      "            plot(df[x][start:offset],df[y][start:offset])\n",
      "        start =+ offset\n",
      "    plt.legend(labels, ncol=num_plots, loc='upper center', \n",
      "               bbox_to_anchor=[0.5, 1.1], \n",
      "               columnspacing=1.0, labelspacing=0.0,\n",
      "               handletextpad=0.0, handlelength=1.5,\n",
      "               fancybox=True, shadow=True)\n"
     ],
     "language": "python",
     "metadata": {},
     "outputs": [],
     "prompt_number": 3
    },
    {
     "cell_type": "code",
     "collapsed": false,
     "input": [
      "def getdriverdata(filename):\n",
      "    # gen x, y\n",
      "    df = pd.read_csv(filepath_or_buffer=filename, sep=',')\n",
      "    df.dropna(how=\"all\", inplace=True) # drops the empty line at file-end\n",
      "    #\n",
      "    #df.head()\n",
      "    rows = df.shape[0]\n",
      "    #print df.head()\n",
      "    #print \"rows\", rows\n",
      "    #\n",
      "    #plotxy(df,'x','y')\n",
      "    \n",
      "    # gen dx, dy, xsum, ysum, hdg, spd, yaw\n",
      "    #http://stackoverflow.com/questions/22081878/get-previous-rows-value-and-calculate-new-column-pandas-python\n",
      "    df['dx'] = df['x'] - df['x'].shift(1)\n",
      "    df['dy'] = df['y'] - df['y'].shift(1)\n",
      "    #showdata(df,'dx','dy')\n",
      "    #\n",
      "    df['xsum'] = df['dx'].cumsum()\n",
      "    df['ysum'] = df['dy'].cumsum()\n",
      "    df['hdg'] = np.arctan2(df['ysum'],df['xsum'])\n",
      "    #showdata(df,[],'hdg')\n",
      "    #\n",
      "    # use dot product to speed up?\n",
      "    df['spd'] = np.sqrt(df['dx']*df['dx']+df['dy']*df['dy'])\n",
      "    df['yaw'] = np.arctan2(df['dy'],df['dx'])\n",
      "    #showdata(df,[],'yaw_deg')\n",
      "\n",
      "    #print df.shape\n",
      "    #print df.head()\n",
      "    # gen dx2, dy2, acc, dyaw_deg\n",
      "    df['dx2'] = df['dx'] - df['dx'].shift(1)\n",
      "    df['dy2'] = df['dy'] - df['dy'].shift(1)\n",
      "    #showdata(df,'dx2','dy2')\n",
      "\n",
      "    # use dot product to speed up?\n",
      "    #df['acc'] = np.sqrt(df['dx2']*df['dx2']+df['dy2']*df['dy2'])\n",
      "    df['dyaw'] = numpy.abs(np.arctan2(df['dy2'],df['dx2']))\n",
      "    #showdata(df,[],'dyaw')\n",
      "\n",
      "    df['dspd'] = df['spd'] - df['spd'].shift(1)\n",
      "    \n",
      "    df['dspd_decel'] = df['dspd']\n",
      "    df.ix[df['dspd_decel']>0,'dspd_decel'] = 0\n",
      "    df['dspd_decel'] = numpy.abs(df['dspd_decel'])\n",
      "    \n",
      "    df['dspd_accel'] = df['dspd']\n",
      "    df.ix[df['dspd_accel']<0,'dspd_accel'] = 0\n",
      "    \n",
      "    df['dyaw2'] = numpy.abs(df['yaw'] - df['yaw'].shift(1))\n",
      "    \n",
      "    df['yaw_spd_ratio'] = numpy.abs(df['yaw']/df['spd'])\n",
      "    \n",
      "    df['dspdaccel_spd_ratio'] = df['dspd']/df['spd']\n",
      "    df.ix[df['dspdaccel_spd_ratio']<0,'dspdaccel_spd_ratio'] = 0\n",
      "    \n",
      "    df['dspddecel_spd_ratio'] = df['dspd']/df['spd']\n",
      "    df.ix[df['dspddecel_spd_ratio']>0,'dspddecel_spd_ratio'] = 0\n",
      "    df['dspddecel_spd_ratio'] = numpy.abs(df['dspddecel_spd_ratio'])\n",
      "    \n",
      "    df['dyaw_spd_ratio'] = df['dyaw']/df['spd']\n",
      "    \n",
      "    df['dyaw_acc_ratio'] = numpy.abs(df['dyaw']/df['dspd'])\n",
      "    \n",
      "    #df['dspd_spd_ratio'] = df['dspd']/df['spd']\n",
      "    \n",
      "    # drop un-needed columns\n",
      "    df.drop('xsum', axis=1, inplace=True)\n",
      "    df.drop('ysum', axis=1, inplace=True)\n",
      "    df.drop('x', axis=1, inplace=True)\n",
      "    df.drop('y', axis=1, inplace=True)\n",
      "    df.drop('dx', axis=1, inplace=True)\n",
      "    df.drop('dy', axis=1, inplace=True)\n",
      "    df.drop('hdg', axis=1, inplace=True)\n",
      "    df.drop('yaw', axis=1, inplace=True)\n",
      "    df.drop('dx2', axis=1, inplace=True)\n",
      "    df.drop('dy2', axis=1, inplace=True)\n",
      "    df.drop('dspd', axis=1, inplace=True)\n",
      "    #df.drop('dspd_spd_ratio', axis=1, inplace=True)\n",
      "\n",
      "    # metrics\n",
      "    columns = ['filename','dyaw', 'dspd_decel', 'dspd_accel', 'dyaw2', 'yaw_spd_ratio',\n",
      "               'dspdaccel_spd_ratio', 'dspddecel_spd_ratio', 'dyaw_spd_ratio', 'dyaw_acc_ratio']\n",
      "    metrics = pd.DataFrame(data=np.zeros((1,len(columns))), columns=columns)    #metrics = pd.DataFrame()\n",
      "    \n",
      "    #dyaw - median\n",
      "    name = 'dyaw'\n",
      "    yaw_limit = np.percentile(df[name],50)\n",
      "    #print \"yaw_limit = \",yaw_limit, \" count = \", len(df.ix[df[name] > yaw_limit, name])\n",
      "    metrics[name] = len(df.ix[df[name] > yaw_limit, name])\n",
      "    \n",
      "    #dspd_decel - 1.5\n",
      "    name = 'dspd_decel'\n",
      "    metrics[name] = len(df.ix[df[name] > 1.5])\n",
      "    \n",
      "    #dspd_accel - 1.5\n",
      "    name = 'dspd_accel'\n",
      "    metrics[name] = len(df.ix[df[name] > 1.5])\n",
      "    \n",
      "    #dyaw2 - 0.5\n",
      "    name = 'dyaw2'\n",
      "    metrics[name] = len(df.ix[df[name] > 0.5])\n",
      "    \n",
      "    #yaw_spd_ratio - 2\n",
      "    name = 'yaw_spd_ratio'\n",
      "    metrics[name] = len(df.ix[df[name] > 2])\n",
      "    \n",
      "    #dspdaccel_spd_ratio - .1\n",
      "    name = 'dspdaccel_spd_ratio'\n",
      "    metrics[name] = len(df.ix[df[name] > 0.1])\n",
      "    \n",
      "    #dspddecel_spd_ratio - 0.5\n",
      "    name = 'dspddecel_spd_ratio'\n",
      "    metrics[name] = len(df.ix[df[name] > 0.5])\n",
      "    \n",
      "    #dyaw_spd_ratio - 1\n",
      "    name = 'dyaw_spd_ratio'\n",
      "    metrics[name] = len(df.ix[df[name] > 1.0])\n",
      "    \n",
      "    #dyaw_acc_ratio - 0.3\n",
      "    name = 'dyaw_acc_ratio'\n",
      "    metrics[name] = len(df.ix[df[name] > 0.1e14])\n",
      "\n",
      "    # change NaNs to 0\n",
      "    df.replace([np.inf, -np.inf], np.nan)\n",
      "    df = df.fillna(0)\n",
      "    return df, metrics"
     ],
     "language": "python",
     "metadata": {},
     "outputs": [],
     "prompt_number": 4
    },
    {
     "cell_type": "markdown",
     "metadata": {},
     "source": [
      "def genMedianMaxMin(df):\n",
      "    "
     ]
    },
    {
     "cell_type": "markdown",
     "metadata": {},
     "source": [
      "basedir = r'..\\..\\..\\_python_data/Driver Telematics Analysis/drivers/'\n",
      "ext = '.csv'\n",
      "for dir in os.listdir(basedir):\n",
      "    cdir = os.path.join(basedir,dir)\n",
      "    print cdir\n",
      "    j += 1\n",
      "    if(j>4):\n",
      "        j=0\n",
      "        break\n",
      "    for file in os.listdir(cdir):\n",
      "        print os.path.join(cdir,file)\n",
      "        i+=1        \n",
      "        if(i>4):\n",
      "            i = 0\n",
      "            break\n",
      "    #for files in os.listdir(basedir+dir)\n"
     ]
    },
    {
     "cell_type": "code",
     "collapsed": false,
     "input": [
      "columns = ['filename','dyaw', 'dspd_decel', 'dspd_accel', 'dyaw2', 'yaw_spd_ratio',\n",
      "           'dspdaccel_spd_ratio', 'dspddecel_spd_ratio', 'dyaw_spd_ratio', 'dyaw_acc_ratio']\n",
      "\n",
      "basedir = r'..\\..\\..\\_python_data/Driver Telematics Analysis/drivers/'\n",
      "ext = '.csv'\n",
      "\n",
      "i=0\n",
      "for dir in os.listdir(basedir):\n",
      "    cdir = os.path.join(basedir,dir)\n",
      "    i += 1\n",
      "    if( glob.glob(cdir+'/analysis.pkl') != []):\n",
      "        print i, \": skipping \", cdir\n",
      "        continue\n",
      "    else:\n",
      "        print i, \": processing \", cdir\n",
      "    metrics = pd.DataFrame(data=np.zeros((0,len(columns))), columns=columns)    #metrics = pd.DataFrame()\n",
      "    for file in os.listdir(cdir):\n",
      "        if(file.endswith(ext)):\n",
      "            filepath = os.path.join(cdir,file)\n",
      "            df, met = getdriverdata(filepath)\n",
      "            met['filename']=os.path.join(dir,file)\n",
      "            #print met.head()\n",
      "            metrics = pd.concat([metrics.ix[:],met.ix[:]]).reset_index(drop=True)\n",
      "    metrics.to_pickle(os.path.join(cdir,'analysis.pkl'))\n",
      "print \"done.\"\n"
     ],
     "language": "python",
     "metadata": {},
     "outputs": [
      {
       "output_type": "stream",
       "stream": "stdout",
       "text": [
        "1 : skipping  ..\\..\\..\\_python_data/Driver Telematics Analysis/drivers/1\n",
        "2"
       ]
      },
      {
       "output_type": "stream",
       "stream": "stdout",
       "text": [
        " : skipping  ..\\..\\..\\_python_data/Driver Telematics Analysis/drivers/10\n",
        "3 : skipping  ..\\..\\..\\_python_data/Driver Telematics Analysis/drivers/100\n",
        "4"
       ]
      },
      {
       "output_type": "stream",
       "stream": "stdout",
       "text": [
        " : skipping  ..\\..\\..\\_python_data/Driver Telematics Analysis/drivers/1000\n",
        "5 : skipping  ..\\..\\..\\_python_data/Driver Telematics Analysis/drivers/1001\n",
        "6 : skipping  ..\\..\\..\\_python_data/Driver Telematics Analysis/drivers/1002\n",
        "7 : skipping  ..\\..\\..\\_python_data/Driver Telematics Analysis/drivers/1003\n",
        "8"
       ]
      },
      {
       "output_type": "stream",
       "stream": "stdout",
       "text": [
        " : skipping  ..\\..\\..\\_python_data/Driver Telematics Analysis/drivers/1004\n",
        "9 : skipping  ..\\..\\..\\_python_data/Driver Telematics Analysis/drivers/1005\n",
        "10"
       ]
      },
      {
       "output_type": "stream",
       "stream": "stdout",
       "text": [
        " : skipping  ..\\..\\..\\_python_data/Driver Telematics Analysis/drivers/1006\n",
        "11 : skipping  ..\\..\\..\\_python_data/Driver Telematics Analysis/drivers/1007\n",
        "12 : skipping  ..\\..\\..\\_python_data/Driver Telematics Analysis/drivers/1008\n",
        "13 : skipping  ..\\..\\..\\_python_data/Driver Telematics Analysis/drivers/1009\n",
        "14 : skipping  ..\\..\\..\\_python_data/Driver Telematics Analysis/drivers/101\n",
        "15"
       ]
      },
      {
       "output_type": "stream",
       "stream": "stdout",
       "text": [
        " : skipping  ..\\..\\..\\_python_data/Driver Telematics Analysis/drivers/1010\n",
        "16 : skipping  ..\\..\\..\\_python_data/Driver Telematics Analysis/drivers/1011\n",
        "17 : skipping  ..\\..\\..\\_python_data/Driver Telematics Analysis/drivers/1012\n",
        "18"
       ]
      },
      {
       "output_type": "stream",
       "stream": "stdout",
       "text": [
        " : skipping  ..\\..\\..\\_python_data/Driver Telematics Analysis/drivers/1013\n",
        "19 : skipping  ..\\..\\..\\_python_data/Driver Telematics Analysis/drivers/1015\n",
        "20 : skipping  ..\\..\\..\\_python_data/Driver Telematics Analysis/drivers/1016\n",
        "21 : skipping  ..\\..\\..\\_python_data/Driver Telematics Analysis/drivers/1017\n",
        "22 : skipping  ..\\..\\..\\_python_data/Driver Telematics Analysis/drivers/1018\n",
        "23"
       ]
      },
      {
       "output_type": "stream",
       "stream": "stdout",
       "text": [
        " : skipping  ..\\..\\..\\_python_data/Driver Telematics Analysis/drivers/102\n",
        "24 : skipping  ..\\..\\..\\_python_data/Driver Telematics Analysis/drivers/1020\n",
        "25 : skipping  ..\\..\\..\\_python_data/Driver Telematics Analysis/drivers/1021\n",
        "26 : skipping  ..\\..\\..\\_python_data/Driver Telematics Analysis/drivers/1022\n",
        "27 : skipping  ..\\..\\..\\_python_data/Driver Telematics Analysis/drivers/1023\n",
        "28"
       ]
      },
      {
       "output_type": "stream",
       "stream": "stdout",
       "text": [
        " : skipping  ..\\..\\..\\_python_data/Driver Telematics Analysis/drivers/1024\n",
        "29 : skipping  ..\\..\\..\\_python_data/Driver Telematics Analysis/drivers/1025\n",
        "30 : skipping  ..\\..\\..\\_python_data/Driver Telematics Analysis/drivers/1026\n",
        "31"
       ]
      },
      {
       "output_type": "stream",
       "stream": "stdout",
       "text": [
        " : skipping  ..\\..\\..\\_python_data/Driver Telematics Analysis/drivers/1027\n",
        "32 : skipping  ..\\..\\..\\_python_data/Driver Telematics Analysis/drivers/1029\n",
        "33"
       ]
      },
      {
       "output_type": "stream",
       "stream": "stdout",
       "text": [
        " : skipping  ..\\..\\..\\_python_data/Driver Telematics Analysis/drivers/103\n",
        "34 : skipping  ..\\..\\..\\_python_data/Driver Telematics Analysis/drivers/1030\n",
        "35 : skipping  ..\\..\\..\\_python_data/Driver Telematics Analysis/drivers/1031\n",
        "36 : skipping  ..\\..\\..\\_python_data/Driver Telematics Analysis/drivers/1032\n",
        "37"
       ]
      },
      {
       "output_type": "stream",
       "stream": "stdout",
       "text": [
        " : skipping  ..\\..\\..\\_python_data/Driver Telematics Analysis/drivers/1033\n",
        "38 : skipping  ..\\..\\..\\_python_data/Driver Telematics Analysis/drivers/1035\n",
        "39"
       ]
      },
      {
       "output_type": "stream",
       "stream": "stdout",
       "text": [
        " : skipping  ..\\..\\..\\_python_data/Driver Telematics Analysis/drivers/1036\n",
        "40"
       ]
      },
      {
       "output_type": "stream",
       "stream": "stdout",
       "text": [
        " : skipping  ..\\..\\..\\_python_data/Driver Telematics Analysis/drivers/1037\n",
        "41 : skipping  ..\\..\\..\\_python_data/Driver Telematics Analysis/drivers/1038\n",
        "42 : skipping  ..\\..\\..\\_python_data/Driver Telematics Analysis/drivers/104\n",
        "43 : skipping  ..\\..\\..\\_python_data/Driver Telematics Analysis/drivers/1040\n",
        "44 : skipping  ..\\..\\..\\_python_data/Driver Telematics Analysis/drivers/1041\n",
        "45"
       ]
      },
      {
       "output_type": "stream",
       "stream": "stdout",
       "text": [
        " : skipping  ..\\..\\..\\_python_data/Driver Telematics Analysis/drivers/1042\n",
        "46 : skipping  ..\\..\\..\\_python_data/Driver Telematics Analysis/drivers/1043\n",
        "47 : skipping  ..\\..\\..\\_python_data/Driver Telematics Analysis/drivers/1044\n",
        "48 : skipping  ..\\..\\..\\_python_data/Driver Telematics Analysis/drivers/1045\n",
        "49"
       ]
      },
      {
       "output_type": "stream",
       "stream": "stdout",
       "text": [
        " : skipping  ..\\..\\..\\_python_data/Driver Telematics Analysis/drivers/1046\n",
        "50 : skipping  ..\\..\\..\\_python_data/Driver Telematics Analysis/drivers/1047\n",
        "51 : skipping  ..\\..\\..\\_python_data/Driver Telematics Analysis/drivers/1048\n",
        "52"
       ]
      },
      {
       "output_type": "stream",
       "stream": "stdout",
       "text": [
        " : skipping  ..\\..\\..\\_python_data/Driver Telematics Analysis/drivers/1049\n",
        "53 : skipping  ..\\..\\..\\_python_data/Driver Telematics Analysis/drivers/105\n",
        "54 : skipping  ..\\..\\..\\_python_data/Driver Telematics Analysis/drivers/1050\n",
        "55 : skipping  ..\\..\\..\\_python_data/Driver Telematics Analysis/drivers/1051\n",
        "56"
       ]
      },
      {
       "output_type": "stream",
       "stream": "stdout",
       "text": [
        " : skipping  ..\\..\\..\\_python_data/Driver Telematics Analysis/drivers/1052\n",
        "57 : skipping  ..\\..\\..\\_python_data/Driver Telematics Analysis/drivers/1053\n",
        "58 : skipping  ..\\..\\..\\_python_data/Driver Telematics Analysis/drivers/1054\n",
        "59"
       ]
      },
      {
       "output_type": "stream",
       "stream": "stdout",
       "text": [
        " : skipping  ..\\..\\..\\_python_data/Driver Telematics Analysis/drivers/1055\n",
        "60 : skipping  ..\\..\\..\\_python_data/Driver Telematics Analysis/drivers/1056\n",
        "61"
       ]
      },
      {
       "output_type": "stream",
       "stream": "stdout",
       "text": [
        " : skipping  ..\\..\\..\\_python_data/Driver Telematics Analysis/drivers/1057\n",
        "62 : skipping  ..\\..\\..\\_python_data/Driver Telematics Analysis/drivers/1058\n",
        "63 : skipping  ..\\..\\..\\_python_data/Driver Telematics Analysis/drivers/1059\n",
        "64"
       ]
      },
      {
       "output_type": "stream",
       "stream": "stdout",
       "text": [
        " : skipping  ..\\..\\..\\_python_data/Driver Telematics Analysis/drivers/106\n",
        "65 : skipping  ..\\..\\..\\_python_data/Driver Telematics Analysis/drivers/1060\n",
        "66"
       ]
      },
      {
       "output_type": "stream",
       "stream": "stdout",
       "text": [
        " : skipping  ..\\..\\..\\_python_data/Driver Telematics Analysis/drivers/1061\n",
        "67 : skipping  ..\\..\\..\\_python_data/Driver Telematics Analysis/drivers/1062\n",
        "68"
       ]
      },
      {
       "output_type": "stream",
       "stream": "stdout",
       "text": [
        " : skipping  ..\\..\\..\\_python_data/Driver Telematics Analysis/drivers/1063\n",
        "69 : skipping  ..\\..\\..\\_python_data/Driver Telematics Analysis/drivers/1064\n",
        "70 : skipping  ..\\..\\..\\_python_data/Driver Telematics Analysis/drivers/1065\n",
        "71"
       ]
      },
      {
       "output_type": "stream",
       "stream": "stdout",
       "text": [
        " : skipping  ..\\..\\..\\_python_data/Driver Telematics Analysis/drivers/1066\n",
        "72 : skipping  ..\\..\\..\\_python_data/Driver Telematics Analysis/drivers/1067\n",
        "73 : skipping  ..\\..\\..\\_python_data/Driver Telematics Analysis/drivers/1068\n",
        "74"
       ]
      },
      {
       "output_type": "stream",
       "stream": "stdout",
       "text": [
        " : skipping  ..\\..\\..\\_python_data/Driver Telematics Analysis/drivers/1069\n",
        "75 : skipping  ..\\..\\..\\_python_data/Driver Telematics Analysis/drivers/107\n",
        "76 : skipping  ..\\..\\..\\_python_data/Driver Telematics Analysis/drivers/1070\n",
        "77"
       ]
      },
      {
       "output_type": "stream",
       "stream": "stdout",
       "text": [
        " : skipping  ..\\..\\..\\_python_data/Driver Telematics Analysis/drivers/1071\n",
        "78 : skipping  ..\\..\\..\\_python_data/Driver Telematics Analysis/drivers/1072\n",
        "79 : skipping  ..\\..\\..\\_python_data/Driver Telematics Analysis/drivers/1073\n",
        "80 : skipping  ..\\..\\..\\_python_data/Driver Telematics Analysis/drivers/1074\n",
        "81"
       ]
      },
      {
       "output_type": "stream",
       "stream": "stdout",
       "text": [
        " : skipping  ..\\..\\..\\_python_data/Driver Telematics Analysis/drivers/1076\n",
        "82 : skipping  ..\\..\\..\\_python_data/Driver Telematics Analysis/drivers/1077\n",
        "83 : skipping  ..\\..\\..\\_python_data/Driver Telematics Analysis/drivers/1078\n",
        "84"
       ]
      },
      {
       "output_type": "stream",
       "stream": "stdout",
       "text": [
        " : skipping  ..\\..\\..\\_python_data/Driver Telematics Analysis/drivers/1079\n",
        "85 : skipping  ..\\..\\..\\_python_data/Driver Telematics Analysis/drivers/108\n",
        "86 : skipping  ..\\..\\..\\_python_data/Driver Telematics Analysis/drivers/1080\n",
        "87 : skipping  ..\\..\\..\\_python_data/Driver Telematics Analysis/drivers/1081\n",
        "88"
       ]
      },
      {
       "output_type": "stream",
       "stream": "stdout",
       "text": [
        " : skipping  ..\\..\\..\\_python_data/Driver Telematics Analysis/drivers/1082\n",
        "89 : skipping  ..\\..\\..\\_python_data/Driver Telematics Analysis/drivers/1083\n",
        "90 : skipping  ..\\..\\..\\_python_data/Driver Telematics Analysis/drivers/1084\n",
        "91"
       ]
      },
      {
       "output_type": "stream",
       "stream": "stdout",
       "text": [
        " : skipping  ..\\..\\..\\_python_data/Driver Telematics Analysis/drivers/1085\n",
        "92 : skipping  ..\\..\\..\\_python_data/Driver Telematics Analysis/drivers/1086\n",
        "93 : skipping  ..\\..\\..\\_python_data/Driver Telematics Analysis/drivers/1087\n",
        "94 : skipping  ..\\..\\..\\_python_data/Driver Telematics Analysis/drivers/1088\n",
        "95"
       ]
      },
      {
       "output_type": "stream",
       "stream": "stdout",
       "text": [
        " : skipping  ..\\..\\..\\_python_data/Driver Telematics Analysis/drivers/1089\n",
        "96 : skipping  ..\\..\\..\\_python_data/Driver Telematics Analysis/drivers/109\n",
        "97 : skipping  ..\\..\\..\\_python_data/Driver Telematics Analysis/drivers/1090\n",
        "98 : skipping  ..\\..\\..\\_python_data/Driver Telematics Analysis/drivers/1091\n",
        "99 : skipping  ..\\..\\..\\_python_data/Driver Telematics Analysis/drivers/1092\n",
        "100"
       ]
      },
      {
       "output_type": "stream",
       "stream": "stdout",
       "text": [
        " : skipping  ..\\..\\..\\_python_data/Driver Telematics Analysis/drivers/1093\n",
        "101 : skipping  ..\\..\\..\\_python_data/Driver Telematics Analysis/drivers/1094\n",
        "102 : skipping  ..\\..\\..\\_python_data/Driver Telematics Analysis/drivers/1095\n",
        "103"
       ]
      },
      {
       "output_type": "stream",
       "stream": "stdout",
       "text": [
        " : skipping  ..\\..\\..\\_python_data/Driver Telematics Analysis/drivers/1096\n",
        "104 : skipping  ..\\..\\..\\_python_data/Driver Telematics Analysis/drivers/1097\n",
        "105 : skipping  ..\\..\\..\\_python_data/Driver Telematics Analysis/drivers/1098\n",
        "106 : skipping  ..\\..\\..\\_python_data/Driver Telematics Analysis/drivers/1099\n",
        "107 : skipping  ..\\..\\..\\_python_data/Driver Telematics Analysis/drivers/11\n",
        "108"
       ]
      },
      {
       "output_type": "stream",
       "stream": "stdout",
       "text": [
        " : skipping  ..\\..\\..\\_python_data/Driver Telematics Analysis/drivers/110\n",
        "109 : skipping  ..\\..\\..\\_python_data/Driver Telematics Analysis/drivers/1100\n",
        "110 : skipping  ..\\..\\..\\_python_data/Driver Telematics Analysis/drivers/1101\n",
        "111"
       ]
      },
      {
       "output_type": "stream",
       "stream": "stdout",
       "text": [
        " : skipping  ..\\..\\..\\_python_data/Driver Telematics Analysis/drivers/1102\n",
        "112 : skipping  ..\\..\\..\\_python_data/Driver Telematics Analysis/drivers/1103\n",
        "113 : skipping  ..\\..\\..\\_python_data/Driver Telematics Analysis/drivers/1104\n",
        "114"
       ]
      },
      {
       "output_type": "stream",
       "stream": "stdout",
       "text": [
        " : skipping  ..\\..\\..\\_python_data/Driver Telematics Analysis/drivers/1105\n",
        "115 : skipping  ..\\..\\..\\_python_data/Driver Telematics Analysis/drivers/1106\n",
        "116 : skipping  ..\\..\\..\\_python_data/Driver Telematics Analysis/drivers/1107\n",
        "117"
       ]
      },
      {
       "output_type": "stream",
       "stream": "stdout",
       "text": [
        " : skipping  ..\\..\\..\\_python_data/Driver Telematics Analysis/drivers/1108\n",
        "118 : skipping  ..\\..\\..\\_python_data/Driver Telematics Analysis/drivers/1109\n",
        "119 : skipping  ..\\..\\..\\_python_data/Driver Telematics Analysis/drivers/111\n",
        "120 : skipping  ..\\..\\..\\_python_data/Driver Telematics Analysis/drivers/1110\n",
        "121 : skipping  ..\\..\\..\\_python_data/Driver Telematics Analysis/drivers/1111\n",
        "122"
       ]
      },
      {
       "output_type": "stream",
       "stream": "stdout",
       "text": [
        " : skipping  ..\\..\\..\\_python_data/Driver Telematics Analysis/drivers/1113\n",
        "123 : skipping  ..\\..\\..\\_python_data/Driver Telematics Analysis/drivers/1114\n",
        "124 : skipping  ..\\..\\..\\_python_data/Driver Telematics Analysis/drivers/1115\n",
        "125 : skipping  ..\\..\\..\\_python_data/Driver Telematics Analysis/drivers/1117\n",
        "126"
       ]
      },
      {
       "output_type": "stream",
       "stream": "stdout",
       "text": [
        " : skipping  ..\\..\\..\\_python_data/Driver Telematics Analysis/drivers/1118\n",
        "127 : skipping  ..\\..\\..\\_python_data/Driver Telematics Analysis/drivers/1119\n",
        "128 : skipping  ..\\..\\..\\_python_data/Driver Telematics Analysis/drivers/112\n",
        "129"
       ]
      },
      {
       "output_type": "stream",
       "stream": "stdout",
       "text": [
        " : skipping  ..\\..\\..\\_python_data/Driver Telematics Analysis/drivers/1120\n",
        "130 : skipping  ..\\..\\..\\_python_data/Driver Telematics Analysis/drivers/1121\n",
        "131 : skipping  ..\\..\\..\\_python_data/Driver Telematics Analysis/drivers/1122\n",
        "132"
       ]
      },
      {
       "output_type": "stream",
       "stream": "stdout",
       "text": [
        " : skipping  ..\\..\\..\\_python_data/Driver Telematics Analysis/drivers/1124\n",
        "133 : skipping  ..\\..\\..\\_python_data/Driver Telematics Analysis/drivers/1125\n",
        "134 : skipping  ..\\..\\..\\_python_data/Driver Telematics Analysis/drivers/1126\n",
        "135"
       ]
      },
      {
       "output_type": "stream",
       "stream": "stdout",
       "text": [
        " : skipping  ..\\..\\..\\_python_data/Driver Telematics Analysis/drivers/1127\n",
        "136 : skipping  ..\\..\\..\\_python_data/Driver Telematics Analysis/drivers/1128\n",
        "137"
       ]
      },
      {
       "output_type": "stream",
       "stream": "stdout",
       "text": [
        " : skipping  ..\\..\\..\\_python_data/Driver Telematics Analysis/drivers/1129\n",
        "138 : skipping  ..\\..\\..\\_python_data/Driver Telematics Analysis/drivers/113\n",
        "139 : skipping  ..\\..\\..\\_python_data/Driver Telematics Analysis/drivers/1130\n",
        "140 : skipping  ..\\..\\..\\_python_data/Driver Telematics Analysis/drivers/1131\n",
        "141 : skipping  ..\\..\\..\\_python_data/Driver Telematics Analysis/drivers/1132\n",
        "142"
       ]
      },
      {
       "output_type": "stream",
       "stream": "stdout",
       "text": [
        " : skipping  ..\\..\\..\\_python_data/Driver Telematics Analysis/drivers/1133\n",
        "143"
       ]
      },
      {
       "output_type": "stream",
       "stream": "stdout",
       "text": [
        " : skipping  ..\\..\\..\\_python_data/Driver Telematics Analysis/drivers/1135\n",
        "144 : skipping  ..\\..\\..\\_python_data/Driver Telematics Analysis/drivers/1137\n",
        "145"
       ]
      },
      {
       "output_type": "stream",
       "stream": "stdout",
       "text": [
        " : skipping  ..\\..\\..\\_python_data/Driver Telematics Analysis/drivers/1138\n",
        "146 : skipping  ..\\..\\..\\_python_data/Driver Telematics Analysis/drivers/1139\n",
        "147 : skipping  ..\\..\\..\\_python_data/Driver Telematics Analysis/drivers/114\n",
        "148 : skipping  ..\\..\\..\\_python_data/Driver Telematics Analysis/drivers/1140\n",
        "149"
       ]
      },
      {
       "output_type": "stream",
       "stream": "stdout",
       "text": [
        " : skipping  ..\\..\\..\\_python_data/Driver Telematics Analysis/drivers/1141\n",
        "150 : skipping  ..\\..\\..\\_python_data/Driver Telematics Analysis/drivers/1142\n",
        "151"
       ]
      },
      {
       "output_type": "stream",
       "stream": "stdout",
       "text": [
        " : skipping  ..\\..\\..\\_python_data/Driver Telematics Analysis/drivers/1143\n",
        "152 : skipping  ..\\..\\..\\_python_data/Driver Telematics Analysis/drivers/1144\n",
        "153"
       ]
      },
      {
       "output_type": "stream",
       "stream": "stdout",
       "text": [
        " : skipping  ..\\..\\..\\_python_data/Driver Telematics Analysis/drivers/1145\n",
        "154 : skipping  ..\\..\\..\\_python_data/Driver Telematics Analysis/drivers/1146\n",
        "155 : skipping  ..\\..\\..\\_python_data/Driver Telematics Analysis/drivers/1147\n",
        "156"
       ]
      },
      {
       "output_type": "stream",
       "stream": "stdout",
       "text": [
        " : skipping  ..\\..\\..\\_python_data/Driver Telematics Analysis/drivers/1148\n",
        "157 : skipping  ..\\..\\..\\_python_data/Driver Telematics Analysis/drivers/1149\n",
        "158"
       ]
      },
      {
       "output_type": "stream",
       "stream": "stdout",
       "text": [
        " : skipping  ..\\..\\..\\_python_data/Driver Telematics Analysis/drivers/115\n",
        "159 : skipping  ..\\..\\..\\_python_data/Driver Telematics Analysis/drivers/1150\n",
        "160"
       ]
      },
      {
       "output_type": "stream",
       "stream": "stdout",
       "text": [
        " : skipping  ..\\..\\..\\_python_data/Driver Telematics Analysis/drivers/1151\n",
        "161 : skipping  ..\\..\\..\\_python_data/Driver Telematics Analysis/drivers/1152\n",
        "162 : skipping  ..\\..\\..\\_python_data/Driver Telematics Analysis/drivers/1153\n",
        "163"
       ]
      },
      {
       "output_type": "stream",
       "stream": "stdout",
       "text": [
        " : skipping  ..\\..\\..\\_python_data/Driver Telematics Analysis/drivers/1154\n",
        "164 : skipping  ..\\..\\..\\_python_data/Driver Telematics Analysis/drivers/1155\n",
        "165"
       ]
      },
      {
       "output_type": "stream",
       "stream": "stdout",
       "text": [
        " : skipping  ..\\..\\..\\_python_data/Driver Telematics Analysis/drivers/1156\n",
        "166 : skipping  ..\\..\\..\\_python_data/Driver Telematics Analysis/drivers/1157\n",
        "167 : skipping  ..\\..\\..\\_python_data/Driver Telematics Analysis/drivers/1158\n",
        "168 : skipping  ..\\..\\..\\_python_data/Driver Telematics Analysis/drivers/1159\n",
        "169 : skipping  ..\\..\\..\\_python_data/Driver Telematics Analysis/drivers/116\n",
        "170"
       ]
      },
      {
       "output_type": "stream",
       "stream": "stdout",
       "text": [
        " : skipping  ..\\..\\..\\_python_data/Driver Telematics Analysis/drivers/1160\n",
        "171 : skipping  ..\\..\\..\\_python_data/Driver Telematics Analysis/drivers/1161\n",
        "172 : skipping  ..\\..\\..\\_python_data/Driver Telematics Analysis/drivers/1162\n",
        "173"
       ]
      },
      {
       "output_type": "stream",
       "stream": "stdout",
       "text": [
        " : skipping  ..\\..\\..\\_python_data/Driver Telematics Analysis/drivers/1163\n",
        "174 : skipping  ..\\..\\..\\_python_data/Driver Telematics Analysis/drivers/1164\n",
        "175 : skipping  ..\\..\\..\\_python_data/Driver Telematics Analysis/drivers/1165\n",
        "176 : skipping  ..\\..\\..\\_python_data/Driver Telematics Analysis/drivers/1166\n",
        "177 : skipping  ..\\..\\..\\_python_data/Driver Telematics Analysis/drivers/1167\n",
        "178"
       ]
      },
      {
       "output_type": "stream",
       "stream": "stdout",
       "text": [
        " : skipping  ..\\..\\..\\_python_data/Driver Telematics Analysis/drivers/1169\n",
        "179 : skipping  ..\\..\\..\\_python_data/Driver Telematics Analysis/drivers/117\n",
        "180 : skipping  ..\\..\\..\\_python_data/Driver Telematics Analysis/drivers/1170\n",
        "181 : skipping  ..\\..\\..\\_python_data/Driver Telematics Analysis/drivers/1171\n",
        "182 : skipping  ..\\..\\..\\_python_data/Driver Telematics Analysis/drivers/1172\n",
        "183"
       ]
      },
      {
       "output_type": "stream",
       "stream": "stdout",
       "text": [
        " : skipping  ..\\..\\..\\_python_data/Driver Telematics Analysis/drivers/1173\n",
        "184 : skipping  ..\\..\\..\\_python_data/Driver Telematics Analysis/drivers/1174\n",
        "185 : skipping  ..\\..\\..\\_python_data/Driver Telematics Analysis/drivers/1175\n",
        "186 : skipping  ..\\..\\..\\_python_data/Driver Telematics Analysis/drivers/1176\n",
        "187"
       ]
      },
      {
       "output_type": "stream",
       "stream": "stdout",
       "text": [
        " : skipping  ..\\..\\..\\_python_data/Driver Telematics Analysis/drivers/1177\n",
        "188 : skipping  ..\\..\\..\\_python_data/Driver Telematics Analysis/drivers/1178\n",
        "189"
       ]
      },
      {
       "output_type": "stream",
       "stream": "stdout",
       "text": [
        " : skipping  ..\\..\\..\\_python_data/Driver Telematics Analysis/drivers/1179\n",
        "190 : skipping  ..\\..\\..\\_python_data/Driver Telematics Analysis/drivers/118\n",
        "191 : skipping  ..\\..\\..\\_python_data/Driver Telematics Analysis/drivers/1180\n",
        "192 : skipping  ..\\..\\..\\_python_data/Driver Telematics Analysis/drivers/1181\n",
        "193 : skipping  ..\\..\\..\\_python_data/Driver Telematics Analysis/drivers/1183\n",
        "194"
       ]
      },
      {
       "output_type": "stream",
       "stream": "stdout",
       "text": [
        " : skipping  ..\\..\\..\\_python_data/Driver Telematics Analysis/drivers/1184\n",
        "195 : skipping  ..\\..\\..\\_python_data/Driver Telematics Analysis/drivers/1185\n",
        "196 : skipping  ..\\..\\..\\_python_data/Driver Telematics Analysis/drivers/1186\n",
        "197 : skipping  ..\\..\\..\\_python_data/Driver Telematics Analysis/drivers/1187\n",
        "198 : skipping  ..\\..\\..\\_python_data/Driver Telematics Analysis/drivers/1188\n",
        "199"
       ]
      },
      {
       "output_type": "stream",
       "stream": "stdout",
       "text": [
        " : skipping  ..\\..\\..\\_python_data/Driver Telematics Analysis/drivers/119\n",
        "200 : skipping  ..\\..\\..\\_python_data/Driver Telematics Analysis/drivers/1190\n",
        "201 : skipping  ..\\..\\..\\_python_data/Driver Telematics Analysis/drivers/1191\n",
        "202"
       ]
      },
      {
       "output_type": "stream",
       "stream": "stdout",
       "text": [
        " : skipping  ..\\..\\..\\_python_data/Driver Telematics Analysis/drivers/1192\n",
        "203 : skipping  ..\\..\\..\\_python_data/Driver Telematics Analysis/drivers/1193\n",
        "204 : skipping  ..\\..\\..\\_python_data/Driver Telematics Analysis/drivers/1194\n",
        "205"
       ]
      },
      {
       "output_type": "stream",
       "stream": "stdout",
       "text": [
        " : skipping  ..\\..\\..\\_python_data/Driver Telematics Analysis/drivers/1195\n",
        "206 : skipping  ..\\..\\..\\_python_data/Driver Telematics Analysis/drivers/1196\n",
        "207 : skipping  ..\\..\\..\\_python_data/Driver Telematics Analysis/drivers/1197\n",
        "208 : skipping  ..\\..\\..\\_python_data/Driver Telematics Analysis/drivers/1198\n",
        "209 : skipping  ..\\..\\..\\_python_data/Driver Telematics Analysis/drivers/1199\n",
        "210"
       ]
      },
      {
       "output_type": "stream",
       "stream": "stdout",
       "text": [
        " : skipping  ..\\..\\..\\_python_data/Driver Telematics Analysis/drivers/12\n",
        "211 : skipping  ..\\..\\..\\_python_data/Driver Telematics Analysis/drivers/120\n",
        "212 : skipping  ..\\..\\..\\_python_data/Driver Telematics Analysis/drivers/1200\n",
        "213"
       ]
      },
      {
       "output_type": "stream",
       "stream": "stdout",
       "text": [
        " : skipping  ..\\..\\..\\_python_data/Driver Telematics Analysis/drivers/1201\n",
        "214 : skipping  ..\\..\\..\\_python_data/Driver Telematics Analysis/drivers/1202\n",
        "215 : skipping  ..\\..\\..\\_python_data/Driver Telematics Analysis/drivers/1203\n",
        "216"
       ]
      },
      {
       "output_type": "stream",
       "stream": "stdout",
       "text": [
        " : skipping  ..\\..\\..\\_python_data/Driver Telematics Analysis/drivers/1204\n",
        "217 : skipping  ..\\..\\..\\_python_data/Driver Telematics Analysis/drivers/1205\n",
        "218 : skipping  ..\\..\\..\\_python_data/Driver Telematics Analysis/drivers/1206\n",
        "219"
       ]
      },
      {
       "output_type": "stream",
       "stream": "stdout",
       "text": [
        " : skipping  ..\\..\\..\\_python_data/Driver Telematics Analysis/drivers/1207\n",
        "220 : skipping  ..\\..\\..\\_python_data/Driver Telematics Analysis/drivers/1208\n",
        "221 : skipping  ..\\..\\..\\_python_data/Driver Telematics Analysis/drivers/1209\n",
        "222"
       ]
      },
      {
       "output_type": "stream",
       "stream": "stdout",
       "text": [
        " : skipping  ..\\..\\..\\_python_data/Driver Telematics Analysis/drivers/121\n",
        "223 : skipping  ..\\..\\..\\_python_data/Driver Telematics Analysis/drivers/1210\n",
        "224 : skipping  ..\\..\\..\\_python_data/Driver Telematics Analysis/drivers/1211\n",
        "225 : skipping  ..\\..\\..\\_python_data/Driver Telematics Analysis/drivers/1212\n",
        "226 : skipping  ..\\..\\..\\_python_data/Driver Telematics Analysis/drivers/1214\n",
        "227"
       ]
      },
      {
       "output_type": "stream",
       "stream": "stdout",
       "text": [
        " : skipping  ..\\..\\..\\_python_data/Driver Telematics Analysis/drivers/1215\n",
        "228 : skipping  ..\\..\\..\\_python_data/Driver Telematics Analysis/drivers/1216\n",
        "229 : skipping  ..\\..\\..\\_python_data/Driver Telematics Analysis/drivers/1217\n",
        "230"
       ]
      },
      {
       "output_type": "stream",
       "stream": "stdout",
       "text": [
        " : skipping  ..\\..\\..\\_python_data/Driver Telematics Analysis/drivers/1218\n",
        "231 : skipping  ..\\..\\..\\_python_data/Driver Telematics Analysis/drivers/1219\n",
        "232 : skipping  ..\\..\\..\\_python_data/Driver Telematics Analysis/drivers/122\n",
        "233 : skipping  ..\\..\\..\\_python_data/Driver Telematics Analysis/drivers/1220\n",
        "234"
       ]
      },
      {
       "output_type": "stream",
       "stream": "stdout",
       "text": [
        " : skipping  ..\\..\\..\\_python_data/Driver Telematics Analysis/drivers/1221\n",
        "235 : skipping  ..\\..\\..\\_python_data/Driver Telematics Analysis/drivers/1222\n",
        "236 : skipping  ..\\..\\..\\_python_data/Driver Telematics Analysis/drivers/1223\n",
        "237"
       ]
      },
      {
       "output_type": "stream",
       "stream": "stdout",
       "text": [
        " : skipping  ..\\..\\..\\_python_data/Driver Telematics Analysis/drivers/1224\n",
        "238 : skipping  ..\\..\\..\\_python_data/Driver Telematics Analysis/drivers/1225\n",
        "239 : skipping  ..\\..\\..\\_python_data/Driver Telematics Analysis/drivers/1226\n",
        "240 : skipping  ..\\..\\..\\_python_data/Driver Telematics Analysis/drivers/1227\n",
        "241 : skipping  ..\\..\\..\\_python_data/Driver Telematics Analysis/drivers/1229\n",
        "242"
       ]
      },
      {
       "output_type": "stream",
       "stream": "stdout",
       "text": [
        " : skipping  ..\\..\\..\\_python_data/Driver Telematics Analysis/drivers/123\n",
        "243 : skipping  ..\\..\\..\\_python_data/Driver Telematics Analysis/drivers/1231\n",
        "244 : skipping  ..\\..\\..\\_python_data/Driver Telematics Analysis/drivers/1232\n",
        "245 : skipping  ..\\..\\..\\_python_data/Driver Telematics Analysis/drivers/1233\n",
        "246"
       ]
      },
      {
       "output_type": "stream",
       "stream": "stdout",
       "text": [
        " : skipping  ..\\..\\..\\_python_data/Driver Telematics Analysis/drivers/1234\n",
        "247 : skipping  ..\\..\\..\\_python_data/Driver Telematics Analysis/drivers/1235\n",
        "248"
       ]
      },
      {
       "output_type": "stream",
       "stream": "stdout",
       "text": [
        " : skipping  ..\\..\\..\\_python_data/Driver Telematics Analysis/drivers/1236\n",
        "249 : skipping  ..\\..\\..\\_python_data/Driver Telematics Analysis/drivers/1237\n",
        "250 : skipping  ..\\..\\..\\_python_data/Driver Telematics Analysis/drivers/1238\n",
        "251 : skipping  ..\\..\\..\\_python_data/Driver Telematics Analysis/drivers/1239\n",
        "252"
       ]
      },
      {
       "output_type": "stream",
       "stream": "stdout",
       "text": [
        " : skipping  ..\\..\\..\\_python_data/Driver Telematics Analysis/drivers/1241\n",
        "253 : skipping  ..\\..\\..\\_python_data/Driver Telematics Analysis/drivers/1242\n",
        "254 : skipping  ..\\..\\..\\_python_data/Driver Telematics Analysis/drivers/1243\n",
        "255"
       ]
      },
      {
       "output_type": "stream",
       "stream": "stdout",
       "text": [
        " : skipping  ..\\..\\..\\_python_data/Driver Telematics Analysis/drivers/1244\n",
        "256 : skipping  ..\\..\\..\\_python_data/Driver Telematics Analysis/drivers/1245\n",
        "257 : skipping  ..\\..\\..\\_python_data/Driver Telematics Analysis/drivers/1246\n",
        "258"
       ]
      },
      {
       "output_type": "stream",
       "stream": "stdout",
       "text": [
        " : skipping  ..\\..\\..\\_python_data/Driver Telematics Analysis/drivers/1247\n",
        "259 : skipping  ..\\..\\..\\_python_data/Driver Telematics Analysis/drivers/125\n",
        "260 : skipping  ..\\..\\..\\_python_data/Driver Telematics Analysis/drivers/1250\n",
        "261 : skipping  ..\\..\\..\\_python_data/Driver Telematics Analysis/drivers/1251\n",
        "262 : skipping  ..\\..\\..\\_python_data/Driver Telematics Analysis/drivers/1252\n",
        "263"
       ]
      },
      {
       "output_type": "stream",
       "stream": "stdout",
       "text": [
        " : skipping  ..\\..\\..\\_python_data/Driver Telematics Analysis/drivers/1253\n",
        "264 : skipping  ..\\..\\..\\_python_data/Driver Telematics Analysis/drivers/1255\n",
        "265 : skipping  ..\\..\\..\\_python_data/Driver Telematics Analysis/drivers/1256\n",
        "266"
       ]
      },
      {
       "output_type": "stream",
       "stream": "stdout",
       "text": [
        " : skipping  ..\\..\\..\\_python_data/Driver Telematics Analysis/drivers/1257\n",
        "267 : skipping  ..\\..\\..\\_python_data/Driver Telematics Analysis/drivers/1258\n",
        "268 : skipping  ..\\..\\..\\_python_data/Driver Telematics Analysis/drivers/1259\n",
        "269 : skipping  ..\\..\\..\\_python_data/Driver Telematics Analysis/drivers/126\n",
        "270 : skipping  ..\\..\\..\\_python_data/Driver Telematics Analysis/drivers/1260\n",
        "271"
       ]
      },
      {
       "output_type": "stream",
       "stream": "stdout",
       "text": [
        " : skipping  ..\\..\\..\\_python_data/Driver Telematics Analysis/drivers/1261\n",
        "272 : skipping  ..\\..\\..\\_python_data/Driver Telematics Analysis/drivers/1262\n",
        "273 : skipping  ..\\..\\..\\_python_data/Driver Telematics Analysis/drivers/1263\n",
        "274"
       ]
      },
      {
       "output_type": "stream",
       "stream": "stdout",
       "text": [
        " : skipping  ..\\..\\..\\_python_data/Driver Telematics Analysis/drivers/1264\n",
        "275 : skipping  ..\\..\\..\\_python_data/Driver Telematics Analysis/drivers/1265\n",
        "276"
       ]
      },
      {
       "output_type": "stream",
       "stream": "stdout",
       "text": [
        " : skipping  ..\\..\\..\\_python_data/Driver Telematics Analysis/drivers/1266\n",
        "277 : skipping  ..\\..\\..\\_python_data/Driver Telematics Analysis/drivers/1267\n",
        "278 : skipping  ..\\..\\..\\_python_data/Driver Telematics Analysis/drivers/1268\n",
        "279 : skipping  ..\\..\\..\\_python_data/Driver Telematics Analysis/drivers/127\n",
        "280"
       ]
      },
      {
       "output_type": "stream",
       "stream": "stdout",
       "text": [
        " : skipping  ..\\..\\..\\_python_data/Driver Telematics Analysis/drivers/1270\n",
        "281 : skipping  ..\\..\\..\\_python_data/Driver Telematics Analysis/drivers/1271\n",
        "282 : skipping  ..\\..\\..\\_python_data/Driver Telematics Analysis/drivers/1272\n",
        "283 : skipping  ..\\..\\..\\_python_data/Driver Telematics Analysis/drivers/1273\n",
        "284 : skipping  ..\\..\\..\\_python_data/Driver Telematics Analysis/drivers/1274\n",
        "285"
       ]
      },
      {
       "output_type": "stream",
       "stream": "stdout",
       "text": [
        " : skipping  ..\\..\\..\\_python_data/Driver Telematics Analysis/drivers/1275\n",
        "286 : skipping  ..\\..\\..\\_python_data/Driver Telematics Analysis/drivers/1276\n",
        "287 : skipping  ..\\..\\..\\_python_data/Driver Telematics Analysis/drivers/1277\n",
        "288"
       ]
      },
      {
       "output_type": "stream",
       "stream": "stdout",
       "text": [
        " : skipping  ..\\..\\..\\_python_data/Driver Telematics Analysis/drivers/1278\n",
        "289 : skipping  ..\\..\\..\\_python_data/Driver Telematics Analysis/drivers/1279\n",
        "290 : skipping  ..\\..\\..\\_python_data/Driver Telematics Analysis/drivers/128\n",
        "291 : skipping  ..\\..\\..\\_python_data/Driver Telematics Analysis/drivers/1280\n",
        "292"
       ]
      },
      {
       "output_type": "stream",
       "stream": "stdout",
       "text": [
        " : skipping  ..\\..\\..\\_python_data/Driver Telematics Analysis/drivers/1281\n",
        "293 : skipping  ..\\..\\..\\_python_data/Driver Telematics Analysis/drivers/1282\n",
        "294 : skipping  ..\\..\\..\\_python_data/Driver Telematics Analysis/drivers/1283\n",
        "295"
       ]
      },
      {
       "output_type": "stream",
       "stream": "stdout",
       "text": [
        " : skipping  ..\\..\\..\\_python_data/Driver Telematics Analysis/drivers/1285\n",
        "296 : skipping  ..\\..\\..\\_python_data/Driver Telematics Analysis/drivers/1286\n",
        "297 : skipping  ..\\..\\..\\_python_data/Driver Telematics Analysis/drivers/1287\n",
        "298"
       ]
      },
      {
       "output_type": "stream",
       "stream": "stdout",
       "text": [
        " : skipping  ..\\..\\..\\_python_data/Driver Telematics Analysis/drivers/1288\n",
        "299 : skipping  ..\\..\\..\\_python_data/Driver Telematics Analysis/drivers/129\n",
        "300 : skipping  ..\\..\\..\\_python_data/Driver Telematics Analysis/drivers/1290\n",
        "301 : skipping  ..\\..\\..\\_python_data/Driver Telematics Analysis/drivers/1292\n",
        "302"
       ]
      },
      {
       "output_type": "stream",
       "stream": "stdout",
       "text": [
        " : skipping  ..\\..\\..\\_python_data/Driver Telematics Analysis/drivers/1293\n",
        "303 : skipping  ..\\..\\..\\_python_data/Driver Telematics Analysis/drivers/1294\n",
        "304"
       ]
      },
      {
       "output_type": "stream",
       "stream": "stdout",
       "text": [
        " : skipping  ..\\..\\..\\_python_data/Driver Telematics Analysis/drivers/1295\n",
        "305 : skipping  ..\\..\\..\\_python_data/Driver Telematics Analysis/drivers/1296\n",
        "306 : skipping  ..\\..\\..\\_python_data/Driver Telematics Analysis/drivers/1297\n",
        "307"
       ]
      },
      {
       "output_type": "stream",
       "stream": "stdout",
       "text": [
        " : skipping  ..\\..\\..\\_python_data/Driver Telematics Analysis/drivers/1298\n",
        "308 : skipping  ..\\..\\..\\_python_data/Driver Telematics Analysis/drivers/1299\n",
        "309 : skipping  ..\\..\\..\\_python_data/Driver Telematics Analysis/drivers/13\n",
        "310 : skipping  ..\\..\\..\\_python_data/Driver Telematics Analysis/drivers/130\n",
        "311"
       ]
      },
      {
       "output_type": "stream",
       "stream": "stdout",
       "text": [
        " : skipping  ..\\..\\..\\_python_data/Driver Telematics Analysis/drivers/1300\n",
        "312 : skipping  ..\\..\\..\\_python_data/Driver Telematics Analysis/drivers/1301\n",
        "313"
       ]
      },
      {
       "output_type": "stream",
       "stream": "stdout",
       "text": [
        " : skipping  ..\\..\\..\\_python_data/Driver Telematics Analysis/drivers/1302\n",
        "314 : skipping  ..\\..\\..\\_python_data/Driver Telematics Analysis/drivers/1303\n",
        "315 : skipping  ..\\..\\..\\_python_data/Driver Telematics Analysis/drivers/1304\n",
        "316"
       ]
      },
      {
       "output_type": "stream",
       "stream": "stdout",
       "text": [
        " : skipping  ..\\..\\..\\_python_data/Driver Telematics Analysis/drivers/1305\n",
        "317 : skipping  ..\\..\\..\\_python_data/Driver Telematics Analysis/drivers/1306\n",
        "318 : skipping  ..\\..\\..\\_python_data/Driver Telematics Analysis/drivers/1307\n",
        "319 : skipping  ..\\..\\..\\_python_data/Driver Telematics Analysis/drivers/1308\n",
        "320"
       ]
      },
      {
       "output_type": "stream",
       "stream": "stdout",
       "text": [
        " : skipping  ..\\..\\..\\_python_data/Driver Telematics Analysis/drivers/1309\n",
        "321 : skipping  ..\\..\\..\\_python_data/Driver Telematics Analysis/drivers/131\n",
        "322 : skipping  ..\\..\\..\\_python_data/Driver Telematics Analysis/drivers/1310\n",
        "323"
       ]
      },
      {
       "output_type": "stream",
       "stream": "stdout",
       "text": [
        " : skipping  ..\\..\\..\\_python_data/Driver Telematics Analysis/drivers/1311\n",
        "324"
       ]
      },
      {
       "output_type": "stream",
       "stream": "stdout",
       "text": [
        " : skipping  ..\\..\\..\\_python_data/Driver Telematics Analysis/drivers/1312\n",
        "325"
       ]
      },
      {
       "output_type": "stream",
       "stream": "stdout",
       "text": [
        " : skipping  ..\\..\\..\\_python_data/Driver Telematics Analysis/drivers/1314\n",
        "326"
       ]
      },
      {
       "output_type": "stream",
       "stream": "stdout",
       "text": [
        " : skipping  ..\\..\\..\\_python_data/Driver Telematics Analysis/drivers/1315\n",
        "327"
       ]
      },
      {
       "output_type": "stream",
       "stream": "stdout",
       "text": [
        " : skipping  ..\\..\\..\\_python_data/Driver Telematics Analysis/drivers/1316\n",
        "328 : skipping  ..\\..\\..\\_python_data/Driver Telematics Analysis/drivers/1318\n",
        "329 : skipping  ..\\..\\..\\_python_data/Driver Telematics Analysis/drivers/1319\n",
        "330"
       ]
      },
      {
       "output_type": "stream",
       "stream": "stdout",
       "text": [
        " : skipping  ..\\..\\..\\_python_data/Driver Telematics Analysis/drivers/132\n",
        "331 : skipping  ..\\..\\..\\_python_data/Driver Telematics Analysis/drivers/1321\n",
        "332 : skipping  ..\\..\\..\\_python_data/Driver Telematics Analysis/drivers/1323\n",
        "333 : skipping  ..\\..\\..\\_python_data/Driver Telematics Analysis/drivers/1324\n",
        "334 : skipping  ..\\..\\..\\_python_data/Driver Telematics Analysis/drivers/1325\n",
        "335"
       ]
      },
      {
       "output_type": "stream",
       "stream": "stdout",
       "text": [
        " : skipping  ..\\..\\..\\_python_data/Driver Telematics Analysis/drivers/1326\n",
        "336 : skipping  ..\\..\\..\\_python_data/Driver Telematics Analysis/drivers/1327\n",
        "337 : skipping  ..\\..\\..\\_python_data/Driver Telematics Analysis/drivers/1328\n",
        "338 : skipping  ..\\..\\..\\_python_data/Driver Telematics Analysis/drivers/1329\n",
        "339"
       ]
      },
      {
       "output_type": "stream",
       "stream": "stdout",
       "text": [
        " : skipping  ..\\..\\..\\_python_data/Driver Telematics Analysis/drivers/133\n",
        "340 : skipping  ..\\..\\..\\_python_data/Driver Telematics Analysis/drivers/1330\n",
        "341 : skipping  ..\\..\\..\\_python_data/Driver Telematics Analysis/drivers/1331\n",
        "342 : skipping  ..\\..\\..\\_python_data/Driver Telematics Analysis/drivers/1332\n",
        "343"
       ]
      },
      {
       "output_type": "stream",
       "stream": "stdout",
       "text": [
        " : skipping  ..\\..\\..\\_python_data/Driver Telematics Analysis/drivers/1333\n",
        "344 : skipping  ..\\..\\..\\_python_data/Driver Telematics Analysis/drivers/1334\n",
        "345 : skipping  ..\\..\\..\\_python_data/Driver Telematics Analysis/drivers/1337\n",
        "346 : skipping  ..\\..\\..\\_python_data/Driver Telematics Analysis/drivers/1338\n",
        "347 : skipping  ..\\..\\..\\_python_data/Driver Telematics Analysis/drivers/1339\n",
        "348"
       ]
      },
      {
       "output_type": "stream",
       "stream": "stdout",
       "text": [
        " : skipping  ..\\..\\..\\_python_data/Driver Telematics Analysis/drivers/134\n",
        "349 : skipping  ..\\..\\..\\_python_data/Driver Telematics Analysis/drivers/1340\n",
        "350"
       ]
      },
      {
       "output_type": "stream",
       "stream": "stdout",
       "text": [
        " : skipping  ..\\..\\..\\_python_data/Driver Telematics Analysis/drivers/1341\n",
        "351 : skipping  ..\\..\\..\\_python_data/Driver Telematics Analysis/drivers/1342\n",
        "352 : skipping  ..\\..\\..\\_python_data/Driver Telematics Analysis/drivers/1343\n",
        "353 : skipping  ..\\..\\..\\_python_data/Driver Telematics Analysis/drivers/1344\n",
        "354 : skipping  ..\\..\\..\\_python_data/Driver Telematics Analysis/drivers/1345\n",
        "355 : skipping  ..\\..\\..\\_python_data/Driver Telematics Analysis/drivers/1346\n",
        "356"
       ]
      },
      {
       "output_type": "stream",
       "stream": "stdout",
       "text": [
        " : skipping  ..\\..\\..\\_python_data/Driver Telematics Analysis/drivers/1347\n",
        "357 : skipping  ..\\..\\..\\_python_data/Driver Telematics Analysis/drivers/1348\n",
        "358 : skipping  ..\\..\\..\\_python_data/Driver Telematics Analysis/drivers/1349\n",
        "359 : skipping  ..\\..\\..\\_python_data/Driver Telematics Analysis/drivers/135\n",
        "360 : skipping  ..\\..\\..\\_python_data/Driver Telematics Analysis/drivers/1350\n",
        "361"
       ]
      },
      {
       "output_type": "stream",
       "stream": "stdout",
       "text": [
        " : skipping  ..\\..\\..\\_python_data/Driver Telematics Analysis/drivers/1351\n",
        "362 : skipping  ..\\..\\..\\_python_data/Driver Telematics Analysis/drivers/1352\n",
        "363 : skipping  ..\\..\\..\\_python_data/Driver Telematics Analysis/drivers/1353\n",
        "364 : skipping  ..\\..\\..\\_python_data/Driver Telematics Analysis/drivers/1354\n",
        "365 : skipping  ..\\..\\..\\_python_data/Driver Telematics Analysis/drivers/1355\n",
        "366"
       ]
      },
      {
       "output_type": "stream",
       "stream": "stdout",
       "text": [
        " : skipping  ..\\..\\..\\_python_data/Driver Telematics Analysis/drivers/1356\n",
        "367 : skipping  ..\\..\\..\\_python_data/Driver Telematics Analysis/drivers/1357\n",
        "368 : skipping  ..\\..\\..\\_python_data/Driver Telematics Analysis/drivers/1358\n",
        "369 : skipping  ..\\..\\..\\_python_data/Driver Telematics Analysis/drivers/1359\n",
        "370"
       ]
      },
      {
       "output_type": "stream",
       "stream": "stdout",
       "text": [
        " : skipping  ..\\..\\..\\_python_data/Driver Telematics Analysis/drivers/136\n",
        "371 : skipping  ..\\..\\..\\_python_data/Driver Telematics Analysis/drivers/1360\n",
        "372 : skipping  ..\\..\\..\\_python_data/Driver Telematics Analysis/drivers/1361\n",
        "373"
       ]
      },
      {
       "output_type": "stream",
       "stream": "stdout",
       "text": [
        " : skipping  ..\\..\\..\\_python_data/Driver Telematics Analysis/drivers/1362\n",
        "374 : skipping  ..\\..\\..\\_python_data/Driver Telematics Analysis/drivers/1363\n",
        "375 : skipping  ..\\..\\..\\_python_data/Driver Telematics Analysis/drivers/1364\n",
        "376 : skipping  ..\\..\\..\\_python_data/Driver Telematics Analysis/drivers/1365\n",
        "377"
       ]
      },
      {
       "output_type": "stream",
       "stream": "stdout",
       "text": [
        " : skipping  ..\\..\\..\\_python_data/Driver Telematics Analysis/drivers/1366\n",
        "378 : skipping  ..\\..\\..\\_python_data/Driver Telematics Analysis/drivers/1367\n",
        "379 : skipping  ..\\..\\..\\_python_data/Driver Telematics Analysis/drivers/1368\n",
        "380"
       ]
      },
      {
       "output_type": "stream",
       "stream": "stdout",
       "text": [
        " : skipping  ..\\..\\..\\_python_data/Driver Telematics Analysis/drivers/1369\n",
        "381 : skipping  ..\\..\\..\\_python_data/Driver Telematics Analysis/drivers/137\n",
        "382 : skipping  ..\\..\\..\\_python_data/Driver Telematics Analysis/drivers/1370\n",
        "383 : skipping  ..\\..\\..\\_python_data/Driver Telematics Analysis/drivers/1371\n",
        "384"
       ]
      },
      {
       "output_type": "stream",
       "stream": "stdout",
       "text": [
        " : skipping  ..\\..\\..\\_python_data/Driver Telematics Analysis/drivers/1372\n",
        "385 : skipping  ..\\..\\..\\_python_data/Driver Telematics Analysis/drivers/1374\n",
        "386 : skipping  ..\\..\\..\\_python_data/Driver Telematics Analysis/drivers/1375\n",
        "387 : skipping  ..\\..\\..\\_python_data/Driver Telematics Analysis/drivers/1376\n",
        "388"
       ]
      },
      {
       "output_type": "stream",
       "stream": "stdout",
       "text": [
        " : skipping  ..\\..\\..\\_python_data/Driver Telematics Analysis/drivers/1377\n",
        "389 : skipping  ..\\..\\..\\_python_data/Driver Telematics Analysis/drivers/1378\n",
        "390 : skipping  ..\\..\\..\\_python_data/Driver Telematics Analysis/drivers/1379\n",
        "391 : skipping  ..\\..\\..\\_python_data/Driver Telematics Analysis/drivers/138\n",
        "392"
       ]
      },
      {
       "output_type": "stream",
       "stream": "stdout",
       "text": [
        " : skipping  ..\\..\\..\\_python_data/Driver Telematics Analysis/drivers/1380\n",
        "393 : skipping  ..\\..\\..\\_python_data/Driver Telematics Analysis/drivers/1381\n",
        "394 : skipping  ..\\..\\..\\_python_data/Driver Telematics Analysis/drivers/1382\n",
        "395"
       ]
      },
      {
       "output_type": "stream",
       "stream": "stdout",
       "text": [
        " : skipping  ..\\..\\..\\_python_data/Driver Telematics Analysis/drivers/1383\n",
        "396 : skipping  ..\\..\\..\\_python_data/Driver Telematics Analysis/drivers/1384\n",
        "397 : skipping  ..\\..\\..\\_python_data/Driver Telematics Analysis/drivers/1385\n",
        "398"
       ]
      },
      {
       "output_type": "stream",
       "stream": "stdout",
       "text": [
        " : skipping  ..\\..\\..\\_python_data/Driver Telematics Analysis/drivers/1386\n",
        "399 : skipping  ..\\..\\..\\_python_data/Driver Telematics Analysis/drivers/1387\n",
        "400 : skipping  ..\\..\\..\\_python_data/Driver Telematics Analysis/drivers/1388\n",
        "401"
       ]
      },
      {
       "output_type": "stream",
       "stream": "stdout",
       "text": [
        " : skipping  ..\\..\\..\\_python_data/Driver Telematics Analysis/drivers/1389\n",
        "402 : skipping  ..\\..\\..\\_python_data/Driver Telematics Analysis/drivers/139\n",
        "403"
       ]
      },
      {
       "output_type": "stream",
       "stream": "stdout",
       "text": [
        " : skipping  ..\\..\\..\\_python_data/Driver Telematics Analysis/drivers/1390\n",
        "404 : skipping  ..\\..\\..\\_python_data/Driver Telematics Analysis/drivers/1391\n",
        "405 : skipping  ..\\..\\..\\_python_data/Driver Telematics Analysis/drivers/1392\n",
        "406 : skipping  ..\\..\\..\\_python_data/Driver Telematics Analysis/drivers/1393\n",
        "407"
       ]
      },
      {
       "output_type": "stream",
       "stream": "stdout",
       "text": [
        " : skipping  ..\\..\\..\\_python_data/Driver Telematics Analysis/drivers/1394\n",
        "408 : skipping  ..\\..\\..\\_python_data/Driver Telematics Analysis/drivers/1395\n",
        "409 : skipping  ..\\..\\..\\_python_data/Driver Telematics Analysis/drivers/1396\n",
        "410 : skipping  ..\\..\\..\\_python_data/Driver Telematics Analysis/drivers/1397\n",
        "411"
       ]
      },
      {
       "output_type": "stream",
       "stream": "stdout",
       "text": [
        " : skipping  ..\\..\\..\\_python_data/Driver Telematics Analysis/drivers/1398\n",
        "412 : skipping  ..\\..\\..\\_python_data/Driver Telematics Analysis/drivers/1399\n",
        "413 : skipping  ..\\..\\..\\_python_data/Driver Telematics Analysis/drivers/14\n",
        "414"
       ]
      },
      {
       "output_type": "stream",
       "stream": "stdout",
       "text": [
        " : skipping  ..\\..\\..\\_python_data/Driver Telematics Analysis/drivers/140\n",
        "415 : skipping  ..\\..\\..\\_python_data/Driver Telematics Analysis/drivers/1400\n",
        "416"
       ]
      },
      {
       "output_type": "stream",
       "stream": "stdout",
       "text": [
        " : skipping  ..\\..\\..\\_python_data/Driver Telematics Analysis/drivers/1401\n",
        "417"
       ]
      },
      {
       "output_type": "stream",
       "stream": "stdout",
       "text": [
        " : skipping  ..\\..\\..\\_python_data/Driver Telematics Analysis/drivers/1402\n",
        "418"
       ]
      },
      {
       "output_type": "stream",
       "stream": "stdout",
       "text": [
        " : skipping  ..\\..\\..\\_python_data/Driver Telematics Analysis/drivers/1403\n",
        "419"
       ]
      },
      {
       "output_type": "stream",
       "stream": "stdout",
       "text": [
        " : skipping  ..\\..\\..\\_python_data/Driver Telematics Analysis/drivers/1404\n",
        "420 : skipping  ..\\..\\..\\_python_data/Driver Telematics Analysis/drivers/1405\n",
        "421 : skipping  ..\\..\\..\\_python_data/Driver Telematics Analysis/drivers/1406\n",
        "422 : skipping  ..\\..\\..\\_python_data/Driver Telematics Analysis/drivers/1407\n",
        "423"
       ]
      },
      {
       "output_type": "stream",
       "stream": "stdout",
       "text": [
        " : skipping  ..\\..\\..\\_python_data/Driver Telematics Analysis/drivers/1408\n",
        "424 : skipping  ..\\..\\..\\_python_data/Driver Telematics Analysis/drivers/141\n",
        "425 : skipping  ..\\..\\..\\_python_data/Driver Telematics Analysis/drivers/1410\n",
        "426 : skipping  ..\\..\\..\\_python_data/Driver Telematics Analysis/drivers/1411\n",
        "427 : skipping  ..\\..\\..\\_python_data/Driver Telematics Analysis/drivers/1412\n",
        "428"
       ]
      },
      {
       "output_type": "stream",
       "stream": "stdout",
       "text": [
        " : skipping  ..\\..\\..\\_python_data/Driver Telematics Analysis/drivers/1413\n",
        "429 : skipping  ..\\..\\..\\_python_data/Driver Telematics Analysis/drivers/1414\n",
        "430 : skipping  ..\\..\\..\\_python_data/Driver Telematics Analysis/drivers/1415\n",
        "431 : skipping  ..\\..\\..\\_python_data/Driver Telematics Analysis/drivers/1416\n",
        "432"
       ]
      },
      {
       "output_type": "stream",
       "stream": "stdout",
       "text": [
        " : skipping  ..\\..\\..\\_python_data/Driver Telematics Analysis/drivers/1417\n",
        "433 : skipping  ..\\..\\..\\_python_data/Driver Telematics Analysis/drivers/1418\n",
        "434 : skipping  ..\\..\\..\\_python_data/Driver Telematics Analysis/drivers/1419\n",
        "435 : skipping  ..\\..\\..\\_python_data/Driver Telematics Analysis/drivers/142\n",
        "436 : skipping  ..\\..\\..\\_python_data/Driver Telematics Analysis/drivers/1420\n",
        "437"
       ]
      },
      {
       "output_type": "stream",
       "stream": "stdout",
       "text": [
        " : skipping  ..\\..\\..\\_python_data/Driver Telematics Analysis/drivers/1421\n",
        "438 : skipping  ..\\..\\..\\_python_data/Driver Telematics Analysis/drivers/1422\n",
        "439 : skipping  ..\\..\\..\\_python_data/Driver Telematics Analysis/drivers/1423\n",
        "440 : skipping  ..\\..\\..\\_python_data/Driver Telematics Analysis/drivers/1424\n",
        "441 : skipping  ..\\..\\..\\_python_data/Driver Telematics Analysis/drivers/1425\n",
        "442"
       ]
      },
      {
       "output_type": "stream",
       "stream": "stdout",
       "text": [
        " : skipping  ..\\..\\..\\_python_data/Driver Telematics Analysis/drivers/1427\n",
        "443 : skipping  ..\\..\\..\\_python_data/Driver Telematics Analysis/drivers/1428\n",
        "444 : skipping  ..\\..\\..\\_python_data/Driver Telematics Analysis/drivers/1429\n",
        "445 : skipping  ..\\..\\..\\_python_data/Driver Telematics Analysis/drivers/143\n",
        "446"
       ]
      },
      {
       "output_type": "stream",
       "stream": "stdout",
       "text": [
        " : skipping  ..\\..\\..\\_python_data/Driver Telematics Analysis/drivers/1432\n",
        "447 : skipping  ..\\..\\..\\_python_data/Driver Telematics Analysis/drivers/1433\n",
        "448 : skipping  ..\\..\\..\\_python_data/Driver Telematics Analysis/drivers/1434\n",
        "449 : skipping  ..\\..\\..\\_python_data/Driver Telematics Analysis/drivers/1435\n",
        "450"
       ]
      },
      {
       "output_type": "stream",
       "stream": "stdout",
       "text": [
        " : skipping  ..\\..\\..\\_python_data/Driver Telematics Analysis/drivers/1436\n",
        "451 : skipping  ..\\..\\..\\_python_data/Driver Telematics Analysis/drivers/1437\n",
        "452 : skipping  ..\\..\\..\\_python_data/Driver Telematics Analysis/drivers/1438\n",
        "453 : skipping  ..\\..\\..\\_python_data/Driver Telematics Analysis/drivers/1439\n",
        "454"
       ]
      },
      {
       "output_type": "stream",
       "stream": "stdout",
       "text": [
        " : skipping  ..\\..\\..\\_python_data/Driver Telematics Analysis/drivers/144\n",
        "455 : skipping  ..\\..\\..\\_python_data/Driver Telematics Analysis/drivers/1440\n",
        "456 : skipping  ..\\..\\..\\_python_data/Driver Telematics Analysis/drivers/1441\n",
        "457 : skipping  ..\\..\\..\\_python_data/Driver Telematics Analysis/drivers/1442\n",
        "458"
       ]
      },
      {
       "output_type": "stream",
       "stream": "stdout",
       "text": [
        " : skipping  ..\\..\\..\\_python_data/Driver Telematics Analysis/drivers/1443\n",
        "459 : skipping  ..\\..\\..\\_python_data/Driver Telematics Analysis/drivers/1444\n",
        "460 : skipping  ..\\..\\..\\_python_data/Driver Telematics Analysis/drivers/1445\n",
        "461"
       ]
      },
      {
       "output_type": "stream",
       "stream": "stdout",
       "text": [
        " : skipping  ..\\..\\..\\_python_data/Driver Telematics Analysis/drivers/1446\n",
        "462 : skipping  ..\\..\\..\\_python_data/Driver Telematics Analysis/drivers/1447\n",
        "463 : skipping  ..\\..\\..\\_python_data/Driver Telematics Analysis/drivers/1448\n",
        "464 : skipping  ..\\..\\..\\_python_data/Driver Telematics Analysis/drivers/145\n",
        "465"
       ]
      },
      {
       "output_type": "stream",
       "stream": "stdout",
       "text": [
        " : skipping  ..\\..\\..\\_python_data/Driver Telematics Analysis/drivers/1450\n",
        "466 : skipping  ..\\..\\..\\_python_data/Driver Telematics Analysis/drivers/1453\n",
        "467 : skipping  ..\\..\\..\\_python_data/Driver Telematics Analysis/drivers/1454\n",
        "468 : skipping  ..\\..\\..\\_python_data/Driver Telematics Analysis/drivers/1456\n",
        "469 : skipping  ..\\..\\..\\_python_data/Driver Telematics Analysis/drivers/1457\n",
        "470 : skipping  ..\\..\\..\\_python_data/Driver Telematics Analysis/drivers/1458\n",
        "471 : skipping  ..\\..\\..\\_python_data/Driver Telematics Analysis/drivers/1460\n",
        "472"
       ]
      },
      {
       "output_type": "stream",
       "stream": "stdout",
       "text": [
        " : skipping  ..\\..\\..\\_python_data/Driver Telematics Analysis/drivers/1461\n",
        "473 : skipping  ..\\..\\..\\_python_data/Driver Telematics Analysis/drivers/1462\n",
        "474 : skipping  ..\\..\\..\\_python_data/Driver Telematics Analysis/drivers/1463\n",
        "475 : skipping  ..\\..\\..\\_python_data/Driver Telematics Analysis/drivers/1464\n",
        "476"
       ]
      },
      {
       "output_type": "stream",
       "stream": "stdout",
       "text": [
        " : skipping  ..\\..\\..\\_python_data/Driver Telematics Analysis/drivers/1465\n",
        "477 : skipping  ..\\..\\..\\_python_data/Driver Telematics Analysis/drivers/1466\n",
        "478"
       ]
      },
      {
       "output_type": "stream",
       "stream": "stdout",
       "text": [
        " : skipping  ..\\..\\..\\_python_data/Driver Telematics Analysis/drivers/1467\n",
        "479 : skipping  ..\\..\\..\\_python_data/Driver Telematics Analysis/drivers/1468\n",
        "480 : skipping  ..\\..\\..\\_python_data/Driver Telematics Analysis/drivers/1469\n",
        "481 : skipping  ..\\..\\..\\_python_data/Driver Telematics Analysis/drivers/147\n",
        "482"
       ]
      },
      {
       "output_type": "stream",
       "stream": "stdout",
       "text": [
        " : skipping  ..\\..\\..\\_python_data/Driver Telematics Analysis/drivers/1470\n",
        "483 : skipping  ..\\..\\..\\_python_data/Driver Telematics Analysis/drivers/1471\n",
        "484 : skipping  ..\\..\\..\\_python_data/Driver Telematics Analysis/drivers/1472\n",
        "485"
       ]
      },
      {
       "output_type": "stream",
       "stream": "stdout",
       "text": [
        " : skipping  ..\\..\\..\\_python_data/Driver Telematics Analysis/drivers/1473\n",
        "486 : skipping  ..\\..\\..\\_python_data/Driver Telematics Analysis/drivers/1474\n",
        "487 : skipping  ..\\..\\..\\_python_data/Driver Telematics Analysis/drivers/1475\n",
        "488 : skipping  ..\\..\\..\\_python_data/Driver Telematics Analysis/drivers/1476\n",
        "489"
       ]
      },
      {
       "output_type": "stream",
       "stream": "stdout",
       "text": [
        " : skipping  ..\\..\\..\\_python_data/Driver Telematics Analysis/drivers/1477\n",
        "490 : skipping  ..\\..\\..\\_python_data/Driver Telematics Analysis/drivers/1478\n",
        "491 : skipping  ..\\..\\..\\_python_data/Driver Telematics Analysis/drivers/1479\n",
        "492"
       ]
      },
      {
       "output_type": "stream",
       "stream": "stdout",
       "text": [
        " : skipping  ..\\..\\..\\_python_data/Driver Telematics Analysis/drivers/148\n",
        "493 : skipping  ..\\..\\..\\_python_data/Driver Telematics Analysis/drivers/1480\n",
        "494 : skipping  ..\\..\\..\\_python_data/Driver Telematics Analysis/drivers/1481\n",
        "495 : skipping  ..\\..\\..\\_python_data/Driver Telematics Analysis/drivers/1482\n",
        "496"
       ]
      },
      {
       "output_type": "stream",
       "stream": "stdout",
       "text": [
        " : skipping  ..\\..\\..\\_python_data/Driver Telematics Analysis/drivers/1483\n",
        "497 : skipping  ..\\..\\..\\_python_data/Driver Telematics Analysis/drivers/1484\n",
        "498"
       ]
      },
      {
       "output_type": "stream",
       "stream": "stdout",
       "text": [
        " : skipping  ..\\..\\..\\_python_data/Driver Telematics Analysis/drivers/1485\n",
        "499 : skipping  ..\\..\\..\\_python_data/Driver Telematics Analysis/drivers/1486\n",
        "500"
       ]
      },
      {
       "output_type": "stream",
       "stream": "stdout",
       "text": [
        " : skipping  ..\\..\\..\\_python_data/Driver Telematics Analysis/drivers/1487\n",
        "501 : skipping  ..\\..\\..\\_python_data/Driver Telematics Analysis/drivers/1488\n",
        "502"
       ]
      },
      {
       "output_type": "stream",
       "stream": "stdout",
       "text": [
        " : skipping  ..\\..\\..\\_python_data/Driver Telematics Analysis/drivers/1489\n",
        "503 : skipping  ..\\..\\..\\_python_data/Driver Telematics Analysis/drivers/149\n",
        "504"
       ]
      },
      {
       "output_type": "stream",
       "stream": "stdout",
       "text": [
        " : skipping  ..\\..\\..\\_python_data/Driver Telematics Analysis/drivers/1490\n",
        "505 : skipping  ..\\..\\..\\_python_data/Driver Telematics Analysis/drivers/1491\n",
        "506 : skipping  ..\\..\\..\\_python_data/Driver Telematics Analysis/drivers/1492\n",
        "507"
       ]
      },
      {
       "output_type": "stream",
       "stream": "stdout",
       "text": [
        " : skipping  ..\\..\\..\\_python_data/Driver Telematics Analysis/drivers/1493\n",
        "508 : skipping  ..\\..\\..\\_python_data/Driver Telematics Analysis/drivers/1494\n",
        "509"
       ]
      },
      {
       "output_type": "stream",
       "stream": "stdout",
       "text": [
        " : skipping  ..\\..\\..\\_python_data/Driver Telematics Analysis/drivers/1495\n",
        "510"
       ]
      },
      {
       "output_type": "stream",
       "stream": "stdout",
       "text": [
        " : skipping  ..\\..\\..\\_python_data/Driver Telematics Analysis/drivers/1496\n",
        "511"
       ]
      },
      {
       "output_type": "stream",
       "stream": "stdout",
       "text": [
        " : skipping  ..\\..\\..\\_python_data/Driver Telematics Analysis/drivers/1497\n",
        "512 : skipping  ..\\..\\..\\_python_data/Driver Telematics Analysis/drivers/1498\n",
        "513 : skipping  ..\\..\\..\\_python_data/Driver Telematics Analysis/drivers/1499\n",
        "514"
       ]
      },
      {
       "output_type": "stream",
       "stream": "stdout",
       "text": [
        " : skipping  ..\\..\\..\\_python_data/Driver Telematics Analysis/drivers/15\n",
        "515 : skipping  ..\\..\\..\\_python_data/Driver Telematics Analysis/drivers/150\n",
        "516"
       ]
      },
      {
       "output_type": "stream",
       "stream": "stdout",
       "text": [
        " : skipping  ..\\..\\..\\_python_data/Driver Telematics Analysis/drivers/1500\n",
        "517 : skipping  ..\\..\\..\\_python_data/Driver Telematics Analysis/drivers/1502\n",
        "518"
       ]
      },
      {
       "output_type": "stream",
       "stream": "stdout",
       "text": [
        " : skipping  ..\\..\\..\\_python_data/Driver Telematics Analysis/drivers/1503\n",
        "519 : skipping  ..\\..\\..\\_python_data/Driver Telematics Analysis/drivers/1504\n",
        "520 : skipping  ..\\..\\..\\_python_data/Driver Telematics Analysis/drivers/1505\n",
        "521"
       ]
      },
      {
       "output_type": "stream",
       "stream": "stdout",
       "text": [
        " : skipping  ..\\..\\..\\_python_data/Driver Telematics Analysis/drivers/1506\n",
        "522 : skipping  ..\\..\\..\\_python_data/Driver Telematics Analysis/drivers/1507\n",
        "523"
       ]
      },
      {
       "output_type": "stream",
       "stream": "stdout",
       "text": [
        " : skipping  ..\\..\\..\\_python_data/Driver Telematics Analysis/drivers/1508\n",
        "524 : skipping  ..\\..\\..\\_python_data/Driver Telematics Analysis/drivers/1509\n",
        "525"
       ]
      },
      {
       "output_type": "stream",
       "stream": "stdout",
       "text": [
        " : skipping  ..\\..\\..\\_python_data/Driver Telematics Analysis/drivers/151\n",
        "526 : skipping  ..\\..\\..\\_python_data/Driver Telematics Analysis/drivers/1510\n",
        "527 : skipping  ..\\..\\..\\_python_data/Driver Telematics Analysis/drivers/1511\n",
        "528"
       ]
      },
      {
       "output_type": "stream",
       "stream": "stdout",
       "text": [
        " : skipping  ..\\..\\..\\_python_data/Driver Telematics Analysis/drivers/1512\n",
        "529 : skipping  ..\\..\\..\\_python_data/Driver Telematics Analysis/drivers/1513\n",
        "530"
       ]
      },
      {
       "output_type": "stream",
       "stream": "stdout",
       "text": [
        " : skipping  ..\\..\\..\\_python_data/Driver Telematics Analysis/drivers/1514\n",
        "531 : skipping  ..\\..\\..\\_python_data/Driver Telematics Analysis/drivers/1515\n",
        "532 : skipping  ..\\..\\..\\_python_data/Driver Telematics Analysis/drivers/1516\n",
        "533"
       ]
      },
      {
       "output_type": "stream",
       "stream": "stdout",
       "text": [
        " : skipping  ..\\..\\..\\_python_data/Driver Telematics Analysis/drivers/1517\n",
        "534 : skipping  ..\\..\\..\\_python_data/Driver Telematics Analysis/drivers/1519\n",
        "535"
       ]
      },
      {
       "output_type": "stream",
       "stream": "stdout",
       "text": [
        " : skipping  ..\\..\\..\\_python_data/Driver Telematics Analysis/drivers/1520\n",
        "536 : skipping  ..\\..\\..\\_python_data/Driver Telematics Analysis/drivers/1521\n",
        "537 : skipping  ..\\..\\..\\_python_data/Driver Telematics Analysis/drivers/1522\n",
        "538"
       ]
      },
      {
       "output_type": "stream",
       "stream": "stdout",
       "text": [
        " : skipping  ..\\..\\..\\_python_data/Driver Telematics Analysis/drivers/1524\n",
        "539 : skipping  ..\\..\\..\\_python_data/Driver Telematics Analysis/drivers/1525\n",
        "540 : skipping  ..\\..\\..\\_python_data/Driver Telematics Analysis/drivers/1526\n",
        "541"
       ]
      },
      {
       "output_type": "stream",
       "stream": "stdout",
       "text": [
        " : skipping  ..\\..\\..\\_python_data/Driver Telematics Analysis/drivers/1529\n",
        "542 : skipping  ..\\..\\..\\_python_data/Driver Telematics Analysis/drivers/153\n",
        "543 : skipping  ..\\..\\..\\_python_data/Driver Telematics Analysis/drivers/1530\n",
        "544"
       ]
      },
      {
       "output_type": "stream",
       "stream": "stdout",
       "text": [
        " : skipping  ..\\..\\..\\_python_data/Driver Telematics Analysis/drivers/1531\n",
        "545 : skipping  ..\\..\\..\\_python_data/Driver Telematics Analysis/drivers/1533\n",
        "546"
       ]
      },
      {
       "output_type": "stream",
       "stream": "stdout",
       "text": [
        " : skipping  ..\\..\\..\\_python_data/Driver Telematics Analysis/drivers/1534\n",
        "547 : skipping  ..\\..\\..\\_python_data/Driver Telematics Analysis/drivers/1535\n",
        "548"
       ]
      },
      {
       "output_type": "stream",
       "stream": "stdout",
       "text": [
        " : skipping  ..\\..\\..\\_python_data/Driver Telematics Analysis/drivers/1536\n",
        "549 : skipping  ..\\..\\..\\_python_data/Driver Telematics Analysis/drivers/1537\n",
        "550"
       ]
      },
      {
       "output_type": "stream",
       "stream": "stdout",
       "text": [
        " : skipping  ..\\..\\..\\_python_data/Driver Telematics Analysis/drivers/1538\n",
        "551 : skipping  ..\\..\\..\\_python_data/Driver Telematics Analysis/drivers/1539\n",
        "552 : skipping  ..\\..\\..\\_python_data/Driver Telematics Analysis/drivers/154\n",
        "553"
       ]
      },
      {
       "output_type": "stream",
       "stream": "stdout",
       "text": [
        " : skipping  ..\\..\\..\\_python_data/Driver Telematics Analysis/drivers/1540\n",
        "554 : skipping  ..\\..\\..\\_python_data/Driver Telematics Analysis/drivers/1541\n",
        "555"
       ]
      },
      {
       "output_type": "stream",
       "stream": "stdout",
       "text": [
        " : skipping  ..\\..\\..\\_python_data/Driver Telematics Analysis/drivers/1542\n",
        "556 : skipping  ..\\..\\..\\_python_data/Driver Telematics Analysis/drivers/1543\n",
        "557"
       ]
      },
      {
       "output_type": "stream",
       "stream": "stdout",
       "text": [
        " : skipping  ..\\..\\..\\_python_data/Driver Telematics Analysis/drivers/1544\n",
        "558 : skipping  ..\\..\\..\\_python_data/Driver Telematics Analysis/drivers/1545\n",
        "559"
       ]
      },
      {
       "output_type": "stream",
       "stream": "stdout",
       "text": [
        " : skipping  ..\\..\\..\\_python_data/Driver Telematics Analysis/drivers/1546\n",
        "560 : skipping  ..\\..\\..\\_python_data/Driver Telematics Analysis/drivers/1547\n",
        "561"
       ]
      },
      {
       "output_type": "stream",
       "stream": "stdout",
       "text": [
        " : skipping  ..\\..\\..\\_python_data/Driver Telematics Analysis/drivers/1548\n",
        "562 : skipping  ..\\..\\..\\_python_data/Driver Telematics Analysis/drivers/1549\n",
        "563 : skipping  ..\\..\\..\\_python_data/Driver Telematics Analysis/drivers/155\n",
        "564"
       ]
      },
      {
       "output_type": "stream",
       "stream": "stdout",
       "text": [
        " : skipping  ..\\..\\..\\_python_data/Driver Telematics Analysis/drivers/1550\n",
        "565 : skipping  ..\\..\\..\\_python_data/Driver Telematics Analysis/drivers/1551\n",
        "566 : skipping  ..\\..\\..\\_python_data/Driver Telematics Analysis/drivers/1553\n",
        "567"
       ]
      },
      {
       "output_type": "stream",
       "stream": "stdout",
       "text": [
        " : skipping  ..\\..\\..\\_python_data/Driver Telematics Analysis/drivers/1554\n",
        "568 : skipping  ..\\..\\..\\_python_data/Driver Telematics Analysis/drivers/1555\n",
        "569"
       ]
      },
      {
       "output_type": "stream",
       "stream": "stdout",
       "text": [
        " : skipping  ..\\..\\..\\_python_data/Driver Telematics Analysis/drivers/1556\n",
        "570 : skipping  ..\\..\\..\\_python_data/Driver Telematics Analysis/drivers/1557\n",
        "571"
       ]
      },
      {
       "output_type": "stream",
       "stream": "stdout",
       "text": [
        " : skipping  ..\\..\\..\\_python_data/Driver Telematics Analysis/drivers/1558\n",
        "572 : skipping  ..\\..\\..\\_python_data/Driver Telematics Analysis/drivers/1559\n",
        "573"
       ]
      },
      {
       "output_type": "stream",
       "stream": "stdout",
       "text": [
        " : skipping  ..\\..\\..\\_python_data/Driver Telematics Analysis/drivers/156\n",
        "574 : skipping  ..\\..\\..\\_python_data/Driver Telematics Analysis/drivers/1560\n",
        "575"
       ]
      },
      {
       "output_type": "stream",
       "stream": "stdout",
       "text": [
        " : skipping  ..\\..\\..\\_python_data/Driver Telematics Analysis/drivers/1561\n",
        "576 : skipping  ..\\..\\..\\_python_data/Driver Telematics Analysis/drivers/1562\n",
        "577"
       ]
      },
      {
       "output_type": "stream",
       "stream": "stdout",
       "text": [
        " : skipping  ..\\..\\..\\_python_data/Driver Telematics Analysis/drivers/1563\n",
        "578 : skipping  ..\\..\\..\\_python_data/Driver Telematics Analysis/drivers/1564\n",
        "579 : skipping  ..\\..\\..\\_python_data/Driver Telematics Analysis/drivers/1565\n",
        "580"
       ]
      },
      {
       "output_type": "stream",
       "stream": "stdout",
       "text": [
        " : skipping  ..\\..\\..\\_python_data/Driver Telematics Analysis/drivers/1567\n",
        "581 : skipping  ..\\..\\..\\_python_data/Driver Telematics Analysis/drivers/1568\n",
        "582"
       ]
      },
      {
       "output_type": "stream",
       "stream": "stdout",
       "text": [
        " : skipping  ..\\..\\..\\_python_data/Driver Telematics Analysis/drivers/1569\n",
        "583 : skipping  ..\\..\\..\\_python_data/Driver Telematics Analysis/drivers/157\n",
        "584"
       ]
      },
      {
       "output_type": "stream",
       "stream": "stdout",
       "text": [
        " : skipping  ..\\..\\..\\_python_data/Driver Telematics Analysis/drivers/1570\n",
        "585 : skipping  ..\\..\\..\\_python_data/Driver Telematics Analysis/drivers/1571\n",
        "586 : skipping  ..\\..\\..\\_python_data/Driver Telematics Analysis/drivers/1572\n",
        "587"
       ]
      },
      {
       "output_type": "stream",
       "stream": "stdout",
       "text": [
        " : skipping  ..\\..\\..\\_python_data/Driver Telematics Analysis/drivers/1573\n",
        "588 : skipping  ..\\..\\..\\_python_data/Driver Telematics Analysis/drivers/1574\n",
        "589"
       ]
      },
      {
       "output_type": "stream",
       "stream": "stdout",
       "text": [
        " : skipping  ..\\..\\..\\_python_data/Driver Telematics Analysis/drivers/1575\n",
        "590 : skipping  ..\\..\\..\\_python_data/Driver Telematics Analysis/drivers/1576\n",
        "591"
       ]
      },
      {
       "output_type": "stream",
       "stream": "stdout",
       "text": [
        " : skipping  ..\\..\\..\\_python_data/Driver Telematics Analysis/drivers/1577\n",
        "592 : skipping  ..\\..\\..\\_python_data/Driver Telematics Analysis/drivers/1578\n",
        "593"
       ]
      },
      {
       "output_type": "stream",
       "stream": "stdout",
       "text": [
        " : skipping  ..\\..\\..\\_python_data/Driver Telematics Analysis/drivers/1579\n",
        "594 : skipping  ..\\..\\..\\_python_data/Driver Telematics Analysis/drivers/158\n",
        "595 : skipping  ..\\..\\..\\_python_data/Driver Telematics Analysis/drivers/1580\n",
        "596"
       ]
      },
      {
       "output_type": "stream",
       "stream": "stdout",
       "text": [
        " : skipping  ..\\..\\..\\_python_data/Driver Telematics Analysis/drivers/1581\n",
        "597 : skipping  ..\\..\\..\\_python_data/Driver Telematics Analysis/drivers/1582\n",
        "598"
       ]
      },
      {
       "output_type": "stream",
       "stream": "stdout",
       "text": [
        " : skipping  ..\\..\\..\\_python_data/Driver Telematics Analysis/drivers/1583\n",
        "599 : skipping  ..\\..\\..\\_python_data/Driver Telematics Analysis/drivers/1584\n",
        "600"
       ]
      },
      {
       "output_type": "stream",
       "stream": "stdout",
       "text": [
        " : skipping  ..\\..\\..\\_python_data/Driver Telematics Analysis/drivers/1586\n",
        "601 : skipping  ..\\..\\..\\_python_data/Driver Telematics Analysis/drivers/1587\n",
        "602"
       ]
      },
      {
       "output_type": "stream",
       "stream": "stdout",
       "text": [
        " : skipping  ..\\..\\..\\_python_data/Driver Telematics Analysis/drivers/1588\n",
        "603 : skipping  ..\\..\\..\\_python_data/Driver Telematics Analysis/drivers/1589\n",
        "604 : skipping  ..\\..\\..\\_python_data/Driver Telematics Analysis/drivers/159\n",
        "605 : skipping  ..\\..\\..\\_python_data/Driver Telematics Analysis/drivers/1591\n",
        "606"
       ]
      },
      {
       "output_type": "stream",
       "stream": "stdout",
       "text": [
        " : skipping  ..\\..\\..\\_python_data/Driver Telematics Analysis/drivers/1592\n",
        "607 : skipping  ..\\..\\..\\_python_data/Driver Telematics Analysis/drivers/1593\n",
        "608 : skipping  ..\\..\\..\\_python_data/Driver Telematics Analysis/drivers/1594\n",
        "609"
       ]
      },
      {
       "output_type": "stream",
       "stream": "stdout",
       "text": [
        " : skipping  ..\\..\\..\\_python_data/Driver Telematics Analysis/drivers/1595\n",
        "610 : skipping  ..\\..\\..\\_python_data/Driver Telematics Analysis/drivers/1596\n",
        "611"
       ]
      },
      {
       "output_type": "stream",
       "stream": "stdout",
       "text": [
        " : skipping  ..\\..\\..\\_python_data/Driver Telematics Analysis/drivers/1597\n",
        "612 : skipping  ..\\..\\..\\_python_data/Driver Telematics Analysis/drivers/1598\n",
        "613"
       ]
      },
      {
       "output_type": "stream",
       "stream": "stdout",
       "text": [
        " : skipping  ..\\..\\..\\_python_data/Driver Telematics Analysis/drivers/16\n",
        "614 : skipping  ..\\..\\..\\_python_data/Driver Telematics Analysis/drivers/160\n",
        "615 : skipping  ..\\..\\..\\_python_data/Driver Telematics Analysis/drivers/1600\n",
        "616"
       ]
      },
      {
       "output_type": "stream",
       "stream": "stdout",
       "text": [
        " : skipping  ..\\..\\..\\_python_data/Driver Telematics Analysis/drivers/1601\n",
        "617 : skipping  ..\\..\\..\\_python_data/Driver Telematics Analysis/drivers/1602\n",
        "618 : skipping  ..\\..\\..\\_python_data/Driver Telematics Analysis/drivers/1603\n",
        "619"
       ]
      },
      {
       "output_type": "stream",
       "stream": "stdout",
       "text": [
        " : skipping  ..\\..\\..\\_python_data/Driver Telematics Analysis/drivers/1604\n",
        "620 : skipping  ..\\..\\..\\_python_data/Driver Telematics Analysis/drivers/1605\n",
        "621 : skipping  ..\\..\\..\\_python_data/Driver Telematics Analysis/drivers/1606\n",
        "622 : skipping  ..\\..\\..\\_python_data/Driver Telematics Analysis/drivers/1607\n",
        "623"
       ]
      },
      {
       "output_type": "stream",
       "stream": "stdout",
       "text": [
        " : skipping  ..\\..\\..\\_python_data/Driver Telematics Analysis/drivers/1609\n",
        "624 : skipping  ..\\..\\..\\_python_data/Driver Telematics Analysis/drivers/161\n",
        "625 : skipping  ..\\..\\..\\_python_data/Driver Telematics Analysis/drivers/1610\n",
        "626 : skipping  ..\\..\\..\\_python_data/Driver Telematics Analysis/drivers/1611\n",
        "627"
       ]
      },
      {
       "output_type": "stream",
       "stream": "stdout",
       "text": [
        " : skipping  ..\\..\\..\\_python_data/Driver Telematics Analysis/drivers/1612\n",
        "628 : skipping  ..\\..\\..\\_python_data/Driver Telematics Analysis/drivers/1613\n",
        "629 : skipping  ..\\..\\..\\_python_data/Driver Telematics Analysis/drivers/1614\n",
        "630 : skipping  ..\\..\\..\\_python_data/Driver Telematics Analysis/drivers/1615\n",
        "631"
       ]
      },
      {
       "output_type": "stream",
       "stream": "stdout",
       "text": [
        " : skipping  ..\\..\\..\\_python_data/Driver Telematics Analysis/drivers/1616\n",
        "632 : skipping  ..\\..\\..\\_python_data/Driver Telematics Analysis/drivers/1619\n",
        "633"
       ]
      },
      {
       "output_type": "stream",
       "stream": "stdout",
       "text": [
        " : skipping  ..\\..\\..\\_python_data/Driver Telematics Analysis/drivers/162\n",
        "634"
       ]
      },
      {
       "output_type": "stream",
       "stream": "stdout",
       "text": [
        " : skipping  ..\\..\\..\\_python_data/Driver Telematics Analysis/drivers/1620\n",
        "635 : skipping  ..\\..\\..\\_python_data/Driver Telematics Analysis/drivers/1621\n",
        "636 : skipping  ..\\..\\..\\_python_data/Driver Telematics Analysis/drivers/1622\n",
        "637"
       ]
      },
      {
       "output_type": "stream",
       "stream": "stdout",
       "text": [
        " : skipping  ..\\..\\..\\_python_data/Driver Telematics Analysis/drivers/1623\n",
        "638 : skipping  ..\\..\\..\\_python_data/Driver Telematics Analysis/drivers/1624\n",
        "639 : skipping  ..\\..\\..\\_python_data/Driver Telematics Analysis/drivers/1625\n",
        "640 : skipping  ..\\..\\..\\_python_data/Driver Telematics Analysis/drivers/1626\n",
        "641 : skipping  ..\\..\\..\\_python_data/Driver Telematics Analysis/drivers/1627\n",
        "642"
       ]
      },
      {
       "output_type": "stream",
       "stream": "stdout",
       "text": [
        " : skipping  ..\\..\\..\\_python_data/Driver Telematics Analysis/drivers/1628\n",
        "643 : skipping  ..\\..\\..\\_python_data/Driver Telematics Analysis/drivers/1629\n",
        "644 : skipping  ..\\..\\..\\_python_data/Driver Telematics Analysis/drivers/163\n",
        "645"
       ]
      },
      {
       "output_type": "stream",
       "stream": "stdout",
       "text": [
        " : skipping  ..\\..\\..\\_python_data/Driver Telematics Analysis/drivers/1630\n",
        "646 : skipping  ..\\..\\..\\_python_data/Driver Telematics Analysis/drivers/1631\n",
        "647"
       ]
      },
      {
       "output_type": "stream",
       "stream": "stdout",
       "text": [
        " : skipping  ..\\..\\..\\_python_data/Driver Telematics Analysis/drivers/1632\n",
        "648 : skipping  ..\\..\\..\\_python_data/Driver Telematics Analysis/drivers/1633\n",
        "649 : skipping  ..\\..\\..\\_python_data/Driver Telematics Analysis/drivers/1634\n",
        "650"
       ]
      },
      {
       "output_type": "stream",
       "stream": "stdout",
       "text": [
        " : skipping  ..\\..\\..\\_python_data/Driver Telematics Analysis/drivers/1635\n",
        "651 : skipping  ..\\..\\..\\_python_data/Driver Telematics Analysis/drivers/1636\n",
        "652"
       ]
      },
      {
       "output_type": "stream",
       "stream": "stdout",
       "text": [
        " : skipping  ..\\..\\..\\_python_data/Driver Telematics Analysis/drivers/1637\n",
        "653 : skipping  ..\\..\\..\\_python_data/Driver Telematics Analysis/drivers/1638\n",
        "654"
       ]
      },
      {
       "output_type": "stream",
       "stream": "stdout",
       "text": [
        " : skipping  ..\\..\\..\\_python_data/Driver Telematics Analysis/drivers/1639\n",
        "655 : skipping  ..\\..\\..\\_python_data/Driver Telematics Analysis/drivers/164\n",
        "656 : skipping  ..\\..\\..\\_python_data/Driver Telematics Analysis/drivers/1640\n",
        "657 : skipping  ..\\..\\..\\_python_data/Driver Telematics Analysis/drivers/1641\n",
        "658"
       ]
      },
      {
       "output_type": "stream",
       "stream": "stdout",
       "text": [
        " : skipping  ..\\..\\..\\_python_data/Driver Telematics Analysis/drivers/1642\n",
        "659 : skipping  ..\\..\\..\\_python_data/Driver Telematics Analysis/drivers/1643\n",
        "660 : skipping  ..\\..\\..\\_python_data/Driver Telematics Analysis/drivers/1644\n",
        "661"
       ]
      },
      {
       "output_type": "stream",
       "stream": "stdout",
       "text": [
        " : skipping  ..\\..\\..\\_python_data/Driver Telematics Analysis/drivers/1645\n",
        "662 : skipping  ..\\..\\..\\_python_data/Driver Telematics Analysis/drivers/1646\n",
        "663 : skipping  ..\\..\\..\\_python_data/Driver Telematics Analysis/drivers/1647\n",
        "664 : skipping  ..\\..\\..\\_python_data/Driver Telematics Analysis/drivers/1648\n",
        "665"
       ]
      },
      {
       "output_type": "stream",
       "stream": "stdout",
       "text": [
        " : skipping  ..\\..\\..\\_python_data/Driver Telematics Analysis/drivers/1649\n",
        "666 : skipping  ..\\..\\..\\_python_data/Driver Telematics Analysis/drivers/1650\n",
        "667"
       ]
      },
      {
       "output_type": "stream",
       "stream": "stdout",
       "text": [
        " : skipping  ..\\..\\..\\_python_data/Driver Telematics Analysis/drivers/1651\n",
        "668"
       ]
      },
      {
       "output_type": "stream",
       "stream": "stdout",
       "text": [
        " : skipping  ..\\..\\..\\_python_data/Driver Telematics Analysis/drivers/1652\n",
        "669 : skipping  ..\\..\\..\\_python_data/Driver Telematics Analysis/drivers/1653\n",
        "670 : skipping  ..\\..\\..\\_python_data/Driver Telematics Analysis/drivers/1654\n",
        "671 : skipping  ..\\..\\..\\_python_data/Driver Telematics Analysis/drivers/1655\n",
        "672"
       ]
      },
      {
       "output_type": "stream",
       "stream": "stdout",
       "text": [
        " : skipping  ..\\..\\..\\_python_data/Driver Telematics Analysis/drivers/1656\n",
        "673 : skipping  ..\\..\\..\\_python_data/Driver Telematics Analysis/drivers/1657\n",
        "674 : skipping  ..\\..\\..\\_python_data/Driver Telematics Analysis/drivers/1658\n",
        "675"
       ]
      },
      {
       "output_type": "stream",
       "stream": "stdout",
       "text": [
        " : skipping  ..\\..\\..\\_python_data/Driver Telematics Analysis/drivers/1659\n",
        "676 : skipping  ..\\..\\..\\_python_data/Driver Telematics Analysis/drivers/166\n",
        "677 : skipping  ..\\..\\..\\_python_data/Driver Telematics Analysis/drivers/1660\n",
        "678"
       ]
      },
      {
       "output_type": "stream",
       "stream": "stdout",
       "text": [
        " : skipping  ..\\..\\..\\_python_data/Driver Telematics Analysis/drivers/1662\n",
        "679 : skipping  ..\\..\\..\\_python_data/Driver Telematics Analysis/drivers/1663\n",
        "680 : skipping  ..\\..\\..\\_python_data/Driver Telematics Analysis/drivers/1664\n",
        "681"
       ]
      },
      {
       "output_type": "stream",
       "stream": "stdout",
       "text": [
        " : skipping  ..\\..\\..\\_python_data/Driver Telematics Analysis/drivers/1665\n",
        "682 : skipping  ..\\..\\..\\_python_data/Driver Telematics Analysis/drivers/1666\n",
        "683"
       ]
      },
      {
       "output_type": "stream",
       "stream": "stdout",
       "text": [
        " : skipping  ..\\..\\..\\_python_data/Driver Telematics Analysis/drivers/1667\n",
        "684 : skipping  ..\\..\\..\\_python_data/Driver Telematics Analysis/drivers/1668\n",
        "685 : skipping  ..\\..\\..\\_python_data/Driver Telematics Analysis/drivers/1669\n",
        "686"
       ]
      },
      {
       "output_type": "stream",
       "stream": "stdout",
       "text": [
        " : skipping  ..\\..\\..\\_python_data/Driver Telematics Analysis/drivers/167\n",
        "687 : skipping  ..\\..\\..\\_python_data/Driver Telematics Analysis/drivers/1670\n",
        "688"
       ]
      },
      {
       "output_type": "stream",
       "stream": "stdout",
       "text": [
        " : skipping  ..\\..\\..\\_python_data/Driver Telematics Analysis/drivers/1671\n",
        "689 : skipping  ..\\..\\..\\_python_data/Driver Telematics Analysis/drivers/1672\n",
        "690 : skipping  ..\\..\\..\\_python_data/Driver Telematics Analysis/drivers/1673\n",
        "691"
       ]
      },
      {
       "output_type": "stream",
       "stream": "stdout",
       "text": [
        " : skipping  ..\\..\\..\\_python_data/Driver Telematics Analysis/drivers/1674\n",
        "692 : skipping  ..\\..\\..\\_python_data/Driver Telematics Analysis/drivers/1675\n",
        "693 : skipping  ..\\..\\..\\_python_data/Driver Telematics Analysis/drivers/1676\n",
        "694"
       ]
      },
      {
       "output_type": "stream",
       "stream": "stdout",
       "text": [
        " : skipping  ..\\..\\..\\_python_data/Driver Telematics Analysis/drivers/1677\n",
        "695 : skipping  ..\\..\\..\\_python_data/Driver Telematics Analysis/drivers/1678\n",
        "696 : skipping  ..\\..\\..\\_python_data/Driver Telematics Analysis/drivers/1679\n",
        "697"
       ]
      },
      {
       "output_type": "stream",
       "stream": "stdout",
       "text": [
        " : skipping  ..\\..\\..\\_python_data/Driver Telematics Analysis/drivers/168\n",
        "698 : skipping  ..\\..\\..\\_python_data/Driver Telematics Analysis/drivers/1680\n",
        "699"
       ]
      },
      {
       "output_type": "stream",
       "stream": "stdout",
       "text": [
        " : skipping  ..\\..\\..\\_python_data/Driver Telematics Analysis/drivers/1681\n",
        "700 : skipping  ..\\..\\..\\_python_data/Driver Telematics Analysis/drivers/1682\n",
        "701 : skipping  ..\\..\\..\\_python_data/Driver Telematics Analysis/drivers/1684\n",
        "702"
       ]
      },
      {
       "output_type": "stream",
       "stream": "stdout",
       "text": [
        " : skipping  ..\\..\\..\\_python_data/Driver Telematics Analysis/drivers/1685\n",
        "703 : skipping  ..\\..\\..\\_python_data/Driver Telematics Analysis/drivers/1687\n",
        "704 : skipping  ..\\..\\..\\_python_data/Driver Telematics Analysis/drivers/1688\n",
        "705"
       ]
      },
      {
       "output_type": "stream",
       "stream": "stdout",
       "text": [
        " : skipping  ..\\..\\..\\_python_data/Driver Telematics Analysis/drivers/1689\n",
        "706 : skipping  ..\\..\\..\\_python_data/Driver Telematics Analysis/drivers/169\n",
        "707"
       ]
      },
      {
       "output_type": "stream",
       "stream": "stdout",
       "text": [
        " : skipping  ..\\..\\..\\_python_data/Driver Telematics Analysis/drivers/1691\n",
        "708 : skipping  ..\\..\\..\\_python_data/Driver Telematics Analysis/drivers/1692\n",
        "709"
       ]
      },
      {
       "output_type": "stream",
       "stream": "stdout",
       "text": [
        " : skipping  ..\\..\\..\\_python_data/Driver Telematics Analysis/drivers/1693\n",
        "710 : skipping  ..\\..\\..\\_python_data/Driver Telematics Analysis/drivers/1694\n",
        "711 : skipping  ..\\..\\..\\_python_data/Driver Telematics Analysis/drivers/1695\n",
        "712"
       ]
      },
      {
       "output_type": "stream",
       "stream": "stdout",
       "text": [
        " : skipping  ..\\..\\..\\_python_data/Driver Telematics Analysis/drivers/1696\n",
        "713 : skipping  ..\\..\\..\\_python_data/Driver Telematics Analysis/drivers/1698\n",
        "714 : skipping  ..\\..\\..\\_python_data/Driver Telematics Analysis/drivers/17\n",
        "715"
       ]
      },
      {
       "output_type": "stream",
       "stream": "stdout",
       "text": [
        " : skipping  ..\\..\\..\\_python_data/Driver Telematics Analysis/drivers/170\n",
        "716 : skipping  ..\\..\\..\\_python_data/Driver Telematics Analysis/drivers/1700\n",
        "717 : skipping  ..\\..\\..\\_python_data/Driver Telematics Analysis/drivers/1701\n",
        "718 : skipping  ..\\..\\..\\_python_data/Driver Telematics Analysis/drivers/1702\n",
        "719"
       ]
      },
      {
       "output_type": "stream",
       "stream": "stdout",
       "text": [
        " : skipping  ..\\..\\..\\_python_data/Driver Telematics Analysis/drivers/1703\n",
        "720 : skipping  ..\\..\\..\\_python_data/Driver Telematics Analysis/drivers/1704\n",
        "721 : skipping  ..\\..\\..\\_python_data/Driver Telematics Analysis/drivers/1705\n",
        "722"
       ]
      },
      {
       "output_type": "stream",
       "stream": "stdout",
       "text": [
        " : skipping  ..\\..\\..\\_python_data/Driver Telematics Analysis/drivers/1706\n",
        "723 : skipping  ..\\..\\..\\_python_data/Driver Telematics Analysis/drivers/1707\n",
        "724 : skipping  ..\\..\\..\\_python_data/Driver Telematics Analysis/drivers/1708\n",
        "725"
       ]
      },
      {
       "output_type": "stream",
       "stream": "stdout",
       "text": [
        " : skipping  ..\\..\\..\\_python_data/Driver Telematics Analysis/drivers/1709\n",
        "726 : skipping  ..\\..\\..\\_python_data/Driver Telematics Analysis/drivers/171\n",
        "727"
       ]
      },
      {
       "output_type": "stream",
       "stream": "stdout",
       "text": [
        " : skipping  ..\\..\\..\\_python_data/Driver Telematics Analysis/drivers/1710\n",
        "728 : skipping  ..\\..\\..\\_python_data/Driver Telematics Analysis/drivers/1711\n",
        "729 : skipping  ..\\..\\..\\_python_data/Driver Telematics Analysis/drivers/1712\n",
        "730"
       ]
      },
      {
       "output_type": "stream",
       "stream": "stdout",
       "text": [
        " : skipping  ..\\..\\..\\_python_data/Driver Telematics Analysis/drivers/1713\n",
        "731 : skipping  ..\\..\\..\\_python_data/Driver Telematics Analysis/drivers/1714\n",
        "732 : skipping  ..\\..\\..\\_python_data/Driver Telematics Analysis/drivers/1715\n",
        "733"
       ]
      },
      {
       "output_type": "stream",
       "stream": "stdout",
       "text": [
        " : skipping  ..\\..\\..\\_python_data/Driver Telematics Analysis/drivers/1716\n",
        "734 : skipping  ..\\..\\..\\_python_data/Driver Telematics Analysis/drivers/1718\n",
        "735"
       ]
      },
      {
       "output_type": "stream",
       "stream": "stdout",
       "text": [
        " : skipping  ..\\..\\..\\_python_data/Driver Telematics Analysis/drivers/1719\n",
        "736 : skipping  ..\\..\\..\\_python_data/Driver Telematics Analysis/drivers/172\n",
        "737 : skipping  ..\\..\\..\\_python_data/Driver Telematics Analysis/drivers/1720\n",
        "738"
       ]
      },
      {
       "output_type": "stream",
       "stream": "stdout",
       "text": [
        " : skipping  ..\\..\\..\\_python_data/Driver Telematics Analysis/drivers/1721\n",
        "739 : skipping  ..\\..\\..\\_python_data/Driver Telematics Analysis/drivers/1722\n",
        "740"
       ]
      },
      {
       "output_type": "stream",
       "stream": "stdout",
       "text": [
        " : skipping  ..\\..\\..\\_python_data/Driver Telematics Analysis/drivers/1723\n",
        "741 : skipping  ..\\..\\..\\_python_data/Driver Telematics Analysis/drivers/1724\n",
        "742 : skipping  ..\\..\\..\\_python_data/Driver Telematics Analysis/drivers/1725\n",
        "743 : skipping  ..\\..\\..\\_python_data/Driver Telematics Analysis/drivers/1726\n",
        "744"
       ]
      },
      {
       "output_type": "stream",
       "stream": "stdout",
       "text": [
        " : skipping  ..\\..\\..\\_python_data/Driver Telematics Analysis/drivers/1727\n",
        "745 : skipping  ..\\..\\..\\_python_data/Driver Telematics Analysis/drivers/1728\n",
        "746 : skipping  ..\\..\\..\\_python_data/Driver Telematics Analysis/drivers/1729\n",
        "747"
       ]
      },
      {
       "output_type": "stream",
       "stream": "stdout",
       "text": [
        " : skipping  ..\\..\\..\\_python_data/Driver Telematics Analysis/drivers/173\n",
        "748 : skipping  ..\\..\\..\\_python_data/Driver Telematics Analysis/drivers/1730\n",
        "749 : skipping  ..\\..\\..\\_python_data/Driver Telematics Analysis/drivers/1731\n",
        "750"
       ]
      },
      {
       "output_type": "stream",
       "stream": "stdout",
       "text": [
        " : skipping  ..\\..\\..\\_python_data/Driver Telematics Analysis/drivers/1732\n",
        "751 : skipping  ..\\..\\..\\_python_data/Driver Telematics Analysis/drivers/1733\n",
        "752"
       ]
      },
      {
       "output_type": "stream",
       "stream": "stdout",
       "text": [
        " : skipping  ..\\..\\..\\_python_data/Driver Telematics Analysis/drivers/1734\n",
        "753 : skipping  ..\\..\\..\\_python_data/Driver Telematics Analysis/drivers/1735\n",
        "754"
       ]
      },
      {
       "output_type": "stream",
       "stream": "stdout",
       "text": [
        " : skipping  ..\\..\\..\\_python_data/Driver Telematics Analysis/drivers/1739\n",
        "755 : skipping  ..\\..\\..\\_python_data/Driver Telematics Analysis/drivers/174\n",
        "756 : skipping  ..\\..\\..\\_python_data/Driver Telematics Analysis/drivers/1740\n",
        "757"
       ]
      },
      {
       "output_type": "stream",
       "stream": "stdout",
       "text": [
        " : skipping  ..\\..\\..\\_python_data/Driver Telematics Analysis/drivers/1741\n",
        "758 : skipping  ..\\..\\..\\_python_data/Driver Telematics Analysis/drivers/1742\n",
        "759"
       ]
      },
      {
       "output_type": "stream",
       "stream": "stdout",
       "text": [
        " : skipping  ..\\..\\..\\_python_data/Driver Telematics Analysis/drivers/1743\n",
        "760"
       ]
      },
      {
       "output_type": "stream",
       "stream": "stdout",
       "text": [
        " : skipping  ..\\..\\..\\_python_data/Driver Telematics Analysis/drivers/1744\n",
        "761 : skipping  ..\\..\\..\\_python_data/Driver Telematics Analysis/drivers/1745\n",
        "762 : skipping  ..\\..\\..\\_python_data/Driver Telematics Analysis/drivers/1746\n",
        "763"
       ]
      },
      {
       "output_type": "stream",
       "stream": "stdout",
       "text": [
        " : skipping  ..\\..\\..\\_python_data/Driver Telematics Analysis/drivers/1747\n",
        "764 : skipping  ..\\..\\..\\_python_data/Driver Telematics Analysis/drivers/1748\n",
        "765"
       ]
      },
      {
       "output_type": "stream",
       "stream": "stdout",
       "text": [
        " : skipping  ..\\..\\..\\_python_data/Driver Telematics Analysis/drivers/1749\n",
        "766 : skipping  ..\\..\\..\\_python_data/Driver Telematics Analysis/drivers/175\n",
        "767 : skipping  ..\\..\\..\\_python_data/Driver Telematics Analysis/drivers/1750\n",
        "768"
       ]
      },
      {
       "output_type": "stream",
       "stream": "stdout",
       "text": [
        " : skipping  ..\\..\\..\\_python_data/Driver Telematics Analysis/drivers/1751\n",
        "769 : skipping  ..\\..\\..\\_python_data/Driver Telematics Analysis/drivers/1752\n",
        "770 : skipping  ..\\..\\..\\_python_data/Driver Telematics Analysis/drivers/1753\n",
        "771"
       ]
      },
      {
       "output_type": "stream",
       "stream": "stdout",
       "text": [
        " : skipping  ..\\..\\..\\_python_data/Driver Telematics Analysis/drivers/1754\n",
        "772 : skipping  ..\\..\\..\\_python_data/Driver Telematics Analysis/drivers/1755\n",
        "773 : skipping  ..\\..\\..\\_python_data/Driver Telematics Analysis/drivers/1756\n",
        "774"
       ]
      },
      {
       "output_type": "stream",
       "stream": "stdout",
       "text": [
        " : skipping  ..\\..\\..\\_python_data/Driver Telematics Analysis/drivers/1757\n",
        "775 : skipping  ..\\..\\..\\_python_data/Driver Telematics Analysis/drivers/1758\n",
        "776"
       ]
      },
      {
       "output_type": "stream",
       "stream": "stdout",
       "text": [
        " : skipping  ..\\..\\..\\_python_data/Driver Telematics Analysis/drivers/1759\n",
        "777 : skipping  ..\\..\\..\\_python_data/Driver Telematics Analysis/drivers/176\n",
        "778 : skipping  ..\\..\\..\\_python_data/Driver Telematics Analysis/drivers/1760\n",
        "779 : skipping  ..\\..\\..\\_python_data/Driver Telematics Analysis/drivers/1761\n",
        "780"
       ]
      },
      {
       "output_type": "stream",
       "stream": "stdout",
       "text": [
        " : skipping  ..\\..\\..\\_python_data/Driver Telematics Analysis/drivers/1762\n",
        "781 : skipping  ..\\..\\..\\_python_data/Driver Telematics Analysis/drivers/1763\n",
        "782 : skipping  ..\\..\\..\\_python_data/Driver Telematics Analysis/drivers/1764\n",
        "783"
       ]
      },
      {
       "output_type": "stream",
       "stream": "stdout",
       "text": [
        " : skipping  ..\\..\\..\\_python_data/Driver Telematics Analysis/drivers/1765\n",
        "784 : skipping  ..\\..\\..\\_python_data/Driver Telematics Analysis/drivers/1766\n",
        "785 : skipping  ..\\..\\..\\_python_data/Driver Telematics Analysis/drivers/1767\n",
        "786 : skipping  ..\\..\\..\\_python_data/Driver Telematics Analysis/drivers/1768\n",
        "787"
       ]
      },
      {
       "output_type": "stream",
       "stream": "stdout",
       "text": [
        " : skipping  ..\\..\\..\\_python_data/Driver Telematics Analysis/drivers/1769\n",
        "788 : skipping  ..\\..\\..\\_python_data/Driver Telematics Analysis/drivers/177\n",
        "789 : skipping  ..\\..\\..\\_python_data/Driver Telematics Analysis/drivers/1770\n",
        "790"
       ]
      },
      {
       "output_type": "stream",
       "stream": "stdout",
       "text": [
        " : skipping  ..\\..\\..\\_python_data/Driver Telematics Analysis/drivers/1771\n",
        "791 : skipping  ..\\..\\..\\_python_data/Driver Telematics Analysis/drivers/1773\n",
        "792 : skipping  ..\\..\\..\\_python_data/Driver Telematics Analysis/drivers/1774\n",
        "793 : skipping  ..\\..\\..\\_python_data/Driver Telematics Analysis/drivers/1775\n",
        "794"
       ]
      },
      {
       "output_type": "stream",
       "stream": "stdout",
       "text": [
        " : skipping  ..\\..\\..\\_python_data/Driver Telematics Analysis/drivers/1776\n",
        "795 : skipping  ..\\..\\..\\_python_data/Driver Telematics Analysis/drivers/1777\n",
        "796 : skipping  ..\\..\\..\\_python_data/Driver Telematics Analysis/drivers/1778\n",
        "797 : skipping  ..\\..\\..\\_python_data/Driver Telematics Analysis/drivers/1779\n",
        "798"
       ]
      },
      {
       "output_type": "stream",
       "stream": "stdout",
       "text": [
        " : skipping  ..\\..\\..\\_python_data/Driver Telematics Analysis/drivers/178\n",
        "799 : skipping  ..\\..\\..\\_python_data/Driver Telematics Analysis/drivers/1780\n",
        "800 : skipping  ..\\..\\..\\_python_data/Driver Telematics Analysis/drivers/1782\n",
        "801"
       ]
      },
      {
       "output_type": "stream",
       "stream": "stdout",
       "text": [
        " : skipping  ..\\..\\..\\_python_data/Driver Telematics Analysis/drivers/1783\n",
        "802 : skipping  ..\\..\\..\\_python_data/Driver Telematics Analysis/drivers/1784\n",
        "803 : skipping  ..\\..\\..\\_python_data/Driver Telematics Analysis/drivers/1785\n",
        "804"
       ]
      },
      {
       "output_type": "stream",
       "stream": "stdout",
       "text": [
        " : skipping  ..\\..\\..\\_python_data/Driver Telematics Analysis/drivers/1786\n",
        "805 : skipping  ..\\..\\..\\_python_data/Driver Telematics Analysis/drivers/1787\n",
        "806 : skipping  ..\\..\\..\\_python_data/Driver Telematics Analysis/drivers/1788\n",
        "807 : skipping  ..\\..\\..\\_python_data/Driver Telematics Analysis/drivers/1789\n",
        "808"
       ]
      },
      {
       "output_type": "stream",
       "stream": "stdout",
       "text": [
        " : skipping  ..\\..\\..\\_python_data/Driver Telematics Analysis/drivers/179\n",
        "809 : skipping  ..\\..\\..\\_python_data/Driver Telematics Analysis/drivers/1790\n",
        "810"
       ]
      },
      {
       "output_type": "stream",
       "stream": "stdout",
       "text": [
        " : skipping  ..\\..\\..\\_python_data/Driver Telematics Analysis/drivers/1791\n",
        "811 : skipping  ..\\..\\..\\_python_data/Driver Telematics Analysis/drivers/1792\n",
        "812 : skipping  ..\\..\\..\\_python_data/Driver Telematics Analysis/drivers/1793\n",
        "813"
       ]
      },
      {
       "output_type": "stream",
       "stream": "stdout",
       "text": [
        " : skipping  ..\\..\\..\\_python_data/Driver Telematics Analysis/drivers/1794\n",
        "814 : skipping  ..\\..\\..\\_python_data/Driver Telematics Analysis/drivers/1795\n",
        "815 : skipping  ..\\..\\..\\_python_data/Driver Telematics Analysis/drivers/1796\n",
        "816"
       ]
      },
      {
       "output_type": "stream",
       "stream": "stdout",
       "text": [
        " : skipping  ..\\..\\..\\_python_data/Driver Telematics Analysis/drivers/1797\n",
        "817 : skipping  ..\\..\\..\\_python_data/Driver Telematics Analysis/drivers/1798\n",
        "818 : skipping  ..\\..\\..\\_python_data/Driver Telematics Analysis/drivers/1799\n",
        "819"
       ]
      },
      {
       "output_type": "stream",
       "stream": "stdout",
       "text": [
        " : skipping  ..\\..\\..\\_python_data/Driver Telematics Analysis/drivers/18\n",
        "820 : skipping  ..\\..\\..\\_python_data/Driver Telematics Analysis/drivers/180\n",
        "821 : skipping  ..\\..\\..\\_python_data/Driver Telematics Analysis/drivers/1800\n",
        "822 : skipping  ..\\..\\..\\_python_data/Driver Telematics Analysis/drivers/1801\n",
        "823"
       ]
      },
      {
       "output_type": "stream",
       "stream": "stdout",
       "text": [
        " : skipping  ..\\..\\..\\_python_data/Driver Telematics Analysis/drivers/1802\n",
        "824 : skipping  ..\\..\\..\\_python_data/Driver Telematics Analysis/drivers/1803\n",
        "825 : skipping  ..\\..\\..\\_python_data/Driver Telematics Analysis/drivers/1804\n",
        "826 : skipping  ..\\..\\..\\_python_data/Driver Telematics Analysis/drivers/1805\n",
        "827"
       ]
      },
      {
       "output_type": "stream",
       "stream": "stdout",
       "text": [
        " : skipping  ..\\..\\..\\_python_data/Driver Telematics Analysis/drivers/1806\n",
        "828 : skipping  ..\\..\\..\\_python_data/Driver Telematics Analysis/drivers/1807\n",
        "829"
       ]
      },
      {
       "output_type": "stream",
       "stream": "stdout",
       "text": [
        " : skipping  ..\\..\\..\\_python_data/Driver Telematics Analysis/drivers/1808\n",
        "830 : skipping  ..\\..\\..\\_python_data/Driver Telematics Analysis/drivers/1809\n",
        "831 : skipping  ..\\..\\..\\_python_data/Driver Telematics Analysis/drivers/181\n",
        "832 : skipping  ..\\..\\..\\_python_data/Driver Telematics Analysis/drivers/1810\n",
        "833"
       ]
      },
      {
       "output_type": "stream",
       "stream": "stdout",
       "text": [
        " : skipping  ..\\..\\..\\_python_data/Driver Telematics Analysis/drivers/1811\n",
        "834 : skipping  ..\\..\\..\\_python_data/Driver Telematics Analysis/drivers/1812\n",
        "835"
       ]
      },
      {
       "output_type": "stream",
       "stream": "stdout",
       "text": [
        " : skipping  ..\\..\\..\\_python_data/Driver Telematics Analysis/drivers/1813\n",
        "836 : skipping  ..\\..\\..\\_python_data/Driver Telematics Analysis/drivers/1814\n",
        "837 : skipping  ..\\..\\..\\_python_data/Driver Telematics Analysis/drivers/1815\n",
        "838 : skipping  ..\\..\\..\\_python_data/Driver Telematics Analysis/drivers/1816\n",
        "839"
       ]
      },
      {
       "output_type": "stream",
       "stream": "stdout",
       "text": [
        " : skipping  ..\\..\\..\\_python_data/Driver Telematics Analysis/drivers/1817\n",
        "840 : skipping  ..\\..\\..\\_python_data/Driver Telematics Analysis/drivers/1818\n",
        "841 : skipping  ..\\..\\..\\_python_data/Driver Telematics Analysis/drivers/1819\n",
        "842"
       ]
      },
      {
       "output_type": "stream",
       "stream": "stdout",
       "text": [
        " : skipping  ..\\..\\..\\_python_data/Driver Telematics Analysis/drivers/182\n",
        "843 : skipping  ..\\..\\..\\_python_data/Driver Telematics Analysis/drivers/1820\n",
        "844 : skipping  ..\\..\\..\\_python_data/Driver Telematics Analysis/drivers/1821\n",
        "845 : skipping  ..\\..\\..\\_python_data/Driver Telematics Analysis/drivers/1822\n",
        "846"
       ]
      },
      {
       "output_type": "stream",
       "stream": "stdout",
       "text": [
        " : skipping  ..\\..\\..\\_python_data/Driver Telematics Analysis/drivers/1823\n",
        "847 : skipping  ..\\..\\..\\_python_data/Driver Telematics Analysis/drivers/1824\n",
        "848 : skipping  ..\\..\\..\\_python_data/Driver Telematics Analysis/drivers/1825\n",
        "849 : skipping  ..\\..\\..\\_python_data/Driver Telematics Analysis/drivers/1826\n",
        "850"
       ]
      },
      {
       "output_type": "stream",
       "stream": "stdout",
       "text": [
        " : skipping  ..\\..\\..\\_python_data/Driver Telematics Analysis/drivers/1827\n",
        "851 : skipping  ..\\..\\..\\_python_data/Driver Telematics Analysis/drivers/1828\n",
        "852 : skipping  ..\\..\\..\\_python_data/Driver Telematics Analysis/drivers/1829\n",
        "853 : skipping  ..\\..\\..\\_python_data/Driver Telematics Analysis/drivers/183\n",
        "854 : skipping  ..\\..\\..\\_python_data/Driver Telematics Analysis/drivers/1830\n",
        "855"
       ]
      },
      {
       "output_type": "stream",
       "stream": "stdout",
       "text": [
        " : skipping  ..\\..\\..\\_python_data/Driver Telematics Analysis/drivers/1831\n",
        "856 : skipping  ..\\..\\..\\_python_data/Driver Telematics Analysis/drivers/1832\n",
        "857 : skipping  ..\\..\\..\\_python_data/Driver Telematics Analysis/drivers/1833\n",
        "858 : skipping  ..\\..\\..\\_python_data/Driver Telematics Analysis/drivers/1834\n",
        "859"
       ]
      },
      {
       "output_type": "stream",
       "stream": "stdout",
       "text": [
        " : skipping  ..\\..\\..\\_python_data/Driver Telematics Analysis/drivers/1835\n",
        "860 : skipping  ..\\..\\..\\_python_data/Driver Telematics Analysis/drivers/1836\n",
        "861"
       ]
      },
      {
       "output_type": "stream",
       "stream": "stdout",
       "text": [
        " : skipping  ..\\..\\..\\_python_data/Driver Telematics Analysis/drivers/1837\n",
        "862 : skipping  ..\\..\\..\\_python_data/Driver Telematics Analysis/drivers/1838\n",
        "863"
       ]
      },
      {
       "output_type": "stream",
       "stream": "stdout",
       "text": [
        " : skipping  ..\\..\\..\\_python_data/Driver Telematics Analysis/drivers/1839\n",
        "864 : skipping  ..\\..\\..\\_python_data/Driver Telematics Analysis/drivers/184\n",
        "865 : skipping  ..\\..\\..\\_python_data/Driver Telematics Analysis/drivers/1840\n",
        "866 : skipping  ..\\..\\..\\_python_data/Driver Telematics Analysis/drivers/1841\n",
        "867"
       ]
      },
      {
       "output_type": "stream",
       "stream": "stdout",
       "text": [
        " : skipping  ..\\..\\..\\_python_data/Driver Telematics Analysis/drivers/1842\n",
        "868 : skipping  ..\\..\\..\\_python_data/Driver Telematics Analysis/drivers/1843\n",
        "869 : skipping  ..\\..\\..\\_python_data/Driver Telematics Analysis/drivers/1844\n",
        "870"
       ]
      },
      {
       "output_type": "stream",
       "stream": "stdout",
       "text": [
        " : skipping  ..\\..\\..\\_python_data/Driver Telematics Analysis/drivers/1845\n",
        "871"
       ]
      },
      {
       "output_type": "stream",
       "stream": "stdout",
       "text": [
        " : skipping  ..\\..\\..\\_python_data/Driver Telematics Analysis/drivers/1846\n",
        "872 : skipping  ..\\..\\..\\_python_data/Driver Telematics Analysis/drivers/1847\n",
        "873 : skipping  ..\\..\\..\\_python_data/Driver Telematics Analysis/drivers/1848\n",
        "874 : skipping  ..\\..\\..\\_python_data/Driver Telematics Analysis/drivers/1849\n",
        "875 : skipping  ..\\..\\..\\_python_data/Driver Telematics Analysis/drivers/185\n",
        "876 : skipping  ..\\..\\..\\_python_data/Driver Telematics Analysis/drivers/1850\n",
        "877"
       ]
      },
      {
       "output_type": "stream",
       "stream": "stdout",
       "text": [
        " : skipping  ..\\..\\..\\_python_data/Driver Telematics Analysis/drivers/1851\n",
        "878"
       ]
      },
      {
       "output_type": "stream",
       "stream": "stdout",
       "text": [
        " : skipping  ..\\..\\..\\_python_data/Driver Telematics Analysis/drivers/1852\n",
        "879"
       ]
      },
      {
       "output_type": "stream",
       "stream": "stdout",
       "text": [
        " : skipping  ..\\..\\..\\_python_data/Driver Telematics Analysis/drivers/1853\n",
        "880 : skipping  ..\\..\\..\\_python_data/Driver Telematics Analysis/drivers/1854\n",
        "881 : skipping  ..\\..\\..\\_python_data/Driver Telematics Analysis/drivers/1855\n",
        "882 : skipping  ..\\..\\..\\_python_data/Driver Telematics Analysis/drivers/1856\n",
        "883 : skipping  ..\\..\\..\\_python_data/Driver Telematics Analysis/drivers/1857\n",
        "884"
       ]
      },
      {
       "output_type": "stream",
       "stream": "stdout",
       "text": [
        " : skipping  ..\\..\\..\\_python_data/Driver Telematics Analysis/drivers/1858\n",
        "885 : skipping  ..\\..\\..\\_python_data/Driver Telematics Analysis/drivers/1859\n",
        "886"
       ]
      },
      {
       "output_type": "stream",
       "stream": "stdout",
       "text": [
        " : skipping  ..\\..\\..\\_python_data/Driver Telematics Analysis/drivers/186\n",
        "887 : skipping  ..\\..\\..\\_python_data/Driver Telematics Analysis/drivers/1860\n",
        "888 : skipping  ..\\..\\..\\_python_data/Driver Telematics Analysis/drivers/1861\n",
        "889 : skipping  ..\\..\\..\\_python_data/Driver Telematics Analysis/drivers/1862\n",
        "890"
       ]
      },
      {
       "output_type": "stream",
       "stream": "stdout",
       "text": [
        " : skipping  ..\\..\\..\\_python_data/Driver Telematics Analysis/drivers/1863\n",
        "891 : skipping  ..\\..\\..\\_python_data/Driver Telematics Analysis/drivers/1864\n",
        "892"
       ]
      },
      {
       "output_type": "stream",
       "stream": "stdout",
       "text": [
        " : skipping  ..\\..\\..\\_python_data/Driver Telematics Analysis/drivers/1865\n",
        "893 : skipping  ..\\..\\..\\_python_data/Driver Telematics Analysis/drivers/1866\n",
        "894 : skipping  ..\\..\\..\\_python_data/Driver Telematics Analysis/drivers/1867\n",
        "895"
       ]
      },
      {
       "output_type": "stream",
       "stream": "stdout",
       "text": [
        " : skipping  ..\\..\\..\\_python_data/Driver Telematics Analysis/drivers/1868\n",
        "896 : skipping  ..\\..\\..\\_python_data/Driver Telematics Analysis/drivers/1869\n",
        "897 : skipping  ..\\..\\..\\_python_data/Driver Telematics Analysis/drivers/187\n",
        "898 : skipping  ..\\..\\..\\_python_data/Driver Telematics Analysis/drivers/1870\n",
        "899 : skipping  ..\\..\\..\\_python_data/Driver Telematics Analysis/drivers/1871\n",
        "900"
       ]
      },
      {
       "output_type": "stream",
       "stream": "stdout",
       "text": [
        " : skipping  ..\\..\\..\\_python_data/Driver Telematics Analysis/drivers/1872\n",
        "901 : skipping  ..\\..\\..\\_python_data/Driver Telematics Analysis/drivers/1873\n",
        "902 : skipping  ..\\..\\..\\_python_data/Driver Telematics Analysis/drivers/1874\n",
        "903 : skipping  ..\\..\\..\\_python_data/Driver Telematics Analysis/drivers/1875\n",
        "904 : skipping  ..\\..\\..\\_python_data/Driver Telematics Analysis/drivers/1876\n",
        "905"
       ]
      },
      {
       "output_type": "stream",
       "stream": "stdout",
       "text": [
        " : skipping  ..\\..\\..\\_python_data/Driver Telematics Analysis/drivers/1877\n",
        "906 : skipping  ..\\..\\..\\_python_data/Driver Telematics Analysis/drivers/1878\n",
        "907"
       ]
      },
      {
       "output_type": "stream",
       "stream": "stdout",
       "text": [
        " : skipping  ..\\..\\..\\_python_data/Driver Telematics Analysis/drivers/1879\n",
        "908 : skipping  ..\\..\\..\\_python_data/Driver Telematics Analysis/drivers/188\n",
        "909 : skipping  ..\\..\\..\\_python_data/Driver Telematics Analysis/drivers/1880\n",
        "910 : skipping  ..\\..\\..\\_python_data/Driver Telematics Analysis/drivers/1881\n",
        "911"
       ]
      },
      {
       "output_type": "stream",
       "stream": "stdout",
       "text": [
        " : skipping  ..\\..\\..\\_python_data/Driver Telematics Analysis/drivers/1882\n",
        "912 : skipping  ..\\..\\..\\_python_data/Driver Telematics Analysis/drivers/1883\n",
        "913 : skipping  ..\\..\\..\\_python_data/Driver Telematics Analysis/drivers/1884\n",
        "914"
       ]
      },
      {
       "output_type": "stream",
       "stream": "stdout",
       "text": [
        " : skipping  ..\\..\\..\\_python_data/Driver Telematics Analysis/drivers/1885\n",
        "915 : skipping  ..\\..\\..\\_python_data/Driver Telematics Analysis/drivers/1886\n",
        "916"
       ]
      },
      {
       "output_type": "stream",
       "stream": "stdout",
       "text": [
        " : skipping  ..\\..\\..\\_python_data/Driver Telematics Analysis/drivers/1887\n",
        "917 : skipping  ..\\..\\..\\_python_data/Driver Telematics Analysis/drivers/1888\n",
        "918 : skipping  ..\\..\\..\\_python_data/Driver Telematics Analysis/drivers/1889\n",
        "919 : skipping  ..\\..\\..\\_python_data/Driver Telematics Analysis/drivers/189\n",
        "920 : skipping  ..\\..\\..\\_python_data/Driver Telematics Analysis/drivers/1890\n",
        "921 : skipping  ..\\..\\..\\_python_data/Driver Telematics Analysis/drivers/1891\n",
        "922"
       ]
      },
      {
       "output_type": "stream",
       "stream": "stdout",
       "text": [
        " : skipping  ..\\..\\..\\_python_data/Driver Telematics Analysis/drivers/1892\n",
        "923 : skipping  ..\\..\\..\\_python_data/Driver Telematics Analysis/drivers/1893\n",
        "924 : skipping  ..\\..\\..\\_python_data/Driver Telematics Analysis/drivers/1894\n",
        "925 : skipping  ..\\..\\..\\_python_data/Driver Telematics Analysis/drivers/1895\n",
        "926 : skipping  ..\\..\\..\\_python_data/Driver Telematics Analysis/drivers/1896\n",
        "927 : skipping  ..\\..\\..\\_python_data/Driver Telematics Analysis/drivers/1897\n",
        "928"
       ]
      },
      {
       "output_type": "stream",
       "stream": "stdout",
       "text": [
        " : skipping  ..\\..\\..\\_python_data/Driver Telematics Analysis/drivers/1898\n",
        "929 : skipping  ..\\..\\..\\_python_data/Driver Telematics Analysis/drivers/1899\n",
        "930"
       ]
      },
      {
       "output_type": "stream",
       "stream": "stdout",
       "text": [
        " : skipping  ..\\..\\..\\_python_data/Driver Telematics Analysis/drivers/19\n",
        "931 : skipping  ..\\..\\..\\_python_data/Driver Telematics Analysis/drivers/190\n",
        "932 : skipping  ..\\..\\..\\_python_data/Driver Telematics Analysis/drivers/1900\n",
        "933 : skipping  ..\\..\\..\\_python_data/Driver Telematics Analysis/drivers/1901\n",
        "934"
       ]
      },
      {
       "output_type": "stream",
       "stream": "stdout",
       "text": [
        " : skipping  ..\\..\\..\\_python_data/Driver Telematics Analysis/drivers/1902\n",
        "935 : skipping  ..\\..\\..\\_python_data/Driver Telematics Analysis/drivers/1903\n",
        "936 : skipping  ..\\..\\..\\_python_data/Driver Telematics Analysis/drivers/1904\n",
        "937 : skipping  ..\\..\\..\\_python_data/Driver Telematics Analysis/drivers/1905\n",
        "938 : skipping  ..\\..\\..\\_python_data/Driver Telematics Analysis/drivers/1906\n",
        "939 : skipping  ..\\..\\..\\_python_data/Driver Telematics Analysis/drivers/1907\n",
        "940 : skipping  ..\\..\\..\\_python_data/Driver Telematics Analysis/drivers/1908\n",
        "941"
       ]
      },
      {
       "output_type": "stream",
       "stream": "stdout",
       "text": [
        " : skipping  ..\\..\\..\\_python_data/Driver Telematics Analysis/drivers/1909\n",
        "942 : skipping  ..\\..\\..\\_python_data/Driver Telematics Analysis/drivers/191\n",
        "943"
       ]
      },
      {
       "output_type": "stream",
       "stream": "stdout",
       "text": [
        " : skipping  ..\\..\\..\\_python_data/Driver Telematics Analysis/drivers/1910\n",
        "944 : skipping  ..\\..\\..\\_python_data/Driver Telematics Analysis/drivers/1911\n",
        "945 : skipping  ..\\..\\..\\_python_data/Driver Telematics Analysis/drivers/1912\n",
        "946 : skipping  ..\\..\\..\\_python_data/Driver Telematics Analysis/drivers/1913\n",
        "947"
       ]
      },
      {
       "output_type": "stream",
       "stream": "stdout",
       "text": [
        " : skipping  ..\\..\\..\\_python_data/Driver Telematics Analysis/drivers/1914\n",
        "948 : skipping  ..\\..\\..\\_python_data/Driver Telematics Analysis/drivers/1915\n",
        "949 : skipping  ..\\..\\..\\_python_data/Driver Telematics Analysis/drivers/1917\n",
        "950"
       ]
      },
      {
       "output_type": "stream",
       "stream": "stdout",
       "text": [
        " : skipping  ..\\..\\..\\_python_data/Driver Telematics Analysis/drivers/1918\n",
        "951 : skipping  ..\\..\\..\\_python_data/Driver Telematics Analysis/drivers/1919\n",
        "952 : skipping  ..\\..\\..\\_python_data/Driver Telematics Analysis/drivers/192\n",
        "953 : skipping  ..\\..\\..\\_python_data/Driver Telematics Analysis/drivers/1920\n",
        "954 : skipping  ..\\..\\..\\_python_data/Driver Telematics Analysis/drivers/1921\n",
        "955"
       ]
      },
      {
       "output_type": "stream",
       "stream": "stdout",
       "text": [
        " : skipping  ..\\..\\..\\_python_data/Driver Telematics Analysis/drivers/1922\n",
        "956 : skipping  ..\\..\\..\\_python_data/Driver Telematics Analysis/drivers/1923\n",
        "957 : skipping  ..\\..\\..\\_python_data/Driver Telematics Analysis/drivers/1924\n",
        "958"
       ]
      },
      {
       "output_type": "stream",
       "stream": "stdout",
       "text": [
        " : skipping  ..\\..\\..\\_python_data/Driver Telematics Analysis/drivers/1925\n",
        "959 : skipping  ..\\..\\..\\_python_data/Driver Telematics Analysis/drivers/1926\n",
        "960 : skipping  ..\\..\\..\\_python_data/Driver Telematics Analysis/drivers/1927\n",
        "961"
       ]
      },
      {
       "output_type": "stream",
       "stream": "stdout",
       "text": [
        " : skipping  ..\\..\\..\\_python_data/Driver Telematics Analysis/drivers/1928\n",
        "962 : skipping  ..\\..\\..\\_python_data/Driver Telematics Analysis/drivers/1929\n",
        "963"
       ]
      },
      {
       "output_type": "stream",
       "stream": "stdout",
       "text": [
        " : skipping  ..\\..\\..\\_python_data/Driver Telematics Analysis/drivers/193\n",
        "964 : skipping  ..\\..\\..\\_python_data/Driver Telematics Analysis/drivers/1930\n",
        "965 : skipping  ..\\..\\..\\_python_data/Driver Telematics Analysis/drivers/1931\n",
        "966"
       ]
      },
      {
       "output_type": "stream",
       "stream": "stdout",
       "text": [
        " : skipping  ..\\..\\..\\_python_data/Driver Telematics Analysis/drivers/1932\n",
        "967 : skipping  ..\\..\\..\\_python_data/Driver Telematics Analysis/drivers/1933\n",
        "968 : skipping  ..\\..\\..\\_python_data/Driver Telematics Analysis/drivers/1934\n",
        "969 : skipping  ..\\..\\..\\_python_data/Driver Telematics Analysis/drivers/1935\n",
        "970"
       ]
      },
      {
       "output_type": "stream",
       "stream": "stdout",
       "text": [
        " : skipping  ..\\..\\..\\_python_data/Driver Telematics Analysis/drivers/1936\n",
        "971 : skipping  ..\\..\\..\\_python_data/Driver Telematics Analysis/drivers/1937\n",
        "972 : skipping  ..\\..\\..\\_python_data/Driver Telematics Analysis/drivers/1938\n",
        "973"
       ]
      },
      {
       "output_type": "stream",
       "stream": "stdout",
       "text": [
        " : skipping  ..\\..\\..\\_python_data/Driver Telematics Analysis/drivers/1939\n",
        "974 : skipping  ..\\..\\..\\_python_data/Driver Telematics Analysis/drivers/194\n",
        "975"
       ]
      },
      {
       "output_type": "stream",
       "stream": "stdout",
       "text": [
        " : skipping  ..\\..\\..\\_python_data/Driver Telematics Analysis/drivers/1940\n",
        "976 : skipping  ..\\..\\..\\_python_data/Driver Telematics Analysis/drivers/1941\n",
        "977 : skipping  ..\\..\\..\\_python_data/Driver Telematics Analysis/drivers/1942\n",
        "978"
       ]
      },
      {
       "output_type": "stream",
       "stream": "stdout",
       "text": [
        " : skipping  ..\\..\\..\\_python_data/Driver Telematics Analysis/drivers/1943\n",
        "979 : skipping  ..\\..\\..\\_python_data/Driver Telematics Analysis/drivers/1944\n",
        "980"
       ]
      },
      {
       "output_type": "stream",
       "stream": "stdout",
       "text": [
        " : skipping  ..\\..\\..\\_python_data/Driver Telematics Analysis/drivers/1945\n",
        "981 : skipping  ..\\..\\..\\_python_data/Driver Telematics Analysis/drivers/1946\n",
        "982 : skipping  ..\\..\\..\\_python_data/Driver Telematics Analysis/drivers/1947\n",
        "983"
       ]
      },
      {
       "output_type": "stream",
       "stream": "stdout",
       "text": [
        " : skipping  ..\\..\\..\\_python_data/Driver Telematics Analysis/drivers/1948\n",
        "984 : skipping  ..\\..\\..\\_python_data/Driver Telematics Analysis/drivers/1949\n",
        "985"
       ]
      },
      {
       "output_type": "stream",
       "stream": "stdout",
       "text": [
        " : skipping  ..\\..\\..\\_python_data/Driver Telematics Analysis/drivers/195\n",
        "986 : skipping  ..\\..\\..\\_python_data/Driver Telematics Analysis/drivers/1950\n",
        "987 : skipping  ..\\..\\..\\_python_data/Driver Telematics Analysis/drivers/1951\n",
        "988 : skipping  ..\\..\\..\\_python_data/Driver Telematics Analysis/drivers/1952\n",
        "989"
       ]
      },
      {
       "output_type": "stream",
       "stream": "stdout",
       "text": [
        " : skipping  ..\\..\\..\\_python_data/Driver Telematics Analysis/drivers/1953\n",
        "990 : skipping  ..\\..\\..\\_python_data/Driver Telematics Analysis/drivers/1954\n",
        "991"
       ]
      },
      {
       "output_type": "stream",
       "stream": "stdout",
       "text": [
        " : skipping  ..\\..\\..\\_python_data/Driver Telematics Analysis/drivers/1955\n",
        "992 : skipping  ..\\..\\..\\_python_data/Driver Telematics Analysis/drivers/1956\n",
        "993 : skipping  ..\\..\\..\\_python_data/Driver Telematics Analysis/drivers/1958\n",
        "994"
       ]
      },
      {
       "output_type": "stream",
       "stream": "stdout",
       "text": [
        " : skipping  ..\\..\\..\\_python_data/Driver Telematics Analysis/drivers/1959\n",
        "995 : skipping  ..\\..\\..\\_python_data/Driver Telematics Analysis/drivers/196\n",
        "996 : skipping  ..\\..\\..\\_python_data/Driver Telematics Analysis/drivers/1960\n",
        "997"
       ]
      },
      {
       "output_type": "stream",
       "stream": "stdout",
       "text": [
        " : skipping  ..\\..\\..\\_python_data/Driver Telematics Analysis/drivers/1961\n",
        "998 : skipping  ..\\..\\..\\_python_data/Driver Telematics Analysis/drivers/1962\n",
        "999 : skipping  ..\\..\\..\\_python_data/Driver Telematics Analysis/drivers/1963\n",
        "1000"
       ]
      },
      {
       "output_type": "stream",
       "stream": "stdout",
       "text": [
        " : skipping  ..\\..\\..\\_python_data/Driver Telematics Analysis/drivers/1964\n",
        "1001 : skipping  ..\\..\\..\\_python_data/Driver Telematics Analysis/drivers/1965\n",
        "1002 : skipping  ..\\..\\..\\_python_data/Driver Telematics Analysis/drivers/1966\n",
        "1003"
       ]
      },
      {
       "output_type": "stream",
       "stream": "stdout",
       "text": [
        " : skipping  ..\\..\\..\\_python_data/Driver Telematics Analysis/drivers/1967\n",
        "1004 : skipping  ..\\..\\..\\_python_data/Driver Telematics Analysis/drivers/1968\n",
        "1005"
       ]
      },
      {
       "output_type": "stream",
       "stream": "stdout",
       "text": [
        " : skipping  ..\\..\\..\\_python_data/Driver Telematics Analysis/drivers/1969\n",
        "1006 : skipping  ..\\..\\..\\_python_data/Driver Telematics Analysis/drivers/197\n",
        "1007 : skipping  ..\\..\\..\\_python_data/Driver Telematics Analysis/drivers/1970\n",
        "1008"
       ]
      },
      {
       "output_type": "stream",
       "stream": "stdout",
       "text": [
        " : skipping  ..\\..\\..\\_python_data/Driver Telematics Analysis/drivers/1971\n",
        "1009"
       ]
      },
      {
       "output_type": "stream",
       "stream": "stdout",
       "text": [
        " : skipping  ..\\..\\..\\_python_data/Driver Telematics Analysis/drivers/1972\n",
        "1010 : skipping  ..\\..\\..\\_python_data/Driver Telematics Analysis/drivers/1973\n",
        "1011 : skipping  ..\\..\\..\\_python_data/Driver Telematics Analysis/drivers/1974\n",
        "1012"
       ]
      },
      {
       "output_type": "stream",
       "stream": "stdout",
       "text": [
        " : skipping  ..\\..\\..\\_python_data/Driver Telematics Analysis/drivers/1975\n",
        "1013 : skipping  ..\\..\\..\\_python_data/Driver Telematics Analysis/drivers/1976\n",
        "1014"
       ]
      },
      {
       "output_type": "stream",
       "stream": "stdout",
       "text": [
        " : skipping  ..\\..\\..\\_python_data/Driver Telematics Analysis/drivers/1977\n",
        "1015 : skipping  ..\\..\\..\\_python_data/Driver Telematics Analysis/drivers/1978\n",
        "1016 : skipping  ..\\..\\..\\_python_data/Driver Telematics Analysis/drivers/1979\n",
        "1017 : skipping  ..\\..\\..\\_python_data/Driver Telematics Analysis/drivers/198\n",
        "1018"
       ]
      },
      {
       "output_type": "stream",
       "stream": "stdout",
       "text": [
        " : skipping  ..\\..\\..\\_python_data/Driver Telematics Analysis/drivers/1980\n",
        "1019 : skipping  ..\\..\\..\\_python_data/Driver Telematics Analysis/drivers/1981\n",
        "1020 : skipping  ..\\..\\..\\_python_data/Driver Telematics Analysis/drivers/1982\n",
        "1021"
       ]
      },
      {
       "output_type": "stream",
       "stream": "stdout",
       "text": [
        " : skipping  ..\\..\\..\\_python_data/Driver Telematics Analysis/drivers/1983\n",
        "1022 : skipping  ..\\..\\..\\_python_data/Driver Telematics Analysis/drivers/1985\n",
        "1023 : skipping  ..\\..\\..\\_python_data/Driver Telematics Analysis/drivers/1986\n",
        "1024"
       ]
      },
      {
       "output_type": "stream",
       "stream": "stdout",
       "text": [
        " : skipping  ..\\..\\..\\_python_data/Driver Telematics Analysis/drivers/1987\n",
        "1025 : skipping  ..\\..\\..\\_python_data/Driver Telematics Analysis/drivers/1988\n",
        "1026 : skipping  ..\\..\\..\\_python_data/Driver Telematics Analysis/drivers/199\n",
        "1027 : skipping  ..\\..\\..\\_python_data/Driver Telematics Analysis/drivers/1990\n",
        "1028"
       ]
      },
      {
       "output_type": "stream",
       "stream": "stdout",
       "text": [
        " : skipping  ..\\..\\..\\_python_data/Driver Telematics Analysis/drivers/1991\n",
        "1029 : skipping  ..\\..\\..\\_python_data/Driver Telematics Analysis/drivers/1992\n",
        "1030"
       ]
      },
      {
       "output_type": "stream",
       "stream": "stdout",
       "text": [
        " : skipping  ..\\..\\..\\_python_data/Driver Telematics Analysis/drivers/1993\n",
        "1031 : skipping  ..\\..\\..\\_python_data/Driver Telematics Analysis/drivers/1994\n",
        "1032"
       ]
      },
      {
       "output_type": "stream",
       "stream": "stdout",
       "text": [
        " : skipping  ..\\..\\..\\_python_data/Driver Telematics Analysis/drivers/1995\n",
        "1033 : skipping  ..\\..\\..\\_python_data/Driver Telematics Analysis/drivers/1996\n",
        "1034"
       ]
      },
      {
       "output_type": "stream",
       "stream": "stdout",
       "text": [
        " : skipping  ..\\..\\..\\_python_data/Driver Telematics Analysis/drivers/1997\n",
        "1035 : skipping  ..\\..\\..\\_python_data/Driver Telematics Analysis/drivers/1998\n",
        "1036"
       ]
      },
      {
       "output_type": "stream",
       "stream": "stdout",
       "text": [
        " : skipping  ..\\..\\..\\_python_data/Driver Telematics Analysis/drivers/1999\n",
        "1037 : skipping  ..\\..\\..\\_python_data/Driver Telematics Analysis/drivers/2\n",
        "1038"
       ]
      },
      {
       "output_type": "stream",
       "stream": "stdout",
       "text": [
        " : skipping  ..\\..\\..\\_python_data/Driver Telematics Analysis/drivers/20\n",
        "1039 : skipping  ..\\..\\..\\_python_data/Driver Telematics Analysis/drivers/200\n",
        "1040 : skipping  ..\\..\\..\\_python_data/Driver Telematics Analysis/drivers/2000\n",
        "1041 : skipping  ..\\..\\..\\_python_data/Driver Telematics Analysis/drivers/2001\n",
        "1042 : skipping  ..\\..\\..\\_python_data/Driver Telematics Analysis/drivers/2003\n",
        "1043"
       ]
      },
      {
       "output_type": "stream",
       "stream": "stdout",
       "text": [
        " : skipping  ..\\..\\..\\_python_data/Driver Telematics Analysis/drivers/2004\n",
        "1044 : skipping  ..\\..\\..\\_python_data/Driver Telematics Analysis/drivers/2005\n",
        "1045 : skipping  ..\\..\\..\\_python_data/Driver Telematics Analysis/drivers/2006\n",
        "1046 : skipping  ..\\..\\..\\_python_data/Driver Telematics Analysis/drivers/2007\n",
        "1047"
       ]
      },
      {
       "output_type": "stream",
       "stream": "stdout",
       "text": [
        " : skipping  ..\\..\\..\\_python_data/Driver Telematics Analysis/drivers/2008\n",
        "1048 : skipping  ..\\..\\..\\_python_data/Driver Telematics Analysis/drivers/2009\n",
        "1049 : skipping  ..\\..\\..\\_python_data/Driver Telematics Analysis/drivers/201\n",
        "1050"
       ]
      },
      {
       "output_type": "stream",
       "stream": "stdout",
       "text": [
        " : skipping  ..\\..\\..\\_python_data/Driver Telematics Analysis/drivers/2010\n",
        "1051 : skipping  ..\\..\\..\\_python_data/Driver Telematics Analysis/drivers/2011\n",
        "1052"
       ]
      },
      {
       "output_type": "stream",
       "stream": "stdout",
       "text": [
        " : skipping  ..\\..\\..\\_python_data/Driver Telematics Analysis/drivers/2012\n",
        "1053 : skipping  ..\\..\\..\\_python_data/Driver Telematics Analysis/drivers/2013\n",
        "1054"
       ]
      },
      {
       "output_type": "stream",
       "stream": "stdout",
       "text": [
        " : skipping  ..\\..\\..\\_python_data/Driver Telematics Analysis/drivers/2014\n",
        "1055 : skipping  ..\\..\\..\\_python_data/Driver Telematics Analysis/drivers/2015\n",
        "1056"
       ]
      },
      {
       "output_type": "stream",
       "stream": "stdout",
       "text": [
        " : skipping  ..\\..\\..\\_python_data/Driver Telematics Analysis/drivers/2016\n",
        "1057 : skipping  ..\\..\\..\\_python_data/Driver Telematics Analysis/drivers/2017\n",
        "1058 : skipping  ..\\..\\..\\_python_data/Driver Telematics Analysis/drivers/2018\n",
        "1059 : skipping  ..\\..\\..\\_python_data/Driver Telematics Analysis/drivers/2019\n",
        "1060"
       ]
      },
      {
       "output_type": "stream",
       "stream": "stdout",
       "text": [
        " : skipping  ..\\..\\..\\_python_data/Driver Telematics Analysis/drivers/202\n",
        "1061 : skipping  ..\\..\\..\\_python_data/Driver Telematics Analysis/drivers/2020\n",
        "1062 : skipping  ..\\..\\..\\_python_data/Driver Telematics Analysis/drivers/2021\n",
        "1063 : skipping  ..\\..\\..\\_python_data/Driver Telematics Analysis/drivers/2022\n",
        "1064"
       ]
      },
      {
       "output_type": "stream",
       "stream": "stdout",
       "text": [
        " : skipping  ..\\..\\..\\_python_data/Driver Telematics Analysis/drivers/2023\n",
        "1065 : skipping  ..\\..\\..\\_python_data/Driver Telematics Analysis/drivers/2024\n",
        "1066"
       ]
      },
      {
       "output_type": "stream",
       "stream": "stdout",
       "text": [
        " : skipping  ..\\..\\..\\_python_data/Driver Telematics Analysis/drivers/2025\n",
        "1067 : skipping  ..\\..\\..\\_python_data/Driver Telematics Analysis/drivers/2026\n",
        "1068"
       ]
      },
      {
       "output_type": "stream",
       "stream": "stdout",
       "text": [
        " : skipping  ..\\..\\..\\_python_data/Driver Telematics Analysis/drivers/2027\n",
        "1069 : skipping  ..\\..\\..\\_python_data/Driver Telematics Analysis/drivers/2028\n",
        "1070 : skipping  ..\\..\\..\\_python_data/Driver Telematics Analysis/drivers/2029\n",
        "1071 "
       ]
      },
      {
       "output_type": "stream",
       "stream": "stdout",
       "text": [
        ": skipping  ..\\..\\..\\_python_data/Driver Telematics Analysis/drivers/203\n",
        "1072 : skipping  ..\\..\\..\\_python_data/Driver Telematics Analysis/drivers/2030\n",
        "1073"
       ]
      },
      {
       "output_type": "stream",
       "stream": "stdout",
       "text": [
        " : skipping  ..\\..\\..\\_python_data/Driver Telematics Analysis/drivers/2031\n",
        "1074 : skipping  ..\\..\\..\\_python_data/Driver Telematics Analysis/drivers/2032\n",
        "1075"
       ]
      },
      {
       "output_type": "stream",
       "stream": "stdout",
       "text": [
        " : skipping  ..\\..\\..\\_python_data/Driver Telematics Analysis/drivers/2033\n",
        "1076"
       ]
      },
      {
       "output_type": "stream",
       "stream": "stdout",
       "text": [
        " : skipping  ..\\..\\..\\_python_data/Driver Telematics Analysis/drivers/2034\n",
        "1077 : skipping  ..\\..\\..\\_python_data/Driver Telematics Analysis/drivers/2035\n",
        "1078"
       ]
      },
      {
       "output_type": "stream",
       "stream": "stdout",
       "text": [
        " : skipping  ..\\..\\..\\_python_data/Driver Telematics Analysis/drivers/2036\n",
        "1079 : skipping  ..\\..\\..\\_python_data/Driver Telematics Analysis/drivers/2037\n",
        "1080"
       ]
      },
      {
       "output_type": "stream",
       "stream": "stdout",
       "text": [
        " : skipping  ..\\..\\..\\_python_data/Driver Telematics Analysis/drivers/2038\n",
        "1081 : skipping  ..\\..\\..\\_python_data/Driver Telematics Analysis/drivers/2039\n",
        "1082 : skipping  ..\\..\\..\\_python_data/Driver Telematics Analysis/drivers/204\n",
        "1083"
       ]
      },
      {
       "output_type": "stream",
       "stream": "stdout",
       "text": [
        " : skipping  ..\\..\\..\\_python_data/Driver Telematics Analysis/drivers/2040\n",
        "1084 : skipping  ..\\..\\..\\_python_data/Driver Telematics Analysis/drivers/2041\n",
        "1085 : skipping  ..\\..\\..\\_python_data/Driver Telematics Analysis/drivers/2042\n",
        "1086"
       ]
      },
      {
       "output_type": "stream",
       "stream": "stdout",
       "text": [
        " : skipping  ..\\..\\..\\_python_data/Driver Telematics Analysis/drivers/2044\n",
        "1087 : skipping  ..\\..\\..\\_python_data/Driver Telematics Analysis/drivers/2045\n",
        "1088"
       ]
      },
      {
       "output_type": "stream",
       "stream": "stdout",
       "text": [
        " : skipping  ..\\..\\..\\_python_data/Driver Telematics Analysis/drivers/2046\n",
        "1089 : skipping  ..\\..\\..\\_python_data/Driver Telematics Analysis/drivers/2048\n",
        "1090 : skipping  ..\\..\\..\\_python_data/Driver Telematics Analysis/drivers/2049\n",
        "1091"
       ]
      },
      {
       "output_type": "stream",
       "stream": "stdout",
       "text": [
        " : skipping  ..\\..\\..\\_python_data/Driver Telematics Analysis/drivers/205\n",
        "1092 : skipping  ..\\..\\..\\_python_data/Driver Telematics Analysis/drivers/2050\n",
        "1093 : skipping  ..\\..\\..\\_python_data/Driver Telematics Analysis/drivers/2051\n",
        "1094"
       ]
      },
      {
       "output_type": "stream",
       "stream": "stdout",
       "text": [
        " : skipping  ..\\..\\..\\_python_data/Driver Telematics Analysis/drivers/2052\n",
        "1095 : skipping  ..\\..\\..\\_python_data/Driver Telematics Analysis/drivers/2053\n",
        "1096"
       ]
      },
      {
       "output_type": "stream",
       "stream": "stdout",
       "text": [
        " : skipping  ..\\..\\..\\_python_data/Driver Telematics Analysis/drivers/2054\n",
        "1097 : skipping  ..\\..\\..\\_python_data/Driver Telematics Analysis/drivers/2055\n",
        "1098 : skipping  ..\\..\\..\\_python_data/Driver Telematics Analysis/drivers/2056\n",
        "1099"
       ]
      },
      {
       "output_type": "stream",
       "stream": "stdout",
       "text": [
        " : skipping  ..\\..\\..\\_python_data/Driver Telematics Analysis/drivers/2057\n",
        "1100 : skipping  ..\\..\\..\\_python_data/Driver Telematics Analysis/drivers/2058\n",
        "1101 : skipping  ..\\..\\..\\_python_data/Driver Telematics Analysis/drivers/2059\n",
        "1102 : skipping  ..\\..\\..\\_python_data/Driver Telematics Analysis/drivers/206\n",
        "1103"
       ]
      },
      {
       "output_type": "stream",
       "stream": "stdout",
       "text": [
        " : skipping  ..\\..\\..\\_python_data/Driver Telematics Analysis/drivers/2060\n",
        "1104 : skipping  ..\\..\\..\\_python_data/Driver Telematics Analysis/drivers/2061\n",
        "1105"
       ]
      },
      {
       "output_type": "stream",
       "stream": "stdout",
       "text": [
        " : skipping  ..\\..\\..\\_python_data/Driver Telematics Analysis/drivers/2062\n",
        "1106 : skipping  ..\\..\\..\\_python_data/Driver Telematics Analysis/drivers/2063\n",
        "1107 : skipping  ..\\..\\..\\_python_data/Driver Telematics Analysis/drivers/2064\n",
        "1108"
       ]
      },
      {
       "output_type": "stream",
       "stream": "stdout",
       "text": [
        " : skipping  ..\\..\\..\\_python_data/Driver Telematics Analysis/drivers/2065\n",
        "1109 : skipping  ..\\..\\..\\_python_data/Driver Telematics Analysis/drivers/2066\n",
        "1110"
       ]
      },
      {
       "output_type": "stream",
       "stream": "stdout",
       "text": [
        " : skipping  ..\\..\\..\\_python_data/Driver Telematics Analysis/drivers/2067\n",
        "1111 : skipping  ..\\..\\..\\_python_data/Driver Telematics Analysis/drivers/2068\n",
        "1112 : skipping  ..\\..\\..\\_python_data/Driver Telematics Analysis/drivers/2069\n",
        "1113"
       ]
      },
      {
       "output_type": "stream",
       "stream": "stdout",
       "text": [
        " : skipping  ..\\..\\..\\_python_data/Driver Telematics Analysis/drivers/207\n",
        "1114 : skipping  ..\\..\\..\\_python_data/Driver Telematics Analysis/drivers/2070\n",
        "1115"
       ]
      },
      {
       "output_type": "stream",
       "stream": "stdout",
       "text": [
        " : skipping  ..\\..\\..\\_python_data/Driver Telematics Analysis/drivers/2071\n",
        "1116 : skipping  ..\\..\\..\\_python_data/Driver Telematics Analysis/drivers/2072\n",
        "1117 : skipping  ..\\..\\..\\_python_data/Driver Telematics Analysis/drivers/2073\n",
        "1118"
       ]
      },
      {
       "output_type": "stream",
       "stream": "stdout",
       "text": [
        " : skipping  ..\\..\\..\\_python_data/Driver Telematics Analysis/drivers/2074\n",
        "1119 : skipping  ..\\..\\..\\_python_data/Driver Telematics Analysis/drivers/2075\n",
        "1120 : skipping  ..\\..\\..\\_python_data/Driver Telematics Analysis/drivers/2077\n",
        "1121"
       ]
      },
      {
       "output_type": "stream",
       "stream": "stdout",
       "text": [
        " : skipping  ..\\..\\..\\_python_data/Driver Telematics Analysis/drivers/2078\n",
        "1122 : skipping  ..\\..\\..\\_python_data/Driver Telematics Analysis/drivers/2079\n",
        "1123 : skipping  ..\\..\\..\\_python_data/Driver Telematics Analysis/drivers/208\n",
        "1124 : skipping  ..\\..\\..\\_python_data/Driver Telematics Analysis/drivers/2080\n",
        "1125 : skipping  ..\\..\\..\\_python_data/Driver Telematics Analysis/drivers/2081\n",
        "1126"
       ]
      },
      {
       "output_type": "stream",
       "stream": "stdout",
       "text": [
        " : skipping  ..\\..\\..\\_python_data/Driver Telematics Analysis/drivers/2082\n",
        "1127 : skipping  ..\\..\\..\\_python_data/Driver Telematics Analysis/drivers/2083\n",
        "1128 : skipping  ..\\..\\..\\_python_data/Driver Telematics Analysis/drivers/2084\n",
        "1129"
       ]
      },
      {
       "output_type": "stream",
       "stream": "stdout",
       "text": [
        " : skipping  ..\\..\\..\\_python_data/Driver Telematics Analysis/drivers/2085\n",
        "1130 : skipping  ..\\..\\..\\_python_data/Driver Telematics Analysis/drivers/2088\n",
        "1131 : skipping  ..\\..\\..\\_python_data/Driver Telematics Analysis/drivers/2089\n",
        "1132"
       ]
      },
      {
       "output_type": "stream",
       "stream": "stdout",
       "text": [
        " : skipping  ..\\..\\..\\_python_data/Driver Telematics Analysis/drivers/209\n",
        "1133"
       ]
      },
      {
       "output_type": "stream",
       "stream": "stdout",
       "text": [
        " : skipping  ..\\..\\..\\_python_data/Driver Telematics Analysis/drivers/2090\n",
        "1134 : skipping  ..\\..\\..\\_python_data/Driver Telematics Analysis/drivers/2091\n",
        "1135 : skipping  ..\\..\\..\\_python_data/Driver Telematics Analysis/drivers/2092\n",
        "1136 : skipping  ..\\..\\..\\_python_data/Driver Telematics Analysis/drivers/2093\n",
        "1137 : skipping  ..\\..\\..\\_python_data/Driver Telematics Analysis/drivers/2094\n",
        "1138"
       ]
      },
      {
       "output_type": "stream",
       "stream": "stdout",
       "text": [
        " : skipping  ..\\..\\..\\_python_data/Driver Telematics Analysis/drivers/2095\n",
        "1139 : skipping  ..\\..\\..\\_python_data/Driver Telematics Analysis/drivers/2096\n",
        "1140 : skipping  ..\\..\\..\\_python_data/Driver Telematics Analysis/drivers/2097\n",
        "1141"
       ]
      },
      {
       "output_type": "stream",
       "stream": "stdout",
       "text": [
        " : skipping  ..\\..\\..\\_python_data/Driver Telematics Analysis/drivers/2098\n",
        "1142 : skipping  ..\\..\\..\\_python_data/Driver Telematics Analysis/drivers/2099\n",
        "1143 : skipping  ..\\..\\..\\_python_data/Driver Telematics Analysis/drivers/21\n",
        "1144 : skipping  ..\\..\\..\\_python_data/Driver Telematics Analysis/drivers/210\n",
        "1145 : skipping  ..\\..\\..\\_python_data/Driver Telematics Analysis/drivers/2100\n",
        "1146"
       ]
      },
      {
       "output_type": "stream",
       "stream": "stdout",
       "text": [
        " : skipping  ..\\..\\..\\_python_data/Driver Telematics Analysis/drivers/2101\n",
        "1147 : skipping  ..\\..\\..\\_python_data/Driver Telematics Analysis/drivers/2102\n",
        "1148 : skipping  ..\\..\\..\\_python_data/Driver Telematics Analysis/drivers/2103\n",
        "1149"
       ]
      },
      {
       "output_type": "stream",
       "stream": "stdout",
       "text": [
        " : skipping  ..\\..\\..\\_python_data/Driver Telematics Analysis/drivers/2104\n",
        "1150 : skipping  ..\\..\\..\\_python_data/Driver Telematics Analysis/drivers/2105\n",
        "1151"
       ]
      },
      {
       "output_type": "stream",
       "stream": "stdout",
       "text": [
        " : skipping  ..\\..\\..\\_python_data/Driver Telematics Analysis/drivers/2106\n",
        "1152 : skipping  ..\\..\\..\\_python_data/Driver Telematics Analysis/drivers/2107\n",
        "1153"
       ]
      },
      {
       "output_type": "stream",
       "stream": "stdout",
       "text": [
        " : skipping  ..\\..\\..\\_python_data/Driver Telematics Analysis/drivers/2108\n",
        "1154 : skipping  ..\\..\\..\\_python_data/Driver Telematics Analysis/drivers/2109\n",
        "1155 : skipping  ..\\..\\..\\_python_data/Driver Telematics Analysis/drivers/211\n",
        "1156"
       ]
      },
      {
       "output_type": "stream",
       "stream": "stdout",
       "text": [
        " : skipping  ..\\..\\..\\_python_data/Driver Telematics Analysis/drivers/2110\n",
        "1157 : skipping  ..\\..\\..\\_python_data/Driver Telematics Analysis/drivers/2112\n",
        "1158"
       ]
      },
      {
       "output_type": "stream",
       "stream": "stdout",
       "text": [
        " : skipping  ..\\..\\..\\_python_data/Driver Telematics Analysis/drivers/2113\n",
        "1159 : skipping  ..\\..\\..\\_python_data/Driver Telematics Analysis/drivers/2114\n",
        "1160"
       ]
      },
      {
       "output_type": "stream",
       "stream": "stdout",
       "text": [
        " : skipping  ..\\..\\..\\_python_data/Driver Telematics Analysis/drivers/2115\n",
        "1161 : skipping  ..\\..\\..\\_python_data/Driver Telematics Analysis/drivers/2116\n",
        "1162 : skipping  ..\\..\\..\\_python_data/Driver Telematics Analysis/drivers/2117\n",
        "1163"
       ]
      },
      {
       "output_type": "stream",
       "stream": "stdout",
       "text": [
        " : skipping  ..\\..\\..\\_python_data/Driver Telematics Analysis/drivers/2118\n",
        "1164"
       ]
      },
      {
       "output_type": "stream",
       "stream": "stdout",
       "text": [
        " : skipping  ..\\..\\..\\_python_data/Driver Telematics Analysis/drivers/2119\n",
        "1165 : skipping  ..\\..\\..\\_python_data/Driver Telematics Analysis/drivers/212\n",
        "1166"
       ]
      },
      {
       "output_type": "stream",
       "stream": "stdout",
       "text": [
        " : skipping  ..\\..\\..\\_python_data/Driver Telematics Analysis/drivers/2120\n",
        "1167 : skipping  ..\\..\\..\\_python_data/Driver Telematics Analysis/drivers/2121\n",
        "1168 : skipping  ..\\..\\..\\_python_data/Driver Telematics Analysis/drivers/2122\n",
        "1169"
       ]
      },
      {
       "output_type": "stream",
       "stream": "stdout",
       "text": [
        " : skipping  ..\\..\\..\\_python_data/Driver Telematics Analysis/drivers/2123\n",
        "1170 : skipping  ..\\..\\..\\_python_data/Driver Telematics Analysis/drivers/2124\n",
        "1171"
       ]
      },
      {
       "output_type": "stream",
       "stream": "stdout",
       "text": [
        " : skipping  ..\\..\\..\\_python_data/Driver Telematics Analysis/drivers/2125\n",
        "1172 : skipping  ..\\..\\..\\_python_data/Driver Telematics Analysis/drivers/2126\n",
        "1173 : skipping  ..\\..\\..\\_python_data/Driver Telematics Analysis/drivers/2127\n",
        "1174"
       ]
      },
      {
       "output_type": "stream",
       "stream": "stdout",
       "text": [
        " : skipping  ..\\..\\..\\_python_data/Driver Telematics Analysis/drivers/2128\n",
        "1175 : skipping  ..\\..\\..\\_python_data/Driver Telematics Analysis/drivers/2129\n",
        "1176"
       ]
      },
      {
       "output_type": "stream",
       "stream": "stdout",
       "text": [
        " : skipping  ..\\..\\..\\_python_data/Driver Telematics Analysis/drivers/213\n",
        "1177 : skipping  ..\\..\\..\\_python_data/Driver Telematics Analysis/drivers/2130\n",
        "1178"
       ]
      },
      {
       "output_type": "stream",
       "stream": "stdout",
       "text": [
        " : skipping  ..\\..\\..\\_python_data/Driver Telematics Analysis/drivers/2131\n",
        "1179 : skipping  ..\\..\\..\\_python_data/Driver Telematics Analysis/drivers/2132\n",
        "1180"
       ]
      },
      {
       "output_type": "stream",
       "stream": "stdout",
       "text": [
        " : skipping  ..\\..\\..\\_python_data/Driver Telematics Analysis/drivers/2133\n",
        "1181 : skipping  ..\\..\\..\\_python_data/Driver Telematics Analysis/drivers/2134\n",
        "1182 : skipping  ..\\..\\..\\_python_data/Driver Telematics Analysis/drivers/2135\n",
        "1183 : skipping  ..\\..\\..\\_python_data/Driver Telematics Analysis/drivers/2136\n",
        "1184"
       ]
      },
      {
       "output_type": "stream",
       "stream": "stdout",
       "text": [
        " : skipping  ..\\..\\..\\_python_data/Driver Telematics Analysis/drivers/2137\n",
        "1185 : skipping  ..\\..\\..\\_python_data/Driver Telematics Analysis/drivers/2138\n",
        "1186 : skipping  ..\\..\\..\\_python_data/Driver Telematics Analysis/drivers/2139\n",
        "1187 : skipping  ..\\..\\..\\_python_data/Driver Telematics Analysis/drivers/214\n",
        "1188"
       ]
      },
      {
       "output_type": "stream",
       "stream": "stdout",
       "text": [
        " : skipping  ..\\..\\..\\_python_data/Driver Telematics Analysis/drivers/2140\n",
        "1189 : skipping  ..\\..\\..\\_python_data/Driver Telematics Analysis/drivers/2141\n",
        "1190"
       ]
      },
      {
       "output_type": "stream",
       "stream": "stdout",
       "text": [
        " : skipping  ..\\..\\..\\_python_data/Driver Telematics Analysis/drivers/2142\n",
        "1191 : skipping  ..\\..\\..\\_python_data/Driver Telematics Analysis/drivers/2143\n",
        "1192"
       ]
      },
      {
       "output_type": "stream",
       "stream": "stdout",
       "text": [
        " : skipping  ..\\..\\..\\_python_data/Driver Telematics Analysis/drivers/2144\n",
        "1193 : skipping  ..\\..\\..\\_python_data/Driver Telematics Analysis/drivers/2145\n",
        "1194"
       ]
      },
      {
       "output_type": "stream",
       "stream": "stdout",
       "text": [
        " : skipping  ..\\..\\..\\_python_data/Driver Telematics Analysis/drivers/2146\n",
        "1195 : skipping  ..\\..\\..\\_python_data/Driver Telematics Analysis/drivers/2147\n",
        "1196"
       ]
      },
      {
       "output_type": "stream",
       "stream": "stdout",
       "text": [
        " : skipping  ..\\..\\..\\_python_data/Driver Telematics Analysis/drivers/2148\n",
        "1197"
       ]
      },
      {
       "output_type": "stream",
       "stream": "stdout",
       "text": [
        " : skipping  ..\\..\\..\\_python_data/Driver Telematics Analysis/drivers/2149\n",
        "1198"
       ]
      },
      {
       "output_type": "stream",
       "stream": "stdout",
       "text": [
        " : skipping  ..\\..\\..\\_python_data/Driver Telematics Analysis/drivers/215\n",
        "1199 : skipping  ..\\..\\..\\_python_data/Driver Telematics Analysis/drivers/2150\n",
        "1200"
       ]
      },
      {
       "output_type": "stream",
       "stream": "stdout",
       "text": [
        " : skipping  ..\\..\\..\\_python_data/Driver Telematics Analysis/drivers/2151\n",
        "1201 : skipping  ..\\..\\..\\_python_data/Driver Telematics Analysis/drivers/2152\n",
        "1202"
       ]
      },
      {
       "output_type": "stream",
       "stream": "stdout",
       "text": [
        " : skipping  ..\\..\\..\\_python_data/Driver Telematics Analysis/drivers/2153\n",
        "1203 : skipping  ..\\..\\..\\_python_data/Driver Telematics Analysis/drivers/2154\n",
        "1204 : skipping  ..\\..\\..\\_python_data/Driver Telematics Analysis/drivers/2155\n",
        "1205"
       ]
      },
      {
       "output_type": "stream",
       "stream": "stdout",
       "text": [
        " : skipping  ..\\..\\..\\_python_data/Driver Telematics Analysis/drivers/2156\n",
        "1206 : skipping  ..\\..\\..\\_python_data/Driver Telematics Analysis/drivers/2157\n",
        "1207"
       ]
      },
      {
       "output_type": "stream",
       "stream": "stdout",
       "text": [
        " : skipping  ..\\..\\..\\_python_data/Driver Telematics Analysis/drivers/2158\n",
        "1208 : skipping  ..\\..\\..\\_python_data/Driver Telematics Analysis/drivers/2159\n",
        "1209 : skipping  ..\\..\\..\\_python_data/Driver Telematics Analysis/drivers/216\n",
        "1210"
       ]
      },
      {
       "output_type": "stream",
       "stream": "stdout",
       "text": [
        " : skipping  ..\\..\\..\\_python_data/Driver Telematics Analysis/drivers/2160\n",
        "1211 : skipping  ..\\..\\..\\_python_data/Driver Telematics Analysis/drivers/2161\n",
        "1212"
       ]
      },
      {
       "output_type": "stream",
       "stream": "stdout",
       "text": [
        " : skipping  ..\\..\\..\\_python_data/Driver Telematics Analysis/drivers/2162\n",
        "1213 : skipping  ..\\..\\..\\_python_data/Driver Telematics Analysis/drivers/2163\n",
        "1214"
       ]
      },
      {
       "output_type": "stream",
       "stream": "stdout",
       "text": [
        " : skipping  ..\\..\\..\\_python_data/Driver Telematics Analysis/drivers/2164\n",
        "1215"
       ]
      },
      {
       "output_type": "stream",
       "stream": "stdout",
       "text": [
        " : skipping  ..\\..\\..\\_python_data/Driver Telematics Analysis/drivers/2166\n",
        "1216 : skipping  ..\\..\\..\\_python_data/Driver Telematics Analysis/drivers/2167\n",
        "1217"
       ]
      },
      {
       "output_type": "stream",
       "stream": "stdout",
       "text": [
        " : skipping  ..\\..\\..\\_python_data/Driver Telematics Analysis/drivers/2168\n",
        "1218 : skipping  ..\\..\\..\\_python_data/Driver Telematics Analysis/drivers/2169\n",
        "1219"
       ]
      },
      {
       "output_type": "stream",
       "stream": "stdout",
       "text": [
        " : skipping  ..\\..\\..\\_python_data/Driver Telematics Analysis/drivers/217\n",
        "1220 : skipping  ..\\..\\..\\_python_data/Driver Telematics Analysis/drivers/2170\n",
        "1221 : skipping  ..\\..\\..\\_python_data/Driver Telematics Analysis/drivers/2171\n",
        "1222"
       ]
      },
      {
       "output_type": "stream",
       "stream": "stdout",
       "text": [
        " : skipping  ..\\..\\..\\_python_data/Driver Telematics Analysis/drivers/2172\n",
        "1223"
       ]
      },
      {
       "output_type": "stream",
       "stream": "stdout",
       "text": [
        " : skipping  ..\\..\\..\\_python_data/Driver Telematics Analysis/drivers/2173\n",
        "1224 : skipping  ..\\..\\..\\_python_data/Driver Telematics Analysis/drivers/2174\n",
        "1225"
       ]
      },
      {
       "output_type": "stream",
       "stream": "stdout",
       "text": [
        " : skipping  ..\\..\\..\\_python_data/Driver Telematics Analysis/drivers/2175\n",
        "1226 : skipping  ..\\..\\..\\_python_data/Driver Telematics Analysis/drivers/2176\n",
        "1227"
       ]
      },
      {
       "output_type": "stream",
       "stream": "stdout",
       "text": [
        " : skipping  ..\\..\\..\\_python_data/Driver Telematics Analysis/drivers/2177\n",
        "1228 : skipping  ..\\..\\..\\_python_data/Driver Telematics Analysis/drivers/2178\n",
        "1229"
       ]
      },
      {
       "output_type": "stream",
       "stream": "stdout",
       "text": [
        " : skipping  ..\\..\\..\\_python_data/Driver Telematics Analysis/drivers/2179\n",
        "1230 : skipping  ..\\..\\..\\_python_data/Driver Telematics Analysis/drivers/218\n",
        "1231"
       ]
      },
      {
       "output_type": "stream",
       "stream": "stdout",
       "text": [
        " : skipping  ..\\..\\..\\_python_data/Driver Telematics Analysis/drivers/2180\n",
        "1232 : skipping  ..\\..\\..\\_python_data/Driver Telematics Analysis/drivers/2181\n",
        "1233 : skipping  ..\\..\\..\\_python_data/Driver Telematics Analysis/drivers/2182\n",
        "1234"
       ]
      },
      {
       "output_type": "stream",
       "stream": "stdout",
       "text": [
        " : skipping  ..\\..\\..\\_python_data/Driver Telematics Analysis/drivers/2183\n",
        "1235 : skipping  ..\\..\\..\\_python_data/Driver Telematics Analysis/drivers/2184\n",
        "1236 : skipping  ..\\..\\..\\_python_data/Driver Telematics Analysis/drivers/2185\n",
        "1237"
       ]
      },
      {
       "output_type": "stream",
       "stream": "stdout",
       "text": [
        " : skipping  ..\\..\\..\\_python_data/Driver Telematics Analysis/drivers/2186\n",
        "1238 : skipping  ..\\..\\..\\_python_data/Driver Telematics Analysis/drivers/2187\n",
        "1239 : skipping  ..\\..\\..\\_python_data/Driver Telematics Analysis/drivers/2188\n",
        "1240"
       ]
      },
      {
       "output_type": "stream",
       "stream": "stdout",
       "text": [
        " : skipping  ..\\..\\..\\_python_data/Driver Telematics Analysis/drivers/2189\n",
        "1241 : skipping  ..\\..\\..\\_python_data/Driver Telematics Analysis/drivers/219\n",
        "1242"
       ]
      },
      {
       "output_type": "stream",
       "stream": "stdout",
       "text": [
        " : skipping  ..\\..\\..\\_python_data/Driver Telematics Analysis/drivers/2190\n",
        "1243 : skipping  ..\\..\\..\\_python_data/Driver Telematics Analysis/drivers/2191\n",
        "1244 : skipping  ..\\..\\..\\_python_data/Driver Telematics Analysis/drivers/2192\n",
        "1245"
       ]
      },
      {
       "output_type": "stream",
       "stream": "stdout",
       "text": [
        " : skipping  ..\\..\\..\\_python_data/Driver Telematics Analysis/drivers/2193\n",
        "1246 : skipping  ..\\..\\..\\_python_data/Driver Telematics Analysis/drivers/2194\n",
        "1247 : skipping  ..\\..\\..\\_python_data/Driver Telematics Analysis/drivers/2195\n",
        "1248"
       ]
      },
      {
       "output_type": "stream",
       "stream": "stdout",
       "text": [
        " : skipping  ..\\..\\..\\_python_data/Driver Telematics Analysis/drivers/2196\n",
        "1249 : skipping  ..\\..\\..\\_python_data/Driver Telematics Analysis/drivers/2197\n",
        "1250 : skipping  ..\\..\\..\\_python_data/Driver Telematics Analysis/drivers/2198\n",
        "1251"
       ]
      },
      {
       "output_type": "stream",
       "stream": "stdout",
       "text": [
        " : skipping  ..\\..\\..\\_python_data/Driver Telematics Analysis/drivers/2199\n",
        "1252 : skipping  ..\\..\\..\\_python_data/Driver Telematics Analysis/drivers/22\n",
        "1253"
       ]
      },
      {
       "output_type": "stream",
       "stream": "stdout",
       "text": [
        " : skipping  ..\\..\\..\\_python_data/Driver Telematics Analysis/drivers/220\n",
        "1254 : skipping  ..\\..\\..\\_python_data/Driver Telematics Analysis/drivers/2200\n",
        "1255 : skipping  ..\\..\\..\\_python_data/Driver Telematics Analysis/drivers/2201\n",
        "1256 : skipping  ..\\..\\..\\_python_data/Driver Telematics Analysis/drivers/2202\n",
        "1257 : skipping  ..\\..\\..\\_python_data/Driver Telematics Analysis/drivers/2203\n",
        "1258 : skipping  ..\\..\\..\\_python_data/Driver Telematics Analysis/drivers/2204\n",
        "1259"
       ]
      },
      {
       "output_type": "stream",
       "stream": "stdout",
       "text": [
        " : skipping  ..\\..\\..\\_python_data/Driver Telematics Analysis/drivers/2205\n",
        "1260 : skipping  ..\\..\\..\\_python_data/Driver Telematics Analysis/drivers/2206\n",
        "1261 : skipping  ..\\..\\..\\_python_data/Driver Telematics Analysis/drivers/2207\n",
        "1262 : skipping  ..\\..\\..\\_python_data/Driver Telematics Analysis/drivers/2208\n",
        "1263"
       ]
      },
      {
       "output_type": "stream",
       "stream": "stdout",
       "text": [
        " : skipping  ..\\..\\..\\_python_data/Driver Telematics Analysis/drivers/2209\n",
        "1264 : skipping  ..\\..\\..\\_python_data/Driver Telematics Analysis/drivers/221\n",
        "1265 : skipping  ..\\..\\..\\_python_data/Driver Telematics Analysis/drivers/2210\n",
        "1266 : skipping  ..\\..\\..\\_python_data/Driver Telematics Analysis/drivers/2211\n",
        "1267"
       ]
      },
      {
       "output_type": "stream",
       "stream": "stdout",
       "text": [
        " : skipping  ..\\..\\..\\_python_data/Driver Telematics Analysis/drivers/2212\n",
        "1268 : skipping  ..\\..\\..\\_python_data/Driver Telematics Analysis/drivers/2213\n",
        "1269 : skipping  ..\\..\\..\\_python_data/Driver Telematics Analysis/drivers/2214\n",
        "1270"
       ]
      },
      {
       "output_type": "stream",
       "stream": "stdout",
       "text": [
        " : skipping  ..\\..\\..\\_python_data/Driver Telematics Analysis/drivers/2215\n",
        "1271"
       ]
      },
      {
       "output_type": "stream",
       "stream": "stdout",
       "text": [
        " : skipping  ..\\..\\..\\_python_data/Driver Telematics Analysis/drivers/2216\n",
        "1272 : skipping  ..\\..\\..\\_python_data/Driver Telematics Analysis/drivers/2217\n",
        "1273 : skipping  ..\\..\\..\\_python_data/Driver Telematics Analysis/drivers/2218\n",
        "1274 : skipping  ..\\..\\..\\_python_data/Driver Telematics Analysis/drivers/2219\n",
        "1275"
       ]
      },
      {
       "output_type": "stream",
       "stream": "stdout",
       "text": [
        " : skipping  ..\\..\\..\\_python_data/Driver Telematics Analysis/drivers/222\n",
        "1276 : skipping  ..\\..\\..\\_python_data/Driver Telematics Analysis/drivers/2220\n",
        "1277 : skipping  ..\\..\\..\\_python_data/Driver Telematics Analysis/drivers/2221\n",
        "1278 : skipping  ..\\..\\..\\_python_data/Driver Telematics Analysis/drivers/2222\n",
        "1279"
       ]
      },
      {
       "output_type": "stream",
       "stream": "stdout",
       "text": [
        " : skipping  ..\\..\\..\\_python_data/Driver Telematics Analysis/drivers/2223\n",
        "1280 : skipping  ..\\..\\..\\_python_data/Driver Telematics Analysis/drivers/2224\n",
        "1281 : skipping  ..\\..\\..\\_python_data/Driver Telematics Analysis/drivers/2225\n",
        "1282 : skipping  ..\\..\\..\\_python_data/Driver Telematics Analysis/drivers/2226\n",
        "1283 : skipping  ..\\..\\..\\_python_data/Driver Telematics Analysis/drivers/2227\n",
        "1284 : skipping  ..\\..\\..\\_python_data/Driver Telematics Analysis/drivers/2228\n",
        "1285 : skipping  ..\\..\\..\\_python_data/Driver Telematics Analysis/drivers/2229\n",
        "1286"
       ]
      },
      {
       "output_type": "stream",
       "stream": "stdout",
       "text": [
        " : skipping  ..\\..\\..\\_python_data/Driver Telematics Analysis/drivers/223\n",
        "1287 : skipping  ..\\..\\..\\_python_data/Driver Telematics Analysis/drivers/2230\n",
        "1288 : skipping  ..\\..\\..\\_python_data/Driver Telematics Analysis/drivers/2231\n",
        "1289 : skipping  ..\\..\\..\\_python_data/Driver Telematics Analysis/drivers/2232\n",
        "1290"
       ]
      },
      {
       "output_type": "stream",
       "stream": "stdout",
       "text": [
        " : skipping  ..\\..\\..\\_python_data/Driver Telematics Analysis/drivers/2233\n",
        "1291 : skipping  ..\\..\\..\\_python_data/Driver Telematics Analysis/drivers/2234\n",
        "1292 : skipping  ..\\..\\..\\_python_data/Driver Telematics Analysis/drivers/2235\n",
        "1293"
       ]
      },
      {
       "output_type": "stream",
       "stream": "stdout",
       "text": [
        " : skipping  ..\\..\\..\\_python_data/Driver Telematics Analysis/drivers/2236\n",
        "1294 : skipping  ..\\..\\..\\_python_data/Driver Telematics Analysis/drivers/2238\n",
        "1295 : skipping  ..\\..\\..\\_python_data/Driver Telematics Analysis/drivers/224\n",
        "1296 : skipping  ..\\..\\..\\_python_data/Driver Telematics Analysis/drivers/2240\n",
        "1297"
       ]
      },
      {
       "output_type": "stream",
       "stream": "stdout",
       "text": [
        " : skipping  ..\\..\\..\\_python_data/Driver Telematics Analysis/drivers/2241\n",
        "1298 : skipping  ..\\..\\..\\_python_data/Driver Telematics Analysis/drivers/2242\n",
        "1299"
       ]
      },
      {
       "output_type": "stream",
       "stream": "stdout",
       "text": [
        " : skipping  ..\\..\\..\\_python_data/Driver Telematics Analysis/drivers/2243\n",
        "1300 : skipping  ..\\..\\..\\_python_data/Driver Telematics Analysis/drivers/2244\n",
        "1301 : skipping  ..\\..\\..\\_python_data/Driver Telematics Analysis/drivers/2245\n",
        "1302 : skipping  ..\\..\\..\\_python_data/Driver Telematics Analysis/drivers/2248\n",
        "1303"
       ]
      },
      {
       "output_type": "stream",
       "stream": "stdout",
       "text": [
        " : skipping  ..\\..\\..\\_python_data/Driver Telematics Analysis/drivers/2249\n",
        "1304 : skipping  ..\\..\\..\\_python_data/Driver Telematics Analysis/drivers/225\n",
        "1305 : skipping  ..\\..\\..\\_python_data/Driver Telematics Analysis/drivers/2250\n",
        "1306"
       ]
      },
      {
       "output_type": "stream",
       "stream": "stdout",
       "text": [
        " : skipping  ..\\..\\..\\_python_data/Driver Telematics Analysis/drivers/2251\n",
        "1307 : skipping  ..\\..\\..\\_python_data/Driver Telematics Analysis/drivers/2252\n",
        "1308 : skipping  ..\\..\\..\\_python_data/Driver Telematics Analysis/drivers/2253\n",
        "1309 : skipping  ..\\..\\..\\_python_data/Driver Telematics Analysis/drivers/2254\n",
        "1310"
       ]
      },
      {
       "output_type": "stream",
       "stream": "stdout",
       "text": [
        " : skipping  ..\\..\\..\\_python_data/Driver Telematics Analysis/drivers/2255\n",
        "1311 : skipping  ..\\..\\..\\_python_data/Driver Telematics Analysis/drivers/2256\n",
        "1312 : skipping  ..\\..\\..\\_python_data/Driver Telematics Analysis/drivers/2257\n",
        "1313 : skipping  ..\\..\\..\\_python_data/Driver Telematics Analysis/drivers/2258\n",
        "1314 : skipping  ..\\..\\..\\_python_data/Driver Telematics Analysis/drivers/2259\n",
        "1315 : skipping  ..\\..\\..\\_python_data/Driver Telematics Analysis/drivers/226\n",
        "1316"
       ]
      },
      {
       "output_type": "stream",
       "stream": "stdout",
       "text": [
        " : skipping  ..\\..\\..\\_python_data/Driver Telematics Analysis/drivers/2260\n",
        "1317 : skipping  ..\\..\\..\\_python_data/Driver Telematics Analysis/drivers/2261\n",
        "1318 : skipping  ..\\..\\..\\_python_data/Driver Telematics Analysis/drivers/2262\n",
        "1319 : skipping  ..\\..\\..\\_python_data/Driver Telematics Analysis/drivers/2263\n",
        "1320 : skipping  ..\\..\\..\\_python_data/Driver Telematics Analysis/drivers/2264\n",
        "1321"
       ]
      },
      {
       "output_type": "stream",
       "stream": "stdout",
       "text": [
        " : skipping  ..\\..\\..\\_python_data/Driver Telematics Analysis/drivers/2265\n",
        "1322 : skipping  ..\\..\\..\\_python_data/Driver Telematics Analysis/drivers/2266\n",
        "1323 : skipping  ..\\..\\..\\_python_data/Driver Telematics Analysis/drivers/2267\n",
        "1324 : skipping  ..\\..\\..\\_python_data/Driver Telematics Analysis/drivers/2268\n",
        "1325 : skipping  ..\\..\\..\\_python_data/Driver Telematics Analysis/drivers/2269\n",
        "1326"
       ]
      },
      {
       "output_type": "stream",
       "stream": "stdout",
       "text": [
        " : skipping  ..\\..\\..\\_python_data/Driver Telematics Analysis/drivers/227\n",
        "1327 : skipping  ..\\..\\..\\_python_data/Driver Telematics Analysis/drivers/2270\n",
        "1328 : skipping  ..\\..\\..\\_python_data/Driver Telematics Analysis/drivers/2271\n",
        "1329 : skipping  ..\\..\\..\\_python_data/Driver Telematics Analysis/drivers/2272\n",
        "1330 : skipping  ..\\..\\..\\_python_data/Driver Telematics Analysis/drivers/2273\n",
        "1331"
       ]
      },
      {
       "output_type": "stream",
       "stream": "stdout",
       "text": [
        " : skipping  ..\\..\\..\\_python_data/Driver Telematics Analysis/drivers/2274\n",
        "1332 : skipping  ..\\..\\..\\_python_data/Driver Telematics Analysis/drivers/2275\n",
        "1333"
       ]
      },
      {
       "output_type": "stream",
       "stream": "stdout",
       "text": [
        " : skipping  ..\\..\\..\\_python_data/Driver Telematics Analysis/drivers/2276\n",
        "1334 : skipping  ..\\..\\..\\_python_data/Driver Telematics Analysis/drivers/2277\n",
        "1335 : skipping  ..\\..\\..\\_python_data/Driver Telematics Analysis/drivers/2278\n",
        "1336 : skipping  ..\\..\\..\\_python_data/Driver Telematics Analysis/drivers/2279\n",
        "1337"
       ]
      },
      {
       "output_type": "stream",
       "stream": "stdout",
       "text": [
        " : skipping  ..\\..\\..\\_python_data/Driver Telematics Analysis/drivers/228\n",
        "1338 : skipping  ..\\..\\..\\_python_data/Driver Telematics Analysis/drivers/2280\n",
        "1339 : skipping  ..\\..\\..\\_python_data/Driver Telematics Analysis/drivers/2281\n",
        "1340"
       ]
      },
      {
       "output_type": "stream",
       "stream": "stdout",
       "text": [
        " : skipping  ..\\..\\..\\_python_data/Driver Telematics Analysis/drivers/2282\n",
        "1341 : skipping  ..\\..\\..\\_python_data/Driver Telematics Analysis/drivers/2283\n",
        "1342"
       ]
      },
      {
       "output_type": "stream",
       "stream": "stdout",
       "text": [
        " : skipping  ..\\..\\..\\_python_data/Driver Telematics Analysis/drivers/2284\n",
        "1343 : skipping  ..\\..\\..\\_python_data/Driver Telematics Analysis/drivers/2285\n",
        "1344 : skipping  ..\\..\\..\\_python_data/Driver Telematics Analysis/drivers/2286\n",
        "1345 : skipping  ..\\..\\..\\_python_data/Driver Telematics Analysis/drivers/2287\n",
        "1346 : skipping  ..\\..\\..\\_python_data/Driver Telematics Analysis/drivers/2288\n",
        "1347"
       ]
      },
      {
       "output_type": "stream",
       "stream": "stdout",
       "text": [
        " : skipping  ..\\..\\..\\_python_data/Driver Telematics Analysis/drivers/2289\n",
        "1348 : skipping  ..\\..\\..\\_python_data/Driver Telematics Analysis/drivers/229\n",
        "1349 : skipping  ..\\..\\..\\_python_data/Driver Telematics Analysis/drivers/2290\n",
        "1350 : skipping  ..\\..\\..\\_python_data/Driver Telematics Analysis/drivers/2291\n",
        "1351"
       ]
      },
      {
       "output_type": "stream",
       "stream": "stdout",
       "text": [
        " : skipping  ..\\..\\..\\_python_data/Driver Telematics Analysis/drivers/2292\n",
        "1352 : skipping  ..\\..\\..\\_python_data/Driver Telematics Analysis/drivers/2293\n",
        "1353 : skipping  ..\\..\\..\\_python_data/Driver Telematics Analysis/drivers/2294\n",
        "1354 : skipping  ..\\..\\..\\_python_data/Driver Telematics Analysis/drivers/2295\n",
        "1355"
       ]
      },
      {
       "output_type": "stream",
       "stream": "stdout",
       "text": [
        " : skipping  ..\\..\\..\\_python_data/Driver Telematics Analysis/drivers/2296\n",
        "1356 : skipping  ..\\..\\..\\_python_data/Driver Telematics Analysis/drivers/2297\n",
        "1357 : skipping  ..\\..\\..\\_python_data/Driver Telematics Analysis/drivers/2298\n",
        "1358"
       ]
      },
      {
       "output_type": "stream",
       "stream": "stdout",
       "text": [
        " : skipping  ..\\..\\..\\_python_data/Driver Telematics Analysis/drivers/2299\n",
        "1359 : skipping  ..\\..\\..\\_python_data/Driver Telematics Analysis/drivers/23\n",
        "1360 : skipping  ..\\..\\..\\_python_data/Driver Telematics Analysis/drivers/230\n",
        "1361 : skipping  ..\\..\\..\\_python_data/Driver Telematics Analysis/drivers/2300\n",
        "1362"
       ]
      },
      {
       "output_type": "stream",
       "stream": "stdout",
       "text": [
        " : skipping  ..\\..\\..\\_python_data/Driver Telematics Analysis/drivers/2301\n",
        "1363 : skipping  ..\\..\\..\\_python_data/Driver Telematics Analysis/drivers/2303\n",
        "1364 : skipping  ..\\..\\..\\_python_data/Driver Telematics Analysis/drivers/2304\n",
        "1365 : skipping  ..\\..\\..\\_python_data/Driver Telematics Analysis/drivers/2305\n",
        "1366 : skipping  ..\\..\\..\\_python_data/Driver Telematics Analysis/drivers/2306\n",
        "1367 : skipping  ..\\..\\..\\_python_data/Driver Telematics Analysis/drivers/2307\n",
        "1368"
       ]
      },
      {
       "output_type": "stream",
       "stream": "stdout",
       "text": [
        " : skipping  ..\\..\\..\\_python_data/Driver Telematics Analysis/drivers/2308\n",
        "1369 : skipping  ..\\..\\..\\_python_data/Driver Telematics Analysis/drivers/2309\n",
        "1370 : skipping  ..\\..\\..\\_python_data/Driver Telematics Analysis/drivers/231\n",
        "1371 : skipping  ..\\..\\..\\_python_data/Driver Telematics Analysis/drivers/2310\n",
        "1372"
       ]
      },
      {
       "output_type": "stream",
       "stream": "stdout",
       "text": [
        " : skipping  ..\\..\\..\\_python_data/Driver Telematics Analysis/drivers/2311\n",
        "1373 : skipping  ..\\..\\..\\_python_data/Driver Telematics Analysis/drivers/2312\n",
        "1374 : skipping  ..\\..\\..\\_python_data/Driver Telematics Analysis/drivers/2314\n",
        "1375"
       ]
      },
      {
       "output_type": "stream",
       "stream": "stdout",
       "text": [
        " : skipping  ..\\..\\..\\_python_data/Driver Telematics Analysis/drivers/2315\n",
        "1376 : skipping  ..\\..\\..\\_python_data/Driver Telematics Analysis/drivers/2316\n",
        "1377 : skipping  ..\\..\\..\\_python_data/Driver Telematics Analysis/drivers/2317\n",
        "1378 : skipping  ..\\..\\..\\_python_data/Driver Telematics Analysis/drivers/2318\n",
        "1379"
       ]
      },
      {
       "output_type": "stream",
       "stream": "stdout",
       "text": [
        " : skipping  ..\\..\\..\\_python_data/Driver Telematics Analysis/drivers/2319\n",
        "1380 : skipping  ..\\..\\..\\_python_data/Driver Telematics Analysis/drivers/232\n",
        "1381 : skipping  ..\\..\\..\\_python_data/Driver Telematics Analysis/drivers/2320\n",
        "1382 : skipping  ..\\..\\..\\_python_data/Driver Telematics Analysis/drivers/2321\n",
        "1383 : skipping  ..\\..\\..\\_python_data/Driver Telematics Analysis/drivers/2322\n",
        "1384 : skipping  ..\\..\\..\\_python_data/Driver Telematics Analysis/drivers/2323\n",
        "1385 : skipping  ..\\..\\..\\_python_data/Driver Telematics Analysis/drivers/2324\n",
        "1386 : skipping  ..\\..\\..\\_python_data/Driver Telematics Analysis/drivers/2325\n",
        "1387 : skipping  ..\\..\\..\\_python_data/Driver Telematics Analysis/drivers/2326\n",
        "1388 : skipping  ..\\..\\..\\_python_data/Driver Telematics Analysis/drivers/2327\n",
        "1389 : skipping  ..\\..\\..\\_python_data/Driver Telematics Analysis/drivers/2328\n",
        "1390 : skipping  ..\\..\\..\\_python_data/Driver Telematics Analysis/drivers/2329\n",
        "1391 : skipping  ..\\..\\..\\_python_data/Driver Telematics Analysis/drivers/233\n",
        "1392 : skipping  ..\\..\\..\\_python_data/Driver Telematics Analysis/drivers/2330\n",
        "1393 : skipping  ..\\..\\..\\_python_data/Driver Telematics Analysis/drivers/2331\n",
        "1394 : skipping  ..\\..\\..\\_python_data/Driver Telematics Analysis/drivers/2332\n",
        "1395 : skipping  ..\\..\\..\\_python_data/Driver Telematics Analysis/drivers/2333\n",
        "1396 : skipping  ..\\..\\..\\_python_data/Driver Telematics Analysis/drivers/2334\n",
        "1397 : skipping  ..\\..\\..\\_python_data/Driver Telematics Analysis/drivers/2335\n",
        "1398 : skipping  ..\\..\\..\\_python_data/Driver Telematics Analysis/drivers/2336\n",
        "1399 : skipping  ..\\..\\..\\_python_data/Driver Telematics Analysis/drivers/2337\n",
        "1400 : skipping  ..\\..\\..\\_python_data/Driver Telematics Analysis/drivers/2338\n",
        "1401 : skipping  ..\\..\\..\\_python_data/Driver Telematics Analysis/drivers/2339\n",
        "1402 : skipping  ..\\..\\..\\_python_data/Driver Telematics Analysis/drivers/234\n",
        "1403 : skipping  ..\\..\\..\\_python_data/Driver Telematics Analysis/drivers/2341\n",
        "1404 : skipping  ..\\..\\..\\_python_data/Driver Telematics Analysis/drivers/2342\n",
        "1405 : skipping  ..\\..\\..\\_python_data/Driver Telematics Analysis/drivers/2343\n",
        "1406"
       ]
      },
      {
       "output_type": "stream",
       "stream": "stdout",
       "text": [
        " : skipping  ..\\..\\..\\_python_data/Driver Telematics Analysis/drivers/2345\n",
        "1407 : skipping  ..\\..\\..\\_python_data/Driver Telematics Analysis/drivers/2346\n",
        "1408 : skipping  ..\\..\\..\\_python_data/Driver Telematics Analysis/drivers/2347\n",
        "1409 : skipping  ..\\..\\..\\_python_data/Driver Telematics Analysis/drivers/2348\n",
        "1410 : skipping  ..\\..\\..\\_python_data/Driver Telematics Analysis/drivers/2349\n",
        "1411 : skipping  ..\\..\\..\\_python_data/Driver Telematics Analysis/drivers/235\n",
        "1412 : skipping  ..\\..\\..\\_python_data/Driver Telematics Analysis/drivers/2350\n",
        "1413 : skipping  ..\\..\\..\\_python_data/Driver Telematics Analysis/drivers/2351\n",
        "1414 : skipping  ..\\..\\..\\_python_data/Driver Telematics Analysis/drivers/2352\n",
        "1415 : skipping  ..\\..\\..\\_python_data/Driver Telematics Analysis/drivers/2353\n",
        "1416 : skipping  ..\\..\\..\\_python_data/Driver Telematics Analysis/drivers/2355\n",
        "1417 : skipping  ..\\..\\..\\_python_data/Driver Telematics Analysis/drivers/2356\n",
        "1418 : skipping  ..\\..\\..\\_python_data/Driver Telematics Analysis/drivers/2357\n",
        "1419 : skipping  ..\\..\\..\\_python_data/Driver Telematics Analysis/drivers/2358\n",
        "1420 : skipping  ..\\..\\..\\_python_data/Driver Telematics Analysis/drivers/2359\n",
        "1421 : skipping  ..\\..\\..\\_python_data/Driver Telematics Analysis/drivers/236\n",
        "1422 : skipping  ..\\..\\..\\_python_data/Driver Telematics Analysis/drivers/2360\n",
        "1423 : skipping  ..\\..\\..\\_python_data/Driver Telematics Analysis/drivers/2361\n",
        "1424 : skipping  ..\\..\\..\\_python_data/Driver Telematics Analysis/drivers/2362\n",
        "1425 : skipping  ..\\..\\..\\_python_data/Driver Telematics Analysis/drivers/2363\n",
        "1426 : skipping  ..\\..\\..\\_python_data/Driver Telematics Analysis/drivers/2364\n",
        "1427 : skipping  ..\\..\\..\\_python_data/Driver Telematics Analysis/drivers/2365\n",
        "1428 : skipping  ..\\..\\..\\_python_data/Driver Telematics Analysis/drivers/2366\n",
        "1429 : skipping  ..\\..\\..\\_python_data/Driver Telematics Analysis/drivers/2367\n",
        "1430 : skipping  ..\\..\\..\\_python_data/Driver Telematics Analysis/drivers/2368\n",
        "1431 : skipping  ..\\..\\..\\_python_data/Driver Telematics Analysis/drivers/2369\n",
        "1432 : skipping  ..\\..\\..\\_python_data/Driver Telematics Analysis/drivers/237\n",
        "1433 : skipping  ..\\..\\..\\_python_data/Driver Telematics Analysis/drivers/2370\n",
        "1434 : skipping  ..\\..\\..\\_python_data/Driver Telematics Analysis/drivers/2371\n",
        "1435 : skipping  ..\\..\\..\\_python_data/Driver Telematics Analysis/drivers/2372\n",
        "1436 : skipping  ..\\..\\..\\_python_data/Driver Telematics Analysis/drivers/2373\n",
        "1437 : skipping  ..\\..\\..\\_python_data/Driver Telematics Analysis/drivers/2374\n",
        "1438 : skipping  ..\\..\\..\\_python_data/Driver Telematics Analysis/drivers/2375\n",
        "1439 : skipping  ..\\..\\..\\_python_data/Driver Telematics Analysis/drivers/2376\n",
        "1440 : skipping  ..\\..\\..\\_python_data/Driver Telematics Analysis/drivers/2377\n",
        "1441 : skipping  ..\\..\\..\\_python_data/Driver Telematics Analysis/drivers/2378\n",
        "1442 : skipping  ..\\..\\..\\_python_data/Driver Telematics Analysis/drivers/2379\n",
        "1443 : skipping  ..\\..\\..\\_python_data/Driver Telematics Analysis/drivers/238\n",
        "1444 : skipping  ..\\..\\..\\_python_data/Driver Telematics Analysis/drivers/2381\n",
        "1445"
       ]
      },
      {
       "output_type": "stream",
       "stream": "stdout",
       "text": [
        " : skipping  ..\\..\\..\\_python_data/Driver Telematics Analysis/drivers/2382\n",
        "1446 : skipping  ..\\..\\..\\_python_data/Driver Telematics Analysis/drivers/2383\n",
        "1447 : skipping  ..\\..\\..\\_python_data/Driver Telematics Analysis/drivers/2384\n",
        "1448 : skipping  ..\\..\\..\\_python_data/Driver Telematics Analysis/drivers/2385\n",
        "1449 : skipping  ..\\..\\..\\_python_data/Driver Telematics Analysis/drivers/2386\n",
        "1450 : skipping  ..\\..\\..\\_python_data/Driver Telematics Analysis/drivers/2387\n",
        "1451 : skipping  ..\\..\\..\\_python_data/Driver Telematics Analysis/drivers/239\n",
        "1452 : skipping  ..\\..\\..\\_python_data/Driver Telematics Analysis/drivers/2390\n",
        "1453 : skipping  ..\\..\\..\\_python_data/Driver Telematics Analysis/drivers/2391\n",
        "1454 : skipping  ..\\..\\..\\_python_data/Driver Telematics Analysis/drivers/2392\n",
        "1455 : skipping  ..\\..\\..\\_python_data/Driver Telematics Analysis/drivers/2393\n",
        "1456 : skipping  ..\\..\\..\\_python_data/Driver Telematics Analysis/drivers/2394\n",
        "1457 : skipping  ..\\..\\..\\_python_data/Driver Telematics Analysis/drivers/2395\n",
        "1458 : skipping  ..\\..\\..\\_python_data/Driver Telematics Analysis/drivers/2396\n",
        "1459 : skipping  ..\\..\\..\\_python_data/Driver Telematics Analysis/drivers/2397\n",
        "1460 : skipping  ..\\..\\..\\_python_data/Driver Telematics Analysis/drivers/2398\n",
        "1461 : skipping  ..\\..\\..\\_python_data/Driver Telematics Analysis/drivers/2399\n",
        "1462 : skipping  ..\\..\\..\\_python_data/Driver Telematics Analysis/drivers/24\n",
        "1463 : skipping  ..\\..\\..\\_python_data/Driver Telematics Analysis/drivers/240\n",
        "1464 : skipping  ..\\..\\..\\_python_data/Driver Telematics Analysis/drivers/2400\n",
        "1465 : skipping  ..\\..\\..\\_python_data/Driver Telematics Analysis/drivers/2401\n",
        "1466 : skipping  ..\\..\\..\\_python_data/Driver Telematics Analysis/drivers/2402\n",
        "1467 : skipping  ..\\..\\..\\_python_data/Driver Telematics Analysis/drivers/2403\n",
        "1468 : skipping  ..\\..\\..\\_python_data/Driver Telematics Analysis/drivers/2404\n",
        "1469 : skipping  ..\\..\\..\\_python_data/Driver Telematics Analysis/drivers/2405\n",
        "1470 : skipping  ..\\..\\..\\_python_data/Driver Telematics Analysis/drivers/2406\n",
        "1471 : skipping  ..\\..\\..\\_python_data/Driver Telematics Analysis/drivers/2407\n",
        "1472 : skipping  ..\\..\\..\\_python_data/Driver Telematics Analysis/drivers/2408\n",
        "1473 : skipping  ..\\..\\..\\_python_data/Driver Telematics Analysis/drivers/2409\n",
        "1474 : skipping  ..\\..\\..\\_python_data/Driver Telematics Analysis/drivers/241\n",
        "1475 : skipping  ..\\..\\..\\_python_data/Driver Telematics Analysis/drivers/2410\n",
        "1476 : skipping  ..\\..\\..\\_python_data/Driver Telematics Analysis/drivers/2411\n",
        "1477 : skipping  ..\\..\\..\\_python_data/Driver Telematics Analysis/drivers/2412\n",
        "1478 : skipping  ..\\..\\..\\_python_data/Driver Telematics Analysis/drivers/2413\n",
        "1479 : skipping  ..\\..\\..\\_python_data/Driver Telematics Analysis/drivers/2414\n",
        "1480 : skipping  ..\\..\\..\\_python_data/Driver Telematics Analysis/drivers/2415\n",
        "1481 : skipping  ..\\..\\..\\_python_data/Driver Telematics Analysis/drivers/2416\n",
        "1482 : skipping  ..\\..\\..\\_python_data/Driver Telematics Analysis/drivers/2417\n",
        "1483"
       ]
      },
      {
       "output_type": "stream",
       "stream": "stdout",
       "text": [
        " : skipping  ..\\..\\..\\_python_data/Driver Telematics Analysis/drivers/2418\n",
        "1484 : skipping  ..\\..\\..\\_python_data/Driver Telematics Analysis/drivers/2419\n",
        "1485 : skipping  ..\\..\\..\\_python_data/Driver Telematics Analysis/drivers/242\n",
        "1486 : skipping  ..\\..\\..\\_python_data/Driver Telematics Analysis/drivers/2420\n",
        "1487 : skipping  ..\\..\\..\\_python_data/Driver Telematics Analysis/drivers/2421\n",
        "1488 : skipping  ..\\..\\..\\_python_data/Driver Telematics Analysis/drivers/2422\n",
        "1489 : skipping  ..\\..\\..\\_python_data/Driver Telematics Analysis/drivers/2423\n",
        "1490 : skipping  ..\\..\\..\\_python_data/Driver Telematics Analysis/drivers/2424\n",
        "1491 : skipping  ..\\..\\..\\_python_data/Driver Telematics Analysis/drivers/2425\n",
        "1492 : skipping  ..\\..\\..\\_python_data/Driver Telematics Analysis/drivers/2426\n",
        "1493 : skipping  ..\\..\\..\\_python_data/Driver Telematics Analysis/drivers/2427\n",
        "1494 : skipping  ..\\..\\..\\_python_data/Driver Telematics Analysis/drivers/2428\n",
        "1495 : skipping  ..\\..\\..\\_python_data/Driver Telematics Analysis/drivers/2429\n",
        "1496 : skipping  ..\\..\\..\\_python_data/Driver Telematics Analysis/drivers/243\n",
        "1497 : skipping  ..\\..\\..\\_python_data/Driver Telematics Analysis/drivers/2430\n",
        "1498 : skipping  ..\\..\\..\\_python_data/Driver Telematics Analysis/drivers/2431\n",
        "1499 : skipping  ..\\..\\..\\_python_data/Driver Telematics Analysis/drivers/2432\n",
        "1500 : skipping  ..\\..\\..\\_python_data/Driver Telematics Analysis/drivers/2433\n",
        "1501 : skipping  ..\\..\\..\\_python_data/Driver Telematics Analysis/drivers/2434\n",
        "1502 : skipping  ..\\..\\..\\_python_data/Driver Telematics Analysis/drivers/2435\n",
        "1503 : skipping  ..\\..\\..\\_python_data/Driver Telematics Analysis/drivers/2436\n",
        "1504 : skipping  ..\\..\\..\\_python_data/Driver Telematics Analysis/drivers/2437\n",
        "1505 : skipping  ..\\..\\..\\_python_data/Driver Telematics Analysis/drivers/2438\n",
        "1506"
       ]
      },
      {
       "output_type": "stream",
       "stream": "stdout",
       "text": [
        " : skipping  ..\\..\\..\\_python_data/Driver Telematics Analysis/drivers/2439\n",
        "1507 : skipping  ..\\..\\..\\_python_data/Driver Telematics Analysis/drivers/244\n",
        "1508 : skipping  ..\\..\\..\\_python_data/Driver Telematics Analysis/drivers/2440\n",
        "1509 : skipping  ..\\..\\..\\_python_data/Driver Telematics Analysis/drivers/2441\n",
        "1510 : skipping  ..\\..\\..\\_python_data/Driver Telematics Analysis/drivers/2442\n",
        "1511 : skipping  ..\\..\\..\\_python_data/Driver Telematics Analysis/drivers/2443\n",
        "1512 : skipping  ..\\..\\..\\_python_data/Driver Telematics Analysis/drivers/2444\n",
        "1513 : skipping  ..\\..\\..\\_python_data/Driver Telematics Analysis/drivers/2446\n",
        "1514 : skipping  ..\\..\\..\\_python_data/Driver Telematics Analysis/drivers/2447\n",
        "1515 : skipping  ..\\..\\..\\_python_data/Driver Telematics Analysis/drivers/2448\n",
        "1516 : skipping  ..\\..\\..\\_python_data/Driver Telematics Analysis/drivers/2449\n",
        "1517 : skipping  ..\\..\\..\\_python_data/Driver Telematics Analysis/drivers/245\n",
        "1518 : skipping  ..\\..\\..\\_python_data/Driver Telematics Analysis/drivers/2450\n",
        "1519 : skipping  ..\\..\\..\\_python_data/Driver Telematics Analysis/drivers/2451\n",
        "1520 : skipping  ..\\..\\..\\_python_data/Driver Telematics Analysis/drivers/2452\n",
        "1521 : skipping  ..\\..\\..\\_python_data/Driver Telematics Analysis/drivers/2453\n",
        "1522 : skipping  ..\\..\\..\\_python_data/Driver Telematics Analysis/drivers/2454\n",
        "1523 : skipping  ..\\..\\..\\_python_data/Driver Telematics Analysis/drivers/2455\n",
        "1524 : skipping  ..\\..\\..\\_python_data/Driver Telematics Analysis/drivers/2456\n",
        "1525 : skipping  ..\\..\\..\\_python_data/Driver Telematics Analysis/drivers/2457\n",
        "1526 : skipping  ..\\..\\..\\_python_data/Driver Telematics Analysis/drivers/2458\n",
        "1527 : skipping  ..\\..\\..\\_python_data/Driver Telematics Analysis/drivers/2459\n",
        "1528 : skipping  ..\\..\\..\\_python_data/Driver Telematics Analysis/drivers/2460\n",
        "1529 : skipping  ..\\..\\..\\_python_data/Driver Telematics Analysis/drivers/2461\n",
        "1530 : skipping  ..\\..\\..\\_python_data/Driver Telematics Analysis/drivers/2462\n",
        "1531 : skipping  ..\\..\\..\\_python_data/Driver Telematics Analysis/drivers/2463\n",
        "1532 : skipping  ..\\..\\..\\_python_data/Driver Telematics Analysis/drivers/2464\n",
        "1533"
       ]
      },
      {
       "output_type": "stream",
       "stream": "stdout",
       "text": [
        " : skipping  ..\\..\\..\\_python_data/Driver Telematics Analysis/drivers/2465\n",
        "1534 : skipping  ..\\..\\..\\_python_data/Driver Telematics Analysis/drivers/2466\n",
        "1535 : skipping  ..\\..\\..\\_python_data/Driver Telematics Analysis/drivers/2467\n",
        "1536 : skipping  ..\\..\\..\\_python_data/Driver Telematics Analysis/drivers/2468\n",
        "1537 : skipping  ..\\..\\..\\_python_data/Driver Telematics Analysis/drivers/2469\n",
        "1538 : skipping  ..\\..\\..\\_python_data/Driver Telematics Analysis/drivers/247\n",
        "1539 : skipping  ..\\..\\..\\_python_data/Driver Telematics Analysis/drivers/2470\n",
        "1540 : skipping  ..\\..\\..\\_python_data/Driver Telematics Analysis/drivers/2471\n",
        "1541 : skipping  ..\\..\\..\\_python_data/Driver Telematics Analysis/drivers/2472\n",
        "1542 : skipping  ..\\..\\..\\_python_data/Driver Telematics Analysis/drivers/2473\n",
        "1543 : skipping  ..\\..\\..\\_python_data/Driver Telematics Analysis/drivers/2474\n",
        "1544 : skipping  ..\\..\\..\\_python_data/Driver Telematics Analysis/drivers/2475\n",
        "1545 : skipping  ..\\..\\..\\_python_data/Driver Telematics Analysis/drivers/2476\n",
        "1546 : skipping  ..\\..\\..\\_python_data/Driver Telematics Analysis/drivers/2477\n",
        "1547 : skipping  ..\\..\\..\\_python_data/Driver Telematics Analysis/drivers/2478\n",
        "1548 : skipping  ..\\..\\..\\_python_data/Driver Telematics Analysis/drivers/2479\n",
        "1549 : skipping  ..\\..\\..\\_python_data/Driver Telematics Analysis/drivers/248\n",
        "1550 : skipping  ..\\..\\..\\_python_data/Driver Telematics Analysis/drivers/2480\n",
        "1551 : skipping  ..\\..\\..\\_python_data/Driver Telematics Analysis/drivers/2481\n",
        "1552 : skipping  ..\\..\\..\\_python_data/Driver Telematics Analysis/drivers/2482\n",
        "1553 : skipping  ..\\..\\..\\_python_data/Driver Telematics Analysis/drivers/2483\n",
        "1554 : skipping  ..\\..\\..\\_python_data/Driver Telematics Analysis/drivers/2484\n",
        "1555 : skipping  ..\\..\\..\\_python_data/Driver Telematics Analysis/drivers/2486\n",
        "1556 : skipping  ..\\..\\..\\_python_data/Driver Telematics Analysis/drivers/2487\n",
        "1557 : skipping  ..\\..\\..\\_python_data/Driver Telematics Analysis/drivers/2488\n",
        "1558 : skipping  ..\\..\\..\\_python_data/Driver Telematics Analysis/drivers/2489\n",
        "1559 : skipping  ..\\..\\..\\_python_data/Driver Telematics Analysis/drivers/249\n",
        "1560 : skipping  ..\\..\\..\\_python_data/Driver Telematics Analysis/drivers/2490\n",
        "1561 : skipping  ..\\..\\..\\_python_data/Driver Telematics Analysis/drivers/2491\n",
        "1562 : skipping  ..\\..\\..\\_python_data/Driver Telematics Analysis/drivers/2492\n",
        "1563"
       ]
      },
      {
       "output_type": "stream",
       "stream": "stdout",
       "text": [
        " : skipping  ..\\..\\..\\_python_data/Driver Telematics Analysis/drivers/2493\n",
        "1564 : skipping  ..\\..\\..\\_python_data/Driver Telematics Analysis/drivers/2494\n",
        "1565 : skipping  ..\\..\\..\\_python_data/Driver Telematics Analysis/drivers/2495\n",
        "1566 : skipping  ..\\..\\..\\_python_data/Driver Telematics Analysis/drivers/2496\n",
        "1567 : skipping  ..\\..\\..\\_python_data/Driver Telematics Analysis/drivers/2497\n",
        "1568 : skipping  ..\\..\\..\\_python_data/Driver Telematics Analysis/drivers/2498\n",
        "1569 : skipping  ..\\..\\..\\_python_data/Driver Telematics Analysis/drivers/2499\n",
        "1570 : skipping  ..\\..\\..\\_python_data/Driver Telematics Analysis/drivers/25\n",
        "1571 : skipping  ..\\..\\..\\_python_data/Driver Telematics Analysis/drivers/250\n",
        "1572 : skipping  ..\\..\\..\\_python_data/Driver Telematics Analysis/drivers/2500\n",
        "1573 : skipping  ..\\..\\..\\_python_data/Driver Telematics Analysis/drivers/2501\n",
        "1574 : skipping  ..\\..\\..\\_python_data/Driver Telematics Analysis/drivers/2503\n",
        "1575 : skipping  ..\\..\\..\\_python_data/Driver Telematics Analysis/drivers/2504\n",
        "1576 : skipping  ..\\..\\..\\_python_data/Driver Telematics Analysis/drivers/2505\n",
        "1577"
       ]
      },
      {
       "output_type": "stream",
       "stream": "stdout",
       "text": [
        " : skipping  ..\\..\\..\\_python_data/Driver Telematics Analysis/drivers/2506\n",
        "1578 : skipping  ..\\..\\..\\_python_data/Driver Telematics Analysis/drivers/2507\n",
        "1579 : skipping  ..\\..\\..\\_python_data/Driver Telematics Analysis/drivers/2508\n",
        "1580 : skipping  ..\\..\\..\\_python_data/Driver Telematics Analysis/drivers/2509\n",
        "1581 : skipping  ..\\..\\..\\_python_data/Driver Telematics Analysis/drivers/251\n",
        "1582 : skipping  ..\\..\\..\\_python_data/Driver Telematics Analysis/drivers/2511\n",
        "1583 : skipping  ..\\..\\..\\_python_data/Driver Telematics Analysis/drivers/2512\n",
        "1584 : skipping  ..\\..\\..\\_python_data/Driver Telematics Analysis/drivers/2513\n",
        "1585 : skipping  ..\\..\\..\\_python_data/Driver Telematics Analysis/drivers/2514\n",
        "1586 : skipping  ..\\..\\..\\_python_data/Driver Telematics Analysis/drivers/2515\n",
        "1587 : skipping  ..\\..\\..\\_python_data/Driver Telematics Analysis/drivers/2516\n",
        "1588 : skipping  ..\\..\\..\\_python_data/Driver Telematics Analysis/drivers/2517\n",
        "1589 : skipping  ..\\..\\..\\_python_data/Driver Telematics Analysis/drivers/2518\n",
        "1590 : skipping  ..\\..\\..\\_python_data/Driver Telematics Analysis/drivers/2519\n",
        "1591 : skipping  ..\\..\\..\\_python_data/Driver Telematics Analysis/drivers/252\n",
        "1592 : skipping  ..\\..\\..\\_python_data/Driver Telematics Analysis/drivers/2520\n",
        "1593 : skipping  ..\\..\\..\\_python_data/Driver Telematics Analysis/drivers/2521\n",
        "1594 : skipping  ..\\..\\..\\_python_data/Driver Telematics Analysis/drivers/2522\n",
        "1595"
       ]
      },
      {
       "output_type": "stream",
       "stream": "stdout",
       "text": [
        " : skipping  ..\\..\\..\\_python_data/Driver Telematics Analysis/drivers/2523\n",
        "1596 : skipping  ..\\..\\..\\_python_data/Driver Telematics Analysis/drivers/2524\n",
        "1597 : skipping  ..\\..\\..\\_python_data/Driver Telematics Analysis/drivers/2525\n",
        "1598 : skipping  ..\\..\\..\\_python_data/Driver Telematics Analysis/drivers/2526\n",
        "1599 : skipping  ..\\..\\..\\_python_data/Driver Telematics Analysis/drivers/2527\n",
        "1600 : skipping  ..\\..\\..\\_python_data/Driver Telematics Analysis/drivers/2528\n",
        "1601 : skipping  ..\\..\\..\\_python_data/Driver Telematics Analysis/drivers/2529\n",
        "1602 : skipping  ..\\..\\..\\_python_data/Driver Telematics Analysis/drivers/253\n",
        "1603 : skipping  ..\\..\\..\\_python_data/Driver Telematics Analysis/drivers/2530\n",
        "1604 : skipping  ..\\..\\..\\_python_data/Driver Telematics Analysis/drivers/2531\n",
        "1605 : skipping  ..\\..\\..\\_python_data/Driver Telematics Analysis/drivers/2532\n",
        "1606 : skipping  ..\\..\\..\\_python_data/Driver Telematics Analysis/drivers/2533\n",
        "1607 : skipping  ..\\..\\..\\_python_data/Driver Telematics Analysis/drivers/2534\n",
        "1608 : skipping  ..\\..\\..\\_python_data/Driver Telematics Analysis/drivers/2535\n",
        "1609 : skipping  ..\\..\\..\\_python_data/Driver Telematics Analysis/drivers/2536\n",
        "1610 : skipping  ..\\..\\..\\_python_data/Driver Telematics Analysis/drivers/2537\n",
        "1611 : skipping  ..\\..\\..\\_python_data/Driver Telematics Analysis/drivers/2538\n",
        "1612 : skipping  ..\\..\\..\\_python_data/Driver Telematics Analysis/drivers/2539\n",
        "1613 : skipping  ..\\..\\..\\_python_data/Driver Telematics Analysis/drivers/254\n",
        "1614 : skipping  ..\\..\\..\\_python_data/Driver Telematics Analysis/drivers/2540\n",
        "1615 : skipping  ..\\..\\..\\_python_data/Driver Telematics Analysis/drivers/2541\n",
        "1616 : skipping  ..\\..\\..\\_python_data/Driver Telematics Analysis/drivers/2542\n",
        "1617 : skipping  ..\\..\\..\\_python_data/Driver Telematics Analysis/drivers/2543\n",
        "1618"
       ]
      },
      {
       "output_type": "stream",
       "stream": "stdout",
       "text": [
        " : skipping  ..\\..\\..\\_python_data/Driver Telematics Analysis/drivers/2544\n",
        "1619 : skipping  ..\\..\\..\\_python_data/Driver Telematics Analysis/drivers/2545\n",
        "1620 : skipping  ..\\..\\..\\_python_data/Driver Telematics Analysis/drivers/2546\n",
        "1621 : skipping  ..\\..\\..\\_python_data/Driver Telematics Analysis/drivers/2547\n",
        "1622 : skipping  ..\\..\\..\\_python_data/Driver Telematics Analysis/drivers/2548\n",
        "1623 : skipping  ..\\..\\..\\_python_data/Driver Telematics Analysis/drivers/2549\n",
        "1624 : skipping  ..\\..\\..\\_python_data/Driver Telematics Analysis/drivers/255\n",
        "1625 : skipping  ..\\..\\..\\_python_data/Driver Telematics Analysis/drivers/2550\n",
        "1626 : skipping  ..\\..\\..\\_python_data/Driver Telematics Analysis/drivers/2552\n",
        "1627 : skipping  ..\\..\\..\\_python_data/Driver Telematics Analysis/drivers/2553\n",
        "1628 : skipping  ..\\..\\..\\_python_data/Driver Telematics Analysis/drivers/2554\n",
        "1629 : skipping  ..\\..\\..\\_python_data/Driver Telematics Analysis/drivers/2555\n",
        "1630 : skipping  ..\\..\\..\\_python_data/Driver Telematics Analysis/drivers/2556\n",
        "1631 : skipping  ..\\..\\..\\_python_data/Driver Telematics Analysis/drivers/2557\n",
        "1632 : skipping  ..\\..\\..\\_python_data/Driver Telematics Analysis/drivers/2558\n",
        "1633 : skipping  ..\\..\\..\\_python_data/Driver Telematics Analysis/drivers/2559\n",
        "1634 : skipping  ..\\..\\..\\_python_data/Driver Telematics Analysis/drivers/256\n",
        "1635 : skipping  ..\\..\\..\\_python_data/Driver Telematics Analysis/drivers/2560\n",
        "1636 : skipping  ..\\..\\..\\_python_data/Driver Telematics Analysis/drivers/2561\n",
        "1637 : skipping  ..\\..\\..\\_python_data/Driver Telematics Analysis/drivers/2562\n",
        "1638 : skipping  ..\\..\\..\\_python_data/Driver Telematics Analysis/drivers/2563\n",
        "1639 : skipping  ..\\..\\..\\_python_data/Driver Telematics Analysis/drivers/2564\n",
        "1640 : skipping  ..\\..\\..\\_python_data/Driver Telematics Analysis/drivers/2565\n",
        "1641 : skipping  ..\\..\\..\\_python_data/Driver Telematics Analysis/drivers/2566\n",
        "1642 : skipping  ..\\..\\..\\_python_data/Driver Telematics Analysis/drivers/2567\n",
        "1643 : skipping  ..\\..\\..\\_python_data/Driver Telematics Analysis/drivers/2569\n",
        "1644 : skipping  ..\\..\\..\\_python_data/Driver Telematics Analysis/drivers/257\n",
        "1645 : skipping  ..\\..\\..\\_python_data/Driver Telematics Analysis/drivers/2570\n",
        "1646 : skipping  ..\\..\\..\\_python_data/Driver Telematics Analysis/drivers/2571\n",
        "1647 : skipping  ..\\..\\..\\_python_data/Driver Telematics Analysis/drivers/2572\n",
        "1648 : skipping  ..\\..\\..\\_python_data/Driver Telematics Analysis/drivers/2573\n",
        "1649 : skipping  ..\\..\\..\\_python_data/Driver Telematics Analysis/drivers/2574\n",
        "1650 : skipping  ..\\..\\..\\_python_data/Driver Telematics Analysis/drivers/2575\n",
        "1651 : skipping  ..\\..\\..\\_python_data/Driver Telematics Analysis/drivers/2576\n",
        "1652 : skipping  ..\\..\\..\\_python_data/Driver Telematics Analysis/drivers/2577\n",
        "1653 : skipping  ..\\..\\..\\_python_data/Driver Telematics Analysis/drivers/2578\n",
        "1654 : skipping  ..\\..\\..\\_python_data/Driver Telematics Analysis/drivers/2579\n",
        "1655"
       ]
      },
      {
       "output_type": "stream",
       "stream": "stdout",
       "text": [
        " : skipping  ..\\..\\..\\_python_data/Driver Telematics Analysis/drivers/258\n",
        "1656 : skipping  ..\\..\\..\\_python_data/Driver Telematics Analysis/drivers/2580\n",
        "1657 : skipping  ..\\..\\..\\_python_data/Driver Telematics Analysis/drivers/2581\n",
        "1658 : skipping  ..\\..\\..\\_python_data/Driver Telematics Analysis/drivers/2582\n",
        "1659 : skipping  ..\\..\\..\\_python_data/Driver Telematics Analysis/drivers/2583\n",
        "1660 : skipping  ..\\..\\..\\_python_data/Driver Telematics Analysis/drivers/2584\n",
        "1661 : skipping  ..\\..\\..\\_python_data/Driver Telematics Analysis/drivers/2585\n",
        "1662 : skipping  ..\\..\\..\\_python_data/Driver Telematics Analysis/drivers/2586\n",
        "1663 : skipping  ..\\..\\..\\_python_data/Driver Telematics Analysis/drivers/2587\n",
        "1664 : skipping  ..\\..\\..\\_python_data/Driver Telematics Analysis/drivers/2588\n",
        "1665 : skipping  ..\\..\\..\\_python_data/Driver Telematics Analysis/drivers/2589\n",
        "1666 : skipping  ..\\..\\..\\_python_data/Driver Telematics Analysis/drivers/259\n",
        "1667 : skipping  ..\\..\\..\\_python_data/Driver Telematics Analysis/drivers/2590\n",
        "1668 : skipping  ..\\..\\..\\_python_data/Driver Telematics Analysis/drivers/2591\n",
        "1669 : skipping  ..\\..\\..\\_python_data/Driver Telematics Analysis/drivers/2592\n",
        "1670 : skipping  ..\\..\\..\\_python_data/Driver Telematics Analysis/drivers/2594\n",
        "1671 : skipping  ..\\..\\..\\_python_data/Driver Telematics Analysis/drivers/2595\n",
        "1672 : skipping  ..\\..\\..\\_python_data/Driver Telematics Analysis/drivers/2596\n",
        "1673 : skipping  ..\\..\\..\\_python_data/Driver Telematics Analysis/drivers/2597\n",
        "1674 : skipping  ..\\..\\..\\_python_data/Driver Telematics Analysis/drivers/2598\n",
        "1675 : skipping  ..\\..\\..\\_python_data/Driver Telematics Analysis/drivers/2599\n",
        "1676 : skipping  ..\\..\\..\\_python_data/Driver Telematics Analysis/drivers/26\n",
        "1677 : skipping  ..\\..\\..\\_python_data/Driver Telematics Analysis/drivers/260\n",
        "1678 : skipping  ..\\..\\..\\_python_data/Driver Telematics Analysis/drivers/2600\n",
        "1679 : skipping  ..\\..\\..\\_python_data/Driver Telematics Analysis/drivers/2601\n",
        "1680 : skipping  ..\\..\\..\\_python_data/Driver Telematics Analysis/drivers/2602\n",
        "1681 : skipping  ..\\..\\..\\_python_data/Driver Telematics Analysis/drivers/2603\n",
        "1682 : skipping  ..\\..\\..\\_python_data/Driver Telematics Analysis/drivers/2604\n",
        "1683 : skipping  ..\\..\\..\\_python_data/Driver Telematics Analysis/drivers/2605\n",
        "1684 : skipping  ..\\..\\..\\_python_data/Driver Telematics Analysis/drivers/2607\n",
        "1685 : skipping  ..\\..\\..\\_python_data/Driver Telematics Analysis/drivers/2608\n",
        "1686 : skipping  ..\\..\\..\\_python_data/Driver Telematics Analysis/drivers/261\n",
        "1687 : skipping  ..\\..\\..\\_python_data/Driver Telematics Analysis/drivers/2610\n",
        "1688 : skipping  ..\\..\\..\\_python_data/Driver Telematics Analysis/drivers/2612\n",
        "1689 : skipping  ..\\..\\..\\_python_data/Driver Telematics Analysis/drivers/2613\n",
        "1690"
       ]
      },
      {
       "output_type": "stream",
       "stream": "stdout",
       "text": [
        " : skipping  ..\\..\\..\\_python_data/Driver Telematics Analysis/drivers/2614\n",
        "1691 : skipping  ..\\..\\..\\_python_data/Driver Telematics Analysis/drivers/2617\n",
        "1692 : skipping  ..\\..\\..\\_python_data/Driver Telematics Analysis/drivers/2618\n",
        "1693 : skipping  ..\\..\\..\\_python_data/Driver Telematics Analysis/drivers/2619\n",
        "1694 : skipping  ..\\..\\..\\_python_data/Driver Telematics Analysis/drivers/262\n",
        "1695 : skipping  ..\\..\\..\\_python_data/Driver Telematics Analysis/drivers/2620\n",
        "1696 : skipping  ..\\..\\..\\_python_data/Driver Telematics Analysis/drivers/2621\n",
        "1697 : skipping  ..\\..\\..\\_python_data/Driver Telematics Analysis/drivers/2622\n",
        "1698 : skipping  ..\\..\\..\\_python_data/Driver Telematics Analysis/drivers/2623\n",
        "1699 : skipping  ..\\..\\..\\_python_data/Driver Telematics Analysis/drivers/2624\n",
        "1700 : skipping  ..\\..\\..\\_python_data/Driver Telematics Analysis/drivers/2625\n",
        "1701 : skipping  ..\\..\\..\\_python_data/Driver Telematics Analysis/drivers/2626\n",
        "1702 : skipping  ..\\..\\..\\_python_data/Driver Telematics Analysis/drivers/2627\n",
        "1703 : skipping  ..\\..\\..\\_python_data/Driver Telematics Analysis/drivers/2628\n",
        "1704 : skipping  ..\\..\\..\\_python_data/Driver Telematics Analysis/drivers/2629\n",
        "1705 : skipping  ..\\..\\..\\_python_data/Driver Telematics Analysis/drivers/263\n",
        "1706 : skipping  ..\\..\\..\\_python_data/Driver Telematics Analysis/drivers/2630\n",
        "1707 : skipping  ..\\..\\..\\_python_data/Driver Telematics Analysis/drivers/2631\n",
        "1708 : skipping  ..\\..\\..\\_python_data/Driver Telematics Analysis/drivers/2632\n",
        "1709 : skipping  ..\\..\\..\\_python_data/Driver Telematics Analysis/drivers/2633\n",
        "1710 : skipping  ..\\..\\..\\_python_data/Driver Telematics Analysis/drivers/2634\n",
        "1711 : skipping  ..\\..\\..\\_python_data/Driver Telematics Analysis/drivers/2635\n",
        "1712 : skipping  ..\\..\\..\\_python_data/Driver Telematics Analysis/drivers/2636\n",
        "1713 : skipping  ..\\..\\..\\_python_data/Driver Telematics Analysis/drivers/2637\n",
        "1714 : skipping  ..\\..\\..\\_python_data/Driver Telematics Analysis/drivers/2638\n",
        "1715 : skipping  ..\\..\\..\\_python_data/Driver Telematics Analysis/drivers/2639\n",
        "1716 : skipping  ..\\..\\..\\_python_data/Driver Telematics Analysis/drivers/264\n",
        "1717 : skipping  ..\\..\\..\\_python_data/Driver Telematics Analysis/drivers/2640\n",
        "1718 : skipping  ..\\..\\..\\_python_data/Driver Telematics Analysis/drivers/2641\n",
        "1719 : skipping  ..\\..\\..\\_python_data/Driver Telematics Analysis/drivers/2642\n",
        "1720 : skipping  ..\\..\\..\\_python_data/Driver Telematics Analysis/drivers/2643\n",
        "1721 : skipping  ..\\..\\..\\_python_data/Driver Telematics Analysis/drivers/2644\n",
        "1722 : skipping  ..\\..\\..\\_python_data/Driver Telematics Analysis/drivers/2645\n",
        "1723 : skipping  ..\\..\\..\\_python_data/Driver Telematics Analysis/drivers/2646\n",
        "1724 : skipping  ..\\..\\..\\_python_data/Driver Telematics Analysis/drivers/2647\n",
        "1725"
       ]
      },
      {
       "output_type": "stream",
       "stream": "stdout",
       "text": [
        " : skipping  ..\\..\\..\\_python_data/Driver Telematics Analysis/drivers/2648\n",
        "1726 : skipping  ..\\..\\..\\_python_data/Driver Telematics Analysis/drivers/2649\n",
        "1727 : skipping  ..\\..\\..\\_python_data/Driver Telematics Analysis/drivers/265\n",
        "1728 : skipping  ..\\..\\..\\_python_data/Driver Telematics Analysis/drivers/2650\n",
        "1729 : skipping  ..\\..\\..\\_python_data/Driver Telematics Analysis/drivers/2651\n",
        "1730 : skipping  ..\\..\\..\\_python_data/Driver Telematics Analysis/drivers/2652\n",
        "1731 : skipping  ..\\..\\..\\_python_data/Driver Telematics Analysis/drivers/2653\n",
        "1732 : skipping  ..\\..\\..\\_python_data/Driver Telematics Analysis/drivers/2654\n",
        "1733 : skipping  ..\\..\\..\\_python_data/Driver Telematics Analysis/drivers/2655\n",
        "1734 : skipping  ..\\..\\..\\_python_data/Driver Telematics Analysis/drivers/2656\n",
        "1735 : skipping  ..\\..\\..\\_python_data/Driver Telematics Analysis/drivers/2657\n",
        "1736 : skipping  ..\\..\\..\\_python_data/Driver Telematics Analysis/drivers/2658\n",
        "1737 : skipping  ..\\..\\..\\_python_data/Driver Telematics Analysis/drivers/2659\n",
        "1738 : skipping  ..\\..\\..\\_python_data/Driver Telematics Analysis/drivers/266\n",
        "1739 : skipping  ..\\..\\..\\_python_data/Driver Telematics Analysis/drivers/2660\n",
        "1740 : skipping  ..\\..\\..\\_python_data/Driver Telematics Analysis/drivers/2661\n",
        "1741 : skipping  ..\\..\\..\\_python_data/Driver Telematics Analysis/drivers/2662\n",
        "1742 : skipping  ..\\..\\..\\_python_data/Driver Telematics Analysis/drivers/2663\n",
        "1743 : skipping  ..\\..\\..\\_python_data/Driver Telematics Analysis/drivers/2664\n",
        "1744 : skipping  ..\\..\\..\\_python_data/Driver Telematics Analysis/drivers/2665\n",
        "1745 : skipping  ..\\..\\..\\_python_data/Driver Telematics Analysis/drivers/2666\n",
        "1746 : skipping  ..\\..\\..\\_python_data/Driver Telematics Analysis/drivers/2667\n",
        "1747 : skipping  ..\\..\\..\\_python_data/Driver Telematics Analysis/drivers/2668\n",
        "1748 : skipping  ..\\..\\..\\_python_data/Driver Telematics Analysis/drivers/2669\n",
        "1749 : skipping  ..\\..\\..\\_python_data/Driver Telematics Analysis/drivers/267\n",
        "1750 : skipping  ..\\..\\..\\_python_data/Driver Telematics Analysis/drivers/2670\n",
        "1751 : skipping  ..\\..\\..\\_python_data/Driver Telematics Analysis/drivers/2671\n",
        "1752 : skipping  ..\\..\\..\\_python_data/Driver Telematics Analysis/drivers/2672\n",
        "1753 : skipping  ..\\..\\..\\_python_data/Driver Telematics Analysis/drivers/2673\n",
        "1754 : skipping  ..\\..\\..\\_python_data/Driver Telematics Analysis/drivers/2674\n",
        "1755 : skipping  ..\\..\\..\\_python_data/Driver Telematics Analysis/drivers/2675\n",
        "1756 : skipping  ..\\..\\..\\_python_data/Driver Telematics Analysis/drivers/2676\n",
        "1757 : skipping  ..\\..\\..\\_python_data/Driver Telematics Analysis/drivers/2677\n",
        "1758 : skipping  ..\\..\\..\\_python_data/Driver Telematics Analysis/drivers/2678\n",
        "1759 : skipping  ..\\..\\..\\_python_data/Driver Telematics Analysis/drivers/2679\n",
        "1760 : skipping  ..\\..\\..\\_python_data/Driver Telematics Analysis/drivers/268\n",
        "1761"
       ]
      },
      {
       "output_type": "stream",
       "stream": "stdout",
       "text": [
        " : skipping  ..\\..\\..\\_python_data/Driver Telematics Analysis/drivers/2680\n",
        "1762 : skipping  ..\\..\\..\\_python_data/Driver Telematics Analysis/drivers/2681\n",
        "1763 : skipping  ..\\..\\..\\_python_data/Driver Telematics Analysis/drivers/2682\n",
        "1764 : skipping  ..\\..\\..\\_python_data/Driver Telematics Analysis/drivers/2683\n",
        "1765 : skipping  ..\\..\\..\\_python_data/Driver Telematics Analysis/drivers/2684\n",
        "1766 : skipping  ..\\..\\..\\_python_data/Driver Telematics Analysis/drivers/2685\n",
        "1767 : skipping  ..\\..\\..\\_python_data/Driver Telematics Analysis/drivers/2686\n",
        "1768 : skipping  ..\\..\\..\\_python_data/Driver Telematics Analysis/drivers/2687\n",
        "1769 : skipping  ..\\..\\..\\_python_data/Driver Telematics Analysis/drivers/2688\n",
        "1770 : skipping  ..\\..\\..\\_python_data/Driver Telematics Analysis/drivers/2689\n",
        "1771 : skipping  ..\\..\\..\\_python_data/Driver Telematics Analysis/drivers/269\n",
        "1772 : skipping  ..\\..\\..\\_python_data/Driver Telematics Analysis/drivers/2690\n",
        "1773 : skipping  ..\\..\\..\\_python_data/Driver Telematics Analysis/drivers/2691\n",
        "1774 : skipping  ..\\..\\..\\_python_data/Driver Telematics Analysis/drivers/2692\n",
        "1775 : skipping  ..\\..\\..\\_python_data/Driver Telematics Analysis/drivers/2693\n",
        "1776 : skipping  ..\\..\\..\\_python_data/Driver Telematics Analysis/drivers/2694\n",
        "1777 : skipping  ..\\..\\..\\_python_data/Driver Telematics Analysis/drivers/2695\n",
        "1778 : skipping  ..\\..\\..\\_python_data/Driver Telematics Analysis/drivers/2696\n",
        "1779 : skipping  ..\\..\\..\\_python_data/Driver Telematics Analysis/drivers/2697\n",
        "1780 : skipping  ..\\..\\..\\_python_data/Driver Telematics Analysis/drivers/2698\n",
        "1781 : skipping  ..\\..\\..\\_python_data/Driver Telematics Analysis/drivers/2699\n",
        "1782 : skipping  ..\\..\\..\\_python_data/Driver Telematics Analysis/drivers/27\n",
        "1783 : skipping  ..\\..\\..\\_python_data/Driver Telematics Analysis/drivers/270\n",
        "1784 : skipping  ..\\..\\..\\_python_data/Driver Telematics Analysis/drivers/2700\n",
        "1785 : skipping  ..\\..\\..\\_python_data/Driver Telematics Analysis/drivers/2701\n",
        "1786 : skipping  ..\\..\\..\\_python_data/Driver Telematics Analysis/drivers/2703\n",
        "1787 : skipping  ..\\..\\..\\_python_data/Driver Telematics Analysis/drivers/2704\n",
        "1788 : skipping  ..\\..\\..\\_python_data/Driver Telematics Analysis/drivers/2706\n",
        "1789 : skipping  ..\\..\\..\\_python_data/Driver Telematics Analysis/drivers/2707\n",
        "1790 : skipping  ..\\..\\..\\_python_data/Driver Telematics Analysis/drivers/2708\n",
        "1791"
       ]
      },
      {
       "output_type": "stream",
       "stream": "stdout",
       "text": [
        " : skipping  ..\\..\\..\\_python_data/Driver Telematics Analysis/drivers/2709\n",
        "1792 : skipping  ..\\..\\..\\_python_data/Driver Telematics Analysis/drivers/271\n",
        "1793 : skipping  ..\\..\\..\\_python_data/Driver Telematics Analysis/drivers/2710\n",
        "1794 : skipping  ..\\..\\..\\_python_data/Driver Telematics Analysis/drivers/2711\n",
        "1795 : skipping  ..\\..\\..\\_python_data/Driver Telematics Analysis/drivers/2712\n",
        "1796 : skipping  ..\\..\\..\\_python_data/Driver Telematics Analysis/drivers/2713\n",
        "1797 : skipping  ..\\..\\..\\_python_data/Driver Telematics Analysis/drivers/2714\n",
        "1798 : skipping  ..\\..\\..\\_python_data/Driver Telematics Analysis/drivers/2716\n",
        "1799 : skipping  ..\\..\\..\\_python_data/Driver Telematics Analysis/drivers/2717\n",
        "1800 : skipping  ..\\..\\..\\_python_data/Driver Telematics Analysis/drivers/2718\n",
        "1801 : skipping  ..\\..\\..\\_python_data/Driver Telematics Analysis/drivers/2719\n",
        "1802 : skipping  ..\\..\\..\\_python_data/Driver Telematics Analysis/drivers/272\n",
        "1803 : skipping  ..\\..\\..\\_python_data/Driver Telematics Analysis/drivers/2720\n",
        "1804 : skipping  ..\\..\\..\\_python_data/Driver Telematics Analysis/drivers/2721\n",
        "1805 : skipping  ..\\..\\..\\_python_data/Driver Telematics Analysis/drivers/2722\n",
        "1806 : skipping  ..\\..\\..\\_python_data/Driver Telematics Analysis/drivers/2723\n",
        "1807 : skipping  ..\\..\\..\\_python_data/Driver Telematics Analysis/drivers/2724\n",
        "1808 : skipping  ..\\..\\..\\_python_data/Driver Telematics Analysis/drivers/2725\n",
        "1809 : skipping  ..\\..\\..\\_python_data/Driver Telematics Analysis/drivers/2726\n",
        "1810 : skipping  ..\\..\\..\\_python_data/Driver Telematics Analysis/drivers/2727\n",
        "1811 : skipping  ..\\..\\..\\_python_data/Driver Telematics Analysis/drivers/2728\n",
        "1812 : skipping  ..\\..\\..\\_python_data/Driver Telematics Analysis/drivers/2729\n",
        "1813 : skipping  ..\\..\\..\\_python_data/Driver Telematics Analysis/drivers/273\n",
        "1814 : skipping  ..\\..\\..\\_python_data/Driver Telematics Analysis/drivers/2730\n",
        "1815 : skipping  ..\\..\\..\\_python_data/Driver Telematics Analysis/drivers/2731\n",
        "1816 : skipping  ..\\..\\..\\_python_data/Driver Telematics Analysis/drivers/2732\n",
        "1817 : skipping  ..\\..\\..\\_python_data/Driver Telematics Analysis/drivers/2733\n",
        "1818 : skipping  ..\\..\\..\\_python_data/Driver Telematics Analysis/drivers/2735\n",
        "1819 : skipping  ..\\..\\..\\_python_data/Driver Telematics Analysis/drivers/2736\n",
        "1820 : skipping  ..\\..\\..\\_python_data/Driver Telematics Analysis/drivers/2737\n",
        "1821 : skipping  ..\\..\\..\\_python_data/Driver Telematics Analysis/drivers/2738\n",
        "1822 : skipping  ..\\..\\..\\_python_data/Driver Telematics Analysis/drivers/2739\n",
        "1823 : skipping  ..\\..\\..\\_python_data/Driver Telematics Analysis/drivers/2740\n",
        "1824 : skipping  ..\\..\\..\\_python_data/Driver Telematics Analysis/drivers/2741\n",
        "1825 : skipping  ..\\..\\..\\_python_data/Driver Telematics Analysis/drivers/2742\n",
        "1826 : skipping  ..\\..\\..\\_python_data/Driver Telematics Analysis/drivers/2743\n",
        "1827 : skipping  ..\\..\\..\\_python_data/Driver Telematics Analysis/drivers/2744\n",
        "1828"
       ]
      },
      {
       "output_type": "stream",
       "stream": "stdout",
       "text": [
        " : skipping  ..\\..\\..\\_python_data/Driver Telematics Analysis/drivers/2745\n",
        "1829 : skipping  ..\\..\\..\\_python_data/Driver Telematics Analysis/drivers/2746\n",
        "1830 : skipping  ..\\..\\..\\_python_data/Driver Telematics Analysis/drivers/2747\n",
        "1831 : skipping  ..\\..\\..\\_python_data/Driver Telematics Analysis/drivers/2748\n",
        "1832 : skipping  ..\\..\\..\\_python_data/Driver Telematics Analysis/drivers/2749\n",
        "1833 : skipping  ..\\..\\..\\_python_data/Driver Telematics Analysis/drivers/275\n",
        "1834 : skipping  ..\\..\\..\\_python_data/Driver Telematics Analysis/drivers/2750\n",
        "1835 : skipping  ..\\..\\..\\_python_data/Driver Telematics Analysis/drivers/2751\n",
        "1836 : skipping  ..\\..\\..\\_python_data/Driver Telematics Analysis/drivers/2752\n",
        "1837 : skipping  ..\\..\\..\\_python_data/Driver Telematics Analysis/drivers/2753\n",
        "1838 : skipping  ..\\..\\..\\_python_data/Driver Telematics Analysis/drivers/2754\n",
        "1839 : skipping  ..\\..\\..\\_python_data/Driver Telematics Analysis/drivers/2755\n",
        "1840 : skipping  ..\\..\\..\\_python_data/Driver Telematics Analysis/drivers/2756\n",
        "1841 : skipping  ..\\..\\..\\_python_data/Driver Telematics Analysis/drivers/2757\n",
        "1842 : skipping  ..\\..\\..\\_python_data/Driver Telematics Analysis/drivers/2758\n",
        "1843 : skipping  ..\\..\\..\\_python_data/Driver Telematics Analysis/drivers/2759\n",
        "1844 : skipping  ..\\..\\..\\_python_data/Driver Telematics Analysis/drivers/2760\n",
        "1845 : skipping  ..\\..\\..\\_python_data/Driver Telematics Analysis/drivers/2761\n",
        "1846 : skipping  ..\\..\\..\\_python_data/Driver Telematics Analysis/drivers/2762\n",
        "1847 : skipping  ..\\..\\..\\_python_data/Driver Telematics Analysis/drivers/2763\n",
        "1848 : skipping  ..\\..\\..\\_python_data/Driver Telematics Analysis/drivers/2764\n",
        "1849 : skipping  ..\\..\\..\\_python_data/Driver Telematics Analysis/drivers/2765\n",
        "1850 : skipping  ..\\..\\..\\_python_data/Driver Telematics Analysis/drivers/2766\n",
        "1851 : skipping  ..\\..\\..\\_python_data/Driver Telematics Analysis/drivers/2767\n",
        "1852 : skipping  ..\\..\\..\\_python_data/Driver Telematics Analysis/drivers/2768\n",
        "1853 : skipping  ..\\..\\..\\_python_data/Driver Telematics Analysis/drivers/2769\n",
        "1854 : skipping  ..\\..\\..\\_python_data/Driver Telematics Analysis/drivers/277\n",
        "1855 : skipping  ..\\..\\..\\_python_data/Driver Telematics Analysis/drivers/2770\n",
        "1856 : skipping  ..\\..\\..\\_python_data/Driver Telematics Analysis/drivers/2771\n",
        "1857 : skipping  ..\\..\\..\\_python_data/Driver Telematics Analysis/drivers/2772\n",
        "1858 : skipping  ..\\..\\..\\_python_data/Driver Telematics Analysis/drivers/2773\n",
        "1859 : skipping  ..\\..\\..\\_python_data/Driver Telematics Analysis/drivers/2774\n",
        "1860 : skipping  ..\\..\\..\\_python_data/Driver Telematics Analysis/drivers/2775\n",
        "1861 : skipping  ..\\..\\..\\_python_data/Driver Telematics Analysis/drivers/2776\n",
        "1862 : skipping  ..\\..\\..\\_python_data/Driver Telematics Analysis/drivers/2777\n",
        "1863"
       ]
      },
      {
       "output_type": "stream",
       "stream": "stdout",
       "text": [
        " : skipping  ..\\..\\..\\_python_data/Driver Telematics Analysis/drivers/2778\n",
        "1864 : skipping  ..\\..\\..\\_python_data/Driver Telematics Analysis/drivers/278\n",
        "1865 : skipping  ..\\..\\..\\_python_data/Driver Telematics Analysis/drivers/2780\n",
        "1866 : skipping  ..\\..\\..\\_python_data/Driver Telematics Analysis/drivers/2781\n",
        "1867 : skipping  ..\\..\\..\\_python_data/Driver Telematics Analysis/drivers/2782\n",
        "1868 : skipping  ..\\..\\..\\_python_data/Driver Telematics Analysis/drivers/2783\n",
        "1869 : skipping  ..\\..\\..\\_python_data/Driver Telematics Analysis/drivers/2784\n",
        "1870 : skipping  ..\\..\\..\\_python_data/Driver Telematics Analysis/drivers/2785\n",
        "1871 : skipping  ..\\..\\..\\_python_data/Driver Telematics Analysis/drivers/2786\n",
        "1872 : skipping  ..\\..\\..\\_python_data/Driver Telematics Analysis/drivers/2787\n",
        "1873 : skipping  ..\\..\\..\\_python_data/Driver Telematics Analysis/drivers/2788\n",
        "1874 : skipping  ..\\..\\..\\_python_data/Driver Telematics Analysis/drivers/2789\n",
        "1875 : skipping  ..\\..\\..\\_python_data/Driver Telematics Analysis/drivers/279\n",
        "1876 : skipping  ..\\..\\..\\_python_data/Driver Telematics Analysis/drivers/2791\n",
        "1877 : skipping  ..\\..\\..\\_python_data/Driver Telematics Analysis/drivers/2792\n",
        "1878 : skipping  ..\\..\\..\\_python_data/Driver Telematics Analysis/drivers/2793\n",
        "1879 : skipping  ..\\..\\..\\_python_data/Driver Telematics Analysis/drivers/2794\n",
        "1880 : skipping  ..\\..\\..\\_python_data/Driver Telematics Analysis/drivers/2795\n",
        "1881 : skipping  ..\\..\\..\\_python_data/Driver Telematics Analysis/drivers/2796\n",
        "1882 : skipping  ..\\..\\..\\_python_data/Driver Telematics Analysis/drivers/2797\n",
        "1883 : skipping  ..\\..\\..\\_python_data/Driver Telematics Analysis/drivers/28\n",
        "1884 : skipping  ..\\..\\..\\_python_data/Driver Telematics Analysis/drivers/2800\n",
        "1885 : skipping  ..\\..\\..\\_python_data/Driver Telematics Analysis/drivers/2801\n",
        "1886 : skipping  ..\\..\\..\\_python_data/Driver Telematics Analysis/drivers/2802\n",
        "1887 : skipping  ..\\..\\..\\_python_data/Driver Telematics Analysis/drivers/2803\n",
        "1888 : skipping  ..\\..\\..\\_python_data/Driver Telematics Analysis/drivers/2804\n",
        "1889 : skipping  ..\\..\\..\\_python_data/Driver Telematics Analysis/drivers/2805\n",
        "1890 : skipping  ..\\..\\..\\_python_data/Driver Telematics Analysis/drivers/2806\n",
        "1891 : skipping  ..\\..\\..\\_python_data/Driver Telematics Analysis/drivers/2807\n",
        "1892 : skipping  ..\\..\\..\\_python_data/Driver Telematics Analysis/drivers/2809\n",
        "1893 : skipping  ..\\..\\..\\_python_data/Driver Telematics Analysis/drivers/2810\n",
        "1894 : skipping  ..\\..\\..\\_python_data/Driver Telematics Analysis/drivers/2811\n",
        "1895 : skipping  ..\\..\\..\\_python_data/Driver Telematics Analysis/drivers/2812\n",
        "1896 : skipping  ..\\..\\..\\_python_data/Driver Telematics Analysis/drivers/2813\n",
        "1897 : skipping  ..\\..\\..\\_python_data/Driver Telematics Analysis/drivers/2814\n",
        "1898 : skipping  ..\\..\\..\\_python_data/Driver Telematics Analysis/drivers/2815\n",
        "1899 : skipping  ..\\..\\..\\_python_data/Driver Telematics Analysis/drivers/2816\n",
        "1900 : skipping  ..\\..\\..\\_python_data/Driver Telematics Analysis/drivers/2817\n",
        "1901 : skipping  ..\\..\\..\\_python_data/Driver Telematics Analysis/drivers/2818\n",
        "1902 : skipping  ..\\..\\..\\_python_data/Driver Telematics Analysis/drivers/2819\n",
        "1903 : skipping  ..\\..\\..\\_python_data/Driver Telematics Analysis/drivers/282\n",
        "1904 : skipping  ..\\..\\..\\_python_data/Driver Telematics Analysis/drivers/2820\n",
        "1905 : skipping  ..\\..\\..\\_python_data/Driver Telematics Analysis/drivers/2821\n",
        "1906 : skipping  ..\\..\\..\\_python_data/Driver Telematics Analysis/drivers/2822\n",
        "1907 : skipping  ..\\..\\..\\_python_data/Driver Telematics Analysis/drivers/2823\n",
        "1908 : skipping  ..\\..\\..\\_python_data/Driver Telematics Analysis/drivers/2824\n",
        "1909 : skipping  ..\\..\\..\\_python_data/Driver Telematics Analysis/drivers/2825\n",
        "1910 : skipping  ..\\..\\..\\_python_data/Driver Telematics Analysis/drivers/2826\n",
        "1911 : skipping  ..\\..\\..\\_python_data/Driver Telematics Analysis/drivers/2827\n",
        "1912 : skipping  ..\\..\\..\\_python_data/Driver Telematics Analysis/drivers/2828\n",
        "1913 : skipping  ..\\..\\..\\_python_data/Driver Telematics Analysis/drivers/2829\n",
        "1914 : skipping  ..\\..\\..\\_python_data/Driver Telematics Analysis/drivers/283\n",
        "1915 : skipping  ..\\..\\..\\_python_data/Driver Telematics Analysis/drivers/2830\n",
        "1916 : skipping  ..\\..\\..\\_python_data/Driver Telematics Analysis/drivers/2832\n",
        "1917 : skipping  ..\\..\\..\\_python_data/Driver Telematics Analysis/drivers/2833\n",
        "1918 : skipping  ..\\..\\..\\_python_data/Driver Telematics Analysis/drivers/2834\n",
        "1919 : skipping  ..\\..\\..\\_python_data/Driver Telematics Analysis/drivers/2835\n",
        "1920 : skipping  ..\\..\\..\\_python_data/Driver Telematics Analysis/drivers/2836\n",
        "1921 : skipping  ..\\..\\..\\_python_data/Driver Telematics Analysis/drivers/2837\n",
        "1922 : skipping  ..\\..\\..\\_python_data/Driver Telematics Analysis/drivers/2838\n",
        "1923 : skipping  ..\\..\\..\\_python_data/Driver Telematics Analysis/drivers/2839\n",
        "1924 : skipping  ..\\..\\..\\_python_data/Driver Telematics Analysis/drivers/284\n",
        "1925 : skipping  ..\\..\\..\\_python_data/Driver Telematics Analysis/drivers/2840\n",
        "1926 : skipping  ..\\..\\..\\_python_data/Driver Telematics Analysis/drivers/2841\n",
        "1927 : skipping  ..\\..\\..\\_python_data/Driver Telematics Analysis/drivers/2842\n",
        "1928 : skipping  ..\\..\\..\\_python_data/Driver Telematics Analysis/drivers/2843\n",
        "1929 : skipping  ..\\..\\..\\_python_data/Driver Telematics Analysis/drivers/2844\n",
        "1930 : skipping  ..\\..\\..\\_python_data/Driver Telematics Analysis/drivers/2845\n",
        "1931 : skipping  ..\\..\\..\\_python_data/Driver Telematics Analysis/drivers/2846\n",
        "1932 : skipping  ..\\..\\..\\_python_data/Driver Telematics Analysis/drivers/2847\n",
        "1933 : skipping  ..\\..\\..\\_python_data/Driver Telematics Analysis/drivers/2848\n",
        "1934 : skipping  ..\\..\\..\\_python_data/Driver Telematics Analysis/drivers/2849\n",
        "1935 : skipping  ..\\..\\..\\_python_data/Driver Telematics Analysis/drivers/285\n",
        "1936 : skipping  ..\\..\\..\\_python_data/Driver Telematics Analysis/drivers/2850\n",
        "1937 : skipping  ..\\..\\..\\_python_data/Driver Telematics Analysis/drivers/2851\n",
        "1938 : skipping  ..\\..\\..\\_python_data/Driver Telematics Analysis/drivers/2852\n",
        "1939 : skipping  ..\\..\\..\\_python_data/Driver Telematics Analysis/drivers/2853\n",
        "1940 : skipping  ..\\..\\..\\_python_data/Driver Telematics Analysis/drivers/2854\n",
        "1941 : skipping  ..\\..\\..\\_python_data/Driver Telematics Analysis/drivers/2855\n",
        "1942 : skipping  ..\\..\\..\\_python_data/Driver Telematics Analysis/drivers/2856\n",
        "1943 : skipping  ..\\..\\..\\_python_data/Driver Telematics Analysis/drivers/2857\n",
        "1944 : skipping  ..\\..\\..\\_python_data/Driver Telematics Analysis/drivers/2858\n",
        "1945 : skipping  ..\\..\\..\\_python_data/Driver Telematics Analysis/drivers/2859\n",
        "1946 : skipping  ..\\..\\..\\_python_data/Driver Telematics Analysis/drivers/286\n",
        "1947 : skipping  ..\\..\\..\\_python_data/Driver Telematics Analysis/drivers/2860\n",
        "1948 : skipping  ..\\..\\..\\_python_data/Driver Telematics Analysis/drivers/2861\n",
        "1949 : skipping  ..\\..\\..\\_python_data/Driver Telematics Analysis/drivers/2862\n",
        "1950 : skipping  ..\\..\\..\\_python_data/Driver Telematics Analysis/drivers/2863\n",
        "1951 : skipping  ..\\..\\..\\_python_data/Driver Telematics Analysis/drivers/2864\n",
        "1952 : skipping  ..\\..\\..\\_python_data/Driver Telematics Analysis/drivers/2865\n",
        "1953 : skipping  ..\\..\\..\\_python_data/Driver Telematics Analysis/drivers/2866\n",
        "1954 : skipping  ..\\..\\..\\_python_data/Driver Telematics Analysis/drivers/2867\n",
        "1955 : skipping  ..\\..\\..\\_python_data/Driver Telematics Analysis/drivers/2868\n",
        "1956 : skipping  ..\\..\\..\\_python_data/Driver Telematics Analysis/drivers/2869\n",
        "1957 : skipping  ..\\..\\..\\_python_data/Driver Telematics Analysis/drivers/287\n",
        "1958 : skipping  ..\\..\\..\\_python_data/Driver Telematics Analysis/drivers/2870\n",
        "1959 : skipping  ..\\..\\..\\_python_data/Driver Telematics Analysis/drivers/2871\n",
        "1960 : skipping  ..\\..\\..\\_python_data/Driver Telematics Analysis/drivers/2872\n",
        "1961 : skipping  ..\\..\\..\\_python_data/Driver Telematics Analysis/drivers/2873\n",
        "1962 : skipping  ..\\..\\..\\_python_data/Driver Telematics Analysis/drivers/2874\n",
        "1963 : skipping  ..\\..\\..\\_python_data/Driver Telematics Analysis/drivers/2875\n",
        "1964 : skipping  ..\\..\\..\\_python_data/Driver Telematics Analysis/drivers/2876\n",
        "1965 : skipping  ..\\..\\..\\_python_data/Driver Telematics Analysis/drivers/2877\n",
        "1966 : skipping  ..\\..\\..\\_python_data/Driver Telematics Analysis/drivers/2878\n",
        "1967 : skipping  ..\\..\\..\\_python_data/Driver Telematics Analysis/drivers/2879\n",
        "1968 : skipping  ..\\..\\..\\_python_data/Driver Telematics Analysis/drivers/288\n",
        "1969 : skipping  ..\\..\\..\\_python_data/Driver Telematics Analysis/drivers/2881\n",
        "1970 : skipping  ..\\..\\..\\_python_data/Driver Telematics Analysis/drivers/2882\n",
        "1971 : skipping  ..\\..\\..\\_python_data/Driver Telematics Analysis/drivers/2883\n",
        "1972 : skipping  ..\\..\\..\\_python_data/Driver Telematics Analysis/drivers/2884\n",
        "1973 : skipping  ..\\..\\..\\_python_data/Driver Telematics Analysis/drivers/2885\n",
        "1974 : skipping  ..\\..\\..\\_python_data/Driver Telematics Analysis/drivers/2886\n",
        "1975 : skipping  ..\\..\\..\\_python_data/Driver Telematics Analysis/drivers/2887\n",
        "1976 : skipping  ..\\..\\..\\_python_data/Driver Telematics Analysis/drivers/2888\n",
        "1977 : skipping  ..\\..\\..\\_python_data/Driver Telematics Analysis/drivers/2889\n",
        "1978 : skipping  ..\\..\\..\\_python_data/Driver Telematics Analysis/drivers/289\n",
        "1979 : skipping  ..\\..\\..\\_python_data/Driver Telematics Analysis/drivers/2890\n",
        "1980 : skipping  ..\\..\\..\\_python_data/Driver Telematics Analysis/drivers/2891\n",
        "1981 : skipping  ..\\..\\..\\_python_data/Driver Telematics Analysis/drivers/2892\n",
        "1982 : skipping  ..\\..\\..\\_python_data/Driver Telematics Analysis/drivers/2893\n",
        "1983 : skipping  ..\\..\\..\\_python_data/Driver Telematics Analysis/drivers/2894\n",
        "1984 : skipping  ..\\..\\..\\_python_data/Driver Telematics Analysis/drivers/2896\n",
        "1985 : skipping  ..\\..\\..\\_python_data/Driver Telematics Analysis/drivers/2897\n",
        "1986 : skipping  ..\\..\\..\\_python_data/Driver Telematics Analysis/drivers/2898\n",
        "1987 : skipping  ..\\..\\..\\_python_data/Driver Telematics Analysis/drivers/2899\n",
        "1988 : skipping  ..\\..\\..\\_python_data/Driver Telematics Analysis/drivers/290\n",
        "1989 : skipping  ..\\..\\..\\_python_data/Driver Telematics Analysis/drivers/2900\n",
        "1990 : skipping  ..\\..\\..\\_python_data/Driver Telematics Analysis/drivers/2901\n",
        "1991 : skipping  ..\\..\\..\\_python_data/Driver Telematics Analysis/drivers/2902\n",
        "1992 : skipping  ..\\..\\..\\_python_data/Driver Telematics Analysis/drivers/2903\n",
        "1993 : skipping  ..\\..\\..\\_python_data/Driver Telematics Analysis/drivers/2904\n",
        "1994 : skipping  ..\\..\\..\\_python_data/Driver Telematics Analysis/drivers/2905\n",
        "1995 : skipping  ..\\..\\..\\_python_data/Driver Telematics Analysis/drivers/2906\n",
        "1996 : skipping  ..\\..\\..\\_python_data/Driver Telematics Analysis/drivers/2908\n",
        "1997 : skipping  ..\\..\\..\\_python_data/Driver Telematics Analysis/drivers/2909\n",
        "1998 : skipping  ..\\..\\..\\_python_data/Driver Telematics Analysis/drivers/291\n",
        "1999 : skipping  ..\\..\\..\\_python_data/Driver Telematics Analysis/drivers/2910\n",
        "2000 : skipping  ..\\..\\..\\_python_data/Driver Telematics Analysis/drivers/2911\n",
        "2001 : skipping  ..\\..\\..\\_python_data/Driver Telematics Analysis/drivers/2912\n",
        "2002 : skipping  ..\\..\\..\\_python_data/Driver Telematics Analysis/drivers/2913\n",
        "2003 : skipping  ..\\..\\..\\_python_data/Driver Telematics Analysis/drivers/2914\n",
        "2004 : skipping  ..\\..\\..\\_python_data/Driver Telematics Analysis/drivers/2915\n",
        "2005 : skipping  ..\\..\\..\\_python_data/Driver Telematics Analysis/drivers/2916\n",
        "2006 : skipping  ..\\..\\..\\_python_data/Driver Telematics Analysis/drivers/2917\n",
        "2007 : skipping  ..\\..\\..\\_python_data/Driver Telematics Analysis/drivers/2918\n",
        "2008 : skipping  ..\\..\\..\\_python_data/Driver Telematics Analysis/drivers/2919\n",
        "2009 : skipping  ..\\..\\..\\_python_data/Driver Telematics Analysis/drivers/292\n",
        "2010 : skipping  ..\\..\\..\\_python_data/Driver Telematics Analysis/drivers/2920\n",
        "2011 : skipping  ..\\..\\..\\_python_data/Driver Telematics Analysis/drivers/2921\n",
        "2012 : skipping  ..\\..\\..\\_python_data/Driver Telematics Analysis/drivers/2922\n",
        "2013 : skipping  ..\\..\\..\\_python_data/Driver Telematics Analysis/drivers/2923\n",
        "2014 : skipping  ..\\..\\..\\_python_data/Driver Telematics Analysis/drivers/2924\n",
        "2015 : skipping  ..\\..\\..\\_python_data/Driver Telematics Analysis/drivers/2925\n",
        "2016 : skipping  ..\\..\\..\\_python_data/Driver Telematics Analysis/drivers/2926\n",
        "2017 : skipping  ..\\..\\..\\_python_data/Driver Telematics Analysis/drivers/2927\n",
        "2018 : skipping  ..\\..\\..\\_python_data/Driver Telematics Analysis/drivers/2928\n",
        "2019 : skipping  ..\\..\\..\\_python_data/Driver Telematics Analysis/drivers/2929\n",
        "2020 : skipping  ..\\..\\..\\_python_data/Driver Telematics Analysis/drivers/2930\n",
        "2021 : skipping  ..\\..\\..\\_python_data/Driver Telematics Analysis/drivers/2931\n",
        "2022 : skipping  ..\\..\\..\\_python_data/Driver Telematics Analysis/drivers/2932\n",
        "2023 : skipping  ..\\..\\..\\_python_data/Driver Telematics Analysis/drivers/2933\n",
        "2024 : skipping  ..\\..\\..\\_python_data/Driver Telematics Analysis/drivers/2934\n",
        "2025 : skipping  ..\\..\\..\\_python_data/Driver Telematics Analysis/drivers/2935\n",
        "2026 : skipping  ..\\..\\..\\_python_data/Driver Telematics Analysis/drivers/2936\n",
        "2027 : skipping  ..\\..\\..\\_python_data/Driver Telematics Analysis/drivers/2937\n",
        "2028 : skipping  ..\\..\\..\\_python_data/Driver Telematics Analysis/drivers/2938\n",
        "2029 : skipping  ..\\..\\..\\_python_data/Driver Telematics Analysis/drivers/2939\n",
        "2030 : skipping  ..\\..\\..\\_python_data/Driver Telematics Analysis/drivers/294\n",
        "2031 : skipping  ..\\..\\..\\_python_data/Driver Telematics Analysis/drivers/2940\n",
        "2032 : skipping  ..\\..\\..\\_python_data/Driver Telematics Analysis/drivers/2941\n",
        "2033 : skipping  ..\\..\\..\\_python_data/Driver Telematics Analysis/drivers/2942\n",
        "2034 : skipping  ..\\..\\..\\_python_data/Driver Telematics Analysis/drivers/2944\n",
        "2035 : skipping  ..\\..\\..\\_python_data/Driver Telematics Analysis/drivers/2945\n",
        "2036 : skipping  ..\\..\\..\\_python_data/Driver Telematics Analysis/drivers/2946\n",
        "2037 : skipping  ..\\..\\..\\_python_data/Driver Telematics Analysis/drivers/2948\n",
        "2038 : skipping  ..\\..\\..\\_python_data/Driver Telematics Analysis/drivers/2949\n",
        "2039 : skipping  ..\\..\\..\\_python_data/Driver Telematics Analysis/drivers/295\n",
        "2040 : skipping  ..\\..\\..\\_python_data/Driver Telematics Analysis/drivers/2950\n",
        "2041 : skipping  ..\\..\\..\\_python_data/Driver Telematics Analysis/drivers/2951\n",
        "2042 : skipping  ..\\..\\..\\_python_data/Driver Telematics Analysis/drivers/2952\n",
        "2043 : skipping  ..\\..\\..\\_python_data/Driver Telematics Analysis/drivers/2953\n",
        "2044 : skipping  ..\\..\\..\\_python_data/Driver Telematics Analysis/drivers/2954\n",
        "2045 : skipping  ..\\..\\..\\_python_data/Driver Telematics Analysis/drivers/2955\n",
        "2046 : skipping  ..\\..\\..\\_python_data/Driver Telematics Analysis/drivers/2956\n",
        "2047 : skipping  ..\\..\\..\\_python_data/Driver Telematics Analysis/drivers/2957\n",
        "2048 : skipping  ..\\..\\..\\_python_data/Driver Telematics Analysis/drivers/2958\n",
        "2049 : skipping  ..\\..\\..\\_python_data/Driver Telematics Analysis/drivers/2959\n",
        "2050 : skipping  ..\\..\\..\\_python_data/Driver Telematics Analysis/drivers/2960\n",
        "2051 : skipping  ..\\..\\..\\_python_data/Driver Telematics Analysis/drivers/2961\n",
        "2052 : skipping  ..\\..\\..\\_python_data/Driver Telematics Analysis/drivers/2962\n",
        "2053 : skipping  ..\\..\\..\\_python_data/Driver Telematics Analysis/drivers/2963\n",
        "2054 : skipping  ..\\..\\..\\_python_data/Driver Telematics Analysis/drivers/2964\n",
        "2055 : skipping  ..\\..\\..\\_python_data/Driver Telematics Analysis/drivers/2965\n",
        "2056 : skipping  ..\\..\\..\\_python_data/Driver Telematics Analysis/drivers/2966\n",
        "2057 : skipping  ..\\..\\..\\_python_data/Driver Telematics Analysis/drivers/2967\n",
        "2058 : skipping  ..\\..\\..\\_python_data/Driver Telematics Analysis/drivers/2968\n",
        "2059 : skipping  ..\\..\\..\\_python_data/Driver Telematics Analysis/drivers/2969\n",
        "2060 : skipping  ..\\..\\..\\_python_data/Driver Telematics Analysis/drivers/297\n",
        "2061 : skipping  ..\\..\\..\\_python_data/Driver Telematics Analysis/drivers/2970\n",
        "2062 : skipping  ..\\..\\..\\_python_data/Driver Telematics Analysis/drivers/2971\n",
        "2063 : skipping  ..\\..\\..\\_python_data/Driver Telematics Analysis/drivers/2972\n",
        "2064 : skipping  ..\\..\\..\\_python_data/Driver Telematics Analysis/drivers/2973\n",
        "2065 : skipping  ..\\..\\..\\_python_data/Driver Telematics Analysis/drivers/2974\n",
        "2066 : skipping  ..\\..\\..\\_python_data/Driver Telematics Analysis/drivers/2975\n",
        "2067 : skipping  ..\\..\\..\\_python_data/Driver Telematics Analysis/drivers/2976\n",
        "2068 : skipping  ..\\..\\..\\_python_data/Driver Telematics Analysis/drivers/2977\n",
        "2069 : skipping  ..\\..\\..\\_python_data/Driver Telematics Analysis/drivers/2978\n",
        "2070 : skipping  ..\\..\\..\\_python_data/Driver Telematics Analysis/drivers/2979\n",
        "2071 : skipping  ..\\..\\..\\_python_data/Driver Telematics Analysis/drivers/298\n",
        "2072 : skipping  ..\\..\\..\\_python_data/Driver Telematics Analysis/drivers/2980\n",
        "2073 : skipping  ..\\..\\..\\_python_data/Driver Telematics Analysis/drivers/2981\n",
        "2074 : skipping  ..\\..\\..\\_python_data/Driver Telematics Analysis/drivers/2982\n",
        "2075 : skipping  ..\\..\\..\\_python_data/Driver Telematics Analysis/drivers/2983\n",
        "2076 : skipping  ..\\..\\..\\_python_data/Driver Telematics Analysis/drivers/2984\n",
        "2077 : skipping  ..\\..\\..\\_python_data/Driver Telematics Analysis/drivers/2985\n",
        "2078 : skipping  ..\\..\\..\\_python_data/Driver Telematics Analysis/drivers/2987\n",
        "2079 : skipping  ..\\..\\..\\_python_data/Driver Telematics Analysis/drivers/2989\n",
        "2080 : skipping  ..\\..\\..\\_python_data/Driver Telematics Analysis/drivers/299\n",
        "2081 : skipping  ..\\..\\..\\_python_data/Driver Telematics Analysis/drivers/2992\n",
        "2082 : skipping  ..\\..\\..\\_python_data/Driver Telematics Analysis/drivers/2993\n",
        "2083 : skipping  ..\\..\\..\\_python_data/Driver Telematics Analysis/drivers/2994\n",
        "2084 : skipping  ..\\..\\..\\_python_data/Driver Telematics Analysis/drivers/2995\n",
        "2085 : skipping  ..\\..\\..\\_python_data/Driver Telematics Analysis/drivers/2996\n",
        "2086 : skipping  ..\\..\\..\\_python_data/Driver Telematics Analysis/drivers/2997\n",
        "2087 : skipping  ..\\..\\..\\_python_data/Driver Telematics Analysis/drivers/2998\n",
        "2088 : skipping  ..\\..\\..\\_python_data/Driver Telematics Analysis/drivers/2999\n",
        "2089 : skipping  ..\\..\\..\\_python_data/Driver Telematics Analysis/drivers/3\n",
        "2090 : skipping  ..\\..\\..\\_python_data/Driver Telematics Analysis/drivers/30\n",
        "2091 : skipping  ..\\..\\..\\_python_data/Driver Telematics Analysis/drivers/300\n",
        "2092 : skipping  ..\\..\\..\\_python_data/Driver Telematics Analysis/drivers/3000\n",
        "2093 : skipping  ..\\..\\..\\_python_data/Driver Telematics Analysis/drivers/3001\n",
        "2094 : skipping  ..\\..\\..\\_python_data/Driver Telematics Analysis/drivers/3002\n",
        "2095 : skipping  ..\\..\\..\\_python_data/Driver Telematics Analysis/drivers/3003\n",
        "2096 : skipping  ..\\..\\..\\_python_data/Driver Telematics Analysis/drivers/3004\n",
        "2097 : skipping  ..\\..\\..\\_python_data/Driver Telematics Analysis/drivers/3005\n",
        "2098 : skipping  ..\\..\\..\\_python_data/Driver Telematics Analysis/drivers/3006\n",
        "2099 : skipping  ..\\..\\..\\_python_data/Driver Telematics Analysis/drivers/3007\n",
        "2100 : skipping  ..\\..\\..\\_python_data/Driver Telematics Analysis/drivers/3008\n",
        "2101 : skipping  ..\\..\\..\\_python_data/Driver Telematics Analysis/drivers/3009\n",
        "2102 : skipping  ..\\..\\..\\_python_data/Driver Telematics Analysis/drivers/301\n",
        "2103 : skipping  ..\\..\\..\\_python_data/Driver Telematics Analysis/drivers/3010\n",
        "2104 : skipping  ..\\..\\..\\_python_data/Driver Telematics Analysis/drivers/3011\n",
        "2105 : skipping  ..\\..\\..\\_python_data/Driver Telematics Analysis/drivers/3012\n",
        "2106 : skipping  ..\\..\\..\\_python_data/Driver Telematics Analysis/drivers/3013\n",
        "2107 : skipping  ..\\..\\..\\_python_data/Driver Telematics Analysis/drivers/3014\n",
        "2108 : skipping  ..\\..\\..\\_python_data/Driver Telematics Analysis/drivers/3015\n",
        "2109 : skipping  ..\\..\\..\\_python_data/Driver Telematics Analysis/drivers/3016\n",
        "2110 : skipping  ..\\..\\..\\_python_data/Driver Telematics Analysis/drivers/3017\n",
        "2111 : skipping  ..\\..\\..\\_python_data/Driver Telematics Analysis/drivers/3018\n",
        "2112 : skipping  ..\\..\\..\\_python_data/Driver Telematics Analysis/drivers/3019\n",
        "2113 : skipping  ..\\..\\..\\_python_data/Driver Telematics Analysis/drivers/302\n",
        "2114 : skipping  ..\\..\\..\\_python_data/Driver Telematics Analysis/drivers/3020\n",
        "2115 : skipping  ..\\..\\..\\_python_data/Driver Telematics Analysis/drivers/3021\n",
        "2116 : skipping  ..\\..\\..\\_python_data/Driver Telematics Analysis/drivers/3022\n",
        "2117 : skipping  ..\\..\\..\\_python_data/Driver Telematics Analysis/drivers/3023\n",
        "2118 : skipping  ..\\..\\..\\_python_data/Driver Telematics Analysis/drivers/3024\n",
        "2119 : skipping  ..\\..\\..\\_python_data/Driver Telematics Analysis/drivers/3025\n",
        "2120 : skipping  ..\\..\\..\\_python_data/Driver Telematics Analysis/drivers/3026\n",
        "2121 : skipping  ..\\..\\..\\_python_data/Driver Telematics Analysis/drivers/3027\n",
        "2122 : skipping  ..\\..\\..\\_python_data/Driver Telematics Analysis/drivers/3028\n",
        "2123 : skipping  ..\\..\\..\\_python_data/Driver Telematics Analysis/drivers/3029\n",
        "2124 : skipping  ..\\..\\..\\_python_data/Driver Telematics Analysis/drivers/303\n",
        "2125 : skipping  ..\\..\\..\\_python_data/Driver Telematics Analysis/drivers/3030\n",
        "2126 : skipping  ..\\..\\..\\_python_data/Driver Telematics Analysis/drivers/3031\n",
        "2127 : skipping  ..\\..\\..\\_python_data/Driver Telematics Analysis/drivers/3032\n",
        "2128 : skipping  ..\\..\\..\\_python_data/Driver Telematics Analysis/drivers/3033\n",
        "2129 : skipping  ..\\..\\..\\_python_data/Driver Telematics Analysis/drivers/3034\n",
        "2130 : skipping  ..\\..\\..\\_python_data/Driver Telematics Analysis/drivers/3035\n",
        "2131 : skipping  ..\\..\\..\\_python_data/Driver Telematics Analysis/drivers/3036\n",
        "2132 : skipping  ..\\..\\..\\_python_data/Driver Telematics Analysis/drivers/3037\n",
        "2133 : skipping  ..\\..\\..\\_python_data/Driver Telematics Analysis/drivers/3038\n",
        "2134 : skipping  ..\\..\\..\\_python_data/Driver Telematics Analysis/drivers/3039\n",
        "2135 : skipping  ..\\..\\..\\_python_data/Driver Telematics Analysis/drivers/304\n",
        "2136 : skipping  ..\\..\\..\\_python_data/Driver Telematics Analysis/drivers/3040\n",
        "2137 : skipping  ..\\..\\..\\_python_data/Driver Telematics Analysis/drivers/3041\n",
        "2138 : skipping  ..\\..\\..\\_python_data/Driver Telematics Analysis/drivers/3042\n",
        "2139 : skipping  ..\\..\\..\\_python_data/Driver Telematics Analysis/drivers/3043\n",
        "2140 : skipping  ..\\..\\..\\_python_data/Driver Telematics Analysis/drivers/3044\n",
        "2141 : skipping  ..\\..\\..\\_python_data/Driver Telematics Analysis/drivers/3045\n",
        "2142 : skipping  ..\\..\\..\\_python_data/Driver Telematics Analysis/drivers/3046\n",
        "2143 : skipping  ..\\..\\..\\_python_data/Driver Telematics Analysis/drivers/3047\n",
        "2144 : skipping  ..\\..\\..\\_python_data/Driver Telematics Analysis/drivers/3048\n",
        "2145 : skipping  ..\\..\\..\\_python_data/Driver Telematics Analysis/drivers/3049\n",
        "2146 : skipping  ..\\..\\..\\_python_data/Driver Telematics Analysis/drivers/305\n",
        "2147 : skipping  ..\\..\\..\\_python_data/Driver Telematics Analysis/drivers/3050\n",
        "2148 : skipping  ..\\..\\..\\_python_data/Driver Telematics Analysis/drivers/3051\n",
        "2149 : skipping  ..\\..\\..\\_python_data/Driver Telematics Analysis/drivers/3052\n",
        "2150 : skipping  ..\\..\\..\\_python_data/Driver Telematics Analysis/drivers/3053\n",
        "2151 : skipping  ..\\..\\..\\_python_data/Driver Telematics Analysis/drivers/3054\n",
        "2152 : skipping  ..\\..\\..\\_python_data/Driver Telematics Analysis/drivers/3055\n",
        "2153 : skipping  ..\\..\\..\\_python_data/Driver Telematics Analysis/drivers/3056\n",
        "2154 : skipping  ..\\..\\..\\_python_data/Driver Telematics Analysis/drivers/3057\n",
        "2155 : skipping  ..\\..\\..\\_python_data/Driver Telematics Analysis/drivers/3058\n",
        "2156 : skipping  ..\\..\\..\\_python_data/Driver Telematics Analysis/drivers/306\n",
        "2157 : skipping  ..\\..\\..\\_python_data/Driver Telematics Analysis/drivers/3061\n",
        "2158 : skipping  ..\\..\\..\\_python_data/Driver Telematics Analysis/drivers/3063\n",
        "2159 : skipping  ..\\..\\..\\_python_data/Driver Telematics Analysis/drivers/3064\n",
        "2160 : skipping  ..\\..\\..\\_python_data/Driver Telematics Analysis/drivers/3066\n",
        "2161 : skipping  ..\\..\\..\\_python_data/Driver Telematics Analysis/drivers/3067\n",
        "2162 : skipping  ..\\..\\..\\_python_data/Driver Telematics Analysis/drivers/3068\n",
        "2163 : skipping  ..\\..\\..\\_python_data/Driver Telematics Analysis/drivers/3069\n",
        "2164 : skipping  ..\\..\\..\\_python_data/Driver Telematics Analysis/drivers/307\n",
        "2165 : skipping  ..\\..\\..\\_python_data/Driver Telematics Analysis/drivers/3070\n",
        "2166 : skipping  ..\\..\\..\\_python_data/Driver Telematics Analysis/drivers/3071\n",
        "2167 : skipping  ..\\..\\..\\_python_data/Driver Telematics Analysis/drivers/3073\n",
        "2168 : skipping  ..\\..\\..\\_python_data/Driver Telematics Analysis/drivers/3074\n",
        "2169 : skipping  ..\\..\\..\\_python_data/Driver Telematics Analysis/drivers/3075\n",
        "2170 : skipping  ..\\..\\..\\_python_data/Driver Telematics Analysis/drivers/3077\n",
        "2171 : skipping  ..\\..\\..\\_python_data/Driver Telematics Analysis/drivers/3079\n",
        "2172 : skipping  ..\\..\\..\\_python_data/Driver Telematics Analysis/drivers/308\n",
        "2173 : skipping  ..\\..\\..\\_python_data/Driver Telematics Analysis/drivers/3080\n",
        "2174 : skipping  ..\\..\\..\\_python_data/Driver Telematics Analysis/drivers/3082\n",
        "2175 : skipping  ..\\..\\..\\_python_data/Driver Telematics Analysis/drivers/3083\n",
        "2176 : skipping  ..\\..\\..\\_python_data/Driver Telematics Analysis/drivers/3084\n",
        "2177 : skipping  ..\\..\\..\\_python_data/Driver Telematics Analysis/drivers/3085\n",
        "2178 : skipping  ..\\..\\..\\_python_data/Driver Telematics Analysis/drivers/3086\n",
        "2179 : skipping  ..\\..\\..\\_python_data/Driver Telematics Analysis/drivers/3087\n",
        "2180 : skipping  ..\\..\\..\\_python_data/Driver Telematics Analysis/drivers/3088\n",
        "2181 : skipping  ..\\..\\..\\_python_data/Driver Telematics Analysis/drivers/3089\n",
        "2182 : skipping  ..\\..\\..\\_python_data/Driver Telematics Analysis/drivers/309\n",
        "2183 : skipping  ..\\..\\..\\_python_data/Driver Telematics Analysis/drivers/3090\n",
        "2184 : skipping  ..\\..\\..\\_python_data/Driver Telematics Analysis/drivers/3091\n",
        "2185 : skipping  ..\\..\\..\\_python_data/Driver Telematics Analysis/drivers/3092\n",
        "2186 : skipping  ..\\..\\..\\_python_data/Driver Telematics Analysis/drivers/3093\n",
        "2187 : skipping  ..\\..\\..\\_python_data/Driver Telematics Analysis/drivers/3094\n",
        "2188 : skipping  ..\\..\\..\\_python_data/Driver Telematics Analysis/drivers/3095\n",
        "2189 : skipping  ..\\..\\..\\_python_data/Driver Telematics Analysis/drivers/3096\n",
        "2190 : skipping  ..\\..\\..\\_python_data/Driver Telematics Analysis/drivers/3097\n",
        "2191 : skipping  ..\\..\\..\\_python_data/Driver Telematics Analysis/drivers/3098\n",
        "2192 : skipping  ..\\..\\..\\_python_data/Driver Telematics Analysis/drivers/3099\n",
        "2193 : skipping  ..\\..\\..\\_python_data/Driver Telematics Analysis/drivers/31\n",
        "2194 : skipping  ..\\..\\..\\_python_data/Driver Telematics Analysis/drivers/310\n",
        "2195 : skipping  ..\\..\\..\\_python_data/Driver Telematics Analysis/drivers/3100\n",
        "2196 : skipping  ..\\..\\..\\_python_data/Driver Telematics Analysis/drivers/3102\n",
        "2197 : skipping  ..\\..\\..\\_python_data/Driver Telematics Analysis/drivers/3103\n",
        "2198 : skipping  ..\\..\\..\\_python_data/Driver Telematics Analysis/drivers/3104\n",
        "2199 : skipping  ..\\..\\..\\_python_data/Driver Telematics Analysis/drivers/3105\n",
        "2200 : skipping  ..\\..\\..\\_python_data/Driver Telematics Analysis/drivers/3106\n",
        "2201 : skipping  ..\\..\\..\\_python_data/Driver Telematics Analysis/drivers/3107\n",
        "2202 : skipping  ..\\..\\..\\_python_data/Driver Telematics Analysis/drivers/3108\n",
        "2203 : skipping  ..\\..\\..\\_python_data/Driver Telematics Analysis/drivers/3109\n",
        "2204 : skipping  ..\\..\\..\\_python_data/Driver Telematics Analysis/drivers/311\n",
        "2205 : skipping  ..\\..\\..\\_python_data/Driver Telematics Analysis/drivers/3110\n",
        "2206 : skipping  ..\\..\\..\\_python_data/Driver Telematics Analysis/drivers/3111\n",
        "2207 : skipping  ..\\..\\..\\_python_data/Driver Telematics Analysis/drivers/3112\n",
        "2208 : skipping  ..\\..\\..\\_python_data/Driver Telematics Analysis/drivers/3113\n",
        "2209 : skipping  ..\\..\\..\\_python_data/Driver Telematics Analysis/drivers/3115\n",
        "2210 : skipping  ..\\..\\..\\_python_data/Driver Telematics Analysis/drivers/3116\n",
        "2211 : skipping  ..\\..\\..\\_python_data/Driver Telematics Analysis/drivers/3117\n",
        "2212 : skipping  ..\\..\\..\\_python_data/Driver Telematics Analysis/drivers/3118\n",
        "2213 : skipping  ..\\..\\..\\_python_data/Driver Telematics Analysis/drivers/312\n",
        "2214 : skipping  ..\\..\\..\\_python_data/Driver Telematics Analysis/drivers/3120\n",
        "2215 : skipping  ..\\..\\..\\_python_data/Driver Telematics Analysis/drivers/3121\n",
        "2216 : skipping  ..\\..\\..\\_python_data/Driver Telematics Analysis/drivers/3122\n",
        "2217 : skipping  ..\\..\\..\\_python_data/Driver Telematics Analysis/drivers/3123\n",
        "2218 : skipping  ..\\..\\..\\_python_data/Driver Telematics Analysis/drivers/3124\n",
        "2219 : skipping  ..\\..\\..\\_python_data/Driver Telematics Analysis/drivers/3125\n",
        "2220 : skipping  ..\\..\\..\\_python_data/Driver Telematics Analysis/drivers/3126\n",
        "2221 : skipping  ..\\..\\..\\_python_data/Driver Telematics Analysis/drivers/3127\n",
        "2222 : skipping  ..\\..\\..\\_python_data/Driver Telematics Analysis/drivers/3128\n",
        "2223 : skipping  ..\\..\\..\\_python_data/Driver Telematics Analysis/drivers/3129\n",
        "2224 : skipping  ..\\..\\..\\_python_data/Driver Telematics Analysis/drivers/313\n",
        "2225 : skipping  ..\\..\\..\\_python_data/Driver Telematics Analysis/drivers/3131\n",
        "2226 : skipping  ..\\..\\..\\_python_data/Driver Telematics Analysis/drivers/3132\n",
        "2227 : skipping  ..\\..\\..\\_python_data/Driver Telematics Analysis/drivers/3133\n",
        "2228 : skipping  ..\\..\\..\\_python_data/Driver Telematics Analysis/drivers/3134\n",
        "2229 : skipping  ..\\..\\..\\_python_data/Driver Telematics Analysis/drivers/3135\n",
        "2230 : skipping  ..\\..\\..\\_python_data/Driver Telematics Analysis/drivers/3136\n",
        "2231 : skipping  ..\\..\\..\\_python_data/Driver Telematics Analysis/drivers/3137\n",
        "2232 : skipping  ..\\..\\..\\_python_data/Driver Telematics Analysis/drivers/3138\n",
        "2233 : skipping  ..\\..\\..\\_python_data/Driver Telematics Analysis/drivers/3139\n",
        "2234 : skipping  ..\\..\\..\\_python_data/Driver Telematics Analysis/drivers/314\n",
        "2235 : skipping  ..\\..\\..\\_python_data/Driver Telematics Analysis/drivers/3140\n",
        "2236 : skipping  ..\\..\\..\\_python_data/Driver Telematics Analysis/drivers/3141\n",
        "2237 : skipping  ..\\..\\..\\_python_data/Driver Telematics Analysis/drivers/3142\n",
        "2238 : skipping  ..\\..\\..\\_python_data/Driver Telematics Analysis/drivers/3143\n",
        "2239 : skipping  ..\\..\\..\\_python_data/Driver Telematics Analysis/drivers/3144\n",
        "2240 : skipping  ..\\..\\..\\_python_data/Driver Telematics Analysis/drivers/3145\n",
        "2241 : skipping  ..\\..\\..\\_python_data/Driver Telematics Analysis/drivers/3146\n",
        "2242 : skipping  ..\\..\\..\\_python_data/Driver Telematics Analysis/drivers/3147\n",
        "2243 : skipping  ..\\..\\..\\_python_data/Driver Telematics Analysis/drivers/3148\n",
        "2244 : skipping  ..\\..\\..\\_python_data/Driver Telematics Analysis/drivers/3149\n",
        "2245 : skipping  ..\\..\\..\\_python_data/Driver Telematics Analysis/drivers/315\n",
        "2246 : skipping  ..\\..\\..\\_python_data/Driver Telematics Analysis/drivers/3150\n",
        "2247 : skipping  ..\\..\\..\\_python_data/Driver Telematics Analysis/drivers/3151\n",
        "2248 : skipping  ..\\..\\..\\_python_data/Driver Telematics Analysis/drivers/3152\n",
        "2249 : skipping  ..\\..\\..\\_python_data/Driver Telematics Analysis/drivers/3153\n",
        "2250 : skipping  ..\\..\\..\\_python_data/Driver Telematics Analysis/drivers/3154\n",
        "2251 : skipping  ..\\..\\..\\_python_data/Driver Telematics Analysis/drivers/3155\n",
        "2252 : skipping  ..\\..\\..\\_python_data/Driver Telematics Analysis/drivers/3156\n",
        "2253 : skipping  ..\\..\\..\\_python_data/Driver Telematics Analysis/drivers/3157\n",
        "2254 : skipping  ..\\..\\..\\_python_data/Driver Telematics Analysis/drivers/3158\n",
        "2255 : skipping  ..\\..\\..\\_python_data/Driver Telematics Analysis/drivers/3159\n",
        "2256 : skipping  ..\\..\\..\\_python_data/Driver Telematics Analysis/drivers/316\n",
        "2257 : skipping  ..\\..\\..\\_python_data/Driver Telematics Analysis/drivers/3160\n",
        "2258 : skipping  ..\\..\\..\\_python_data/Driver Telematics Analysis/drivers/3161\n",
        "2259 : skipping  ..\\..\\..\\_python_data/Driver Telematics Analysis/drivers/3162\n",
        "2260 : skipping  ..\\..\\..\\_python_data/Driver Telematics Analysis/drivers/3163\n",
        "2261 : skipping  ..\\..\\..\\_python_data/Driver Telematics Analysis/drivers/3164\n",
        "2262 : skipping  ..\\..\\..\\_python_data/Driver Telematics Analysis/drivers/3165\n",
        "2263 : skipping  ..\\..\\..\\_python_data/Driver Telematics Analysis/drivers/3166\n",
        "2264 : skipping  ..\\..\\..\\_python_data/Driver Telematics Analysis/drivers/3167\n",
        "2265 : skipping  ..\\..\\..\\_python_data/Driver Telematics Analysis/drivers/3168\n",
        "2266 : skipping  ..\\..\\..\\_python_data/Driver Telematics Analysis/drivers/3169\n",
        "2267 : skipping  ..\\..\\..\\_python_data/Driver Telematics Analysis/drivers/317\n",
        "2268 : skipping  ..\\..\\..\\_python_data/Driver Telematics Analysis/drivers/3170\n",
        "2269 : skipping  ..\\..\\..\\_python_data/Driver Telematics Analysis/drivers/3171\n",
        "2270 : skipping  ..\\..\\..\\_python_data/Driver Telematics Analysis/drivers/3172\n",
        "2271 : skipping  ..\\..\\..\\_python_data/Driver Telematics Analysis/drivers/3173\n",
        "2272 : skipping  ..\\..\\..\\_python_data/Driver Telematics Analysis/drivers/3174\n",
        "2273 : skipping  ..\\..\\..\\_python_data/Driver Telematics Analysis/drivers/3175\n",
        "2274 : skipping  ..\\..\\..\\_python_data/Driver Telematics Analysis/drivers/3176\n",
        "2275 : skipping  ..\\..\\..\\_python_data/Driver Telematics Analysis/drivers/3177\n",
        "2276 : skipping  ..\\..\\..\\_python_data/Driver Telematics Analysis/drivers/3178\n",
        "2277 : skipping  ..\\..\\..\\_python_data/Driver Telematics Analysis/drivers/3179\n",
        "2278 : skipping  ..\\..\\..\\_python_data/Driver Telematics Analysis/drivers/318\n",
        "2279 : skipping  ..\\..\\..\\_python_data/Driver Telematics Analysis/drivers/3180\n",
        "2280 : skipping  ..\\..\\..\\_python_data/Driver Telematics Analysis/drivers/3181\n",
        "2281 : skipping  ..\\..\\..\\_python_data/Driver Telematics Analysis/drivers/3182\n",
        "2282 : skipping  ..\\..\\..\\_python_data/Driver Telematics Analysis/drivers/3183\n",
        "2283 : skipping  ..\\..\\..\\_python_data/Driver Telematics Analysis/drivers/3184\n",
        "2284 : skipping  ..\\..\\..\\_python_data/Driver Telematics Analysis/drivers/3185\n",
        "2285 : skipping  ..\\..\\..\\_python_data/Driver Telematics Analysis/drivers/3186\n",
        "2286 : skipping  ..\\..\\..\\_python_data/Driver Telematics Analysis/drivers/3187\n",
        "2287 : skipping  ..\\..\\..\\_python_data/Driver Telematics Analysis/drivers/3188"
       ]
      },
      {
       "output_type": "stream",
       "stream": "stdout",
       "text": [
        "\n",
        "2288 : skipping  ..\\..\\..\\_python_data/Driver Telematics Analysis/drivers/3189\n",
        "2289 : skipping  ..\\..\\..\\_python_data/Driver Telematics Analysis/drivers/319\n",
        "2290 : skipping  ..\\..\\..\\_python_data/Driver Telematics Analysis/drivers/3190\n",
        "2291 : skipping  ..\\..\\..\\_python_data/Driver Telematics Analysis/drivers/3191\n",
        "2292 : skipping  ..\\..\\..\\_python_data/Driver Telematics Analysis/drivers/3192\n",
        "2293 : skipping  ..\\..\\..\\_python_data/Driver Telematics Analysis/drivers/3193\n",
        "2294 : skipping  ..\\..\\..\\_python_data/Driver Telematics Analysis/drivers/3194\n",
        "2295 : skipping  ..\\..\\..\\_python_data/Driver Telematics Analysis/drivers/3195\n",
        "2296 : skipping  ..\\..\\..\\_python_data/Driver Telematics Analysis/drivers/3196\n",
        "2297 : skipping  ..\\..\\..\\_python_data/Driver Telematics Analysis/drivers/3197\n",
        "2298 : skipping  ..\\..\\..\\_python_data/Driver Telematics Analysis/drivers/3198\n",
        "2299 : skipping  ..\\..\\..\\_python_data/Driver Telematics Analysis/drivers/3199\n",
        "2300 : skipping  ..\\..\\..\\_python_data/Driver Telematics Analysis/drivers/3200\n",
        "2301 : skipping  ..\\..\\..\\_python_data/Driver Telematics Analysis/drivers/3201\n",
        "2302 : skipping  ..\\..\\..\\_python_data/Driver Telematics Analysis/drivers/3202\n",
        "2303 : skipping  ..\\..\\..\\_python_data/Driver Telematics Analysis/drivers/3203\n",
        "2304 : skipping  ..\\..\\..\\_python_data/Driver Telematics Analysis/drivers/3204\n",
        "2305 : skipping  ..\\..\\..\\_python_data/Driver Telematics Analysis/drivers/3205\n",
        "2306 : skipping  ..\\..\\..\\_python_data/Driver Telematics Analysis/drivers/3206\n",
        "2307 : skipping  ..\\..\\..\\_python_data/Driver Telematics Analysis/drivers/3207\n",
        "2308 : skipping  ..\\..\\..\\_python_data/Driver Telematics Analysis/drivers/3208\n",
        "2309 : skipping  ..\\..\\..\\_python_data/Driver Telematics Analysis/drivers/3209\n",
        "2310 : skipping  ..\\..\\..\\_python_data/Driver Telematics Analysis/drivers/321\n",
        "2311 : skipping  ..\\..\\..\\_python_data/Driver Telematics Analysis/drivers/3210\n",
        "2312 : skipping  ..\\..\\..\\_python_data/Driver Telematics Analysis/drivers/3211\n",
        "2313 : skipping  ..\\..\\..\\_python_data/Driver Telematics Analysis/drivers/3212\n",
        "2314 : skipping  ..\\..\\..\\_python_data/Driver Telematics Analysis/drivers/3213\n",
        "2315 : skipping  ..\\..\\..\\_python_data/Driver Telematics Analysis/drivers/3214\n",
        "2316 : skipping  ..\\..\\..\\_python_data/Driver Telematics Analysis/drivers/3215\n",
        "2317 : skipping  ..\\..\\..\\_python_data/Driver Telematics Analysis/drivers/3216\n",
        "2318 : skipping  ..\\..\\..\\_python_data/Driver Telematics Analysis/drivers/3217\n",
        "2319 : skipping  ..\\..\\..\\_python_data/Driver Telematics Analysis/drivers/3218\n",
        "2320 : skipping  ..\\..\\..\\_python_data/Driver Telematics Analysis/drivers/3219\n",
        "2321 : skipping  ..\\..\\..\\_python_data/Driver Telematics Analysis/drivers/322\n",
        "2322 : skipping  ..\\..\\..\\_python_data/Driver Telematics Analysis/drivers/3220\n",
        "2323 : skipping  ..\\..\\..\\_python_data/Driver Telematics Analysis/drivers/3221\n",
        "2324 : skipping  ..\\..\\..\\_python_data/Driver Telematics Analysis/drivers/3222\n",
        "2325 : skipping  ..\\..\\..\\_python_data/Driver Telematics Analysis/drivers/3223\n",
        "2326 : skipping  ..\\..\\..\\_python_data/Driver Telematics Analysis/drivers/3224\n",
        "2327 : skipping  ..\\..\\..\\_python_data/Driver Telematics Analysis/drivers/3225\n",
        "2328 : skipping  ..\\..\\..\\_python_data/Driver Telematics Analysis/drivers/3226\n",
        "2329 : skipping  ..\\..\\..\\_python_data/Driver Telematics Analysis/drivers/3227\n",
        "2330 : skipping  ..\\..\\..\\_python_data/Driver Telematics Analysis/drivers/3228\n",
        "2331 : skipping  ..\\..\\..\\_python_data/Driver Telematics Analysis/drivers/3229\n",
        "2332 : skipping  ..\\..\\..\\_python_data/Driver Telematics Analysis/drivers/323\n",
        "2333 : skipping  ..\\..\\..\\_python_data/Driver Telematics Analysis/drivers/3230\n",
        "2334 : skipping  ..\\..\\..\\_python_data/Driver Telematics Analysis/drivers/3232\n",
        "2335 : skipping  ..\\..\\..\\_python_data/Driver Telematics Analysis/drivers/3233\n",
        "2336 : skipping  ..\\..\\..\\_python_data/Driver Telematics Analysis/drivers/3234\n",
        "2337 : skipping  ..\\..\\..\\_python_data/Driver Telematics Analysis/drivers/3235\n",
        "2338 : skipping  ..\\..\\..\\_python_data/Driver Telematics Analysis/drivers/3236\n",
        "2339 : skipping  ..\\..\\..\\_python_data/Driver Telematics Analysis/drivers/3238\n",
        "2340 : skipping  ..\\..\\..\\_python_data/Driver Telematics Analysis/drivers/3239\n",
        "2341 : skipping  ..\\..\\..\\_python_data/Driver Telematics Analysis/drivers/324\n",
        "2342 : skipping  ..\\..\\..\\_python_data/Driver Telematics Analysis/drivers/3240\n",
        "2343 : skipping  ..\\..\\..\\_python_data/Driver Telematics Analysis/drivers/3241\n",
        "2344 : skipping  ..\\..\\..\\_python_data/Driver Telematics Analysis/drivers/3242\n",
        "2345 : skipping  ..\\..\\..\\_python_data/Driver Telematics Analysis/drivers/3243\n",
        "2346 : skipping  ..\\..\\..\\_python_data/Driver Telematics Analysis/drivers/3244\n",
        "2347 : skipping  ..\\..\\..\\_python_data/Driver Telematics Analysis/drivers/3245\n",
        "2348 : skipping  ..\\..\\..\\_python_data/Driver Telematics Analysis/drivers/3246\n",
        "2349 : skipping  ..\\..\\..\\_python_data/Driver Telematics Analysis/drivers/3247\n",
        "2350 : skipping  ..\\..\\..\\_python_data/Driver Telematics Analysis/drivers/3248\n",
        "2351 : skipping  ..\\..\\..\\_python_data/Driver Telematics Analysis/drivers/3249\n",
        "2352 : skipping  ..\\..\\..\\_python_data/Driver Telematics Analysis/drivers/325\n",
        "2353 : skipping  ..\\..\\..\\_python_data/Driver Telematics Analysis/drivers/3250\n",
        "2354 : skipping  ..\\..\\..\\_python_data/Driver Telematics Analysis/drivers/3251\n",
        "2355 : skipping  ..\\..\\..\\_python_data/Driver Telematics Analysis/drivers/3252\n",
        "2356 : skipping  ..\\..\\..\\_python_data/Driver Telematics Analysis/drivers/3253\n",
        "2357 : skipping  ..\\..\\..\\_python_data/Driver Telematics Analysis/drivers/3254\n",
        "2358 : skipping  ..\\..\\..\\_python_data/Driver Telematics Analysis/drivers/3255\n",
        "2359 : skipping  ..\\..\\..\\_python_data/Driver Telematics Analysis/drivers/3256\n",
        "2360 : skipping  ..\\..\\..\\_python_data/Driver Telematics Analysis/drivers/3257\n",
        "2361 : skipping  ..\\..\\..\\_python_data/Driver Telematics Analysis/drivers/3258\n",
        "2362 : skipping  ..\\..\\..\\_python_data/Driver Telematics Analysis/drivers/3259\n",
        "2363 : skipping  ..\\..\\..\\_python_data/Driver Telematics Analysis/drivers/326\n",
        "2364 : skipping  ..\\..\\..\\_python_data/Driver Telematics Analysis/drivers/3260\n",
        "2365 : skipping  ..\\..\\..\\_python_data/Driver Telematics Analysis/drivers/3261\n",
        "2366 : skipping  ..\\..\\..\\_python_data/Driver Telematics Analysis/drivers/3262\n",
        "2367 : skipping  ..\\..\\..\\_python_data/Driver Telematics Analysis/drivers/3263\n",
        "2368 : skipping  ..\\..\\..\\_python_data/Driver Telematics Analysis/drivers/3264\n",
        "2369 : skipping  ..\\..\\..\\_python_data/Driver Telematics Analysis/drivers/3265\n",
        "2370 : skipping  ..\\..\\..\\_python_data/Driver Telematics Analysis/drivers/3266\n",
        "2371 : skipping  ..\\..\\..\\_python_data/Driver Telematics Analysis/drivers/3267\n",
        "2372 : skipping  ..\\..\\..\\_python_data/Driver Telematics Analysis/drivers/3268\n",
        "2373 : skipping  ..\\..\\..\\_python_data/Driver Telematics Analysis/drivers/3269\n",
        "2374 : skipping  ..\\..\\..\\_python_data/Driver Telematics Analysis/drivers/327\n",
        "2375 : skipping  ..\\..\\..\\_python_data/Driver Telematics Analysis/drivers/3270\n",
        "2376 : skipping  ..\\..\\..\\_python_data/Driver Telematics Analysis/drivers/3271\n",
        "2377 : skipping  ..\\..\\..\\_python_data/Driver Telematics Analysis/drivers/3272\n",
        "2378 : skipping  ..\\..\\..\\_python_data/Driver Telematics Analysis/drivers/3273\n",
        "2379 : skipping  ..\\..\\..\\_python_data/Driver Telematics Analysis/drivers/3274\n",
        "2380 : skipping  ..\\..\\..\\_python_data/Driver Telematics Analysis/drivers/3275\n",
        "2381 : skipping  ..\\..\\..\\_python_data/Driver Telematics Analysis/drivers/3277\n",
        "2382 : skipping  ..\\..\\..\\_python_data/Driver Telematics Analysis/drivers/3278\n",
        "2383 : skipping  ..\\..\\..\\_python_data/Driver Telematics Analysis/drivers/3279\n",
        "2384 : skipping  ..\\..\\..\\_python_data/Driver Telematics Analysis/drivers/328\n",
        "2385 : skipping  ..\\..\\..\\_python_data/Driver Telematics Analysis/drivers/3280\n",
        "2386 : skipping  ..\\..\\..\\_python_data/Driver Telematics Analysis/drivers/3281\n",
        "2387 : skipping  ..\\..\\..\\_python_data/Driver Telematics Analysis/drivers/3282\n",
        "2388 : skipping  ..\\..\\..\\_python_data/Driver Telematics Analysis/drivers/3283\n",
        "2389 : skipping  ..\\..\\..\\_python_data/Driver Telematics Analysis/drivers/3284\n",
        "2390 : skipping  ..\\..\\..\\_python_data/Driver Telematics Analysis/drivers/3285\n",
        "2391 : skipping  ..\\..\\..\\_python_data/Driver Telematics Analysis/drivers/3286\n",
        "2392 : skipping  ..\\..\\..\\_python_data/Driver Telematics Analysis/drivers/3287\n",
        "2393 : skipping  ..\\..\\..\\_python_data/Driver Telematics Analysis/drivers/3288\n",
        "2394 : skipping  ..\\..\\..\\_python_data/Driver Telematics Analysis/drivers/3289\n",
        "2395 : skipping  ..\\..\\..\\_python_data/Driver Telematics Analysis/drivers/329\n",
        "2396 : skipping  ..\\..\\..\\_python_data/Driver Telematics Analysis/drivers/3290\n",
        "2397 : skipping  ..\\..\\..\\_python_data/Driver Telematics Analysis/drivers/3291\n",
        "2398 : skipping  ..\\..\\..\\_python_data/Driver Telematics Analysis/drivers/3292\n",
        "2399 : skipping  ..\\..\\..\\_python_data/Driver Telematics Analysis/drivers/3293\n",
        "2400 : skipping  ..\\..\\..\\_python_data/Driver Telematics Analysis/drivers/3294\n",
        "2401 : skipping  ..\\..\\..\\_python_data/Driver Telematics Analysis/drivers/3295\n",
        "2402 : skipping  ..\\..\\..\\_python_data/Driver Telematics Analysis/drivers/3296\n",
        "2403 : skipping  ..\\..\\..\\_python_data/Driver Telematics Analysis/drivers/3297\n",
        "2404 : skipping  ..\\..\\..\\_python_data/Driver Telematics Analysis/drivers/3298\n",
        "2405 : skipping  ..\\..\\..\\_python_data/Driver Telematics Analysis/drivers/3299\n",
        "2406 : skipping  ..\\..\\..\\_python_data/Driver Telematics Analysis/drivers/33\n",
        "2407 : skipping  ..\\..\\..\\_python_data/Driver Telematics Analysis/drivers/330\n",
        "2408 : skipping  ..\\..\\..\\_python_data/Driver Telematics Analysis/drivers/3300\n",
        "2409 : skipping  ..\\..\\..\\_python_data/Driver Telematics Analysis/drivers/3301\n",
        "2410 : skipping  ..\\..\\..\\_python_data/Driver Telematics Analysis/drivers/3302\n",
        "2411 : skipping  ..\\..\\..\\_python_data/Driver Telematics Analysis/drivers/3303\n",
        "2412 : skipping  ..\\..\\..\\_python_data/Driver Telematics Analysis/drivers/3304\n",
        "2413 : skipping  ..\\..\\..\\_python_data/Driver Telematics Analysis/drivers/3305\n",
        "2414 : skipping  ..\\..\\..\\_python_data/Driver Telematics Analysis/drivers/3306\n",
        "2415 : skipping  ..\\..\\..\\_python_data/Driver Telematics Analysis/drivers/3307\n",
        "2416 : skipping  ..\\..\\..\\_python_data/Driver Telematics Analysis/drivers/3308\n",
        "2417 : skipping  ..\\..\\..\\_python_data/Driver Telematics Analysis/drivers/3309\n",
        "2418 : skipping  ..\\..\\..\\_python_data/Driver Telematics Analysis/drivers/331\n",
        "2419 : skipping  ..\\..\\..\\_python_data/Driver Telematics Analysis/drivers/3310\n",
        "2420 : skipping  ..\\..\\..\\_python_data/Driver Telematics Analysis/drivers/3311\n",
        "2421 : skipping  ..\\..\\..\\_python_data/Driver Telematics Analysis/drivers/3312\n",
        "2422 : skipping  ..\\..\\..\\_python_data/Driver Telematics Analysis/drivers/3313\n",
        "2423 : skipping  ..\\..\\..\\_python_data/Driver Telematics Analysis/drivers/3314\n",
        "2424 : skipping  ..\\..\\..\\_python_data/Driver Telematics Analysis/drivers/3315\n",
        "2425 : skipping  ..\\..\\..\\_python_data/Driver Telematics Analysis/drivers/3317\n",
        "2426 : skipping  ..\\..\\..\\_python_data/Driver Telematics Analysis/drivers/3318\n",
        "2427 : skipping  ..\\..\\..\\_python_data/Driver Telematics Analysis/drivers/3319\n",
        "2428 : skipping  ..\\..\\..\\_python_data/Driver Telematics Analysis/drivers/332\n",
        "2429 : skipping  ..\\..\\..\\_python_data/Driver Telematics Analysis/drivers/3320\n",
        "2430 : skipping  ..\\..\\..\\_python_data/Driver Telematics Analysis/drivers/3323\n",
        "2431 : skipping  ..\\..\\..\\_python_data/Driver Telematics Analysis/drivers/3324\n",
        "2432 : skipping  ..\\..\\..\\_python_data/Driver Telematics Analysis/drivers/3325\n",
        "2433 : skipping  ..\\..\\..\\_python_data/Driver Telematics Analysis/drivers/3326\n",
        "2434 : skipping  ..\\..\\..\\_python_data/Driver Telematics Analysis/drivers/3327\n",
        "2435 : skipping  ..\\..\\..\\_python_data/Driver Telematics Analysis/drivers/3328\n",
        "2436 : skipping  ..\\..\\..\\_python_data/Driver Telematics Analysis/drivers/3329\n",
        "2437 : skipping  ..\\..\\..\\_python_data/Driver Telematics Analysis/drivers/333\n",
        "2438 : skipping  ..\\..\\..\\_python_data/Driver Telematics Analysis/drivers/3330\n",
        "2439 : skipping  ..\\..\\..\\_python_data/Driver Telematics Analysis/drivers/3331\n",
        "2440 : skipping  ..\\..\\..\\_python_data/Driver Telematics Analysis/drivers/3332\n",
        "2441 : skipping  ..\\..\\..\\_python_data/Driver Telematics Analysis/drivers/3333\n",
        "2442 : skipping  ..\\..\\..\\_python_data/Driver Telematics Analysis/drivers/3334\n",
        "2443 : skipping  ..\\..\\..\\_python_data/Driver Telematics Analysis/drivers/3335\n",
        "2444 : skipping  ..\\..\\..\\_python_data/Driver Telematics Analysis/drivers/3336\n",
        "2445 : skipping  ..\\..\\..\\_python_data/Driver Telematics Analysis/drivers/3337\n",
        "2446 : skipping  ..\\..\\..\\_python_data/Driver Telematics Analysis/drivers/3338\n",
        "2447 : skipping  ..\\..\\..\\_python_data/Driver Telematics Analysis/drivers/3339\n",
        "2448 : skipping  ..\\..\\..\\_python_data/Driver Telematics Analysis/drivers/334\n",
        "2449 : skipping  ..\\..\\..\\_python_data/Driver Telematics Analysis/drivers/3340\n",
        "2450 : skipping  ..\\..\\..\\_python_data/Driver Telematics Analysis/drivers/3341\n",
        "2451 : skipping  ..\\..\\..\\_python_data/Driver Telematics Analysis/drivers/3342\n",
        "2452 : skipping  ..\\..\\..\\_python_data/Driver Telematics Analysis/drivers/3343\n",
        "2453 : skipping  ..\\..\\..\\_python_data/Driver Telematics Analysis/drivers/3344\n",
        "2454 : skipping  ..\\..\\..\\_python_data/Driver Telematics Analysis/drivers/3345\n",
        "2455 : skipping  ..\\..\\..\\_python_data/Driver Telematics Analysis/drivers/3346\n",
        "2456 : skipping  ..\\..\\..\\_python_data/Driver Telematics Analysis/drivers/3347\n",
        "2457 : skipping  ..\\..\\..\\_python_data/Driver Telematics Analysis/drivers/3348\n",
        "2458 : skipping  ..\\..\\..\\_python_data/Driver Telematics Analysis/drivers/3349\n",
        "2459 : skipping  ..\\..\\..\\_python_data/Driver Telematics Analysis/drivers/3350\n",
        "2460 : skipping  ..\\..\\..\\_python_data/Driver Telematics Analysis/drivers/3351\n",
        "2461 : skipping  ..\\..\\..\\_python_data/Driver Telematics Analysis/drivers/3352\n",
        "2462 : skipping  ..\\..\\..\\_python_data/Driver Telematics Analysis/drivers/3353\n",
        "2463 : skipping  ..\\..\\..\\_python_data/Driver Telematics Analysis/drivers/3354\n",
        "2464 : skipping  ..\\..\\..\\_python_data/Driver Telematics Analysis/drivers/3355\n",
        "2465 : skipping  ..\\..\\..\\_python_data/Driver Telematics Analysis/drivers/3356\n",
        "2466 : skipping  ..\\..\\..\\_python_data/Driver Telematics Analysis/drivers/3357\n",
        "2467 : skipping  ..\\..\\..\\_python_data/Driver Telematics Analysis/drivers/3358\n",
        "2468 : skipping  ..\\..\\..\\_python_data/Driver Telematics Analysis/drivers/336\n",
        "2469 : skipping  ..\\..\\..\\_python_data/Driver Telematics Analysis/drivers/3360\n",
        "2470 : skipping  ..\\..\\..\\_python_data/Driver Telematics Analysis/drivers/3361\n",
        "2471 : skipping  ..\\..\\..\\_python_data/Driver Telematics Analysis/drivers/3362\n",
        "2472 : skipping  ..\\..\\..\\_python_data/Driver Telematics Analysis/drivers/3363\n",
        "2473 : skipping  ..\\..\\..\\_python_data/Driver Telematics Analysis/drivers/3364\n",
        "2474 : skipping  ..\\..\\..\\_python_data/Driver Telematics Analysis/drivers/3365\n",
        "2475 : skipping  ..\\..\\..\\_python_data/Driver Telematics Analysis/drivers/3366\n",
        "2476 : skipping  ..\\..\\..\\_python_data/Driver Telematics Analysis/drivers/3367\n",
        "2477 : skipping  ..\\..\\..\\_python_data/Driver Telematics Analysis/drivers/3368\n",
        "2478 : skipping  ..\\..\\..\\_python_data/Driver Telematics Analysis/drivers/3369\n",
        "2479 : skipping  ..\\..\\..\\_python_data/Driver Telematics Analysis/drivers/337\n",
        "2480 : skipping  ..\\..\\..\\_python_data/Driver Telematics Analysis/drivers/3370\n",
        "2481 : skipping  ..\\..\\..\\_python_data/Driver Telematics Analysis/drivers/3372\n",
        "2482 : skipping  ..\\..\\..\\_python_data/Driver Telematics Analysis/drivers/3373\n",
        "2483 : skipping  ..\\..\\..\\_python_data/Driver Telematics Analysis/drivers/3374\n",
        "2484 : skipping  ..\\..\\..\\_python_data/Driver Telematics Analysis/drivers/3375\n",
        "2485 : skipping  ..\\..\\..\\_python_data/Driver Telematics Analysis/drivers/3376\n",
        "2486 : skipping  ..\\..\\..\\_python_data/Driver Telematics Analysis/drivers/3377\n",
        "2487 : skipping  ..\\..\\..\\_python_data/Driver Telematics Analysis/drivers/3378\n",
        "2488 : skipping  ..\\..\\..\\_python_data/Driver Telematics Analysis/drivers/3379\n",
        "2489 : skipping  ..\\..\\..\\_python_data/Driver Telematics Analysis/drivers/3380\n",
        "2490 : skipping  ..\\..\\..\\_python_data/Driver Telematics Analysis/drivers/3381\n",
        "2491 : skipping  ..\\..\\..\\_python_data/Driver Telematics Analysis/drivers/3382\n",
        "2492 : skipping  ..\\..\\..\\_python_data/Driver Telematics Analysis/drivers/3383\n",
        "2493 : skipping  ..\\..\\..\\_python_data/Driver Telematics Analysis/drivers/3384\n",
        "2494 : skipping  ..\\..\\..\\_python_data/Driver Telematics Analysis/drivers/3385\n",
        "2495 : skipping  ..\\..\\..\\_python_data/Driver Telematics Analysis/drivers/3386\n",
        "2496 : skipping  ..\\..\\..\\_python_data/Driver Telematics Analysis/drivers/3387\n",
        "2497 : skipping  ..\\..\\..\\_python_data/Driver Telematics Analysis/drivers/3388\n",
        "2498 : skipping  ..\\..\\..\\_python_data/Driver Telematics Analysis/drivers/3389\n",
        "2499 : skipping  ..\\..\\..\\_python_data/Driver Telematics Analysis/drivers/3390\n",
        "2500 : skipping  ..\\..\\..\\_python_data/Driver Telematics Analysis/drivers/3391\n",
        "2501 : skipping  ..\\..\\..\\_python_data/Driver Telematics Analysis/drivers/3392\n",
        "2502 : skipping  ..\\..\\..\\_python_data/Driver Telematics Analysis/drivers/3393\n",
        "2503 : skipping  ..\\..\\..\\_python_data/Driver Telematics Analysis/drivers/3394\n",
        "2504 : skipping  ..\\..\\..\\_python_data/Driver Telematics Analysis/drivers/3395\n",
        "2505 : skipping  ..\\..\\..\\_python_data/Driver Telematics Analysis/drivers/3396\n",
        "2506 : skipping  ..\\..\\..\\_python_data/Driver Telematics Analysis/drivers/3398\n",
        "2507 : skipping  ..\\..\\..\\_python_data/Driver Telematics Analysis/drivers/3399\n",
        "2508 : skipping  ..\\..\\..\\_python_data/Driver Telematics Analysis/drivers/34\n",
        "2509 : skipping  ..\\..\\..\\_python_data/Driver Telematics Analysis/drivers/3400\n",
        "2510 : skipping  ..\\..\\..\\_python_data/Driver Telematics Analysis/drivers/3401\n",
        "2511 : skipping  ..\\..\\..\\_python_data/Driver Telematics Analysis/drivers/3402\n",
        "2512 : skipping  ..\\..\\..\\_python_data/Driver Telematics Analysis/drivers/3403\n",
        "2513 : skipping  ..\\..\\..\\_python_data/Driver Telematics Analysis/drivers/3404\n",
        "2514 : skipping  ..\\..\\..\\_python_data/Driver Telematics Analysis/drivers/3405\n",
        "2515 : skipping  ..\\..\\..\\_python_data/Driver Telematics Analysis/drivers/3406\n",
        "2516 : skipping  ..\\..\\..\\_python_data/Driver Telematics Analysis/drivers/3407\n",
        "2517 : skipping  ..\\..\\..\\_python_data/Driver Telematics Analysis/drivers/3408\n",
        "2518 : skipping  ..\\..\\..\\_python_data/Driver Telematics Analysis/drivers/3409\n",
        "2519 : skipping  ..\\..\\..\\_python_data/Driver Telematics Analysis/drivers/341\n",
        "2520 : skipping  ..\\..\\..\\_python_data/Driver Telematics Analysis/drivers/3410\n",
        "2521 : skipping  ..\\..\\..\\_python_data/Driver Telematics Analysis/drivers/3411\n",
        "2522 : skipping  ..\\..\\..\\_python_data/Driver Telematics Analysis/drivers/3412\n",
        "2523 : skipping  ..\\..\\..\\_python_data/Driver Telematics Analysis/drivers/3413\n",
        "2524 : skipping  ..\\..\\..\\_python_data/Driver Telematics Analysis/drivers/3414\n",
        "2525 : skipping  ..\\..\\..\\_python_data/Driver Telematics Analysis/drivers/3415\n",
        "2526 : skipping  ..\\..\\..\\_python_data/Driver Telematics Analysis/drivers/3416\n",
        "2527 : skipping  ..\\..\\..\\_python_data/Driver Telematics Analysis/drivers/3417\n",
        "2528 : skipping  ..\\..\\..\\_python_data/Driver Telematics Analysis/drivers/3418\n",
        "2529 : skipping  ..\\..\\..\\_python_data/Driver Telematics Analysis/drivers/3419\n",
        "2530 : skipping  ..\\..\\..\\_python_data/Driver Telematics Analysis/drivers/342\n",
        "2531 : skipping  ..\\..\\..\\_python_data/Driver Telematics Analysis/drivers/3420\n",
        "2532 : skipping  ..\\..\\..\\_python_data/Driver Telematics Analysis/drivers/3421\n",
        "2533 : skipping  ..\\..\\..\\_python_data/Driver Telematics Analysis/drivers/3422\n",
        "2534 : skipping  ..\\..\\..\\_python_data/Driver Telematics Analysis/drivers/3423\n",
        "2535 : skipping  ..\\..\\..\\_python_data/Driver Telematics Analysis/drivers/3424\n",
        "2536 : skipping  ..\\..\\..\\_python_data/Driver Telematics Analysis/drivers/3425\n",
        "2537 : skipping  ..\\..\\..\\_python_data/Driver Telematics Analysis/drivers/3426\n",
        "2538 : skipping  ..\\..\\..\\_python_data/Driver Telematics Analysis/drivers/3427\n",
        "2539 : skipping  ..\\..\\..\\_python_data/Driver Telematics Analysis/drivers/3429\n",
        "2540 : skipping  ..\\..\\..\\_python_data/Driver Telematics Analysis/drivers/343\n",
        "2541 : skipping  ..\\..\\..\\_python_data/Driver Telematics Analysis/drivers/3430\n",
        "2542 : skipping  ..\\..\\..\\_python_data/Driver Telematics Analysis/drivers/3431\n",
        "2543 : skipping  ..\\..\\..\\_python_data/Driver Telematics Analysis/drivers/3432\n",
        "2544 : skipping  ..\\..\\..\\_python_data/Driver Telematics Analysis/drivers/3433\n",
        "2545 : skipping  ..\\..\\..\\_python_data/Driver Telematics Analysis/drivers/3434\n",
        "2546 : skipping  ..\\..\\..\\_python_data/Driver Telematics Analysis/drivers/3435\n",
        "2547 : skipping  ..\\..\\..\\_python_data/Driver Telematics Analysis/drivers/3436\n",
        "2548 : skipping  ..\\..\\..\\_python_data/Driver Telematics Analysis/drivers/3437\n",
        "2549 : skipping  ..\\..\\..\\_python_data/Driver Telematics Analysis/drivers/3438\n",
        "2550 : skipping  ..\\..\\..\\_python_data/Driver Telematics Analysis/drivers/3439\n",
        "2551 : skipping  ..\\..\\..\\_python_data/Driver Telematics Analysis/drivers/344\n",
        "2552 : skipping  ..\\..\\..\\_python_data/Driver Telematics Analysis/drivers/3440\n",
        "2553 : skipping  ..\\..\\..\\_python_data/Driver Telematics Analysis/drivers/3441\n",
        "2554 : skipping  ..\\..\\..\\_python_data/Driver Telematics Analysis/drivers/3442\n",
        "2555 : skipping  ..\\..\\..\\_python_data/Driver Telematics Analysis/drivers/3443\n",
        "2556 : skipping  ..\\..\\..\\_python_data/Driver Telematics Analysis/drivers/3444\n",
        "2557 : skipping  ..\\..\\..\\_python_data/Driver Telematics Analysis/drivers/3445\n",
        "2558 : skipping  ..\\..\\..\\_python_data/Driver Telematics Analysis/drivers/3446\n",
        "2559 : skipping  ..\\..\\..\\_python_data/Driver Telematics Analysis/drivers/3448\n",
        "2560 : skipping  ..\\..\\..\\_python_data/Driver Telematics Analysis/drivers/3449\n",
        "2561 : skipping  ..\\..\\..\\_python_data/Driver Telematics Analysis/drivers/345\n",
        "2562 : skipping  ..\\..\\..\\_python_data/Driver Telematics Analysis/drivers/3450\n",
        "2563 : skipping  ..\\..\\..\\_python_data/Driver Telematics Analysis/drivers/3451\n",
        "2564 : skipping  ..\\..\\..\\_python_data/Driver Telematics Analysis/drivers/3452\n",
        "2565 : skipping  ..\\..\\..\\_python_data/Driver Telematics Analysis/drivers/3453\n",
        "2566 : skipping  ..\\..\\..\\_python_data/Driver Telematics Analysis/drivers/3454\n",
        "2567 : skipping  ..\\..\\..\\_python_data/Driver Telematics Analysis/drivers/3455\n",
        "2568 : skipping  ..\\..\\..\\_python_data/Driver Telematics Analysis/drivers/3456\n",
        "2569 : skipping  ..\\..\\..\\_python_data/Driver Telematics Analysis/drivers/3457\n",
        "2570 : skipping  ..\\..\\..\\_python_data/Driver Telematics Analysis/drivers/3458\n",
        "2571 : skipping  ..\\..\\..\\_python_data/Driver Telematics Analysis/drivers/346\n",
        "2572 : skipping  ..\\..\\..\\_python_data/Driver Telematics Analysis/drivers/3460\n",
        "2573 : skipping  ..\\..\\..\\_python_data/Driver Telematics Analysis/drivers/3461\n",
        "2574 : skipping  ..\\..\\..\\_python_data/Driver Telematics Analysis/drivers/3462\n",
        "2575 : skipping  ..\\..\\..\\_python_data/Driver Telematics Analysis/drivers/3463\n",
        "2576 : skipping  ..\\..\\..\\_python_data/Driver Telematics Analysis/drivers/3464\n",
        "2577 : skipping  ..\\..\\..\\_python_data/Driver Telematics Analysis/drivers/3465\n",
        "2578 : skipping  ..\\..\\..\\_python_data/Driver Telematics Analysis/drivers/3466\n",
        "2579 : skipping  ..\\..\\..\\_python_data/Driver Telematics Analysis/drivers/3467\n",
        "2580 : skipping  ..\\..\\..\\_python_data/Driver Telematics Analysis/drivers/3468\n",
        "2581 : skipping  ..\\..\\..\\_python_data/Driver Telematics Analysis/drivers/3469\n",
        "2582 : skipping  ..\\..\\..\\_python_data/Driver Telematics Analysis/drivers/347\n",
        "2583 : skipping  ..\\..\\..\\_python_data/Driver Telematics Analysis/drivers/3470\n",
        "2584 : skipping  ..\\..\\..\\_python_data/Driver Telematics Analysis/drivers/3471\n",
        "2585 : skipping  ..\\..\\..\\_python_data/Driver Telematics Analysis/drivers/3472\n",
        "2586 : skipping  ..\\..\\..\\_python_data/Driver Telematics Analysis/drivers/3473\n",
        "2587 : skipping  ..\\..\\..\\_python_data/Driver Telematics Analysis/drivers/3474\n",
        "2588 : skipping  ..\\..\\..\\_python_data/Driver Telematics Analysis/drivers/3475\n",
        "2589 : skipping  ..\\..\\..\\_python_data/Driver Telematics Analysis/drivers/3476\n",
        "2590 : skipping  ..\\..\\..\\_python_data/Driver Telematics Analysis/drivers/3477\n",
        "2591 : skipping  ..\\..\\..\\_python_data/Driver Telematics Analysis/drivers/3478\n",
        "2592 : skipping  ..\\..\\..\\_python_data/Driver Telematics Analysis/drivers/348\n",
        "2593 : skipping  ..\\..\\..\\_python_data/Driver Telematics Analysis/drivers/3480\n",
        "2594 : skipping  ..\\..\\..\\_python_data/Driver Telematics Analysis/drivers/3481\n",
        "2595 : skipping  ..\\..\\..\\_python_data/Driver Telematics Analysis/drivers/3482\n",
        "2596 : skipping  ..\\..\\..\\_python_data/Driver Telematics Analysis/drivers/3484\n",
        "2597 : skipping  ..\\..\\..\\_python_data/Driver Telematics Analysis/drivers/3485\n",
        "2598 : skipping  ..\\..\\..\\_python_data/Driver Telematics Analysis/drivers/3486\n",
        "2599 : skipping  ..\\..\\..\\_python_data/Driver Telematics Analysis/drivers/3487\n",
        "2600 : skipping  ..\\..\\..\\_python_data/Driver Telematics Analysis/drivers/3488\n",
        "2601 : skipping  ..\\..\\..\\_python_data/Driver Telematics Analysis/drivers/3489\n",
        "2602 : skipping  ..\\..\\..\\_python_data/Driver Telematics Analysis/drivers/3490\n",
        "2603 : skipping  ..\\..\\..\\_python_data/Driver Telematics Analysis/drivers/3491\n",
        "2604 : skipping  ..\\..\\..\\_python_data/Driver Telematics Analysis/drivers/3492\n",
        "2605 : skipping  ..\\..\\..\\_python_data/Driver Telematics Analysis/drivers/3493\n",
        "2606 : skipping  ..\\..\\..\\_python_data/Driver Telematics Analysis/drivers/3494\n",
        "2607 : skipping  ..\\..\\..\\_python_data/Driver Telematics Analysis/drivers/3495\n",
        "2608 : skipping  ..\\..\\..\\_python_data/Driver Telematics Analysis/drivers/3496\n",
        "2609 : skipping  ..\\..\\..\\_python_data/Driver Telematics Analysis/drivers/3498\n",
        "2610 : skipping  ..\\..\\..\\_python_data/Driver Telematics Analysis/drivers/3499\n",
        "2611 : skipping  ..\\..\\..\\_python_data/Driver Telematics Analysis/drivers/35\n",
        "2612 : skipping  ..\\..\\..\\_python_data/Driver Telematics Analysis/drivers/350\n",
        "2613 : skipping  ..\\..\\..\\_python_data/Driver Telematics Analysis/drivers/3500\n",
        "2614 : skipping  ..\\..\\..\\_python_data/Driver Telematics Analysis/drivers/3501\n",
        "2615 : skipping  ..\\..\\..\\_python_data/Driver Telematics Analysis/drivers/3503\n",
        "2616 : skipping  ..\\..\\..\\_python_data/Driver Telematics Analysis/drivers/3504\n",
        "2617 : skipping  ..\\..\\..\\_python_data/Driver Telematics Analysis/drivers/3505\n",
        "2618 : skipping  ..\\..\\..\\_python_data/Driver Telematics Analysis/drivers/3506\n",
        "2619 : skipping  ..\\..\\..\\_python_data/Driver Telematics Analysis/drivers/3507\n",
        "2620 : skipping  ..\\..\\..\\_python_data/Driver Telematics Analysis/drivers/3508\n",
        "2621 : skipping  ..\\..\\..\\_python_data/Driver Telematics Analysis/drivers/3509\n",
        "2622 : skipping  ..\\..\\..\\_python_data/Driver Telematics Analysis/drivers/351\n",
        "2623 : skipping  ..\\..\\..\\_python_data/Driver Telematics Analysis/drivers/3510\n",
        "2624 : skipping  ..\\..\\..\\_python_data/Driver Telematics Analysis/drivers/3511\n",
        "2625 : skipping  ..\\..\\..\\_python_data/Driver Telematics Analysis/drivers/3512\n",
        "2626 : skipping  ..\\..\\..\\_python_data/Driver Telematics Analysis/drivers/3513\n",
        "2627 : skipping  ..\\..\\..\\_python_data/Driver Telematics Analysis/drivers/3514\n",
        "2628 : skipping  ..\\..\\..\\_python_data/Driver Telematics Analysis/drivers/3515\n",
        "2629 : skipping  ..\\..\\..\\_python_data/Driver Telematics Analysis/drivers/3516\n",
        "2630 : skipping  ..\\..\\..\\_python_data/Driver Telematics Analysis/drivers/3517\n",
        "2631 : skipping  ..\\..\\..\\_python_data/Driver Telematics Analysis/drivers/3518\n",
        "2632 : skipping  ..\\..\\..\\_python_data/Driver Telematics Analysis/drivers/3519\n",
        "2633 : skipping  ..\\..\\..\\_python_data/Driver Telematics Analysis/drivers/352\n",
        "2634 : skipping  ..\\..\\..\\_python_data/Driver Telematics Analysis/drivers/3520\n",
        "2635 : skipping  ..\\..\\..\\_python_data/Driver Telematics Analysis/drivers/3521\n",
        "2636 : skipping  ..\\..\\..\\_python_data/Driver Telematics Analysis/drivers/3522\n",
        "2637 : skipping  ..\\..\\..\\_python_data/Driver Telematics Analysis/drivers/3523\n",
        "2638 : skipping  ..\\..\\..\\_python_data/Driver Telematics Analysis/drivers/3524\n",
        "2639 : skipping  ..\\..\\..\\_python_data/Driver Telematics Analysis/drivers/3525\n",
        "2640 : skipping  ..\\..\\..\\_python_data/Driver Telematics Analysis/drivers/3526\n",
        "2641 : skipping  ..\\..\\..\\_python_data/Driver Telematics Analysis/drivers/3527\n",
        "2642 : skipping  ..\\..\\..\\_python_data/Driver Telematics Analysis/drivers/3528\n",
        "2643 : skipping  ..\\..\\..\\_python_data/Driver Telematics Analysis/drivers/3529\n",
        "2644 : skipping  ..\\..\\..\\_python_data/Driver Telematics Analysis/drivers/353\n",
        "2645 : skipping  ..\\..\\..\\_python_data/Driver Telematics Analysis/drivers/3530\n",
        "2646 : skipping  ..\\..\\..\\_python_data/Driver Telematics Analysis/drivers/3531\n",
        "2647 : skipping  ..\\..\\..\\_python_data/Driver Telematics Analysis/drivers/3532\n",
        "2648 : skipping  ..\\..\\..\\_python_data/Driver Telematics Analysis/drivers/3533\n",
        "2649 : skipping  ..\\..\\..\\_python_data/Driver Telematics Analysis/drivers/3534\n",
        "2650 : skipping  ..\\..\\..\\_python_data/Driver Telematics Analysis/drivers/3535\n",
        "2651 : skipping  ..\\..\\..\\_python_data/Driver Telematics Analysis/drivers/3536\n",
        "2652 : skipping  ..\\..\\..\\_python_data/Driver Telematics Analysis/drivers/3537\n",
        "2653 : skipping  ..\\..\\..\\_python_data/Driver Telematics Analysis/drivers/3538\n",
        "2654 : skipping  ..\\..\\..\\_python_data/Driver Telematics Analysis/drivers/3539\n",
        "2655 : skipping  ..\\..\\..\\_python_data/Driver Telematics Analysis/drivers/354\n",
        "2656 : skipping  ..\\..\\..\\_python_data/Driver Telematics Analysis/drivers/3540\n",
        "2657 : skipping  ..\\..\\..\\_python_data/Driver Telematics Analysis/drivers/3541\n",
        "2658 : skipping  ..\\..\\..\\_python_data/Driver Telematics Analysis/drivers/3542\n",
        "2659 : skipping  ..\\..\\..\\_python_data/Driver Telematics Analysis/drivers/3543\n",
        "2660 : skipping  ..\\..\\..\\_python_data/Driver Telematics Analysis/drivers/3544\n",
        "2661 : skipping  ..\\..\\..\\_python_data/Driver Telematics Analysis/drivers/3545\n",
        "2662 : skipping  ..\\..\\..\\_python_data/Driver Telematics Analysis/drivers/3546\n",
        "2663 : skipping  ..\\..\\..\\_python_data/Driver Telematics Analysis/drivers/3547\n",
        "2664 : skipping  ..\\..\\..\\_python_data/Driver Telematics Analysis/drivers/3548\n",
        "2665 : skipping  ..\\..\\..\\_python_data/Driver Telematics Analysis/drivers/3549\n",
        "2666 : skipping  ..\\..\\..\\_python_data/Driver Telematics Analysis/drivers/355\n",
        "2667 : skipping  ..\\..\\..\\_python_data/Driver Telematics Analysis/drivers/3550\n",
        "2668"
       ]
      },
      {
       "output_type": "stream",
       "stream": "stdout",
       "text": [
        " : skipping  ..\\..\\..\\_python_data/Driver Telematics Analysis/drivers/3551\n",
        "2669 : skipping  ..\\..\\..\\_python_data/Driver Telematics Analysis/drivers/3552\n",
        "2670 : skipping  ..\\..\\..\\_python_data/Driver Telematics Analysis/drivers/3553\n",
        "2671 : skipping  ..\\..\\..\\_python_data/Driver Telematics Analysis/drivers/3554\n",
        "2672 : skipping  ..\\..\\..\\_python_data/Driver Telematics Analysis/drivers/3555\n",
        "2673 : skipping  ..\\..\\..\\_python_data/Driver Telematics Analysis/drivers/3556\n",
        "2674 : skipping  ..\\..\\..\\_python_data/Driver Telematics Analysis/drivers/3557\n",
        "2675 : skipping  ..\\..\\..\\_python_data/Driver Telematics Analysis/drivers/3558\n",
        "2676 : skipping  ..\\..\\..\\_python_data/Driver Telematics Analysis/drivers/3559\n",
        "2677 : skipping  ..\\..\\..\\_python_data/Driver Telematics Analysis/drivers/356\n",
        "2678 : skipping  ..\\..\\..\\_python_data/Driver Telematics Analysis/drivers/3560\n",
        "2679 : skipping  ..\\..\\..\\_python_data/Driver Telematics Analysis/drivers/3561\n",
        "2680 : skipping  ..\\..\\..\\_python_data/Driver Telematics Analysis/drivers/3562\n",
        "2681 : skipping  ..\\..\\..\\_python_data/Driver Telematics Analysis/drivers/3563\n",
        "2682 : skipping  ..\\..\\..\\_python_data/Driver Telematics Analysis/drivers/3564\n",
        "2683 : skipping  ..\\..\\..\\_python_data/Driver Telematics Analysis/drivers/3565\n",
        "2684 : skipping  ..\\..\\..\\_python_data/Driver Telematics Analysis/drivers/3566\n",
        "2685 : skipping  ..\\..\\..\\_python_data/Driver Telematics Analysis/drivers/3567\n",
        "2686 : skipping  ..\\..\\..\\_python_data/Driver Telematics Analysis/drivers/3568\n",
        "2687 : skipping  ..\\..\\..\\_python_data/Driver Telematics Analysis/drivers/3569\n",
        "2688 : skipping  ..\\..\\..\\_python_data/Driver Telematics Analysis/drivers/357\n",
        "2689 : skipping  ..\\..\\..\\_python_data/Driver Telematics Analysis/drivers/3570\n",
        "2690 : skipping  ..\\..\\..\\_python_data/Driver Telematics Analysis/drivers/3571\n",
        "2691 : skipping  ..\\..\\..\\_python_data/Driver Telematics Analysis/drivers/3572\n",
        "2692 : skipping  ..\\..\\..\\_python_data/Driver Telematics Analysis/drivers/3573\n",
        "2693 : skipping  ..\\..\\..\\_python_data/Driver Telematics Analysis/drivers/3574\n",
        "2694 : skipping  ..\\..\\..\\_python_data/Driver Telematics Analysis/drivers/3575\n",
        "2695 : skipping  ..\\..\\..\\_python_data/Driver Telematics Analysis/drivers/3576\n",
        "2696 : skipping  ..\\..\\..\\_python_data/Driver Telematics Analysis/drivers/3577\n",
        "2697 : skipping  ..\\..\\..\\_python_data/Driver Telematics Analysis/drivers/3578\n",
        "2698 : skipping  ..\\..\\..\\_python_data/Driver Telematics Analysis/drivers/3579\n",
        "2699 : skipping  ..\\..\\..\\_python_data/Driver Telematics Analysis/drivers/358\n",
        "2700 : skipping  ..\\..\\..\\_python_data/Driver Telematics Analysis/drivers/3580\n",
        "2701 : skipping  ..\\..\\..\\_python_data/Driver Telematics Analysis/drivers/3581\n",
        "2702 : skipping  ..\\..\\..\\_python_data/Driver Telematics Analysis/drivers/3582\n",
        "2703 : skipping  ..\\..\\..\\_python_data/Driver Telematics Analysis/drivers/3583\n",
        "2704 : skipping  ..\\..\\..\\_python_data/Driver Telematics Analysis/drivers/3584\n",
        "2705 : skipping  ..\\..\\..\\_python_data/Driver Telematics Analysis/drivers/3585\n",
        "2706 : skipping  ..\\..\\..\\_python_data/Driver Telematics Analysis/drivers/3586\n",
        "2707 : skipping  ..\\..\\..\\_python_data/Driver Telematics Analysis/drivers/3587\n",
        "2708 : skipping  ..\\..\\..\\_python_data/Driver Telematics Analysis/drivers/3588\n",
        "2709 : skipping  ..\\..\\..\\_python_data/Driver Telematics Analysis/drivers/3589\n",
        "2710 : skipping  ..\\..\\..\\_python_data/Driver Telematics Analysis/drivers/359\n",
        "2711 : skipping  ..\\..\\..\\_python_data/Driver Telematics Analysis/drivers/3590\n",
        "2712 : skipping  ..\\..\\..\\_python_data/Driver Telematics Analysis/drivers/3591\n",
        "2713 : skipping  ..\\..\\..\\_python_data/Driver Telematics Analysis/drivers/3592\n",
        "2714 : skipping  ..\\..\\..\\_python_data/Driver Telematics Analysis/drivers/3593\n",
        "2715 : skipping  ..\\..\\..\\_python_data/Driver Telematics Analysis/drivers/3594\n",
        "2716 : skipping  ..\\..\\..\\_python_data/Driver Telematics Analysis/drivers/3595\n",
        "2717 : skipping  ..\\..\\..\\_python_data/Driver Telematics Analysis/drivers/3596\n",
        "2718 : skipping  ..\\..\\..\\_python_data/Driver Telematics Analysis/drivers/3597\n",
        "2719 : skipping  ..\\..\\..\\_python_data/Driver Telematics Analysis/drivers/3598\n",
        "2720 : skipping  ..\\..\\..\\_python_data/Driver Telematics Analysis/drivers/3599\n",
        "2721 : skipping  ..\\..\\..\\_python_data/Driver Telematics Analysis/drivers/36\n",
        "2722 : skipping  ..\\..\\..\\_python_data/Driver Telematics Analysis/drivers/360\n",
        "2723 : skipping  ..\\..\\..\\_python_data/Driver Telematics Analysis/drivers/3600\n",
        "2724 : skipping  ..\\..\\..\\_python_data/Driver Telematics Analysis/drivers/3601\n",
        "2725 : skipping  ..\\..\\..\\_python_data/Driver Telematics Analysis/drivers/3602\n",
        "2726 : skipping  ..\\..\\..\\_python_data/Driver Telematics Analysis/drivers/3603\n",
        "2727 : skipping  ..\\..\\..\\_python_data/Driver Telematics Analysis/drivers/3604\n",
        "2728 : skipping  ..\\..\\..\\_python_data/Driver Telematics Analysis/drivers/3605\n",
        "2729 : skipping  ..\\..\\..\\_python_data/Driver Telematics Analysis/drivers/3606\n",
        "2730 : skipping  ..\\..\\..\\_python_data/Driver Telematics Analysis/drivers/3607\n",
        "2731 : skipping  ..\\..\\..\\_python_data/Driver Telematics Analysis/drivers/3608\n",
        "2732 : skipping  ..\\..\\..\\_python_data/Driver Telematics Analysis/drivers/3609\n",
        "2733 : skipping  ..\\..\\..\\_python_data/Driver Telematics Analysis/drivers/361\n",
        "2734 : skipping  ..\\..\\..\\_python_data/Driver Telematics Analysis/drivers/3610\n",
        "2735 : skipping  ..\\..\\..\\_python_data/Driver Telematics Analysis/drivers/3611\n",
        "2736 : skipping  ..\\..\\..\\_python_data/Driver Telematics Analysis/drivers/3612\n",
        "done.\n"
       ]
      }
     ],
     "prompt_number": 11
    },
    {
     "cell_type": "code",
     "collapsed": false,
     "input": [
      "metrics.head()"
     ],
     "language": "python",
     "metadata": {},
     "outputs": []
    },
    {
     "cell_type": "code",
     "collapsed": false,
     "input": [],
     "language": "python",
     "metadata": {},
     "outputs": []
    }
   ],
   "metadata": {}
  }
 ]
}