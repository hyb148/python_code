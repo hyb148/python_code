{
 "metadata": {
  "name": "",
  "signature": "sha256:b8593a3ba7077fa183e825a05f21c55d077c11e50466c7ddcf888334f09c6a06"
 },
 "nbformat": 3,
 "nbformat_minor": 0,
 "worksheets": [
  {
   "cells": [
    {
     "cell_type": "markdown",
     "metadata": {},
     "source": [
      "# http://scikit-learn.org/stable/tutorial/statistical_inference/unsupervised_learning.html"
     ]
    },
    {
     "cell_type": "code",
     "collapsed": false,
     "input": [
      "import pandas as pd\n",
      "from sklearn import cluster\n",
      "import matplotlib.pyplot as plt"
     ],
     "language": "python",
     "metadata": {},
     "outputs": [],
     "prompt_number": 100
    },
    {
     "cell_type": "code",
     "collapsed": false,
     "input": [
      "df = pd.read_pickle('dataframe.pkl')\n",
      "df = df.fillna(0)\n",
      "print df.head()"
     ],
     "language": "python",
     "metadata": {},
     "outputs": [
      {
       "output_type": "stream",
       "stream": "stdout",
       "text": [
        "      x     y    dx    dy       hdg        spd       yaw  dx2  dy2       acc  \\\n",
        "0   0.0   0.0   0.0   0.0  0.000000   0.000000  0.000000  0.0  0.0  0.000000   \n",
        "1  18.6 -11.1  18.6 -11.1 -0.538044  21.660332 -0.538044  0.0  0.0  0.000000   \n",
        "2  36.1 -21.9  17.5 -10.8 -0.545294  20.564289 -0.552929 -1.1  0.3  1.140175   \n",
        "3  53.7 -32.6  17.6 -10.7 -0.545606  20.597330 -0.546248  0.1  0.1  0.141421   \n",
        "4  70.1 -42.8  16.4 -10.2 -0.548145  19.313208 -0.556404 -1.2  0.5  1.300000   \n",
        "\n",
        "       dyaw       dspd     dyaw2  yaw_spd_ratio  acc_spd_ratio  \\\n",
        "0  0.000000   0.000000  0.000000       0.000000       0.000000   \n",
        "1  0.000000  21.660332 -0.538044      -0.024840       0.000000   \n",
        "2  2.875341  -1.096043 -0.014885      -0.026888       0.055444   \n",
        "3  0.785398   0.033040  0.006681      -0.026520       0.006866   \n",
        "4  2.746802  -1.284122 -0.010156      -0.028810       0.067311   \n",
        "\n",
        "   dyaw_spd_ratio  dyaw_acc_ratio  dspd_spd_ratio  \n",
        "0        0.000000        0.000000        0.000000  \n",
        "1        0.000000        0.000000        1.000000  \n",
        "2        0.139822        2.521841       -0.053298  \n",
        "3        0.038131        5.553604        0.001604  \n",
        "4        0.142224        2.112924       -0.066489  \n"
       ]
      }
     ],
     "prompt_number": 101
    },
    {
     "cell_type": "code",
     "collapsed": false,
     "input": [
      "df.drop('x', axis=1, inplace=True)\n",
      "df.drop('y', axis=1, inplace=True)\n",
      "df.drop('dx', axis=1, inplace=True)\n",
      "df.drop('dy', axis=1, inplace=True)\n",
      "df.drop('hdg', axis=1, inplace=True)\n",
      "df.drop('yaw', axis=1, inplace=True)\n",
      "df.drop('dx2', axis=1, inplace=True)\n",
      "df.drop('dy2', axis=1, inplace=True)"
     ],
     "language": "python",
     "metadata": {},
     "outputs": [],
     "prompt_number": 102
    },
    {
     "cell_type": "code",
     "collapsed": false,
     "input": [
      "df.drop('acc', axis=1, inplace=True)\n",
      "df.drop('spd', axis=1, inplace=True)"
     ],
     "language": "python",
     "metadata": {},
     "outputs": [],
     "prompt_number": 108
    },
    {
     "cell_type": "code",
     "collapsed": false,
     "input": [
      "print df.head()"
     ],
     "language": "python",
     "metadata": {},
     "outputs": [
      {
       "output_type": "stream",
       "stream": "stdout",
       "text": [
        "       dyaw       dspd     dyaw2  yaw_spd_ratio  acc_spd_ratio  \\\n",
        "0  0.000000   0.000000  0.000000       0.000000       0.000000   \n",
        "1  0.000000  21.660332 -0.538044      -0.024840       0.000000   \n",
        "2  2.875341  -1.096043 -0.014885      -0.026888       0.055444   \n",
        "3  0.785398   0.033040  0.006681      -0.026520       0.006866   \n",
        "4  2.746802  -1.284122 -0.010156      -0.028810       0.067311   \n",
        "\n",
        "   dyaw_spd_ratio  dyaw_acc_ratio  dspd_spd_ratio  \n",
        "0        0.000000        0.000000        0.000000  \n",
        "1        0.000000        0.000000        1.000000  \n",
        "2        0.139822        2.521841       -0.053298  \n",
        "3        0.038131        5.553604        0.001604  \n",
        "4        0.142224        2.112924       -0.066489  \n"
       ]
      }
     ],
     "prompt_number": 109
    },
    {
     "cell_type": "code",
     "collapsed": false,
     "input": [
      "# get numpy array\n",
      "X = df.ix[:,:].values #df.as_matrix().astype(np.float) #\n",
      "print X.dtype\n",
      "print \"NaN present: \", np.sum(np.isnan(X))\n",
      "print \"Inf present: \", np.sum(np.isinf(X))\n",
      "print \"-Inf present: \", np.sum(np.isneginf(X))\n",
      "print \"not isfinite: \", size(X) - np.sum(np.isfinite(X))\n",
      "\n",
      "X[X == np.inf] = 0 #np.inf\n",
      "X[np.isneginf(X)] = 0 #-np.inf\n",
      "X = np.nan_to_num(X)\n",
      "\n",
      "print \"NaN fixed: \", np.sum(np.isnan(X))\n",
      "print \"Inf fixed: \", np.sum(np.isinf(X))\n",
      "print \"-Inf fixed: \", np.sum(np.isneginf(X))\n",
      "print \"not isfinite: \", size(X) - np.sum(np.isfinite(X))"
     ],
     "language": "python",
     "metadata": {},
     "outputs": [
      {
       "output_type": "stream",
       "stream": "stdout",
       "text": [
        "float64\n",
        "NaN present:  0\n",
        "Inf present:  31\n",
        "-Inf present:  12\n",
        "not isfinite:  31\n",
        "NaN fixed:  0\n",
        "Inf fixed:  0\n",
        "-Inf fixed:  0\n",
        "not isfinite:  0\n"
       ]
      }
     ],
     "prompt_number": 110
    },
    {
     "cell_type": "code",
     "collapsed": false,
     "input": [
      "from sklearn import preprocessing\n",
      "scaler = preprocessing.StandardScaler()\n",
      "X = scaler.fit_transform(X)"
     ],
     "language": "python",
     "metadata": {},
     "outputs": [],
     "prompt_number": 116
    },
    {
     "cell_type": "code",
     "collapsed": false,
     "input": [
      "k_means = cluster.KMeans(init='random', precompute_distances=True, tol=1e-5, n_clusters=2, n_init=50)#max_iter=100, \n",
      "k_means.fit(X)\n",
      "print shape(k_means.labels_), sum(k_means.labels_)\n",
      "plt.plot(k_means.labels_)\n"
     ],
     "language": "python",
     "metadata": {},
     "outputs": [
      {
       "output_type": "stream",
       "stream": "stdout",
       "text": [
        "(863,) 845\n"
       ]
      },
      {
       "metadata": {},
       "output_type": "pyout",
       "prompt_number": 121,
       "text": [
        "[<matplotlib.lines.Line2D at 0x156960f0>]"
       ]
      },
      {
       "metadata": {},
       "output_type": "display_data",
       "png": "[encoded data removed]",
       "text": [
        "<matplotlib.figure.Figure at 0x152dead0>"
       ]
      }
     ],
     "prompt_number": 121
    },
    {
     "cell_type": "code",
     "collapsed": false,
     "input": [
      "from sklearn.decomposition import PCA\n",
      "pca = PCA(n_components=2).fit(X)\n",
      "k_means = cluster.KMeans(init=pca.components_, n_clusters=2, n_init=1)\n",
      "k_means.fit(X)\n",
      "\n",
      "print shape(k_means.labels_), sum(k_means.labels_)\n",
      "\n",
      "plt.plot(k_means.labels_)"
     ],
     "language": "python",
     "metadata": {},
     "outputs": [
      {
       "output_type": "stream",
       "stream": "stdout",
       "text": [
        "(863,) 294\n"
       ]
      },
      {
       "metadata": {},
       "output_type": "pyout",
       "prompt_number": 118,
       "text": [
        "[<matplotlib.lines.Line2D at 0x1543be50>]"
       ]
      },
      {
       "metadata": {},
       "output_type": "display_data",
       "png": "[encoded data removed]",
       "text": [
        "<matplotlib.figure.Figure at 0x151d1550>"
       ]
      }
     ],
     "prompt_number": 118
    },
    {
     "cell_type": "code",
     "collapsed": false,
     "input": [
      "reduced_data = PCA(n_components=2).fit_transform(X)\n",
      "kmeans = cluster.KMeans(init='k-means++', n_clusters=2, n_init=20)\n",
      "kmeans.fit(reduced_data)\n",
      "print shape(k_means.labels_), sum(k_means.labels_)\n",
      "\n",
      "plt.plot(k_means.labels_)\n"
     ],
     "language": "python",
     "metadata": {},
     "outputs": [
      {
       "output_type": "stream",
       "stream": "stdout",
       "text": [
        "(863,) 294\n"
       ]
      },
      {
       "metadata": {},
       "output_type": "pyout",
       "prompt_number": 119,
       "text": [
        "[<matplotlib.lines.Line2D at 0x15884450>]"
       ]
      },
      {
       "metadata": {},
       "output_type": "display_data",
       "png": "[encoded data removed]",
       "text": [
        "<matplotlib.figure.Figure at 0x15024350>"
       ]
      }
     ],
     "prompt_number": 119
    },
    {
     "cell_type": "markdown",
     "metadata": {},
     "source": [
      "# http://scikit-learn.org/stable/auto_examples/cluster/plot_kmeans_digits.html#example-cluster-plot-kmeans-digits-py\n",
      "\n",
      "from time import time\n",
      "from sklearn import metrics\n",
      "def bench_k_means(estimator, name, data):\n",
      "    t0 = time()\n",
      "    estimator.fit(data)\n",
      "    print('% 9s   %.2fs    %i   %.3f   %.3f   %.3f   %.3f   %.3f    %.3f'\n",
      "          % (name, (time() - t0), estimator.inertia_,\n",
      "             metrics.homogeneity_score(labels, estimator.labels_),\n",
      "             metrics.completeness_score(labels, estimator.labels_),\n",
      "             metrics.v_measure_score(labels, estimator.labels_),\n",
      "             metrics.adjusted_rand_score(labels, estimator.labels_),\n",
      "             metrics.adjusted_mutual_info_score(labels,  estimator.labels_),\n",
      "             metrics.silhouette_score(data, estimator.labels_,\n",
      "                                      metric='euclidean',\n",
      "                                      sample_size=sample_size)))\n",
      "\n",
      "bench_k_means(cluster.KMeans(init='k-means++', n_clusters=2, n_init=10),\n",
      "              name=\"k-means++\", data=X)\n",
      "\n",
      "bench_k_means(cluster.KMeans(init='random', n_clusters=2, n_init=10),\n",
      "              name=\"random\", data=X)\n",
      "\n",
      "# in this case the seeding of the centers is deterministic, hence we run the\n",
      "# kmeans algorithm only once with n_init=1\n",
      "pca = PCA(n_components=2).fit(X)\n",
      "bench_k_means(cluster.KMeans(init=pca.components_, n_clusters=2, n_init=1),\n",
      "              name=\"PCA-based\",\n",
      "              data=X)\n"
     ]
    },
    {
     "cell_type": "code",
     "collapsed": false,
     "input": [
      "from sklearn import decomposition\n",
      "pca = decomposition.PCA()\n",
      "pca.fit(X)\n"
     ],
     "language": "python",
     "metadata": {},
     "outputs": [
      {
       "metadata": {},
       "output_type": "pyout",
       "prompt_number": 114,
       "text": [
        "PCA(copy=True, n_components=None, whiten=False)"
       ]
      }
     ],
     "prompt_number": 114
    },
    {
     "cell_type": "code",
     "collapsed": false,
     "input": [
      "pca.labels_"
     ],
     "language": "python",
     "metadata": {},
     "outputs": [
      {
       "ename": "AttributeError",
       "evalue": "'PCA' object has no attribute 'labels_'",
       "output_type": "pyerr",
       "traceback": [
        "\u001b[1;31m---------------------------------------------------------------------------\u001b[0m\n\u001b[1;31mAttributeError\u001b[0m                            Traceback (most recent call last)",
        "\u001b[1;32m<ipython-input-115-9e5f425ae8f0>\u001b[0m in \u001b[0;36m<module>\u001b[1;34m()\u001b[0m\n\u001b[1;32m----> 1\u001b[1;33m \u001b[0mpca\u001b[0m\u001b[1;33m.\u001b[0m\u001b[0mlabels_\u001b[0m\u001b[1;33m\u001b[0m\u001b[0m\n\u001b[0m",
        "\u001b[1;31mAttributeError\u001b[0m: 'PCA' object has no attribute 'labels_'"
       ]
      }
     ],
     "prompt_number": 115
    },
    {
     "cell_type": "code",
     "collapsed": false,
     "input": [],
     "language": "python",
     "metadata": {},
     "outputs": [],
     "prompt_number": 114
    }
   ],
   "metadata": {}
  }
 ]
}