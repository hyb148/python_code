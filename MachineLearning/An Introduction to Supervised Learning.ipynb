{
 "metadata": {
  "name": "",
  "signature": "sha256:661d32e514c080630feaf67fe771aeeb1f63bdadf2c5aaf6b39fb1ce445f1477"
 },
 "nbformat": 3,
 "nbformat_minor": 0,
 "worksheets": [
  {
   "cells": [
    {
     "cell_type": "markdown",
     "metadata": {},
     "source": [
      "# http://bugra.github.io/work/notes/2014-11-22/an-introduction-to-supervised-learning-scikit-learn/\n",
      "# dataset: https://github.com/ericchiang/churn\n",
      "\n",
      "Supervised Learning is the most commonly referred/mentioned/researched/published subfield in the machine learning. Unsurprisingly, all of the predictive algorithms fall in to this category. Its premise is quite simple, when you provide a labeled dataset to the algorithm(training set), it will predict unseen dataset's (test set) output variables, whether be it a discrete label(classification) or a continuous value(regression). The learning function(regressor or classifier) will first fit to the training set and then try to predict the dataset that it has never seen, which Scikit-Learn follows these two steps literally. More on this later. First, what is the problem that we are trying to solve?\n",
      "\n",
      "Classification\n",
      "Dataset\n",
      "Dataset is from a telecom service provider where they have the service usage(international plan, voicemail plan, usage in daytime, usage in evenings and nights and so on) and basic demographic information(state and area code) of the user. For labels, I have a single data point whether the customer is churned out or not. Dataset is from a competititon that CrowdAnalytics did I believe and the original contest text is given in below.\n",
      "\n",
      "Original Dataset Explanation\n",
      "Churn (loss of customers to competition) is a problem for telecom companies because it is more expensive to acquire a new customer than to keep your existing one from leaving. This contest is about enabling churn reduction using analytics.\n",
      "\n",
      "The Business Pain:\n",
      "\n",
      "Most telecom companies suffer from voluntary churn. Churn rate has strong impact on the life time value of the customer because it affects the length of service and the future revenue of the company. For example if a company has 25% churn rate then the average customer lifetime is 4 years; similarly a company with a churn rate of 50%, has an average customer lifetime of 2 years. It is estimated that 75 percent of the 17 to 20 million subscribers signing up with a new wireless carrier every year are coming from another wireless provider, which means they are churners. Telecom companies spend hundreds of dollars to acquire a new customer and when that customer leaves, the company not only loses the future revenue from that customer but also the resources spend to acquire that customer. Churn erodes profitability.\n",
      "\n",
      "Steps that have been adopted by telecom companies so far:\n",
      "\n",
      "Telecom companies have used two approaches to address churn - (a) Untargeted approach and (b) Targeted approach. The untargeted approach relies on superior product and mass advertising to increase brand loyalty and thus retain customers. The targeted approach relies on identifying customers who are likely to churn, and provide suitable intervention to encourage them to stay.\n",
      "\n",
      "Role of predictive modeling:\n",
      "\n",
      "In the targeted approach the company tries to identify in advance customers who are likely to churn. The company then targets those customers with special programs or incentives. This approach can bring in huge loss for a company, if churn predictions are inaccurate, because then firms are wasting incentive money on customers who would have stayed anyway. There are numerous predictive modeling techniques for predicting customer churn. These vary in terms of statistical technique (e.g., neural nets versus logistic regression versus survival analysis), and variable selection method (e.g., theory versus stepwise selection).\n",
      "\n",
      "Objective of this Contest:\n",
      "\n",
      "The objective of this contest is to predict customer churn. We are providing you a public dataset that has customer usage pattern and if the customer has churned or not. We expect you to develop an algorithm to predict the churn score based on usage pattern. The predictors provided are as follows:\n",
      "\n",
      "account length international plan voice mail plan number of voice mail messages total day minutes used day calls made total day charge total evening minutes total evening calls total evening charge total night minutes total night calls total night charge total international minutes used total international calls made total international charge number customer service calls made\n",
      "\n",
      "Problem Formulation\n",
      "Customer Churn: losing/attrition of the customers from the company. Especially, the industries that the user acquisition is costly, it is crucially important for one company to reduce and ideally make the customer churn to 0 to sustain their recurring revenue. If you consider customer retention is always cheaper than customer acquisition and generally depends on the data of the user(usage of the service or product), it poses a great/exciting/hard problem for machine learning.\n",
      "\n",
      "Explanation of Walkthrough\n",
      "In this section, I will first walk through a classification example where I try to predict if a customer churns or not based on a variety of attributes that she has. Customer churn prevention allows companies to react preemptively to the customer and then try to provide a better experience to her. This has two advantages to the company; product gets better with the feedback that company received from the customer and as customer continues to use the product, company would not lose the customer. Customer Relation Management(CRM) tools that has the user experience and history of the user may provide a profile for the user.\n",
      "\n",
      "In order to do so, I will first do preprocessing on the attirbutes as most of the attributes vary a lot both intra-class and inter-class changes. Then, I will try to compare different classifiers. Since the dataset has an unbalancad classes(not churned users are 6 times of churned users), it provides also a nice case for different metrics usage as well and why classification accuracy may not be a good metric to optimize in this case.\n",
      "\n",
      "Binary Classification\n",
      "This labeling schema is arguably the most common classification schema which is called binary classification as I have only two classes to predict(churn or not). Even some of the multi-class classification problems could be expressed as a binary classification schema(one vs other classes). Therefore, it is a powerful/basic classification schema that you would use approximately 83%(put some random number > 50) of your machine learning problems."
     ]
    },
    {
     "cell_type": "code",
     "collapsed": false,
     "input": [
      "%matplotlib inline \n",
      "\n",
      "from IPython.display import Image\n",
      "import matplotlib as mlp\n",
      "import matplotlib.pyplot as plt\n",
      "import numpy as np\n",
      "import os\n",
      "import pandas as pd\n",
      "import sklearn\n",
      "\n",
      "from sklearn import cross_validation\n",
      "from sklearn import tree\n",
      "from sklearn import svm\n",
      "from sklearn import ensemble\n",
      "from sklearn import neighbors\n",
      "from sklearn import linear_model\n",
      "from sklearn import metrics\n",
      "from sklearn import preprocessing\n",
      "\n",
      "plt.style.use('fivethirtyeight') # Good looking plots\n",
      "pd.set_option('display.max_columns', None) # Display any number of columns\n",
      "\n",
      "_DATA_DIR = '../../_python_data/churn-master/data'\n",
      "_CHURN_DATA_PATH = os.path.join(_DATA_DIR, 'churn.csv')\n",
      "\n",
      "import seaborn as sns\n",
      "\n",
      "import scipy as sp\n",
      "\n",
      "def llfun(act, pred):\n",
      "    epsilon = 1e-15\n",
      "    pred = sp.maximum(epsilon, pred)\n",
      "    pred = sp.minimum(1-epsilon, pred)\n",
      "    ll = sum(act*sp.log(pred) + sp.subtract(1,act)*sp.log(sp.subtract(1,pred)))\n",
      "    ll = ll * -1.0/len(act)\n",
      "    return ll\n"
     ],
     "language": "python",
     "metadata": {},
     "outputs": [],
     "prompt_number": 3
    },
    {
     "cell_type": "code",
     "collapsed": false,
     "input": [
      "df = pd.read_csv(_CHURN_DATA_PATH)\n",
      "df.head()"
     ],
     "language": "python",
     "metadata": {},
     "outputs": [
      {
       "html": [
        "<div style=\"max-height:1000px;max-width:1500px;overflow:auto;\">\n",
        "<table border=\"1\" class=\"dataframe\">\n",
        "  <thead>\n",
        "    <tr style=\"text-align: right;\">\n",
        "      <th></th>\n",
        "      <th>State</th>\n",
        "      <th>Account Length</th>\n",
        "      <th>Area Code</th>\n",
        "      <th>Phone</th>\n",
        "      <th>Int'l Plan</th>\n",
        "      <th>VMail Plan</th>\n",
        "      <th>VMail Message</th>\n",
        "      <th>Day Mins</th>\n",
        "      <th>Day Calls</th>\n",
        "      <th>Day Charge</th>\n",
        "      <th>Eve Mins</th>\n",
        "      <th>Eve Calls</th>\n",
        "      <th>Eve Charge</th>\n",
        "      <th>Night Mins</th>\n",
        "      <th>Night Calls</th>\n",
        "      <th>Night Charge</th>\n",
        "      <th>Intl Mins</th>\n",
        "      <th>Intl Calls</th>\n",
        "      <th>Intl Charge</th>\n",
        "      <th>CustServ Calls</th>\n",
        "      <th>Churn?</th>\n",
        "    </tr>\n",
        "  </thead>\n",
        "  <tbody>\n",
        "    <tr>\n",
        "      <th>0</th>\n",
        "      <td> KS</td>\n",
        "      <td> 128</td>\n",
        "      <td> 415</td>\n",
        "      <td> 382-4657</td>\n",
        "      <td>  no</td>\n",
        "      <td> yes</td>\n",
        "      <td> 25</td>\n",
        "      <td> 265.1</td>\n",
        "      <td> 110</td>\n",
        "      <td> 45.07</td>\n",
        "      <td> 197.4</td>\n",
        "      <td>  99</td>\n",
        "      <td> 16.78</td>\n",
        "      <td> 244.7</td>\n",
        "      <td>  91</td>\n",
        "      <td> 11.01</td>\n",
        "      <td> 10.0</td>\n",
        "      <td> 3</td>\n",
        "      <td> 2.70</td>\n",
        "      <td> 1</td>\n",
        "      <td> False.</td>\n",
        "    </tr>\n",
        "    <tr>\n",
        "      <th>1</th>\n",
        "      <td> OH</td>\n",
        "      <td> 107</td>\n",
        "      <td> 415</td>\n",
        "      <td> 371-7191</td>\n",
        "      <td>  no</td>\n",
        "      <td> yes</td>\n",
        "      <td> 26</td>\n",
        "      <td> 161.6</td>\n",
        "      <td> 123</td>\n",
        "      <td> 27.47</td>\n",
        "      <td> 195.5</td>\n",
        "      <td> 103</td>\n",
        "      <td> 16.62</td>\n",
        "      <td> 254.4</td>\n",
        "      <td> 103</td>\n",
        "      <td> 11.45</td>\n",
        "      <td> 13.7</td>\n",
        "      <td> 3</td>\n",
        "      <td> 3.70</td>\n",
        "      <td> 1</td>\n",
        "      <td> False.</td>\n",
        "    </tr>\n",
        "    <tr>\n",
        "      <th>2</th>\n",
        "      <td> NJ</td>\n",
        "      <td> 137</td>\n",
        "      <td> 415</td>\n",
        "      <td> 358-1921</td>\n",
        "      <td>  no</td>\n",
        "      <td>  no</td>\n",
        "      <td>  0</td>\n",
        "      <td> 243.4</td>\n",
        "      <td> 114</td>\n",
        "      <td> 41.38</td>\n",
        "      <td> 121.2</td>\n",
        "      <td> 110</td>\n",
        "      <td> 10.30</td>\n",
        "      <td> 162.6</td>\n",
        "      <td> 104</td>\n",
        "      <td>  7.32</td>\n",
        "      <td> 12.2</td>\n",
        "      <td> 5</td>\n",
        "      <td> 3.29</td>\n",
        "      <td> 0</td>\n",
        "      <td> False.</td>\n",
        "    </tr>\n",
        "    <tr>\n",
        "      <th>3</th>\n",
        "      <td> OH</td>\n",
        "      <td>  84</td>\n",
        "      <td> 408</td>\n",
        "      <td> 375-9999</td>\n",
        "      <td> yes</td>\n",
        "      <td>  no</td>\n",
        "      <td>  0</td>\n",
        "      <td> 299.4</td>\n",
        "      <td>  71</td>\n",
        "      <td> 50.90</td>\n",
        "      <td>  61.9</td>\n",
        "      <td>  88</td>\n",
        "      <td>  5.26</td>\n",
        "      <td> 196.9</td>\n",
        "      <td>  89</td>\n",
        "      <td>  8.86</td>\n",
        "      <td>  6.6</td>\n",
        "      <td> 7</td>\n",
        "      <td> 1.78</td>\n",
        "      <td> 2</td>\n",
        "      <td> False.</td>\n",
        "    </tr>\n",
        "    <tr>\n",
        "      <th>4</th>\n",
        "      <td> OK</td>\n",
        "      <td>  75</td>\n",
        "      <td> 415</td>\n",
        "      <td> 330-6626</td>\n",
        "      <td> yes</td>\n",
        "      <td>  no</td>\n",
        "      <td>  0</td>\n",
        "      <td> 166.7</td>\n",
        "      <td> 113</td>\n",
        "      <td> 28.34</td>\n",
        "      <td> 148.3</td>\n",
        "      <td> 122</td>\n",
        "      <td> 12.61</td>\n",
        "      <td> 186.9</td>\n",
        "      <td> 121</td>\n",
        "      <td>  8.41</td>\n",
        "      <td> 10.1</td>\n",
        "      <td> 3</td>\n",
        "      <td> 2.73</td>\n",
        "      <td> 3</td>\n",
        "      <td> False.</td>\n",
        "    </tr>\n",
        "  </tbody>\n",
        "</table>\n",
        "</div>"
       ],
       "metadata": {},
       "output_type": "pyout",
       "prompt_number": 4,
       "text": [
        "  State  Account Length  Area Code     Phone Int'l Plan VMail Plan  \\\n",
        "0    KS             128        415  382-4657         no        yes   \n",
        "1    OH             107        415  371-7191         no        yes   \n",
        "2    NJ             137        415  358-1921         no         no   \n",
        "3    OH              84        408  375-9999        yes         no   \n",
        "4    OK              75        415  330-6626        yes         no   \n",
        "\n",
        "   VMail Message  Day Mins  Day Calls  Day Charge  Eve Mins  Eve Calls  \\\n",
        "0             25     265.1        110       45.07     197.4         99   \n",
        "1             26     161.6        123       27.47     195.5        103   \n",
        "2              0     243.4        114       41.38     121.2        110   \n",
        "3              0     299.4         71       50.90      61.9         88   \n",
        "4              0     166.7        113       28.34     148.3        122   \n",
        "\n",
        "   Eve Charge  Night Mins  Night Calls  Night Charge  Intl Mins  Intl Calls  \\\n",
        "0       16.78       244.7           91         11.01       10.0           3   \n",
        "1       16.62       254.4          103         11.45       13.7           3   \n",
        "2       10.30       162.6          104          7.32       12.2           5   \n",
        "3        5.26       196.9           89          8.86        6.6           7   \n",
        "4       12.61       186.9          121          8.41       10.1           3   \n",
        "\n",
        "   Intl Charge  CustServ Calls  Churn?  \n",
        "0         2.70               1  False.  \n",
        "1         3.70               1  False.  \n",
        "2         3.29               0  False.  \n",
        "3         1.78               2  False.  \n",
        "4         2.73               3  False.  "
       ]
      }
     ],
     "prompt_number": 4
    },
    {
     "cell_type": "code",
     "collapsed": false,
     "input": [
      "# Discreet value integer encoder\n",
      "label_encoder = preprocessing.LabelEncoder()\n",
      "\n",
      "# Get the Labels as integers\n",
      "df['Churn'] = df['Churn?'] == 'True.'\n",
      "y = df['Churn'].as_matrix().astype(np.int)\n",
      "\n",
      "# State is string and we want discre integer values\n",
      "df['State'] = label_encoder.fit_transform(df['State'])\n",
      "\n",
      "# Drop the redundant columns from dataframe\n",
      "df.drop(['Area Code','Phone','Churn?', 'Churn'], axis=1, inplace=True)\n",
      "\n",
      "# Get the features as integers similar to what we did for labels(targets)\n",
      "df[[\"Int'l Plan\",\"VMail Plan\"]] = df[[\"Int'l Plan\",\"VMail Plan\"]] == 'yes'"
     ],
     "language": "python",
     "metadata": {},
     "outputs": [],
     "prompt_number": 5
    },
    {
     "cell_type": "code",
     "collapsed": false,
     "input": [
      "print('There are {} instances for churn class and {} instances for not-churn classes.'.format(y.sum(), y.shape[0] - y.sum()))"
     ],
     "language": "python",
     "metadata": {},
     "outputs": [
      {
       "output_type": "stream",
       "stream": "stdout",
       "text": [
        "There are 483 instances for churn class and 2850 instances for not-churn classes.\n"
       ]
      }
     ],
     "prompt_number": 6
    },
    {
     "cell_type": "code",
     "collapsed": false,
     "input": [
      "print('Ratio of churn class over all instances: {:.2f}'.format(float(y.sum()) / y.shape[0]))"
     ],
     "language": "python",
     "metadata": {},
     "outputs": [
      {
       "output_type": "stream",
       "stream": "stdout",
       "text": [
        "Ratio of churn class over all instances: 0.14\n"
       ]
      }
     ],
     "prompt_number": 7
    },
    {
     "cell_type": "markdown",
     "metadata": {},
     "source": [
      "Kind of unbalanced data, do not you think? I will try to handle this unbalance in the cross validation."
     ]
    },
    {
     "cell_type": "code",
     "collapsed": false,
     "input": [
      "df.head()"
     ],
     "language": "python",
     "metadata": {},
     "outputs": [
      {
       "html": [
        "<div style=\"max-height:1000px;max-width:1500px;overflow:auto;\">\n",
        "<table border=\"1\" class=\"dataframe\">\n",
        "  <thead>\n",
        "    <tr style=\"text-align: right;\">\n",
        "      <th></th>\n",
        "      <th>State</th>\n",
        "      <th>Account Length</th>\n",
        "      <th>Int'l Plan</th>\n",
        "      <th>VMail Plan</th>\n",
        "      <th>VMail Message</th>\n",
        "      <th>Day Mins</th>\n",
        "      <th>Day Calls</th>\n",
        "      <th>Day Charge</th>\n",
        "      <th>Eve Mins</th>\n",
        "      <th>Eve Calls</th>\n",
        "      <th>Eve Charge</th>\n",
        "      <th>Night Mins</th>\n",
        "      <th>Night Calls</th>\n",
        "      <th>Night Charge</th>\n",
        "      <th>Intl Mins</th>\n",
        "      <th>Intl Calls</th>\n",
        "      <th>Intl Charge</th>\n",
        "      <th>CustServ Calls</th>\n",
        "    </tr>\n",
        "  </thead>\n",
        "  <tbody>\n",
        "    <tr>\n",
        "      <th>0</th>\n",
        "      <td> 16</td>\n",
        "      <td> 128</td>\n",
        "      <td> False</td>\n",
        "      <td>  True</td>\n",
        "      <td> 25</td>\n",
        "      <td> 265.1</td>\n",
        "      <td> 110</td>\n",
        "      <td> 45.07</td>\n",
        "      <td> 197.4</td>\n",
        "      <td>  99</td>\n",
        "      <td> 16.78</td>\n",
        "      <td> 244.7</td>\n",
        "      <td>  91</td>\n",
        "      <td> 11.01</td>\n",
        "      <td> 10.0</td>\n",
        "      <td> 3</td>\n",
        "      <td> 2.70</td>\n",
        "      <td> 1</td>\n",
        "    </tr>\n",
        "    <tr>\n",
        "      <th>1</th>\n",
        "      <td> 35</td>\n",
        "      <td> 107</td>\n",
        "      <td> False</td>\n",
        "      <td>  True</td>\n",
        "      <td> 26</td>\n",
        "      <td> 161.6</td>\n",
        "      <td> 123</td>\n",
        "      <td> 27.47</td>\n",
        "      <td> 195.5</td>\n",
        "      <td> 103</td>\n",
        "      <td> 16.62</td>\n",
        "      <td> 254.4</td>\n",
        "      <td> 103</td>\n",
        "      <td> 11.45</td>\n",
        "      <td> 13.7</td>\n",
        "      <td> 3</td>\n",
        "      <td> 3.70</td>\n",
        "      <td> 1</td>\n",
        "    </tr>\n",
        "    <tr>\n",
        "      <th>2</th>\n",
        "      <td> 31</td>\n",
        "      <td> 137</td>\n",
        "      <td> False</td>\n",
        "      <td> False</td>\n",
        "      <td>  0</td>\n",
        "      <td> 243.4</td>\n",
        "      <td> 114</td>\n",
        "      <td> 41.38</td>\n",
        "      <td> 121.2</td>\n",
        "      <td> 110</td>\n",
        "      <td> 10.30</td>\n",
        "      <td> 162.6</td>\n",
        "      <td> 104</td>\n",
        "      <td>  7.32</td>\n",
        "      <td> 12.2</td>\n",
        "      <td> 5</td>\n",
        "      <td> 3.29</td>\n",
        "      <td> 0</td>\n",
        "    </tr>\n",
        "    <tr>\n",
        "      <th>3</th>\n",
        "      <td> 35</td>\n",
        "      <td>  84</td>\n",
        "      <td>  True</td>\n",
        "      <td> False</td>\n",
        "      <td>  0</td>\n",
        "      <td> 299.4</td>\n",
        "      <td>  71</td>\n",
        "      <td> 50.90</td>\n",
        "      <td>  61.9</td>\n",
        "      <td>  88</td>\n",
        "      <td>  5.26</td>\n",
        "      <td> 196.9</td>\n",
        "      <td>  89</td>\n",
        "      <td>  8.86</td>\n",
        "      <td>  6.6</td>\n",
        "      <td> 7</td>\n",
        "      <td> 1.78</td>\n",
        "      <td> 2</td>\n",
        "    </tr>\n",
        "    <tr>\n",
        "      <th>4</th>\n",
        "      <td> 36</td>\n",
        "      <td>  75</td>\n",
        "      <td>  True</td>\n",
        "      <td> False</td>\n",
        "      <td>  0</td>\n",
        "      <td> 166.7</td>\n",
        "      <td> 113</td>\n",
        "      <td> 28.34</td>\n",
        "      <td> 148.3</td>\n",
        "      <td> 122</td>\n",
        "      <td> 12.61</td>\n",
        "      <td> 186.9</td>\n",
        "      <td> 121</td>\n",
        "      <td>  8.41</td>\n",
        "      <td> 10.1</td>\n",
        "      <td> 3</td>\n",
        "      <td> 2.73</td>\n",
        "      <td> 3</td>\n",
        "    </tr>\n",
        "  </tbody>\n",
        "</table>\n",
        "</div>"
       ],
       "metadata": {},
       "output_type": "pyout",
       "prompt_number": 8,
       "text": [
        "   State  Account Length Int'l Plan VMail Plan  VMail Message  Day Mins  \\\n",
        "0     16             128      False       True             25     265.1   \n",
        "1     35             107      False       True             26     161.6   \n",
        "2     31             137      False      False              0     243.4   \n",
        "3     35              84       True      False              0     299.4   \n",
        "4     36              75       True      False              0     166.7   \n",
        "\n",
        "   Day Calls  Day Charge  Eve Mins  Eve Calls  Eve Charge  Night Mins  \\\n",
        "0        110       45.07     197.4         99       16.78       244.7   \n",
        "1        123       27.47     195.5        103       16.62       254.4   \n",
        "2        114       41.38     121.2        110       10.30       162.6   \n",
        "3         71       50.90      61.9         88        5.26       196.9   \n",
        "4        113       28.34     148.3        122       12.61       186.9   \n",
        "\n",
        "   Night Calls  Night Charge  Intl Mins  Intl Calls  Intl Charge  \\\n",
        "0           91         11.01       10.0           3         2.70   \n",
        "1          103         11.45       13.7           3         3.70   \n",
        "2          104          7.32       12.2           5         3.29   \n",
        "3           89          8.86        6.6           7         1.78   \n",
        "4          121          8.41       10.1           3         2.73   \n",
        "\n",
        "   CustServ Calls  \n",
        "0               1  \n",
        "1               1  \n",
        "2               0  \n",
        "3               2  \n",
        "4               3  "
       ]
      }
     ],
     "prompt_number": 8
    },
    {
     "cell_type": "markdown",
     "metadata": {},
     "source": [
      "After preprocessing, dataframe is ready to be represented as matrix that is amenable to Scikit Learn. I already separated the labels, so I would just convert the dataframe into a numpy matrix. Why I did not handle True and False some may ask. It turns out that booleans False and True are actually subclasses of integers in Python. If you try to do False + True in a Python REPL, you would get 1. That is because True is represented as 1 and False is represented as 0. Numpy uses this boolean information to convert the booleans into matrix. I just need to coerce astype(np.float) when I convert the pandas dataframe to numpy matrix, which I will do exactly as next step."
     ]
    },
    {
     "cell_type": "code",
     "collapsed": false,
     "input": [
      "X = df.as_matrix().astype(np.float)"
     ],
     "language": "python",
     "metadata": {},
     "outputs": [],
     "prompt_number": 9
    },
    {
     "cell_type": "code",
     "collapsed": false,
     "input": [
      "X.shape"
     ],
     "language": "python",
     "metadata": {},
     "outputs": [
      {
       "metadata": {},
       "output_type": "pyout",
       "prompt_number": 10,
       "text": [
        "(3333, 18)"
       ]
      }
     ],
     "prompt_number": 10
    },
    {
     "cell_type": "markdown",
     "metadata": {},
     "source": [
      "I have 3333 instances and has 18 dimension feature vectors for each instances.\n",
      "\n",
      "Since the features have quite different value ranges and some of them are discrete and some of them take continuous values, I need to scale them first. Removing mean and dividing the standard deviation of features respectively. Generally, this is one of the most commonly used preprocessing step."
     ]
    },
    {
     "cell_type": "code",
     "collapsed": false,
     "input": [
      "scaler = preprocessing.StandardScaler()\n",
      "X = scaler.fit_transform(X)"
     ],
     "language": "python",
     "metadata": {},
     "outputs": [],
     "prompt_number": 11
    },
    {
     "cell_type": "markdown",
     "metadata": {},
     "source": [
      "After preprocessed X, I could be sure that all of the features are in in more or less in the same range. However, one may think twice if the features are not nearly uniformed distribution(for example if a variable is categorical), you may do a different preprocessing as preprocessing makes the categorical variables like continuous variables.\n",
      "\n",
      "Cross Validation"
     ]
    },
    {
     "cell_type": "code",
     "collapsed": false,
     "input": [
      "def stratified_cv(X, y, clf_class, shuffle=True, n_folds=10, **kwargs):\n",
      "    stratified_k_fold = cross_validation.StratifiedKFold(y, n_folds=n_folds, shuffle=shuffle)\n",
      "    y_pred = y.copy()\n",
      "    for ii, jj in stratified_k_fold:\n",
      "        X_train, X_test = X[ii], X[jj]\n",
      "        y_train = y[ii]\n",
      "        clf = clf_class(**kwargs)\n",
      "        clf.fit(X_train,y_train)\n",
      "        y_pred[jj] = clf.predict(X_test)\n",
      "    return y_pred"
     ],
     "language": "python",
     "metadata": {},
     "outputs": [],
     "prompt_number": 12
    },
    {
     "cell_type": "markdown",
     "metadata": {},
     "source": [
      "I am using Stratified K Fold because there the classes are unbalanced. I do not want any folds to have only 1 particular class or even 1 class dominating the other one as it may create a bias in that particular fold. Stratification makes sure that the percentage of samples for each class is similar across folds(if not same). If you do not have an unbalanced problem, KFold would work fine."
     ]
    },
    {
     "cell_type": "code",
     "collapsed": false,
     "input": [
      "y_pred = stratified_cv(X, y, linear_model.PassiveAggressiveClassifier)\n",
      "print('Passive Aggressive Classifier: {:.2f}'.format(metrics.accuracy_score(y, y_pred)))\n",
      "print('Passive Aggressive Classifier:\\n {}\\n'.format(metrics.classification_report(y, y_pred)))\n",
      "print('Passive Aggressive Classifier LogLoss:\\n {}\\n'.format(llfun(y, y_pred)))\n",
      "y_pred = stratified_cv(X, y, ensemble.GradientBoostingClassifier)\n",
      "print('Gradient Boosting Classifier:  {:.2f}'.format(metrics.accuracy_score(y, y_pred)))\n",
      "print('Gradient Boosting Classifier:\\n {}\\n'.format(metrics.classification_report(y, y_pred)))\n",
      "print('Gradient Boosting Classifier LogLoss:\\n {}\\n'.format(llfun(y, y_pred)))\n",
      "y_pred = stratified_cv(X, y, svm.SVC)\n",
      "print('Support vector machine(SVM):   {:.2f}'.format(metrics.accuracy_score(y, y_pred)))\n",
      "print('Support vector machine(SVM):\\n {}\\n'.format(metrics.classification_report(y, y_pred)))\n",
      "print('Support vector machine(SVM) LogLoss:\\n {}\\n'.format(llfun(y, y_pred)))\n",
      "y_pred = stratified_cv(X, y, ensemble.RandomForestClassifier)\n",
      "print('Random Forest Classifier:      {:.2f}'.format(metrics.accuracy_score(y, y_pred)))\n",
      "print('Random Forest Classifier:\\n {}\\n'.format(metrics.classification_report(y, y_pred)))\n",
      "print('Random Forest Classifier LogLoss:\\n {}\\n'.format(llfun(y, y_pred)))\n",
      "y_pred = stratified_cv(X, y, neighbors.KNeighborsClassifier)\n",
      "print('K Nearest Neighbor Classifier: {:.2f}'.format(metrics.accuracy_score(y, y_pred)))\n",
      "print('K Nearest Neighbor Classifier:\\n {}\\n'.format(metrics.classification_report(y, y_pred)))\n",
      "print('K Nearest Neighbor Classifier LogLoss:\\n {}\\n'.format(llfun(y, y_pred)))\n",
      "y_pred = stratified_cv(X, y, linear_model.LogisticRegression)\n",
      "print('Logistic Regression:           {:.2f}'.format(metrics.accuracy_score(y, y_pred)))\n",
      "print('Logistic Regression:\\n {}\\n'.format(metrics.classification_report(y, y_pred)))\n",
      "print('Logistic Regression LogLoss:\\n {}\\n'.format(llfun(y, y_pred)))\n",
      "y_pred = [0 for ii in y.tolist()]\n",
      "print('Dump Classifier:           {:.2f}'.format(metrics.accuracy_score(y, y_pred))); # ignore the warning as they are all 0\n",
      "print('Dump Classifier:\\n {}\\n'.format(metrics.classification_report(y, y_pred))); # ignore the warning as they are all 0\n",
      "print('Dump Classifier LogLoss:\\n {}\\n'.format(llfun(y, y_pred))); # ignore the warning as they are all 0"
     ],
     "language": "python",
     "metadata": {},
     "outputs": [
      {
       "output_type": "stream",
       "stream": "stdout",
       "text": [
        "Passive Aggressive Classifier: 0.82\n",
        "Gradient Boosting Classifier:  0.95"
       ]
      },
      {
       "output_type": "stream",
       "stream": "stdout",
       "text": [
        "\n",
        "Support vector machine(SVM):   0.92"
       ]
      },
      {
       "output_type": "stream",
       "stream": "stdout",
       "text": [
        "\n",
        "Random Forest Classifier:      0.94"
       ]
      },
      {
       "output_type": "stream",
       "stream": "stdout",
       "text": [
        "\n",
        "K Nearest Neighbor Classifier: 0.90"
       ]
      },
      {
       "output_type": "stream",
       "stream": "stdout",
       "text": [
        "\n",
        "Logistic Regression:           0.86"
       ]
      },
      {
       "output_type": "stream",
       "stream": "stdout",
       "text": [
        "\n"
       ]
      }
     ],
     "prompt_number": 13
    },
    {
     "cell_type": "markdown",
     "metadata": {},
     "source": [
      "Scores seem very good, but if I predicted all of the labels 0, what would I get as accuracy rate? Let's see."
     ]
    },
    {
     "cell_type": "code",
     "collapsed": false,
     "input": [
      "print('Dump Classifier: {:.2f}'.format(metrics.accuracy_score(y, [0 for ii in y.tolist()])))"
     ],
     "language": "python",
     "metadata": {},
     "outputs": [
      {
       "output_type": "stream",
       "stream": "stdout",
       "text": [
        "Dump Classifier: 0.86\n"
       ]
      }
     ],
     "prompt_number": 14
    },
    {
     "cell_type": "markdown",
     "metadata": {},
     "source": [
      "This is because again unbalanced dataset problem. Since one class is 6 times of other class. I could get fairly accurate prediction if I predict the common class. What I need to look at as a metric if the classifier is doing well is to see the errors over the classes. Confusion matrices give a perfect way to see the distribution, which I will exactly use as a next step.\n",
      "\n",
      "Confusion Matrices\n",
      "If you have an unbalanced dataset problem or if you care accuracy of one class over other(maybe false-positives are not so bad for you but you definitely do not want any false negatives), then you could display the class accuracies in confusion matrices. Very common example of class preference of one to another is in medical applications. If you are trying to predict if a patient has cancer, you could get away with some false positives(patients that do not have cancer but are told to have cancers). However, you never ever want to tell a patient that has cancer that she does not have cancer(false negative). In this type of problems, not only you should be accurate but also you cannot be wrong in ne of the squares in the confusion matrix.\n",
      "\n",
      "Human problems cannot be solved by minimizing least squares error.\n",
      "\n",
      "Drew Conway\n",
      "\n",
      "Luckily, scikit learn provides a 2-D matrix for the confusion matrix under metrics submodule, which I will use to build confusion matrices for visualization(heatmap).\n",
      "\n",
      "If you are missing one tool in your machine learning workflow, search for if Scikit-Learn has an implementation. Chances are, it has.\n",
      "\n",
      "However, the heatmap in matplotlib implementation does not allow to print the matrix on top of the heatmap with default options. Heatmap is good in order to get a sense of where the classifier is not doing well, but not so good if you get numbers(you need to print out the confusion matrix separately). In order to combine both heatmap and also the numbers, I will use seaborn(an excellent statistical visualization library for Python) where it provides even advanced formatting for the numbers."
     ]
    },
    {
     "cell_type": "code",
     "collapsed": false,
     "input": [
      "pass_agg_conf_matrix = metrics.confusion_matrix(y, stratified_cv(X, y, linear_model.PassiveAggressiveClassifier))\n",
      "grad_ens_conf_matrix = metrics.confusion_matrix(y, stratified_cv(X, y, ensemble.GradientBoostingClassifier))\n",
      "decision_conf_matrix = metrics.confusion_matrix(y, stratified_cv(X, y, tree.DecisionTreeClassifier))\n",
      "ridge_clf_conf_matrix = metrics.confusion_matrix(y, stratified_cv(X, y, linear_model.RidgeClassifier))\n",
      "svm_svc_conf_matrix = metrics.confusion_matrix(y, stratified_cv(X, y, svm.SVC))\n",
      "random_forest_conf_matrix = metrics.confusion_matrix(y, stratified_cv(X, y, ensemble.RandomForestClassifier))\n",
      "k_neighbors_conf_matrix = metrics.confusion_matrix(y, stratified_cv(X, y, neighbors.KNeighborsClassifier))\n",
      "logistic_reg_conf_matrix = metrics.confusion_matrix(y, stratified_cv(X, y, linear_model.LogisticRegression))\n",
      "dumb_conf_matrix = metrics.confusion_matrix(y, [0 for ii in y.tolist()]); # ignore the warning as they are all 0\n",
      "\n",
      "conf_matrix = {\n",
      "                1: {\n",
      "                    'matrix': pass_agg_conf_matrix,\n",
      "                    'title': 'Passive Aggressive',\n",
      "                   },\n",
      "                2: {\n",
      "                    'matrix': grad_ens_conf_matrix,\n",
      "                    'title': 'Gradient Boosting',\n",
      "                   },\n",
      "                3: {\n",
      "                    'matrix': decision_conf_matrix,\n",
      "                    'title': 'Decision Tree',\n",
      "                   },\n",
      "                4: {\n",
      "                    'matrix': ridge_clf_conf_matrix,\n",
      "                    'title': 'Ridge',\n",
      "                   },\n",
      "                5: {\n",
      "                    'matrix': svm_svc_conf_matrix,\n",
      "                    'title': 'Support Vector Machine',\n",
      "                   },\n",
      "                6: {\n",
      "                    'matrix': random_forest_conf_matrix,\n",
      "                    'title': 'Random Forest',\n",
      "                   },\n",
      "                7: {\n",
      "                    'matrix': k_neighbors_conf_matrix,\n",
      "                    'title': 'K Nearest Neighbors',\n",
      "                   },\n",
      "                8: {\n",
      "                    'matrix': logistic_reg_conf_matrix,\n",
      "                    'title': 'Logistic Regression',\n",
      "                   },\n",
      "                9: {\n",
      "                    'matrix': dumb_conf_matrix,\n",
      "                    'title': 'Dumb',\n",
      "                   },\n",
      "}"
     ],
     "language": "python",
     "metadata": {},
     "outputs": [],
     "prompt_number": 15
    },
    {
     "cell_type": "code",
     "collapsed": false,
     "input": [
      "fix, ax = plt.subplots(figsize=(16, 12))\n",
      "plt.suptitle('Confusion Matrix of Various Classifiers')\n",
      "for ii, values in conf_matrix.items():\n",
      "    matrix = values['matrix']\n",
      "    title = values['title']\n",
      "    plt.subplot(3, 3, ii) # starts from 1\n",
      "    plt.title(title);\n",
      "    sns.heatmap(matrix, annot=True,  fmt='');"
     ],
     "language": "python",
     "metadata": {},
     "outputs": [
      {
       "metadata": {},
       "output_type": "display_data",
       "png": "[encoded data removed]",
       "text": [
        "<matplotlib.figure.Figure at 0x12ba64f0>"
       ]
      }
     ],
     "prompt_number": 16
    },
    {
     "cell_type": "markdown",
     "metadata": {},
     "source": [
      "Seaborn is kind of neat, huh? Gradient Boosting is indeed quite good.\n",
      "\n",
      "Accuracy vs. Precision vs. Recall vs. F1 Score\n",
      "Accuracy, precision and recall are defined as follows respectively:\n",
      "accuracy=true positives + true negativestrue positives + true negatives + false positives + false negatives\n",
      "\n",
      "precision=true positivestrue positives + false positives\n",
      "\n",
      "recall=true positivestrue positives + false negatives\n",
      "\n",
      "Gradient Boosting Classifier not only is quite accurate for 0 class(not churning class) but also fairly accurate for churn class(class=1)).\n",
      "\n",
      "Generally, for unbalanced datasets, f1 score could also give a fairly accurate estimation of how well the classifier is doing considering both classes as it is the harmonic mean of precision and recall.\n",
      "f1=2\u22c5pr\u22c5rcpr+rc\n",
      "\n",
      "If we want to measure not just class distributions, but also a more abstract measures(like precision, recall or f1 score), we could get those measures by using classification_report function under the metrics submodule."
     ]
    },
    {
     "cell_type": "code",
     "collapsed": false,
     "input": [
      "y_pred = stratified_cv(X, y, linear_model.PassiveAggressiveClassifier)\n",
      "print('Passive Aggressive Classifier: {:.2f}'.format(metrics.accuracy_score(y, y_pred)))\n",
      "print('Passive Aggressive Classifier:\\n {}\\n'.format(metrics.classification_report(y, y_pred)))\n",
      "print('Passive Aggressive Classifier LogLoss:\\n {}\\n'.format(llfun(y, y_pred)))\n",
      "y_pred = stratified_cv(X, y, ensemble.GradientBoostingClassifier)\n",
      "print('Gradient Boosting Classifier:  {:.2f}'.format(metrics.accuracy_score(y, y_pred)))\n",
      "print('Gradient Boosting Classifier:\\n {}\\n'.format(metrics.classification_report(y, y_pred)))\n",
      "print('Gradient Boosting Classifier LogLoss:\\n {}\\n'.format(llfun(y, y_pred)))\n",
      "y_pred = stratified_cv(X, y, svm.SVC)\n",
      "print('Support vector machine(SVM):   {:.2f}'.format(metrics.accuracy_score(y, y_pred)))\n",
      "print('Support vector machine(SVM):\\n {}\\n'.format(metrics.classification_report(y, y_pred)))\n",
      "print('Support vector machine(SVM) LogLoss:\\n {}\\n'.format(llfun(y, y_pred)))\n",
      "y_pred = stratified_cv(X, y, ensemble.RandomForestClassifier)\n",
      "print('Random Forest Classifier:      {:.2f}'.format(metrics.accuracy_score(y, y_pred)))\n",
      "print('Random Forest Classifier:\\n {}\\n'.format(metrics.classification_report(y, y_pred)))\n",
      "print('Random Forest Classifier LogLoss:\\n {}\\n'.format(llfun(y, y_pred)))\n",
      "y_pred = stratified_cv(X, y, neighbors.KNeighborsClassifier)\n",
      "print('K Nearest Neighbor Classifier: {:.2f}'.format(metrics.accuracy_score(y, y_pred)))\n",
      "print('K Nearest Neighbor Classifier:\\n {}\\n'.format(metrics.classification_report(y, y_pred)))\n",
      "print('K Nearest Neighbor Classifier LogLoss:\\n {}\\n'.format(llfun(y, y_pred)))\n",
      "y_pred = stratified_cv(X, y, linear_model.LogisticRegression)\n",
      "print('Logistic Regression:           {:.2f}'.format(metrics.accuracy_score(y, y_pred)))\n",
      "print('Logistic Regression:\\n {}\\n'.format(metrics.classification_report(y, y_pred)))\n",
      "print('Logistic Regression LogLoss:\\n {}\\n'.format(llfun(y, y_pred)))\n",
      "y_pred = [0 for ii in y.tolist()]\n",
      "print('Dump Classifier:           {:.2f}'.format(metrics.accuracy_score(y, y_pred))); # ignore the warning as they are all 0\n",
      "print('Dump Classifier:\\n {}\\n'.format(metrics.classification_report(y, y_pred))); # ignore the warning as they are all 0\n",
      "print('Dump Classifier LogLoss:\\n {}\\n'.format(llfun(y, y_pred))); # ignore the warning as they are all 0"
     ],
     "language": "python",
     "metadata": {},
     "outputs": [
      {
       "output_type": "stream",
       "stream": "stdout",
       "text": [
        "Passive Aggressive Classifier:\n",
        " 5.92749379508\n",
        "\n",
        "Gradient Boosting Classifier:\n",
        " 1.69948614302\n"
       ]
      },
      {
       "output_type": "stream",
       "stream": "stdout",
       "text": [
        "\n",
        "Support vector machine(SVM):\n",
        " 2.70466361458\n"
       ]
      },
      {
       "output_type": "stream",
       "stream": "stdout",
       "text": [
        "\n",
        "Random Forest Classifier:\n",
        " 2.11399099121\n"
       ]
      },
      {
       "output_type": "stream",
       "stream": "stdout",
       "text": [
        "\n",
        "K Nearest Neighbor Classifier:\n",
        " 3.59585676307\n"
       ]
      },
      {
       "output_type": "stream",
       "stream": "stdout",
       "text": [
        "\n",
        "Logistic Regression:\n",
        " 4.83938690135\n"
       ]
      },
      {
       "output_type": "stream",
       "stream": "stdout",
       "text": [
        "\n",
        "Dump Classifier:\n",
        " 5.00516921654\n",
        "\n"
       ]
      }
     ],
     "prompt_number": 18
    },
    {
     "cell_type": "markdown",
     "metadata": {},
     "source": [
      "Scikit-Learn provides a lot of metrics for your own evaluation. You could also build your own fbeta score if you want to weight precision more than recall or vice versa by using fbeta_score function under metrics in Scikit Learn.\n",
      "\n",
      "Search engines and generally information retrieval care more about precision than recall. A user could visit only so many webpages but when she visits first and second pages, she needs to see relevant/accurate results based on her query. Recall may not be very important for those cases as she is limited by time and recall may not be that important for the search results she sees."
     ]
    },
    {
     "cell_type": "code",
     "collapsed": false,
     "input": [
      "gbc = ensemble.GradientBoostingClassifier()\n",
      "gbc.fit(X, y)"
     ],
     "language": "python",
     "metadata": {},
     "outputs": [
      {
       "metadata": {},
       "output_type": "pyout",
       "prompt_number": 19,
       "text": [
        "GradientBoostingClassifier(init=None, learning_rate=0.1, loss='deviance',\n",
        "              max_depth=3, max_features=None, max_leaf_nodes=None,\n",
        "              min_samples_leaf=1, min_samples_split=2, n_estimators=100,\n",
        "              random_state=None, subsample=1.0, verbose=0,\n",
        "              warm_start=False)"
       ]
      }
     ],
     "prompt_number": 19
    },
    {
     "cell_type": "code",
     "collapsed": false,
     "input": [
      "# Get Feature Importance from the classifier\n",
      "feature_importance = gbc.feature_importances_\n",
      "# Normalize The Features\n",
      "feature_importance = 100.0 * (feature_importance / feature_importance.max())\n",
      "sorted_idx = np.argsort(feature_importance)\n",
      "pos = np.arange(sorted_idx.shape[0]) + .5\n",
      "plt.figure(figsize=(16, 12))\n",
      "plt.barh(pos, feature_importance[sorted_idx], align='center', color='#7A68A6')\n",
      "plt.yticks(pos, np.asanyarray(df.columns.tolist())[sorted_idx])\n",
      "plt.xlabel('Relative Importance')\n",
      "plt.title('Variable Importance')\n",
      "plt.show()"
     ],
     "language": "python",
     "metadata": {},
     "outputs": [
      {
       "metadata": {},
       "output_type": "display_data",
       "png": "[encoded data removed]",
       "text": [
        "<matplotlib.figure.Figure at 0x1431cfd0>"
       ]
      }
     ],
     "prompt_number": 20
    },
    {
     "cell_type": "markdown",
     "metadata": {},
     "source": [
      "Scaled and Polynomial Features\n",
      "If you think, when some of the features come together, they could form a much more powerful feature, or just by getting the square of the feature would be powerful feature, then Scikit-Learn has something that quite fits to your needs. Let's aasume I have [x, y] feature vector and I am interested in [1, x, y, x^2, xy, y^2], in the preprocessing step, I could use PolynomialFeatures of Scikit-Learn to build that feature matrix. If I just want to only get the interaction features(not x^2, then it is enough to pass interaction_only=True and include_bias=False. If you want to get higher order Polynomial features(say nth degree), pass degree=n optional parameter to Polynomial Features."
     ]
    },
    {
     "cell_type": "code",
     "collapsed": false,
     "input": [
      "X = df.as_matrix().astype(np.float)\n",
      "polynomial_features = preprocessing.PolynomialFeatures()\n",
      "X = polynomial_features.fit_transform(X)"
     ],
     "language": "python",
     "metadata": {},
     "outputs": [],
     "prompt_number": 21
    },
    {
     "cell_type": "code",
     "collapsed": false,
     "input": [
      "y_pred = stratified_cv(X, y, linear_model.PassiveAggressiveClassifier)\n",
      "print('Passive Aggressive Classifier: {:.2f}'.format(metrics.accuracy_score(y, y_pred)))\n",
      "print('Passive Aggressive Classifier:\\n {}\\n'.format(metrics.classification_report(y, y_pred)))\n",
      "print('Passive Aggressive Classifier LogLoss:\\n {}\\n'.format(llfun(y, y_pred)))\n",
      "y_pred = stratified_cv(X, y, ensemble.GradientBoostingClassifier)\n",
      "print('Gradient Boosting Classifier:  {:.2f}'.format(metrics.accuracy_score(y, y_pred)))\n",
      "print('Gradient Boosting Classifier:\\n {}\\n'.format(metrics.classification_report(y, y_pred)))\n",
      "print('Gradient Boosting Classifier LogLoss:\\n {}\\n'.format(llfun(y, y_pred)))\n",
      "y_pred = stratified_cv(X, y, svm.SVC)\n",
      "print('Support vector machine(SVM):   {:.2f}'.format(metrics.accuracy_score(y, y_pred)))\n",
      "print('Support vector machine(SVM):\\n {}\\n'.format(metrics.classification_report(y, y_pred)))\n",
      "print('Support vector machine(SVM) LogLoss:\\n {}\\n'.format(llfun(y, y_pred)))\n",
      "y_pred = stratified_cv(X, y, ensemble.RandomForestClassifier)\n",
      "print('Random Forest Classifier:      {:.2f}'.format(metrics.accuracy_score(y, y_pred)))\n",
      "print('Random Forest Classifier:\\n {}\\n'.format(metrics.classification_report(y, y_pred)))\n",
      "print('Random Forest Classifier LogLoss:\\n {}\\n'.format(llfun(y, y_pred)))\n",
      "y_pred = stratified_cv(X, y, neighbors.KNeighborsClassifier)\n",
      "print('K Nearest Neighbor Classifier: {:.2f}'.format(metrics.accuracy_score(y, y_pred)))\n",
      "print('K Nearest Neighbor Classifier:\\n {}\\n'.format(metrics.classification_report(y, y_pred)))\n",
      "print('K Nearest Neighbor Classifier LogLoss:\\n {}\\n'.format(llfun(y, y_pred)))\n",
      "y_pred = stratified_cv(X, y, linear_model.LogisticRegression)\n",
      "print('Logistic Regression:           {:.2f}'.format(metrics.accuracy_score(y, y_pred)))\n",
      "print('Logistic Regression:\\n {}\\n'.format(metrics.classification_report(y, y_pred)))\n",
      "print('Logistic Regression LogLoss:\\n {}\\n'.format(llfun(y, y_pred)))\n",
      "y_pred = [0 for ii in y.tolist()]\n",
      "print('Dump Classifier:           {:.2f}'.format(metrics.accuracy_score(y, y_pred))); # ignore the warning as they are all 0\n",
      "print('Dump Classifier:\\n {}\\n'.format(metrics.classification_report(y, y_pred))); # ignore the warning as they are all 0\n",
      "print('Dump Classifier LogLoss:\\n {}\\n'.format(llfun(y, y_pred))); # ignore the warning as they are all 0"
     ],
     "language": "python",
     "metadata": {},
     "outputs": [
      {
       "output_type": "stream",
       "stream": "stdout",
       "text": [
        "Passive Aggressive Classifier:\n",
        "              precision    recall  f1-score   support\n",
        "\n",
        "          0       0.86      1.00      0.92      2850\n",
        "          1       0.50      0.01      0.02       483\n",
        "\n",
        "avg / total       0.80      0.86      0.79      3333\n",
        "\n",
        "\n",
        "Gradient Boosting Classifier:\n",
        "              precision    recall  f1-score   support\n",
        "\n",
        "          0       0.96      0.99      0.98      2850\n",
        "          1       0.92      0.77      0.84       483\n",
        "\n",
        "avg / total       0.96      0.96      0.96      3333\n",
        "\n"
       ]
      },
      {
       "output_type": "stream",
       "stream": "stdout",
       "text": [
        "\n",
        "Support vector machine(SVM):\n",
        "              precision    recall  f1-score   support\n",
        "\n",
        "          0       0.86      1.00      0.92      2850\n",
        "          1       0.00      0.00      0.00       483\n",
        "\n",
        "avg / total       0.73      0.86      0.79      3333\n",
        "\n"
       ]
      },
      {
       "output_type": "stream",
       "stream": "stdout",
       "text": [
        "\n",
        "Random Forest Classifier:\n",
        "              precision    recall  f1-score   support\n",
        "\n",
        "          0       0.95      0.99      0.97      2850\n",
        "          1       0.92      0.69      0.79       483\n",
        "\n",
        "avg / total       0.95      0.95      0.94      3333\n",
        "\n"
       ]
      },
      {
       "output_type": "stream",
       "stream": "stdout",
       "text": [
        "\n",
        "K Nearest Neighbor Classifier:\n",
        "              precision    recall  f1-score   support\n",
        "\n",
        "          0       0.89      0.98      0.93      2850\n",
        "          1       0.67      0.30      0.42       483\n",
        "\n",
        "avg / total       0.86      0.88      0.86      3333\n",
        "\n"
       ]
      },
      {
       "output_type": "stream",
       "stream": "stdout",
       "text": [
        "\n",
        "Logistic Regression:\n",
        "              precision    recall  f1-score   support\n",
        "\n",
        "          0       0.92      0.97      0.94      2850\n",
        "          1       0.74      0.51      0.60       483\n",
        "\n",
        "avg / total       0.89      0.90      0.89      3333\n",
        "\n"
       ]
      },
      {
       "output_type": "stream",
       "stream": "stdout",
       "text": [
        "\n",
        "Dump Classifier:\n",
        "              precision    recall  f1-score   support\n",
        "\n",
        "          0       0.86      1.00      0.92      2850\n",
        "          1       0.00      0.00      0.00       483\n",
        "\n",
        "avg / total       0.73      0.86      0.79      3333\n",
        "\n",
        "\n"
       ]
      }
     ],
     "prompt_number": 22
    },
    {
     "cell_type": "code",
     "collapsed": false,
     "input": [
      "X = df.as_matrix().astype(np.float)\n",
      "scaler = preprocessing.StandardScaler()\n",
      "X = scaler.fit_transform(X)\n",
      "polynomial_features = preprocessing.PolynomialFeatures()\n",
      "X = polynomial_features.fit_transform(X)"
     ],
     "language": "python",
     "metadata": {},
     "outputs": []
    },
    {
     "cell_type": "code",
     "collapsed": false,
     "input": [
      "y_pred = stratified_cv(X, y, linear_model.PassiveAggressiveClassifier)\n",
      "print('Passive Aggressive Classifier: {:.2f}'.format(metrics.accuracy_score(y, y_pred)))\n",
      "print('Passive Aggressive Classifier:\\n {}\\n'.format(metrics.classification_report(y, y_pred)))\n",
      "print('Passive Aggressive Classifier LogLoss:\\n {}\\n'.format(llfun(y, y_pred)))\n",
      "y_pred = stratified_cv(X, y, ensemble.GradientBoostingClassifier)\n",
      "print('Gradient Boosting Classifier:  {:.2f}'.format(metrics.accuracy_score(y, y_pred)))\n",
      "print('Gradient Boosting Classifier:\\n {}\\n'.format(metrics.classification_report(y, y_pred)))\n",
      "print('Gradient Boosting Classifier LogLoss:\\n {}\\n'.format(llfun(y, y_pred)))\n",
      "y_pred = stratified_cv(X, y, svm.SVC)\n",
      "print('Support vector machine(SVM):   {:.2f}'.format(metrics.accuracy_score(y, y_pred)))\n",
      "print('Support vector machine(SVM):\\n {}\\n'.format(metrics.classification_report(y, y_pred)))\n",
      "print('Support vector machine(SVM) LogLoss:\\n {}\\n'.format(llfun(y, y_pred)))\n",
      "y_pred = stratified_cv(X, y, ensemble.RandomForestClassifier)\n",
      "print('Random Forest Classifier:      {:.2f}'.format(metrics.accuracy_score(y, y_pred)))\n",
      "print('Random Forest Classifier:\\n {}\\n'.format(metrics.classification_report(y, y_pred)))\n",
      "print('Random Forest Classifier LogLoss:\\n {}\\n'.format(llfun(y, y_pred)))\n",
      "y_pred = stratified_cv(X, y, neighbors.KNeighborsClassifier)\n",
      "print('K Nearest Neighbor Classifier: {:.2f}'.format(metrics.accuracy_score(y, y_pred)))\n",
      "print('K Nearest Neighbor Classifier:\\n {}\\n'.format(metrics.classification_report(y, y_pred)))\n",
      "print('K Nearest Neighbor Classifier LogLoss:\\n {}\\n'.format(llfun(y, y_pred)))\n",
      "y_pred = stratified_cv(X, y, linear_model.LogisticRegression)\n",
      "print('Logistic Regression:           {:.2f}'.format(metrics.accuracy_score(y, y_pred)))\n",
      "print('Logistic Regression:\\n {}\\n'.format(metrics.classification_report(y, y_pred)))\n",
      "print('Logistic Regression LogLoss:\\n {}\\n'.format(llfun(y, y_pred)))\n",
      "y_pred = [0 for ii in y.tolist()]\n",
      "print('Dump Classifier:           {:.2f}'.format(metrics.accuracy_score(y, y_pred))); # ignore the warning as they are all 0\n",
      "print('Dump Classifier:\\n {}\\n'.format(metrics.classification_report(y, y_pred))); # ignore the warning as they are all 0\n",
      "print('Dump Classifier LogLoss:\\n {}\\n'.format(llfun(y, y_pred))); # ignore the warning as they are all 0"
     ],
     "language": "python",
     "metadata": {},
     "outputs": [
      {
       "output_type": "stream",
       "stream": "stdout",
       "text": [
        "Passive Aggressive Classifier:\n",
        "              precision    recall  f1-score   support\n",
        "\n",
        "          0       0.86      1.00      0.92      2850\n",
        "          1       0.50      0.00      0.00       483\n",
        "\n",
        "avg / total       0.80      0.86      0.79      3333\n",
        "\n",
        "\n",
        "Passive Aggressive Classifier LogLoss:\n",
        " 5.00516945645\n",
        "\n",
        "Gradient Boosting Classifier:\n",
        "              precision    recall  f1-score   support\n",
        "\n",
        "          0       0.96      0.99      0.98      2850\n",
        "          1       0.92      0.78      0.84       483\n",
        "\n",
        "avg / total       0.96      0.96      0.96      3333\n",
        "\n"
       ]
      },
      {
       "output_type": "stream",
       "stream": "stdout",
       "text": [
        "\n",
        "Gradient Boosting Classifier LogLoss:\n",
        " 1.44041869367\n",
        "\n",
        "Support vector machine(SVM):\n",
        "              precision    recall  f1-score   support\n",
        "\n",
        "          0       0.86      1.00      0.92      2850\n",
        "          1       0.00      0.00      0.00       483\n",
        "\n",
        "avg / total       0.73      0.86      0.79      3333\n",
        "\n"
       ]
      },
      {
       "output_type": "stream",
       "stream": "stdout",
       "text": [
        "\n",
        "Support vector machine(SVM) LogLoss:\n",
        " 5.00516921654\n",
        "\n",
        "Random Forest Classifier:\n",
        "              precision    recall  f1-score   support\n",
        "\n",
        "          0       0.95      0.99      0.97      2850\n",
        "          1       0.95      0.69      0.80       483\n",
        "\n",
        "avg / total       0.95      0.95      0.95      3333\n",
        "\n"
       ]
      },
      {
       "output_type": "stream",
       "stream": "stdout",
       "text": [
        "\n",
        "Random Forest Classifier LogLoss:\n",
        " 1.75129565049\n",
        "\n",
        "K Nearest Neighbor Classifier:\n",
        "              precision    recall  f1-score   support\n",
        "\n",
        "          0       0.89      0.98      0.93      2850\n",
        "          1       0.67      0.30      0.41       483\n",
        "\n",
        "avg / total       0.86      0.88      0.86      3333\n",
        "\n"
       ]
      },
      {
       "output_type": "stream",
       "stream": "stdout",
       "text": [
        "\n",
        "K Nearest Neighbor Classifier LogLoss:\n",
        " 4.23834825015\n",
        "\n",
        "Logistic Regression:\n",
        "              precision    recall  f1-score   support\n",
        "\n",
        "          0       0.92      0.97      0.94      2850\n",
        "          1       0.72      0.52      0.60       483\n",
        "\n",
        "avg / total       0.89      0.90      0.89      3333\n",
        "\n"
       ]
      },
      {
       "output_type": "stream",
       "stream": "stdout",
       "text": [
        "\n",
        "Logistic Regression LogLoss:\n",
        " 3.40934143261\n",
        "\n",
        "Dump Classifier:\n",
        "              precision    recall  f1-score   support\n",
        "\n",
        "          0       0.86      1.00      0.92      2850\n",
        "          1       0.00      0.00      0.00       483\n",
        "\n",
        "avg / total       0.73      0.86      0.79      3333\n",
        "\n",
        "\n",
        "Dump Classifier LogLoss:\n",
        " 5.00516921654\n",
        "\n"
       ]
      }
     ],
     "prompt_number": 25
    },
    {
     "cell_type": "markdown",
     "metadata": {},
     "source": [
      "Regression\n",
      "Regresion refers learning how to relate the input variables to output variables. This is true for classification as well with only one difference that the regression would deal with continuous output variables where classification produces discrete output variables. One can use a regressor to output discrete variables as well using basic thresholding although it is not common."
     ]
    },
    {
     "cell_type": "code",
     "collapsed": false,
     "input": [
      "from sklearn.datasets.california_housing import fetch_california_housing\n",
      "\n",
      "california_housing = sklearn.datasets.california_housing.fetch_california_housing()\n",
      "california_housing_data = california_housing['data']\n",
      "california_housing_labels = california_housing['target']# 'target' variables\n",
      "california_housing_feature_names = california_housing['feature_names']"
     ],
     "language": "python",
     "metadata": {},
     "outputs": []
    },
    {
     "cell_type": "markdown",
     "metadata": {},
     "source": [
      "Cross-Validation\n",
      "Split the data 80/20 rule, test_size parameter determines the ratio of test data in the whole dataset"
     ]
    },
    {
     "cell_type": "code",
     "collapsed": false,
     "input": [
      "from sklearn import cross_validation\n",
      "X_train, X_test, y_train, y_test = cross_validation.train_test_split(california_housing_data,\n",
      "                                                    california_housing_labels,\n",
      "                                                    test_size=0.2,\n",
      "                                                    random_state=0)"
     ],
     "language": "python",
     "metadata": {},
     "outputs": []
    },
    {
     "cell_type": "code",
     "collapsed": false,
     "input": [
      "print(X_train.shape)\n",
      "print(X_test.shape)\n",
      "print('Training/Test Ratio: {}'.format(X_train.shape[0] / X_test.shape[0]))"
     ],
     "language": "python",
     "metadata": {},
     "outputs": []
    },
    {
     "cell_type": "code",
     "collapsed": false,
     "input": [
      "parameters = {\n",
      "              'n_estimators': 500, \n",
      "              'max_depth': 4, \n",
      "              'min_samples_split': 1,\n",
      "              'learning_rate': 0.01, \n",
      "              'loss': 'ls'\n",
      "             }"
     ],
     "language": "python",
     "metadata": {},
     "outputs": []
    },
    {
     "cell_type": "code",
     "collapsed": false,
     "input": [
      "from sklearn import ensemble\n",
      "from sklearn import metrics\n",
      "classifier = ensemble.GradientBoostingRegressor(**parameters)\n",
      "\n",
      "classifier.fit(X_train, y_train)\n",
      "predictions = classifier.predict(X_test)\n",
      "mse = metrics.mean_squared_error(y_test, predictions)\n",
      "print('Mean Square Error: {:.3f}'.format(mse))"
     ],
     "language": "python",
     "metadata": {},
     "outputs": []
    },
    {
     "cell_type": "code",
     "collapsed": false,
     "input": [
      "### This may take some time, but it will worth it I promise\n",
      "parameters = {\n",
      "              'n_estimators': 3000, \n",
      "              'max_depth': 6, \n",
      "              'learning_rate': 0.04, \n",
      "              'loss': 'huber'\n",
      "             }\n",
      "classifier = ensemble.GradientBoostingRegressor(**parameters)\n",
      "\n",
      "classifier.fit(X_train, y_train)\n",
      "predictions = classifier.predict(X_test)\n",
      "mse = metrics.mean_squared_error(y_test, predictions)\n",
      "print('Mean Squared Error: {:.3f}'.format(mse))"
     ],
     "language": "python",
     "metadata": {},
     "outputs": []
    },
    {
     "cell_type": "code",
     "collapsed": false,
     "input": [
      "plt.figure(figsize=(16, 12))\n",
      "\n",
      "plt.scatter(range(predictions.shape[0]), predictions, label='predictions', c='#348ABD', alpha=0.4)\n",
      "plt.scatter(range(y_test.shape[0]), y_test, label='actual values', c='#A60628', alpha=0.4)\n",
      "plt.ylim([y_test.min(), predictions.max()])\n",
      "plt.xlim([0, predictions.shape[0]])\n",
      "plt.legend();"
     ],
     "language": "python",
     "metadata": {},
     "outputs": []
    },
    {
     "cell_type": "code",
     "collapsed": false,
     "input": [
      "test_score = [classifier.loss_(y_test, y_pred) for y_pred in classifier.staged_decision_function(X_test)]\n",
      "\n",
      "plt.figure(figsize=(16, 12))\n",
      "plt.title('Deviance');\n",
      "plt.plot(np.arange(parameters['n_estimators']) + 1, classifier.train_score_, c='#348ABD',\n",
      "         label='Training Set Deviance');\n",
      "plt.plot(np.arange(parameters['n_estimators']) + 1, test_score, c='#A60628',\n",
      "         label='Test Set Deviance');\n",
      "plt.annotate('Overfit Point', xy=(600, test_score[600]), xycoords='data',\n",
      "            xytext=(420, 0.06), textcoords='data',\n",
      "            arrowprops=dict(arrowstyle=\"->\", connectionstyle=\"arc\"),\n",
      "            )\n",
      "plt.legend(loc='upper right');\n",
      "plt.xlabel('Boosting Iterations');\n",
      "plt.ylabel('Deviance');"
     ],
     "language": "python",
     "metadata": {},
     "outputs": []
    },
    {
     "cell_type": "code",
     "collapsed": false,
     "input": [
      "# Get Feature Importance from the classifier\n",
      "feature_importance = classifier.feature_importances_\n",
      "# Normalize The Features\n",
      "feature_importance = 100.0 * (feature_importance / feature_importance.max())\n",
      "sorted_idx = np.argsort(feature_importance)\n",
      "pos = np.arange(sorted_idx.shape[0]) + .5\n",
      "plt.figure(figsize=(16, 12))\n",
      "plt.barh(pos, feature_importance[sorted_idx], align='center', color='#7A68A6')\n",
      "plt.yticks(pos, np.asanyarray(california_housing_feature_names)[sorted_idx])\n",
      "plt.xlabel('Relative Importance')\n",
      "plt.title('Variable Importance')\n",
      "plt.show()"
     ],
     "language": "python",
     "metadata": {},
     "outputs": []
    },
    {
     "cell_type": "markdown",
     "metadata": {},
     "source": [
      "In here I am plotting the relative importances of the features as RF could estimate which feature could play more important role than other features. This part generally is done in explaratory data analysis part but it is nice to have at least some idea on how classifier treats the features as well.\n",
      "\n",
      "Classifiers both in terms of their architecture but also capabilities differ. If you do not know beforehand which feature is important to predict the outcome of the particular class, you may want to choose a classifier which has both feature selection capability(which could score the features based on how useful it is or minimizing least squared error like RandomForest does in this case). Some of the classifiers support class weighting(if one class is more important than the other one) through class_weight parameter (e.g.: Suppor Vector Classifier, SVC). When you want to choose a classifier, apart from its merits, these out of the box capabilities could also influence your thinking and make your decision about which classifier is best."
     ]
    },
    {
     "cell_type": "code",
     "collapsed": false,
     "input": [
      "features = ['MedInc', 'AveOccup', 'HouseAge', 'AveRooms',\n",
      "            ('AveOccup', 'HouseAge')]\n",
      "fig, ax = ensemble.partial_dependence.plot_partial_dependence(classifier, X_train, features, \n",
      "                                                              feature_names=california_housing_feature_names, \n",
      "                                                              figsize=(16, 12));"
     ],
     "language": "python",
     "metadata": {},
     "outputs": []
    },
    {
     "cell_type": "code",
     "collapsed": false,
     "input": [],
     "language": "python",
     "metadata": {},
     "outputs": []
    }
   ],
   "metadata": {}
  }
 ]
}