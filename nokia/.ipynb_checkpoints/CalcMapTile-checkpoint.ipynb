{
 "metadata": {
  "name": "",
  "signature": "sha256:924519d91a3f386c54caff1aff842b68b7502f55cc6b6c75a400fa8291a2f39b"
 },
 "nbformat": 3,
 "nbformat_minor": 0,
 "worksheets": [
  {
   "cells": [
    {
     "cell_type": "code",
     "collapsed": false,
     "input": [
      "# lat/lon/z to tile\n",
      "import math\n",
      "\n",
      "lat = 52.525439 # Latitude\n",
      "lon = 13.38#727      # Longitude\n",
      "lon = 13.3594\n",
      "z = 12              # Zoom level\n",
      "\n",
      "def getTile(lat, lon, z) :\n",
      "    latRad = lat * math.pi / 180\n",
      "    n = math.pow(2, z)\n",
      "    xTile = n * ((lon + 180) / 360)\n",
      "    yTile = n * (1-(math.log(math.tan(latRad) + 1/math.cos(latRad)) / math.pi)) / 2\n",
      "    # print latRad, n, xTile, yTile\n",
      "    return xTile, yTile\n",
      "\n",
      "# --- output ---\n",
      "# lat_rad = 0.916\n",
      "# n = 4096\n",
      "# xTile = 2200.31 # Column\n",
      "# yTile = 1343.20 # Row\n",
      "def my_range(start, end, step):\n",
      "    while start <= end:\n",
      "        yield start\n",
      "        start += step\n",
      "\"\"\"\n",
      "\"\"\"    \n",
      "for x in my_range(0, .00002, 0.000001):\n",
      "    lon = lon - x    \n",
      "    xT,yT = getTile(lat,lon,z)\n",
      "    print 'lat ', lat, 'lon ',lon, xT, yT"
     ],
     "language": "python",
     "metadata": {},
     "outputs": [
      {
       "output_type": "stream",
       "stream": "stdout",
       "text": [
        "lat  52.525439 lon  13.3594 2200.00028444 1343.20263095\n",
        "lat  52.525439 lon  13.359399 2200.00027307 1343.20263095\n",
        "lat  52.525439 lon  13.359397 2200.00025031 1343.20263095\n",
        "lat  52.525439 lon  13.359394 2200.00021618 1343.20263095\n",
        "lat  52.525439 lon  13.35939 2200.00017067 1343.20263095\n",
        "lat  52.525439 lon  13.359385 2200.00011378 1343.20263095\n",
        "lat  52.525439 lon  13.359379 2200.00004551 1343.20263095\n",
        "lat  52.525439 lon  13.359372 2199.99996587 1343.20263095\n",
        "lat  52.525439 lon  13.359364 2199.99987484 1343.20263095\n",
        "lat  52.525439 lon  13.359355 2199.99977244 1343.20263095\n",
        "lat  52.525439 lon  13.359345 2199.99965867 1343.20263095\n",
        "lat  52.525439 lon  13.359334 2199.99953351 1343.20263095\n",
        "lat  52.525439 lon  13.359322 2199.99939698 1343.20263095\n",
        "lat  52.525439 lon  13.359309 2199.99924907 1343.20263095\n",
        "lat  52.525439 lon  13.359295 2199.99908978 1343.20263095\n",
        "lat  52.525439 lon  13.35928 2199.99891911 1343.20263095\n",
        "lat  52.525439 lon  13.359264 2199.99873707 1343.20263095\n",
        "lat  52.525439 lon  13.359247 2199.99854364 1343.20263095\n",
        "lat  52.525439 lon  13.359229 2199.99833884 1343.20263095\n",
        "lat  52.525439 lon  13.35921 2199.99812267 1343.20263095\n"
       ]
      }
     ],
     "prompt_number": 32
    },
    {
     "cell_type": "code",
     "collapsed": false,
     "input": [],
     "language": "python",
     "metadata": {},
     "outputs": []
    }
   ],
   "metadata": {}
  }
 ]
}