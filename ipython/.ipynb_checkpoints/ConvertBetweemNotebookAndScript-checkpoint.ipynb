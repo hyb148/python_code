{
 "metadata": {
  "name": "",
  "signature": "sha256:ccc1ea51bfda31429e31ae30815a671991e216346283dd4fe3be8d5b225e5704"
 },
 "nbformat": 3,
 "nbformat_minor": 0,
 "worksheets": [
  {
   "cells": [
    {
     "cell_type": "code",
     "collapsed": false,
     "input": [
      "#Notebook to Script\n",
      "from IPython.nbformat import current as nbformat\n",
      "from IPython.nbconvert import PythonExporter\n",
      "\n",
      "filepath = 'path/to/my_notebook.ipynb'\n",
      "export_path = 'path/to/my_notebook.py'\n",
      "\n",
      "with open(filepath) as fh:\n",
      "    nb = nbformat.reads_json(fh.read())\n",
      "\n",
      "exporter = PythonExporter()\n",
      "\n",
      "# source is a tuple of python source code\n",
      "# meta contains metadata\n",
      "source, meta = exporter.from_notebook_node(nb)\n",
      "\n",
      "with open(export_path, 'w+') as fh:\n",
      "    fh.writelines(source)"
     ],
     "language": "python",
     "metadata": {},
     "outputs": []
    },
    {
     "cell_type": "code",
     "collapsed": false,
     "input": [
      "#Script to Notebook\n",
      "import IPython.nbformat.current as nbf\n",
      "nb = nbf.read(open('test.py', 'r'), 'py')\n",
      "nbf.write(nb, open('test.ipynb', 'w'), 'ipynb')"
     ],
     "language": "python",
     "metadata": {},
     "outputs": []
    }
   ],
   "metadata": {}
  }
 ]
}