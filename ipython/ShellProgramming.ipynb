{
 "metadata": {
  "name": "",
  "signature": "sha256:90b16d847cf2e1e5cd8d94c5cf87951e7f88e1ba8ca5c5f99045f7b4e17bca31"
 },
 "nbformat": 3,
 "nbformat_minor": 0,
 "worksheets": [
  {
   "cells": [
    {
     "cell_type": "code",
     "collapsed": false,
     "input": [
      "# http://pythonprogramming.net/python-3-subprocess-tutorial/\n",
      "# This tutorial is best followed in a shell / command prompt.\n",
      "# Open yours up, type python, or python3, and then follow.\n",
      "import subprocess\n",
      "\n",
      "# Say you are on windows:\n",
      "# module  call command in the shell\n",
      "# you can change that if you'd like, eventually.\n",
      "# IF YOU ARE NOT IN A SHELL, YOU WILL SEE NO OUTPUT!\n",
      "subprocess.call('dir', shell=True)\n",
      "\"\"\"\n",
      " Volume in drive C has no label.\n",
      " Volume Serial Number is D800-400A\n",
      "\n",
      " Directory of C:\\Users\\3820104\\Documents\\python_code\n",
      "\n",
      "03/19/2015  10:09 AM    <DIR>          .\n",
      "03/19/2015  10:09 AM    <DIR>          ..\n",
      "12/19/2014  12:57 AM               395 .gitattributes\n",
      "02/17/2015  05:36 PM               617 .gitignore\n",
      "01/22/2015  01:30 PM    <DIR>          .ipynb_checkpoints\n",
      "01/27/2015  01:09 PM    <DIR>          DecibelPython27\n",
      "02/27/2015  03:12 PM             2,715 GarminSerialLogger.py\n",
      "03/03/2015  11:39 AM             3,085 GarminSerialLogger2.py\n",
      "03/03/2015  03:17 PM             5,732 GarminSerialLogger3.py\n",
      "03/05/2015  03:37 PM    <DIR>          gdal2tiles\n",
      "03/05/2015  04:07 PM    <DIR>          google_maps\n",
      "03/09/2015  04:44 PM    <DIR>          GUI\n",
      "04/07/2015  09:54 AM    <DIR>          ipython\n",
      "03/04/2015  10:05 AM    <DIR>          LatLonStuff\n",
      "04/07/2015  08:01 AM    <DIR>          MachineLearning\n",
      "03/04/2015  10:05 AM    <DIR>          map_plotting\n",
      "03/09/2015  03:44 PM        49,933,525 matplotlib-1.4.3.tar.gz\n",
      "03/03/2015  09:24 AM    <DIR>          nmea\n",
      "03/05/2015  03:42 PM    <DIR>          nokia\n",
      "03/06/2015  03:49 PM    <DIR>          plotting\n",
      "03/09/2015  03:54 PM             2,381 pseudocolors.py\n",
      "01/27/2015  01:08 PM    <DIR>          rest_json\n",
      "01/30/2015  01:24 PM    <DIR>          serial\n",
      "02/16/2015  05:18 PM               884 thread_tester.py\n",
      "03/06/2015  03:49 PM             2,381 untitled2.py\n",
      "04/07/2015  08:02 AM    <DIR>          utils\n",
      "               9 File(s)     49,951,715 bytes\n",
      "              17 Dir(s)  311,805,460,480 bytes free\n",
      "                              <8> 0\n",
      "\"\"\"\n",
      "subprocess.call('echo dir', shell=True)"
     ],
     "language": "python",
     "metadata": {},
     "outputs": [
      {
       "metadata": {},
       "output_type": "pyout",
       "prompt_number": 1,
       "text": [
        "0"
       ]
      }
     ],
     "prompt_number": 1
    },
    {
     "cell_type": "code",
     "collapsed": false,
     "input": [],
     "language": "python",
     "metadata": {},
     "outputs": []
    }
   ],
   "metadata": {}
  }
 ]
}