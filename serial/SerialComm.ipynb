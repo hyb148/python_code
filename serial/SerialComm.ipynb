{
 "metadata": {
  "name": "",
  "signature": "sha256:66a678afad30742048c20549c9ac574767e40b34d80eff250be9e63efc5afda3"
 },
 "nbformat": 3,
 "nbformat_minor": 0,
 "worksheets": [
  {
   "cells": [
    {
     "cell_type": "code",
     "collapsed": false,
     "input": [
      "import serial\n",
      "#initialize serial connection\n",
      "def init_serial():\n",
      "      COMNUM = 3  # Set you COM port # here (Check it in device manager)\n",
      "      global ser  # Must be declared in each fxn used\n",
      "      ser = serial.Serial()\n",
      "      ser.baudrate = 115200\n",
      "      ser.port = COMNUM -1 # Starts at 0, so subtract 1\n",
      "      ser.timeout = 1 # You must specify a timeout (in seconds) so that the serial port doesn't hang\n",
      "      ser.open() # Open the serial port\n",
      "      # print port open or closed\n",
      "      if ser.isOpen():\n",
      "          print 'Open: ' + ser.portstr\n",
      "init_serial()\n",
      "f = open('nmea_strings.txt','w')\n",
      "count = 10\n",
      "while count > 0:\n",
      "    # read what is on serial port\n",
      "    data = ser.readline()   # reads in bytes followed by a newline\n",
      "    if data.find('GPRMC') > -1 :\n",
      "        print data\n",
      "        f.write(data)\n",
      "        count = count - 1\n",
      "f.close()\n",
      "ser.close()"
     ],
     "language": "python",
     "metadata": {},
     "outputs": [
      {
       "output_type": "stream",
       "stream": "stdout",
       "text": [
        "Open: COM3\n",
        "$GPRMC,163114,A,4227.5132,N,08325.7081,W,000.0,343.5,300115,007.2,W*70\r\n"
       ]
      },
      {
       "output_type": "stream",
       "stream": "stdout",
       "text": [
        "\n",
        "$GPRMC,163115,A,4227.5132,N,08325.7081,W,000.0,343.5,300115,007.2,W*71\r\n"
       ]
      },
      {
       "output_type": "stream",
       "stream": "stdout",
       "text": [
        "\n",
        "$GPRMC,163116,A,4227.5132,N,08325.7081,W,000.0,343.5,300115,007.2,W*72\r\n"
       ]
      },
      {
       "output_type": "stream",
       "stream": "stdout",
       "text": [
        "\n",
        "$GPRMC,163117,A,4227.5132,N,08325.7081,W,000.0,343.5,300115,007.2,W*73\r\n"
       ]
      },
      {
       "output_type": "stream",
       "stream": "stdout",
       "text": [
        "\n",
        "$GPRMC,163118,A,4227.5132,N,08325.7081,W,000.0,343.5,300115,007.2,W*7C\r\n"
       ]
      },
      {
       "output_type": "stream",
       "stream": "stdout",
       "text": [
        "\n",
        "$GPRMC,163119,A,4227.5132,N,08325.7082,W,000.0,343.5,300115,007.2,W*7E\r\n"
       ]
      },
      {
       "output_type": "stream",
       "stream": "stdout",
       "text": [
        "\n",
        "$GPRMC,163120,A,4227.5132,N,08325.7082,W,000.0,343.5,300115,007.2,W*74\r\n"
       ]
      },
      {
       "output_type": "stream",
       "stream": "stdout",
       "text": [
        "\n",
        "$GPRMC,163121,A,4227.5132,N,08325.7082,W,000.0,343.5,300115,007.2,W*75\r\n"
       ]
      },
      {
       "output_type": "stream",
       "stream": "stdout",
       "text": [
        "\n",
        "$GPRMC,163122,A,4227.5132,N,08325.7082,W,000.0,343.5,300115,007.2,W*76\r\n"
       ]
      },
      {
       "output_type": "stream",
       "stream": "stdout",
       "text": [
        "\n",
        "$GPRMC,163123,A,4227.5132,N,08325.7082,W,000.0,343.5,300115,007.2,W*77\r\n"
       ]
      },
      {
       "output_type": "stream",
       "stream": "stdout",
       "text": [
        "\n"
       ]
      }
     ],
     "prompt_number": 1
    },
    {
     "cell_type": "code",
     "collapsed": false,
     "input": [
      "import serial\n",
      "from pynmea import nmea\n",
      "#initialize serial connection\n",
      "def init_serial():\n",
      "      COMNUM = 3  # Set you COM port # here (Check it in device manager)\n",
      "      global ser  # Must be declared in each fxn used\n",
      "      ser = serial.Serial()\n",
      "      ser.baudrate = 115200\n",
      "      ser.port = COMNUM -1 # Starts at 0, so subtract 1\n",
      "      ser.timeout = 1 # You must specify a timeout (in seconds) so that the serial port doesn't hang\n",
      "      ser.open() # Open the serial port\n",
      "      # print port open or closed\n",
      "      if ser.isOpen():\n",
      "          print 'Open: ' + ser.portstr\n",
      "init_serial()\n",
      "f = open('nmea_strings.txt','w')\n",
      "count = 10\n",
      "gprmc = nmea.GPRMC()\n",
      "while count > 0:\n",
      "    # read what is on serial port\n",
      "    data = ser.readline()   # reads in bytes followed by a newline\n",
      "    if data.find('GPRMC') > -1 :\n",
      "        gprmc.parse(data)\n",
      "        if gprmc.lon_dir == 'W':\n",
      "            gprmc.lon = '-'+gprmc.lon\n",
      "        print 'GPRMC - lat: ', gprmc.lat, 'lon: ', gprmc.lon, 'spd: ', gprmc.spd_over_grnd, 'hdg: ', gprmc.true_course\n",
      "        count = count - 1\n",
      "f.close()\n",
      "ser.close()"
     ],
     "language": "python",
     "metadata": {},
     "outputs": [
      {
       "output_type": "stream",
       "stream": "stdout",
       "text": [
        "Open: COM3\n",
        "GPRMC - lat:  4227.5045 lon:  -08325.7079 spd:  000.0 hdg:  343.5\n",
        "GPRMC - lat: "
       ]
      },
      {
       "output_type": "stream",
       "stream": "stdout",
       "text": [
        " 4227.5045 lon:  -08325.7079 spd:  000.0 hdg:  343.5\n",
        "GPRMC - lat: "
       ]
      },
      {
       "output_type": "stream",
       "stream": "stdout",
       "text": [
        " 4227.5045 lon:  -08325.7079 spd:  000.0 hdg:  343.5\n",
        "GPRMC - lat: "
       ]
      },
      {
       "output_type": "stream",
       "stream": "stdout",
       "text": [
        " 4227.5045 lon:  -08325.7079 spd:  000.0 hdg:  343.5\n",
        "GPRMC - lat: "
       ]
      },
      {
       "output_type": "stream",
       "stream": "stdout",
       "text": [
        " 4227.5045 lon:  -08325.7079 spd:  000.0 hdg:  343.5\n",
        "GPRMC - lat: "
       ]
      },
      {
       "output_type": "stream",
       "stream": "stdout",
       "text": [
        " 4227.5045 lon:  -08325.7079 spd:  000.0 hdg:  343.5\n",
        "GPRMC - lat: "
       ]
      },
      {
       "output_type": "stream",
       "stream": "stdout",
       "text": [
        " 4227.5045 lon:  -08325.7079 spd:  000.0 hdg:  343.5\n",
        "GPRMC - lat: "
       ]
      },
      {
       "output_type": "stream",
       "stream": "stdout",
       "text": [
        " 4227.5045 lon:  -08325.7079 spd:  000.0 hdg:  343.5\n",
        "GPRMC - lat: "
       ]
      },
      {
       "output_type": "stream",
       "stream": "stdout",
       "text": [
        " 4227.5045 lon:  -08325.7079 spd:  000.0 hdg:  343.5\n",
        "GPRMC - lat: "
       ]
      },
      {
       "output_type": "stream",
       "stream": "stdout",
       "text": [
        " 4227.5045 lon:  -08325.7079 spd:  000.0 hdg:  343.5\n"
       ]
      }
     ],
     "prompt_number": 7
    },
    {
     "cell_type": "code",
     "collapsed": false,
     "input": [],
     "language": "python",
     "metadata": {},
     "outputs": []
    },
    {
     "cell_type": "code",
     "collapsed": false,
     "input": [],
     "language": "python",
     "metadata": {},
     "outputs": []
    }
   ],
   "metadata": {}
  }
 ]
}