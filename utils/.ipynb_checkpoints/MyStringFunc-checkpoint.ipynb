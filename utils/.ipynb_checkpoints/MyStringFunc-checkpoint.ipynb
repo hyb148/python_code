{
 "metadata": {
  "name": "",
  "signature": "sha256:b12b344e14688e3b6ed29253e5288be24d3d03753225b6529421199abd2aacb6"
 },
 "nbformat": 3,
 "nbformat_minor": 0,
 "worksheets": []
}