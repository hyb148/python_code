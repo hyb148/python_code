{
 "metadata": {
  "name": "",
  "signature": "sha256:6bc6f2b8fbdead1e7c88a254abaa47ab281138697ca015c792654c4a30433627"
 },
 "nbformat": 3,
 "nbformat_minor": 0,
 "worksheets": [
  {
   "cells": [
    {
     "cell_type": "code",
     "collapsed": false,
     "input": [
      "# convert lat/lon/alt (lat in degrees North, lon in degrees East, alt in meters) to earth centered fixed coordinates (x,y,z)\n",
      "import math\n",
      "\n",
      "def lla2xyz(lat, lon, alt) :\n",
      "    Re = 6378137\n",
      "    Rp = 6356752.31424518\n",
      "    \n",
      "    latrad = lat/180.0*PI\n",
      "    lonrad = lon/180.0*PI\n",
      "    \n",
      "    coslat = cos(latrad)\n",
      "    sinlat = sin(latrad)\n",
      "    coslon = cos(lonrad)\n",
      "    sinlon = sin(lonrad)\n",
      "    \n",
      "    term1 = (Re*Re*coslat)/\n",
      "    sqrt(Re*Re*coslat*coslat + Rp*Rp*sinlat*sinlat)\n",
      "    \n",
      "    term2 = alt*coslat + term1\n",
      "    \n",
      "    x=coslon*term2\n",
      "    y=sinlon*term2\n",
      "    z = alt*sinlat + (Rp*Rp*sinlat)/\n",
      "    sqrt(Re*Re*coslat*coslat + Rp*Rp*sinlat*sinlat)\n",
      "    return x,y,z\n"
     ],
     "language": "python",
     "metadata": {},
     "outputs": []
    }
   ],
   "metadata": {}
  }
 ]
}